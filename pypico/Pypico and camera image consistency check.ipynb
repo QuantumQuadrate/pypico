{
 "cells": [
  {
   "cell_type": "markdown",
   "metadata": {
    "deletable": true,
    "editable": true
   },
   "source": [
    "Diagnostics notebook for Pypico"
   ]
  },
  {
   "cell_type": "code",
   "execution_count": 1,
   "metadata": {
    "collapsed": false,
    "deletable": true,
    "editable": true
   },
   "outputs": [
    {
     "name": "stderr",
     "output_type": "stream",
     "text": [
      "INFO - Connection to 192.168.1.121:23 succeeded.\n",
      "WARNING - Hard starting, motor check will be performed.\n",
      "INFO - Response: ''\n",
      "\n",
      "INFO - Sending next command(0): 've?\\r\\n'\n",
      "INFO - Response: '\\xff\\xfd\\x03\\xff\\xfb\\x018742 Version 2.2 08/01/13'\n",
      "\n",
      "INFO - Sending next command(1): '*idn?\\r\\n'\n",
      "INFO - Response: 'New_Focus 8742 v2.2 08/01/13 10948'\n",
      "\n",
      "INFO - Sending next command(2): 'mc\\r\\n'\n",
      "INFO - Motor 1: movement ceased. Continuing with command buffer.\n",
      "\n",
      "INFO - Sending next command(3): '1qm?\\r\\n'\n",
      "INFO - Response: '2'\n",
      "\n",
      "INFO - Motor 1: type 2\n",
      "INFO - Response: ''\n",
      "\n",
      "INFO - Sending next command(4): '1ac?\\r\\n'\n",
      "INFO - Response: '100000'\n",
      "\n",
      "INFO - Sending next command(5): '1va?\\r\\n'\n",
      "INFO - Response: '1750'\n",
      "\n",
      "INFO - Sending next command(6): '1tp?\\r\\n'\n",
      "INFO - Response: '1565389'\n",
      "\n",
      "INFO - Sending next command(7): '2qm?\\r\\n'\n",
      "INFO - Response: '2'\n",
      "\n"
     ]
    },
    {
     "name": "stdout",
     "output_type": "stream",
     "text": [
      "motor types:  [2, 0, 0, 0]\n"
     ]
    },
    {
     "name": "stderr",
     "output_type": "stream",
     "text": [
      "INFO - Motor 2: type 2\n",
      "INFO - Response: ''\n",
      "\n",
      "INFO - Sending next command(8): '2ac?\\r\\n'\n",
      "INFO - Response: '100000'\n",
      "\n",
      "INFO - Sending next command(9): '2va?\\r\\n'\n",
      "INFO - Response: '1750'\n",
      "\n",
      "INFO - Sending next command(10): '2tp?\\r\\n'\n",
      "INFO - Response: '3758988'\n",
      "\n",
      "INFO - Sending next command(11): '3qm?\\r\\n'\n",
      "INFO - Response: '0'\n",
      "\n"
     ]
    },
    {
     "name": "stdout",
     "output_type": "stream",
     "text": [
      "motor types:  [2, 2, 0, 0]\n",
      "motor types:  [2, 2, 0, 0]\n",
      "Arduino: \n"
     ]
    }
   ],
   "source": [
    "import zmq\n",
    "import time\n",
    "import logging\n",
    "import sys\n",
    "\n",
    "from motorControl import MotorControl\n",
    "from cmdparse import SCPIParser\n",
    "\n",
    "import pypico_settings\n",
    "\n",
    "port = 5000\n",
    "\n",
    "# setup logging\n",
    "logger = logging.getLogger(__name__)\n",
    "logger.setLevel(logging.DEBUG)\n",
    "# create a file handler for the logger\n",
    "fh = logging.FileHandler('motorControl.log')\n",
    "fh.setLevel(logging.DEBUG)\n",
    "# create a console handler for the logger\n",
    "ch = logging.StreamHandler()\n",
    "ch.setLevel(logging.INFO)\n",
    "# create format for log file\n",
    "fformatter = logging.Formatter('%(asctime)s - %(name)s - %(levelname)s - %(message)s')\n",
    "cformatter = logging.Formatter('%(levelname)s - %(message)s')\n",
    "fh.setFormatter(fformatter)\n",
    "ch.setFormatter(cformatter)\n",
    "# add the handlers to the logger\n",
    "logger.addHandler(fh)\n",
    "logger.addHandler(ch)\n",
    "# setup motor controller\n",
    "mc = MotorControl(pypico_settings, logger,persist=True)"
   ]
  },
  {
   "cell_type": "code",
   "execution_count": 2,
   "metadata": {
    "collapsed": false,
    "deletable": true,
    "editable": true
   },
   "outputs": [
    {
     "name": "stderr",
     "output_type": "stream",
     "text": [
      "INFO - Channel: 0 position: -1587.34863281\n",
      "INFO - Channel: 1 position: 128.49609375\n",
      "INFO - Channel: 2 position: 0.0\n",
      "INFO - Channel: 3 position: 0.0\n"
     ]
    },
    {
     "name": "stdout",
     "output_type": "stream",
     "text": [
      "780\n",
      "0\n",
      "-1587.34863281\n",
      "780\n",
      "1\n",
      "128.49609375\n",
      "480\n",
      "2\n",
      "0.0\n",
      "480\n",
      "3\n",
      "0.0\n"
     ]
    }
   ],
   "source": [
    "# checks current positions for all four channels\n",
    "for i in range(0,4):\n",
    "   print mc.getPosition(i)"
   ]
  },
  {
   "cell_type": "markdown",
   "metadata": {
    "deletable": true,
    "editable": true
   },
   "source": [
    "Closed-loop movement test"
   ]
  },
  {
   "cell_type": "code",
   "execution_count": 22,
   "metadata": {
    "collapsed": false
   },
   "outputs": [
    {
     "name": "stderr",
     "output_type": "stream",
     "text": [
      "INFO - Channel: 0 position: -1722.96386719\n"
     ]
    },
    {
     "name": "stdout",
     "output_type": "stream",
     "text": [
      "[-1546 -1570 -1765 -1788 -1771 -1600 -1553 -1750 -1638 -1797 -1590 -1737\n",
      " -1525 -1579 -1594 -1699 -1680 -1650 -1703 -1562 -1429 -1432 -1783 -1642\n",
      " -1618 -1480 -1518 -1650 -1733 -1772]\n",
      "0\n",
      "780\n",
      "0\n"
     ]
    }
   ],
   "source": [
    "# Create random sequence of target position for given bound\n",
    "import numpy as np\n",
    "lowerbound=-1800\n",
    "upperbound=-1400\n",
    "number_of_points=30\n",
    "random_sequence=np.random.randint(lowerbound,upperbound,number_of_points)\n",
    "test_channel=0\n",
    "print random_sequence\n",
    "i=0\n",
    "print i\n",
    "positions=[]\n",
    "positions.append(mc.getPosition(test_channel))"
   ]
  },
  {
   "cell_type": "code",
   "execution_count": 53,
   "metadata": {
    "collapsed": false,
    "deletable": true,
    "editable": true
   },
   "outputs": [
    {
     "name": "stdout",
     "output_type": "stream",
     "text": [
      "Performing 30th element\n"
     ]
    },
    {
     "ename": "IndexError",
     "evalue": "index 30 is out of bounds for axis 0 with size 30",
     "output_type": "error",
     "traceback": [
      "\u001b[1;31m---------------------------------------------------------------------------\u001b[0m",
      "\u001b[1;31mIndexError\u001b[0m                                Traceback (most recent call last)",
      "\u001b[1;32m<ipython-input-53-228191baec04>\u001b[0m in \u001b[0;36m<module>\u001b[1;34m()\u001b[0m\n\u001b[0;32m      8\u001b[0m \u001b[1;31m##### Manual\u001b[0m\u001b[1;33m\u001b[0m\u001b[1;33m\u001b[0m\u001b[0m\n\u001b[0;32m      9\u001b[0m \u001b[1;32mprint\u001b[0m \u001b[1;34m\"Performing {}th element\"\u001b[0m\u001b[1;33m.\u001b[0m\u001b[0mformat\u001b[0m\u001b[1;33m(\u001b[0m\u001b[0mi\u001b[0m\u001b[1;33m)\u001b[0m\u001b[1;33m\u001b[0m\u001b[0m\n\u001b[1;32m---> 10\u001b[1;33m \u001b[0mmc\u001b[0m\u001b[1;33m.\u001b[0m\u001b[0mmove_abs\u001b[0m\u001b[1;33m(\u001b[0m\u001b[0mtest_channel\u001b[0m\u001b[1;33m,\u001b[0m\u001b[0mrandom_sequence\u001b[0m\u001b[1;33m[\u001b[0m\u001b[0mi\u001b[0m\u001b[1;33m]\u001b[0m\u001b[1;33m)\u001b[0m\u001b[1;33m\u001b[0m\u001b[0m\n\u001b[0m\u001b[0;32m     11\u001b[0m \u001b[0mnewposition\u001b[0m\u001b[1;33m=\u001b[0m\u001b[0mmc\u001b[0m\u001b[1;33m.\u001b[0m\u001b[0mgetPosition\u001b[0m\u001b[1;33m(\u001b[0m\u001b[0mtest_channel\u001b[0m\u001b[1;33m)\u001b[0m\u001b[1;33m\u001b[0m\u001b[0m\n\u001b[0;32m     12\u001b[0m \u001b[1;32mprint\u001b[0m \u001b[1;34m\"Target:{}, reading : {}\"\u001b[0m\u001b[1;33m.\u001b[0m\u001b[0mformat\u001b[0m\u001b[1;33m(\u001b[0m\u001b[0mrandom_sequence\u001b[0m\u001b[1;33m[\u001b[0m\u001b[0mi\u001b[0m\u001b[1;33m]\u001b[0m\u001b[1;33m,\u001b[0m\u001b[0mnewposition\u001b[0m\u001b[1;33m)\u001b[0m\u001b[1;33m\u001b[0m\u001b[0m\n",
      "\u001b[1;31mIndexError\u001b[0m: index 30 is out of bounds for axis 0 with size 30"
     ]
    }
   ],
   "source": [
    "##### automated.\n",
    "# for i in random_sequence:\n",
    "#     mc.move_abs(test_channel,i)\n",
    "#     new_position=mc.getPosition(test_channel)\n",
    "#     positions.append(new_position)\n",
    "# print positions\n",
    "\n",
    "##### Manual\n",
    "print \"Performing {}th element\".format(i)\n",
    "mc.move_abs(test_channel,random_sequence[i])\n",
    "newposition=mc.getPosition(test_channel)\n",
    "print \"Target:{}, reading : {}\".format(random_sequence[i],newposition)\n",
    "positions.append(newposition)\n",
    "print \"Red_i={},target={}_decoder={}.png\".format(i,random_sequence[i],newposition)\n",
    "i=i+1"
   ]
  }
 ],
 "metadata": {
  "kernelspec": {
   "display_name": "Python 2",
   "language": "python",
   "name": "python2"
  },
  "language_info": {
   "codemirror_mode": {
    "name": "ipython",
    "version": 2
   },
   "file_extension": ".py",
   "mimetype": "text/x-python",
   "name": "python",
   "nbconvert_exporter": "python",
   "pygments_lexer": "ipython2",
   "version": "2.7.11"
  }
 },
 "nbformat": 4,
 "nbformat_minor": 2
}
