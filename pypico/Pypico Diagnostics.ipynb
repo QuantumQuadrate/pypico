{
 "cells": [
  {
   "cell_type": "markdown",
   "metadata": {
    "deletable": true,
    "editable": true
   },
   "source": [
    "Diagnostics notebook for Pypico"
   ]
  },
  {
   "cell_type": "code",
   "execution_count": 1,
   "metadata": {
    "collapsed": false,
    "deletable": true,
    "editable": true
   },
   "outputs": [
    {
     "name": "stderr",
     "output_type": "stream",
     "text": [
      "INFO - Connection to 192.168.1.121:23 succeeded.\n",
      "WARNING - Hard starting, motor check will be performed.\n",
      "INFO - Response: ''\n",
      "\n",
      "INFO - Sending next command(0): 've?\\r\\n'\n",
      "INFO - Response: '\\xff\\xfd\\x03\\xff\\xfb\\x018742 Version 2.2 08/01/13'\n",
      "\n",
      "INFO - Sending next command(1): '*idn?\\r\\n'\n",
      "INFO - Response: 'New_Focus 8742 v2.2 08/01/13 10948'\n",
      "\n",
      "INFO - Sending next command(2): 'mc\\r\\n'\n",
      "INFO - Motor 1: movement ceased. Continuing with command buffer.\n",
      "\n",
      "INFO - Sending next command(3): '1qm?\\r\\n'\n",
      "INFO - Response: '2'\n",
      "\n",
      "INFO - Motor 1: type 2\n",
      "INFO - Response: ''\n",
      "\n",
      "INFO - Sending next command(4): '1ac?\\r\\n'\n",
      "INFO - Response: '100000'\n",
      "\n",
      "INFO - Sending next command(5): '1va?\\r\\n'\n",
      "INFO - Response: '1750'\n",
      "\n",
      "INFO - Sending next command(6): '1tp?\\r\\n'\n",
      "INFO - Response: '-35485'\n",
      "\n",
      "INFO - Sending next command(7): '2qm?\\r\\n'\n",
      "INFO - Response: '2'\n",
      "\n"
     ]
    },
    {
     "name": "stdout",
     "output_type": "stream",
     "text": [
      "motor types:  [2, 0, 0, 0]\n"
     ]
    },
    {
     "name": "stderr",
     "output_type": "stream",
     "text": [
      "INFO - Motor 2: type 2\n",
      "INFO - Response: ''\n",
      "\n",
      "INFO - Sending next command(8): '2ac?\\r\\n'\n",
      "INFO - Response: '100000'\n",
      "\n",
      "INFO - Sending next command(9): '2va?\\r\\n'\n",
      "INFO - Response: '1750'\n",
      "\n",
      "INFO - Sending next command(10): '2tp?\\r\\n'\n",
      "INFO - Response: '319479'\n",
      "\n",
      "INFO - Sending next command(11): '3qm?\\r\\n'\n",
      "INFO - Response: '2'\n",
      "\n"
     ]
    },
    {
     "name": "stdout",
     "output_type": "stream",
     "text": [
      "motor types:  [2, 2, 0, 0]\n"
     ]
    },
    {
     "name": "stderr",
     "output_type": "stream",
     "text": [
      "INFO - Motor 3: type 2\n",
      "INFO - Response: ''\n",
      "\n",
      "INFO - Sending next command(12): '3ac?\\r\\n'\n",
      "INFO - Response: '200000'\n",
      "\n",
      "INFO - Sending next command(13): '3va?\\r\\n'\n",
      "INFO - Response: '1750'\n",
      "\n",
      "INFO - Sending next command(14): '3tp?\\r\\n'\n",
      "INFO - Response: '0'\n",
      "\n"
     ]
    },
    {
     "name": "stdout",
     "output_type": "stream",
     "text": [
      "motor types:  [2, 2, 2, 0]\n",
      "Arduino: \n"
     ]
    }
   ],
   "source": [
    "import zmq\n",
    "import time\n",
    "import logging\n",
    "import sys\n",
    "\n",
    "from motorControl import MotorControl\n",
    "from cmdparse import SCPIParser\n",
    "import numpy as np\n",
    "import matplotlib.pyplot as plt\n",
    "\n",
    "import pypico_settings\n",
    "\n",
    "port = 5000\n",
    "\n",
    "# setup logging\n",
    "logger = logging.getLogger(__name__)\n",
    "logger.setLevel(logging.DEBUG)\n",
    "# create a file handler for the logger\n",
    "fh = logging.FileHandler('motorControl.log')\n",
    "fh.setLevel(logging.DEBUG)\n",
    "# create a console handler for the logger\n",
    "ch = logging.StreamHandler()\n",
    "ch.setLevel(logging.INFO)\n",
    "# create format for log file\n",
    "fformatter = logging.Formatter('%(asctime)s - %(name)s - %(levelname)s - %(message)s')\n",
    "cformatter = logging.Formatter('%(levelname)s - %(message)s')\n",
    "fh.setFormatter(fformatter)\n",
    "ch.setFormatter(cformatter)\n",
    "# add the handlers to the logger\n",
    "logger.addHandler(fh)\n",
    "logger.addHandler(ch)\n",
    "# setup motor controller\n",
    "mc = MotorControl(pypico_settings, logger,persist=True)"
   ]
  },
  {
   "cell_type": "code",
   "execution_count": 3,
   "metadata": {
    "collapsed": false,
    "deletable": true,
    "editable": true
   },
   "outputs": [
    {
     "name": "stderr",
     "output_type": "stream",
     "text": [
      "INFO - Channel: 0 position: -3.5595703125\n",
      "INFO - Channel: 1 position: 59.9853515625\n",
      "INFO - Channel: 2 position: 0.0\n",
      "INFO - Channel: 3 position: 0.0\n"
     ]
    },
    {
     "name": "stdout",
     "output_type": "stream",
     "text": [
      "780\n",
      "0\n",
      "-3.5595703125\n",
      "780\n",
      "1\n",
      "59.9853515625\n",
      "480\n",
      "2\n",
      "0.0\n",
      "480\n",
      "3\n",
      "0.0\n"
     ]
    }
   ],
   "source": [
    "# checks current positions for all four channels\n",
    "for i in range(0,4):\n",
    "   print mc.getPosition(i)"
   ]
  },
  {
   "cell_type": "code",
   "execution_count": 268,
   "metadata": {
    "collapsed": false,
    "deletable": true,
    "editable": true
   },
   "outputs": [
    {
     "name": "stderr",
     "output_type": "stream",
     "text": [
      "INFO - Channel: 1 position: -551.689453125\n"
     ]
    },
    {
     "name": "stdout",
     "output_type": "stream",
     "text": [
      "780\n",
      "1\n"
     ]
    }
   ],
   "source": [
    "# Channel to test\n",
    "test_channel=1\n",
    "positions=[]\n",
    "positions.append(mc.getPosition(test_channel))"
   ]
  },
  {
   "cell_type": "code",
   "execution_count": 285,
   "metadata": {
    "collapsed": false,
    "deletable": true,
    "editable": true,
    "scrolled": true
   },
   "outputs": [
    {
     "name": "stderr",
     "output_type": "stream",
     "text": [
      "INFO - Response: ''\n",
      "\n",
      "INFO - Sending next command(3280): '2PR50\\r\\n'\n",
      "INFO - Motor 2: movement ceased. Continuing with command buffer.\n",
      "\n",
      "INFO - Channel: 1 position: 360.922851562\n",
      "INFO - Response: ''\n",
      "\n",
      "INFO - Sending next command(3281): '2PR50\\r\\n'\n"
     ]
    },
    {
     "name": "stdout",
     "output_type": "stream",
     "text": [
      "780\n",
      "1\n"
     ]
    },
    {
     "name": "stderr",
     "output_type": "stream",
     "text": [
      "INFO - Motor 2: movement ceased. Continuing with command buffer.\n",
      "\n",
      "INFO - Channel: 1 position: 361.538085938\n",
      "INFO - Response: ''\n",
      "\n",
      "INFO - Sending next command(3282): '2PR50\\r\\n'\n"
     ]
    },
    {
     "name": "stdout",
     "output_type": "stream",
     "text": [
      "780\n",
      "1\n"
     ]
    },
    {
     "name": "stderr",
     "output_type": "stream",
     "text": [
      "INFO - Motor 2: movement ceased. Continuing with command buffer.\n",
      "\n",
      "INFO - Channel: 1 position: 362.153320312\n",
      "INFO - Response: ''\n",
      "\n",
      "INFO - Sending next command(3283): '2PR50\\r\\n'\n"
     ]
    },
    {
     "name": "stdout",
     "output_type": "stream",
     "text": [
      "780\n",
      "1\n"
     ]
    },
    {
     "name": "stderr",
     "output_type": "stream",
     "text": [
      "INFO - Motor 2: movement ceased. Continuing with command buffer.\n",
      "\n",
      "INFO - Channel: 1 position: 362.768554688\n",
      "INFO - Response: ''\n",
      "\n",
      "INFO - Sending next command(3284): '2PR50\\r\\n'\n"
     ]
    },
    {
     "name": "stdout",
     "output_type": "stream",
     "text": [
      "780\n",
      "1\n"
     ]
    },
    {
     "name": "stderr",
     "output_type": "stream",
     "text": [
      "INFO - Motor 2: movement ceased. Continuing with command buffer.\n",
      "\n",
      "INFO - Channel: 1 position: 363.33984375\n",
      "INFO - Response: ''\n",
      "\n",
      "INFO - Sending next command(3285): '2PR50\\r\\n'\n"
     ]
    },
    {
     "name": "stdout",
     "output_type": "stream",
     "text": [
      "780\n",
      "1\n"
     ]
    },
    {
     "name": "stderr",
     "output_type": "stream",
     "text": [
      "INFO - Motor 2: movement ceased. Continuing with command buffer.\n",
      "\n",
      "INFO - Channel: 1 position: 363.911132812\n",
      "INFO - Response: ''\n",
      "\n",
      "INFO - Sending next command(3286): '2PR50\\r\\n'\n"
     ]
    },
    {
     "name": "stdout",
     "output_type": "stream",
     "text": [
      "780\n",
      "1\n"
     ]
    },
    {
     "name": "stderr",
     "output_type": "stream",
     "text": [
      "INFO - Motor 2: movement ceased. Continuing with command buffer.\n",
      "\n",
      "INFO - Channel: 1 position: 364.482421875\n",
      "INFO - Response: ''\n",
      "\n",
      "INFO - Sending next command(3287): '2PR50\\r\\n'\n"
     ]
    },
    {
     "name": "stdout",
     "output_type": "stream",
     "text": [
      "780\n",
      "1\n"
     ]
    },
    {
     "name": "stderr",
     "output_type": "stream",
     "text": [
      "INFO - Motor 2: movement ceased. Continuing with command buffer.\n",
      "\n",
      "INFO - Channel: 1 position: 365.053710938\n",
      "INFO - Response: ''\n",
      "\n",
      "INFO - Sending next command(3288): '2PR50\\r\\n'\n"
     ]
    },
    {
     "name": "stdout",
     "output_type": "stream",
     "text": [
      "780\n",
      "1\n"
     ]
    },
    {
     "name": "stderr",
     "output_type": "stream",
     "text": [
      "INFO - Motor 2: movement ceased. Continuing with command buffer.\n",
      "\n",
      "INFO - Channel: 1 position: 365.625\n",
      "INFO - Response: ''\n",
      "\n",
      "INFO - Sending next command(3289): '2PR50\\r\\n'\n"
     ]
    },
    {
     "name": "stdout",
     "output_type": "stream",
     "text": [
      "780\n",
      "1\n"
     ]
    },
    {
     "name": "stderr",
     "output_type": "stream",
     "text": [
      "INFO - Motor 2: movement ceased. Continuing with command buffer.\n",
      "\n",
      "INFO - Channel: 1 position: 366.240234375\n",
      "INFO - Response: ''\n",
      "\n",
      "INFO - Sending next command(3290): '2PR50\\r\\n'\n"
     ]
    },
    {
     "name": "stdout",
     "output_type": "stream",
     "text": [
      "780\n",
      "1\n"
     ]
    },
    {
     "name": "stderr",
     "output_type": "stream",
     "text": [
      "INFO - Motor 2: movement ceased. Continuing with command buffer.\n",
      "\n",
      "INFO - Channel: 1 position: 366.811523438\n",
      "INFO - Response: ''\n",
      "\n",
      "INFO - Sending next command(3291): '2PR50\\r\\n'\n"
     ]
    },
    {
     "name": "stdout",
     "output_type": "stream",
     "text": [
      "780\n",
      "1\n"
     ]
    },
    {
     "name": "stderr",
     "output_type": "stream",
     "text": [
      "INFO - Motor 2: movement ceased. Continuing with command buffer.\n",
      "\n",
      "INFO - Channel: 1 position: 367.426757812\n",
      "INFO - Response: ''\n",
      "\n",
      "INFO - Sending next command(3292): '2PR50\\r\\n'\n"
     ]
    },
    {
     "name": "stdout",
     "output_type": "stream",
     "text": [
      "780\n",
      "1\n"
     ]
    },
    {
     "name": "stderr",
     "output_type": "stream",
     "text": [
      "INFO - Motor 2: movement ceased. Continuing with command buffer.\n",
      "\n",
      "INFO - Channel: 1 position: 368.041992188\n",
      "INFO - Response: ''\n",
      "\n",
      "INFO - Sending next command(3293): '2PR50\\r\\n'\n"
     ]
    },
    {
     "name": "stdout",
     "output_type": "stream",
     "text": [
      "780\n",
      "1\n"
     ]
    },
    {
     "name": "stderr",
     "output_type": "stream",
     "text": [
      "INFO - Motor 2: movement ceased. Continuing with command buffer.\n",
      "\n",
      "INFO - Channel: 1 position: 368.61328125\n",
      "INFO - Response: ''\n",
      "\n",
      "INFO - Sending next command(3294): '2PR50\\r\\n'\n"
     ]
    },
    {
     "name": "stdout",
     "output_type": "stream",
     "text": [
      "780\n",
      "1\n"
     ]
    },
    {
     "name": "stderr",
     "output_type": "stream",
     "text": [
      "INFO - Motor 2: movement ceased. Continuing with command buffer.\n",
      "\n",
      "INFO - Channel: 1 position: 369.140625\n",
      "INFO - Response: ''\n",
      "\n",
      "INFO - Sending next command(3295): '2PR50\\r\\n'\n"
     ]
    },
    {
     "name": "stdout",
     "output_type": "stream",
     "text": [
      "780\n",
      "1\n"
     ]
    },
    {
     "name": "stderr",
     "output_type": "stream",
     "text": [
      "INFO - Motor 2: movement ceased. Continuing with command buffer.\n",
      "\n",
      "INFO - Channel: 1 position: 369.711914062\n",
      "INFO - Response: ''\n",
      "\n",
      "INFO - Sending next command(3296): '2PR50\\r\\n'\n"
     ]
    },
    {
     "name": "stdout",
     "output_type": "stream",
     "text": [
      "780\n",
      "1\n"
     ]
    },
    {
     "name": "stderr",
     "output_type": "stream",
     "text": [
      "INFO - Motor 2: movement ceased. Continuing with command buffer.\n",
      "\n",
      "INFO - Channel: 1 position: 370.283203125\n",
      "INFO - Response: ''\n",
      "\n",
      "INFO - Sending next command(3297): '2PR50\\r\\n'\n"
     ]
    },
    {
     "name": "stdout",
     "output_type": "stream",
     "text": [
      "780\n",
      "1\n"
     ]
    },
    {
     "name": "stderr",
     "output_type": "stream",
     "text": [
      "INFO - Motor 2: movement ceased. Continuing with command buffer.\n",
      "\n",
      "INFO - Channel: 1 position: 370.854492188\n",
      "INFO - Response: ''\n",
      "\n",
      "INFO - Sending next command(3298): '2PR50\\r\\n'\n"
     ]
    },
    {
     "name": "stdout",
     "output_type": "stream",
     "text": [
      "780\n",
      "1\n"
     ]
    },
    {
     "name": "stderr",
     "output_type": "stream",
     "text": [
      "INFO - Motor 2: movement ceased. Continuing with command buffer.\n",
      "\n",
      "INFO - Channel: 1 position: 371.469726562\n",
      "INFO - Response: ''\n",
      "\n",
      "INFO - Sending next command(3299): '2PR50\\r\\n'\n"
     ]
    },
    {
     "name": "stdout",
     "output_type": "stream",
     "text": [
      "780\n",
      "1\n"
     ]
    },
    {
     "name": "stderr",
     "output_type": "stream",
     "text": [
      "INFO - Motor 2: movement ceased. Continuing with command buffer.\n",
      "\n",
      "INFO - Channel: 1 position: 372.084960938\n",
      "INFO - Response: ''\n",
      "\n",
      "INFO - Sending next command(3300): '2PR50\\r\\n'\n"
     ]
    },
    {
     "name": "stdout",
     "output_type": "stream",
     "text": [
      "780\n",
      "1\n"
     ]
    },
    {
     "name": "stderr",
     "output_type": "stream",
     "text": [
      "INFO - Motor 2: movement ceased. Continuing with command buffer.\n",
      "\n",
      "INFO - Channel: 1 position: 372.65625\n",
      "INFO - Response: ''\n",
      "\n",
      "INFO - Sending next command(3301): '2PR50\\r\\n'\n"
     ]
    },
    {
     "name": "stdout",
     "output_type": "stream",
     "text": [
      "780\n",
      "1\n"
     ]
    },
    {
     "name": "stderr",
     "output_type": "stream",
     "text": [
      "INFO - Motor 2: movement ceased. Continuing with command buffer.\n",
      "\n",
      "INFO - Channel: 1 position: 373.315429688\n",
      "INFO - Response: ''\n",
      "\n",
      "INFO - Sending next command(3302): '2PR50\\r\\n'\n"
     ]
    },
    {
     "name": "stdout",
     "output_type": "stream",
     "text": [
      "780\n",
      "1\n"
     ]
    },
    {
     "name": "stderr",
     "output_type": "stream",
     "text": [
      "INFO - Motor 2: movement ceased. Continuing with command buffer.\n",
      "\n",
      "INFO - Channel: 1 position: 373.88671875\n",
      "INFO - Response: ''\n",
      "\n",
      "INFO - Sending next command(3303): '2PR50\\r\\n'\n"
     ]
    },
    {
     "name": "stdout",
     "output_type": "stream",
     "text": [
      "780\n",
      "1\n"
     ]
    },
    {
     "name": "stderr",
     "output_type": "stream",
     "text": [
      "INFO - Motor 2: movement ceased. Continuing with command buffer.\n",
      "\n",
      "INFO - Channel: 1 position: 374.501953125\n",
      "INFO - Response: ''\n",
      "\n",
      "INFO - Sending next command(3304): '2PR50\\r\\n'\n"
     ]
    },
    {
     "name": "stdout",
     "output_type": "stream",
     "text": [
      "780\n",
      "1\n"
     ]
    },
    {
     "name": "stderr",
     "output_type": "stream",
     "text": [
      "INFO - Motor 2: movement ceased. Continuing with command buffer.\n",
      "\n",
      "INFO - Channel: 1 position: 375.1171875\n",
      "INFO - Response: ''\n",
      "\n",
      "INFO - Sending next command(3305): '2PR50\\r\\n'\n"
     ]
    },
    {
     "name": "stdout",
     "output_type": "stream",
     "text": [
      "780\n",
      "1\n"
     ]
    },
    {
     "name": "stderr",
     "output_type": "stream",
     "text": [
      "INFO - Motor 2: movement ceased. Continuing with command buffer.\n",
      "\n",
      "INFO - Channel: 1 position: 375.688476562\n",
      "INFO - Response: ''\n",
      "\n",
      "INFO - Sending next command(3306): '2PR50\\r\\n'\n"
     ]
    },
    {
     "name": "stdout",
     "output_type": "stream",
     "text": [
      "780\n",
      "1\n"
     ]
    },
    {
     "name": "stderr",
     "output_type": "stream",
     "text": [
      "INFO - Motor 2: movement ceased. Continuing with command buffer.\n",
      "\n",
      "INFO - Channel: 1 position: 376.303710938\n",
      "INFO - Response: ''\n",
      "\n",
      "INFO - Sending next command(3307): '2PR50\\r\\n'\n"
     ]
    },
    {
     "name": "stdout",
     "output_type": "stream",
     "text": [
      "780\n",
      "1\n"
     ]
    },
    {
     "name": "stderr",
     "output_type": "stream",
     "text": [
      "INFO - Motor 2: movement ceased. Continuing with command buffer.\n",
      "\n",
      "INFO - Channel: 1 position: 376.918945312\n",
      "INFO - Response: ''\n",
      "\n",
      "INFO - Sending next command(3308): '2PR50\\r\\n'\n"
     ]
    },
    {
     "name": "stdout",
     "output_type": "stream",
     "text": [
      "780\n",
      "1\n"
     ]
    },
    {
     "name": "stderr",
     "output_type": "stream",
     "text": [
      "INFO - Motor 2: movement ceased. Continuing with command buffer.\n",
      "\n",
      "INFO - Channel: 1 position: 377.490234375\n",
      "INFO - Response: ''\n",
      "\n",
      "INFO - Sending next command(3309): '2PR50\\r\\n'\n"
     ]
    },
    {
     "name": "stdout",
     "output_type": "stream",
     "text": [
      "780\n",
      "1\n"
     ]
    },
    {
     "name": "stderr",
     "output_type": "stream",
     "text": [
      "INFO - Motor 2: movement ceased. Continuing with command buffer.\n",
      "\n",
      "INFO - Channel: 1 position: 378.10546875\n",
      "INFO - Response: ''\n",
      "\n",
      "INFO - Sending next command(3310): '2PR50\\r\\n'\n"
     ]
    },
    {
     "name": "stdout",
     "output_type": "stream",
     "text": [
      "780\n",
      "1\n"
     ]
    },
    {
     "name": "stderr",
     "output_type": "stream",
     "text": [
      "INFO - Motor 2: movement ceased. Continuing with command buffer.\n",
      "\n",
      "INFO - Channel: 1 position: 378.720703125\n",
      "INFO - Response: ''\n",
      "\n",
      "INFO - Sending next command(3311): '2PR50\\r\\n'\n"
     ]
    },
    {
     "name": "stdout",
     "output_type": "stream",
     "text": [
      "780\n",
      "1\n"
     ]
    },
    {
     "name": "stderr",
     "output_type": "stream",
     "text": [
      "INFO - Motor 2: movement ceased. Continuing with command buffer.\n",
      "\n",
      "INFO - Channel: 1 position: 379.3359375\n",
      "INFO - Response: ''\n",
      "\n",
      "INFO - Sending next command(3312): '2PR50\\r\\n'\n"
     ]
    },
    {
     "name": "stdout",
     "output_type": "stream",
     "text": [
      "780\n",
      "1\n"
     ]
    },
    {
     "name": "stderr",
     "output_type": "stream",
     "text": [
      "INFO - Motor 2: movement ceased. Continuing with command buffer.\n",
      "\n",
      "INFO - Channel: 1 position: 379.951171875\n",
      "INFO - Response: ''\n",
      "\n",
      "INFO - Sending next command(3313): '2PR50\\r\\n'\n"
     ]
    },
    {
     "name": "stdout",
     "output_type": "stream",
     "text": [
      "780\n",
      "1\n"
     ]
    },
    {
     "name": "stderr",
     "output_type": "stream",
     "text": [
      "INFO - Motor 2: movement ceased. Continuing with command buffer.\n",
      "\n",
      "INFO - Channel: 1 position: 380.56640625\n",
      "INFO - Response: ''\n",
      "\n",
      "INFO - Sending next command(3314): '2PR50\\r\\n'\n"
     ]
    },
    {
     "name": "stdout",
     "output_type": "stream",
     "text": [
      "780\n",
      "1\n"
     ]
    },
    {
     "name": "stderr",
     "output_type": "stream",
     "text": [
      "INFO - Motor 2: movement ceased. Continuing with command buffer.\n",
      "\n",
      "INFO - Channel: 1 position: 381.181640625\n",
      "INFO - Response: ''\n",
      "\n",
      "INFO - Sending next command(3315): '2PR50\\r\\n'\n"
     ]
    },
    {
     "name": "stdout",
     "output_type": "stream",
     "text": [
      "780\n",
      "1\n"
     ]
    },
    {
     "name": "stderr",
     "output_type": "stream",
     "text": [
      "INFO - Motor 2: movement ceased. Continuing with command buffer.\n",
      "\n",
      "INFO - Channel: 1 position: 381.796875\n",
      "INFO - Response: ''\n",
      "\n",
      "INFO - Sending next command(3316): '2PR50\\r\\n'\n"
     ]
    },
    {
     "name": "stdout",
     "output_type": "stream",
     "text": [
      "780\n",
      "1\n"
     ]
    },
    {
     "name": "stderr",
     "output_type": "stream",
     "text": [
      "INFO - Motor 2: movement ceased. Continuing with command buffer.\n",
      "\n",
      "INFO - Channel: 1 position: 382.456054688\n",
      "INFO - Response: ''\n",
      "\n",
      "INFO - Sending next command(3317): '2PR50\\r\\n'\n"
     ]
    },
    {
     "name": "stdout",
     "output_type": "stream",
     "text": [
      "780\n",
      "1\n"
     ]
    },
    {
     "name": "stderr",
     "output_type": "stream",
     "text": [
      "INFO - Motor 2: movement ceased. Continuing with command buffer.\n",
      "\n",
      "INFO - Channel: 1 position: 383.115234375\n",
      "INFO - Response: ''\n",
      "\n",
      "INFO - Sending next command(3318): '2PR50\\r\\n'\n"
     ]
    },
    {
     "name": "stdout",
     "output_type": "stream",
     "text": [
      "780\n",
      "1\n"
     ]
    },
    {
     "name": "stderr",
     "output_type": "stream",
     "text": [
      "INFO - Motor 2: movement ceased. Continuing with command buffer.\n",
      "\n",
      "INFO - Channel: 1 position: 383.774414062\n",
      "INFO - Response: ''\n",
      "\n",
      "INFO - Sending next command(3319): '2PR50\\r\\n'\n"
     ]
    },
    {
     "name": "stdout",
     "output_type": "stream",
     "text": [
      "780\n",
      "1\n"
     ]
    },
    {
     "name": "stderr",
     "output_type": "stream",
     "text": [
      "INFO - Motor 2: movement ceased. Continuing with command buffer.\n",
      "\n",
      "INFO - Channel: 1 position: 384.43359375\n",
      "INFO - Response: ''\n",
      "\n",
      "INFO - Sending next command(3320): '2PR50\\r\\n'\n"
     ]
    },
    {
     "name": "stdout",
     "output_type": "stream",
     "text": [
      "780\n",
      "1\n"
     ]
    },
    {
     "name": "stderr",
     "output_type": "stream",
     "text": [
      "INFO - Motor 2: movement ceased. Continuing with command buffer.\n",
      "\n",
      "INFO - Channel: 1 position: 385.092773438\n",
      "INFO - Response: ''\n",
      "\n",
      "INFO - Sending next command(3321): '2PR50\\r\\n'\n"
     ]
    },
    {
     "name": "stdout",
     "output_type": "stream",
     "text": [
      "780\n",
      "1\n"
     ]
    },
    {
     "name": "stderr",
     "output_type": "stream",
     "text": [
      "INFO - Motor 2: movement ceased. Continuing with command buffer.\n",
      "\n",
      "INFO - Channel: 1 position: 385.708007812\n",
      "INFO - Response: ''\n",
      "\n",
      "INFO - Sending next command(3322): '2PR50\\r\\n'\n"
     ]
    },
    {
     "name": "stdout",
     "output_type": "stream",
     "text": [
      "780\n",
      "1\n"
     ]
    },
    {
     "name": "stderr",
     "output_type": "stream",
     "text": [
      "INFO - Motor 2: movement ceased. Continuing with command buffer.\n",
      "\n",
      "INFO - Channel: 1 position: 386.323242188\n",
      "INFO - Response: ''\n",
      "\n",
      "INFO - Sending next command(3323): '2PR50\\r\\n'\n"
     ]
    },
    {
     "name": "stdout",
     "output_type": "stream",
     "text": [
      "780\n",
      "1\n"
     ]
    },
    {
     "name": "stderr",
     "output_type": "stream",
     "text": [
      "INFO - Motor 2: movement ceased. Continuing with command buffer.\n",
      "\n",
      "INFO - Channel: 1 position: 386.850585938\n",
      "INFO - Response: ''\n",
      "\n",
      "INFO - Sending next command(3324): '2PR50\\r\\n'\n"
     ]
    },
    {
     "name": "stdout",
     "output_type": "stream",
     "text": [
      "780\n",
      "1\n"
     ]
    },
    {
     "name": "stderr",
     "output_type": "stream",
     "text": [
      "INFO - Motor 2: movement ceased. Continuing with command buffer.\n",
      "\n",
      "INFO - Channel: 1 position: 387.333984375\n",
      "INFO - Response: ''\n",
      "\n",
      "INFO - Sending next command(3325): '2PR50\\r\\n'\n"
     ]
    },
    {
     "name": "stdout",
     "output_type": "stream",
     "text": [
      "780\n",
      "1\n"
     ]
    },
    {
     "name": "stderr",
     "output_type": "stream",
     "text": [
      "INFO - Motor 2: movement ceased. Continuing with command buffer.\n",
      "\n",
      "INFO - Channel: 1 position: 387.817382812\n",
      "INFO - Response: ''\n",
      "\n",
      "INFO - Sending next command(3326): '2PR50\\r\\n'\n"
     ]
    },
    {
     "name": "stdout",
     "output_type": "stream",
     "text": [
      "780\n",
      "1\n"
     ]
    },
    {
     "name": "stderr",
     "output_type": "stream",
     "text": [
      "INFO - Motor 2: movement ceased. Continuing with command buffer.\n",
      "\n",
      "INFO - Channel: 1 position: 388.30078125\n",
      "INFO - Response: ''\n",
      "\n",
      "INFO - Sending next command(3327): '2PR50\\r\\n'\n"
     ]
    },
    {
     "name": "stdout",
     "output_type": "stream",
     "text": [
      "780\n",
      "1\n"
     ]
    },
    {
     "name": "stderr",
     "output_type": "stream",
     "text": [
      "INFO - Motor 2: movement ceased. Continuing with command buffer.\n",
      "\n",
      "INFO - Channel: 1 position: 388.784179688\n",
      "INFO - Response: ''\n",
      "\n",
      "INFO - Sending next command(3328): '2PR50\\r\\n'\n"
     ]
    },
    {
     "name": "stdout",
     "output_type": "stream",
     "text": [
      "780\n",
      "1\n"
     ]
    },
    {
     "name": "stderr",
     "output_type": "stream",
     "text": [
      "INFO - Motor 2: movement ceased. Continuing with command buffer.\n",
      "\n",
      "INFO - Channel: 1 position: 389.223632812\n",
      "INFO - Response: ''\n",
      "\n",
      "INFO - Sending next command(3329): '2PR50\\r\\n'\n"
     ]
    },
    {
     "name": "stdout",
     "output_type": "stream",
     "text": [
      "780\n",
      "1\n"
     ]
    },
    {
     "name": "stderr",
     "output_type": "stream",
     "text": [
      "INFO - Motor 2: movement ceased. Continuing with command buffer.\n",
      "\n",
      "INFO - Channel: 1 position: 389.663085938\n",
      "INFO - Response: ''\n",
      "\n",
      "INFO - Sending next command(3330): '2PR50\\r\\n'\n"
     ]
    },
    {
     "name": "stdout",
     "output_type": "stream",
     "text": [
      "780\n",
      "1\n"
     ]
    },
    {
     "name": "stderr",
     "output_type": "stream",
     "text": [
      "INFO - Motor 2: movement ceased. Continuing with command buffer.\n",
      "\n",
      "INFO - Channel: 1 position: 390.102539062\n",
      "INFO - Response: ''\n",
      "\n",
      "INFO - Sending next command(3331): '2PR50\\r\\n'\n"
     ]
    },
    {
     "name": "stdout",
     "output_type": "stream",
     "text": [
      "780\n",
      "1\n"
     ]
    },
    {
     "name": "stderr",
     "output_type": "stream",
     "text": [
      "INFO - Motor 2: movement ceased. Continuing with command buffer.\n",
      "\n",
      "INFO - Channel: 1 position: 390.498046875\n",
      "INFO - Response: ''\n",
      "\n",
      "INFO - Sending next command(3332): '2PR50\\r\\n'\n"
     ]
    },
    {
     "name": "stdout",
     "output_type": "stream",
     "text": [
      "780\n",
      "1\n"
     ]
    },
    {
     "name": "stderr",
     "output_type": "stream",
     "text": [
      "INFO - Motor 2: movement ceased. Continuing with command buffer.\n",
      "\n",
      "INFO - Channel: 1 position: 390.893554688\n",
      "INFO - Response: ''\n",
      "\n",
      "INFO - Sending next command(3333): '2PR50\\r\\n'\n"
     ]
    },
    {
     "name": "stdout",
     "output_type": "stream",
     "text": [
      "780\n",
      "1\n"
     ]
    },
    {
     "name": "stderr",
     "output_type": "stream",
     "text": [
      "INFO - Motor 2: movement ceased. Continuing with command buffer.\n",
      "\n",
      "INFO - Channel: 1 position: 391.333007812\n",
      "INFO - Response: ''\n",
      "\n",
      "INFO - Sending next command(3334): '2PR50\\r\\n'\n"
     ]
    },
    {
     "name": "stdout",
     "output_type": "stream",
     "text": [
      "780\n",
      "1\n"
     ]
    },
    {
     "name": "stderr",
     "output_type": "stream",
     "text": [
      "INFO - Motor 2: movement ceased. Continuing with command buffer.\n",
      "\n",
      "INFO - Channel: 1 position: 391.728515625\n",
      "INFO - Response: ''\n",
      "\n",
      "INFO - Sending next command(3335): '2PR50\\r\\n'\n"
     ]
    },
    {
     "name": "stdout",
     "output_type": "stream",
     "text": [
      "780\n",
      "1\n"
     ]
    },
    {
     "name": "stderr",
     "output_type": "stream",
     "text": [
      "INFO - Motor 2: movement ceased. Continuing with command buffer.\n",
      "\n",
      "INFO - Channel: 1 position: 392.080078125\n",
      "INFO - Response: ''\n",
      "\n",
      "INFO - Sending next command(3336): '2PR50\\r\\n'\n"
     ]
    },
    {
     "name": "stdout",
     "output_type": "stream",
     "text": [
      "780\n",
      "1\n"
     ]
    },
    {
     "name": "stderr",
     "output_type": "stream",
     "text": [
      "INFO - Motor 2: movement ceased. Continuing with command buffer.\n",
      "\n",
      "INFO - Channel: 1 position: 392.475585938\n",
      "INFO - Response: ''\n",
      "\n",
      "INFO - Sending next command(3337): '2PR50\\r\\n'\n"
     ]
    },
    {
     "name": "stdout",
     "output_type": "stream",
     "text": [
      "780\n",
      "1\n"
     ]
    },
    {
     "name": "stderr",
     "output_type": "stream",
     "text": [
      "INFO - Motor 2: movement ceased. Continuing with command buffer.\n",
      "\n",
      "INFO - Channel: 1 position: 392.87109375\n",
      "INFO - Response: ''\n",
      "\n",
      "INFO - Sending next command(3338): '2PR50\\r\\n'\n"
     ]
    },
    {
     "name": "stdout",
     "output_type": "stream",
     "text": [
      "780\n",
      "1\n"
     ]
    },
    {
     "name": "stderr",
     "output_type": "stream",
     "text": [
      "INFO - Motor 2: movement ceased. Continuing with command buffer.\n",
      "\n",
      "INFO - Channel: 1 position: 393.22265625\n",
      "INFO - Response: ''\n",
      "\n",
      "INFO - Sending next command(3339): '2PR50\\r\\n'\n"
     ]
    },
    {
     "name": "stdout",
     "output_type": "stream",
     "text": [
      "780\n",
      "1\n"
     ]
    },
    {
     "name": "stderr",
     "output_type": "stream",
     "text": [
      "INFO - Motor 2: movement ceased. Continuing with command buffer.\n",
      "\n",
      "INFO - Channel: 1 position: 393.618164062\n",
      "INFO - Response: ''\n",
      "\n",
      "INFO - Sending next command(3340): '2PR50\\r\\n'\n"
     ]
    },
    {
     "name": "stdout",
     "output_type": "stream",
     "text": [
      "780\n",
      "1\n"
     ]
    },
    {
     "name": "stderr",
     "output_type": "stream",
     "text": [
      "INFO - Motor 2: movement ceased. Continuing with command buffer.\n",
      "\n",
      "INFO - Channel: 1 position: 394.013671875\n",
      "INFO - Response: ''\n",
      "\n",
      "INFO - Sending next command(3341): '2PR50\\r\\n'\n"
     ]
    },
    {
     "name": "stdout",
     "output_type": "stream",
     "text": [
      "780\n",
      "1\n"
     ]
    },
    {
     "name": "stderr",
     "output_type": "stream",
     "text": [
      "INFO - Motor 2: movement ceased. Continuing with command buffer.\n",
      "\n",
      "INFO - Channel: 1 position: 394.409179688\n",
      "INFO - Response: ''\n",
      "\n",
      "INFO - Sending next command(3342): '2PR50\\r\\n'\n"
     ]
    },
    {
     "name": "stdout",
     "output_type": "stream",
     "text": [
      "780\n",
      "1\n"
     ]
    },
    {
     "name": "stderr",
     "output_type": "stream",
     "text": [
      "INFO - Motor 2: movement ceased. Continuing with command buffer.\n",
      "\n",
      "INFO - Channel: 1 position: 394.760742188\n",
      "INFO - Response: ''\n",
      "\n",
      "INFO - Sending next command(3343): '2PR50\\r\\n'\n"
     ]
    },
    {
     "name": "stdout",
     "output_type": "stream",
     "text": [
      "780\n",
      "1\n"
     ]
    },
    {
     "name": "stderr",
     "output_type": "stream",
     "text": [
      "INFO - Motor 2: movement ceased. Continuing with command buffer.\n",
      "\n",
      "INFO - Channel: 1 position: 395.112304688\n",
      "INFO - Response: ''\n",
      "\n",
      "INFO - Sending next command(3344): '2PR50\\r\\n'\n"
     ]
    },
    {
     "name": "stdout",
     "output_type": "stream",
     "text": [
      "780\n",
      "1\n"
     ]
    },
    {
     "name": "stderr",
     "output_type": "stream",
     "text": [
      "INFO - Motor 2: movement ceased. Continuing with command buffer.\n",
      "\n",
      "INFO - Channel: 1 position: 395.5078125\n",
      "INFO - Response: ''\n",
      "\n",
      "INFO - Sending next command(3345): '2PR50\\r\\n'\n"
     ]
    },
    {
     "name": "stdout",
     "output_type": "stream",
     "text": [
      "780\n",
      "1\n"
     ]
    },
    {
     "name": "stderr",
     "output_type": "stream",
     "text": [
      "INFO - Motor 2: movement ceased. Continuing with command buffer.\n",
      "\n",
      "INFO - Channel: 1 position: 395.859375\n",
      "INFO - Response: ''\n",
      "\n",
      "INFO - Sending next command(3346): '2PR50\\r\\n'\n"
     ]
    },
    {
     "name": "stdout",
     "output_type": "stream",
     "text": [
      "780\n",
      "1\n"
     ]
    },
    {
     "name": "stderr",
     "output_type": "stream",
     "text": [
      "INFO - Motor 2: movement ceased. Continuing with command buffer.\n",
      "\n",
      "INFO - Channel: 1 position: 396.2109375\n",
      "INFO - Response: ''\n",
      "\n",
      "INFO - Sending next command(3347): '2PR50\\r\\n'\n"
     ]
    },
    {
     "name": "stdout",
     "output_type": "stream",
     "text": [
      "780\n",
      "1\n"
     ]
    },
    {
     "name": "stderr",
     "output_type": "stream",
     "text": [
      "INFO - Motor 2: movement ceased. Continuing with command buffer.\n",
      "\n",
      "INFO - Channel: 1 position: 396.606445312\n",
      "INFO - Response: ''\n",
      "\n",
      "INFO - Sending next command(3348): '2PR50\\r\\n'\n"
     ]
    },
    {
     "name": "stdout",
     "output_type": "stream",
     "text": [
      "780\n",
      "1\n"
     ]
    },
    {
     "name": "stderr",
     "output_type": "stream",
     "text": [
      "INFO - Motor 2: movement ceased. Continuing with command buffer.\n",
      "\n",
      "INFO - Channel: 1 position: 396.958007812\n",
      "INFO - Response: ''\n",
      "\n",
      "INFO - Sending next command(3349): '2PR50\\r\\n'\n"
     ]
    },
    {
     "name": "stdout",
     "output_type": "stream",
     "text": [
      "780\n",
      "1\n"
     ]
    },
    {
     "name": "stderr",
     "output_type": "stream",
     "text": [
      "INFO - Motor 2: movement ceased. Continuing with command buffer.\n",
      "\n",
      "INFO - Channel: 1 position: 397.309570312\n",
      "INFO - Response: ''\n",
      "\n",
      "INFO - Sending next command(3350): '2PR50\\r\\n'\n"
     ]
    },
    {
     "name": "stdout",
     "output_type": "stream",
     "text": [
      "780\n",
      "1\n"
     ]
    },
    {
     "name": "stderr",
     "output_type": "stream",
     "text": [
      "INFO - Motor 2: movement ceased. Continuing with command buffer.\n",
      "\n",
      "INFO - Channel: 1 position: 397.661132812\n",
      "INFO - Response: ''\n",
      "\n",
      "INFO - Sending next command(3351): '2PR50\\r\\n'\n"
     ]
    },
    {
     "name": "stdout",
     "output_type": "stream",
     "text": [
      "780\n",
      "1\n"
     ]
    },
    {
     "name": "stderr",
     "output_type": "stream",
     "text": [
      "INFO - Motor 2: movement ceased. Continuing with command buffer.\n",
      "\n",
      "INFO - Channel: 1 position: 398.012695312\n",
      "INFO - Response: ''\n",
      "\n",
      "INFO - Sending next command(3352): '2PR50\\r\\n'\n"
     ]
    },
    {
     "name": "stdout",
     "output_type": "stream",
     "text": [
      "780\n",
      "1\n"
     ]
    },
    {
     "name": "stderr",
     "output_type": "stream",
     "text": [
      "INFO - Motor 2: movement ceased. Continuing with command buffer.\n",
      "\n",
      "INFO - Channel: 1 position: 398.364257812\n",
      "INFO - Response: ''\n",
      "\n",
      "INFO - Sending next command(3353): '2PR50\\r\\n'\n"
     ]
    },
    {
     "name": "stdout",
     "output_type": "stream",
     "text": [
      "780\n",
      "1\n"
     ]
    },
    {
     "name": "stderr",
     "output_type": "stream",
     "text": [
      "INFO - Motor 2: movement ceased. Continuing with command buffer.\n",
      "\n",
      "INFO - Channel: 1 position: 398.715820312\n",
      "INFO - Response: ''\n",
      "\n",
      "INFO - Sending next command(3354): '2PR50\\r\\n'\n"
     ]
    },
    {
     "name": "stdout",
     "output_type": "stream",
     "text": [
      "780\n",
      "1\n"
     ]
    },
    {
     "name": "stderr",
     "output_type": "stream",
     "text": [
      "INFO - Motor 2: movement ceased. Continuing with command buffer.\n",
      "\n",
      "INFO - Channel: 1 position: 399.0234375\n",
      "INFO - Response: ''\n",
      "\n",
      "INFO - Sending next command(3355): '2PR50\\r\\n'\n"
     ]
    },
    {
     "name": "stdout",
     "output_type": "stream",
     "text": [
      "780\n",
      "1\n"
     ]
    },
    {
     "name": "stderr",
     "output_type": "stream",
     "text": [
      "INFO - Motor 2: movement ceased. Continuing with command buffer.\n",
      "\n",
      "INFO - Channel: 1 position: 399.375\n",
      "INFO - Response: ''\n",
      "\n",
      "INFO - Sending next command(3356): '2PR50\\r\\n'\n"
     ]
    },
    {
     "name": "stdout",
     "output_type": "stream",
     "text": [
      "780\n",
      "1\n"
     ]
    },
    {
     "name": "stderr",
     "output_type": "stream",
     "text": [
      "INFO - Motor 2: movement ceased. Continuing with command buffer.\n",
      "\n",
      "INFO - Channel: 1 position: 399.7265625\n",
      "INFO - Response: ''\n",
      "\n",
      "INFO - Sending next command(3357): '2PR50\\r\\n'\n"
     ]
    },
    {
     "name": "stdout",
     "output_type": "stream",
     "text": [
      "780\n",
      "1\n"
     ]
    },
    {
     "name": "stderr",
     "output_type": "stream",
     "text": [
      "INFO - Motor 2: movement ceased. Continuing with command buffer.\n",
      "\n",
      "INFO - Channel: 1 position: 400.034179688\n",
      "INFO - Response: ''\n",
      "\n",
      "INFO - Sending next command(3358): '2PR50\\r\\n'\n"
     ]
    },
    {
     "name": "stdout",
     "output_type": "stream",
     "text": [
      "780\n",
      "1\n"
     ]
    },
    {
     "name": "stderr",
     "output_type": "stream",
     "text": [
      "INFO - Motor 2: movement ceased. Continuing with command buffer.\n",
      "\n",
      "INFO - Channel: 1 position: 400.385742188\n",
      "INFO - Response: ''\n",
      "\n",
      "INFO - Sending next command(3359): '2PR50\\r\\n'\n"
     ]
    },
    {
     "name": "stdout",
     "output_type": "stream",
     "text": [
      "780\n",
      "1\n"
     ]
    },
    {
     "name": "stderr",
     "output_type": "stream",
     "text": [
      "INFO - Motor 2: movement ceased. Continuing with command buffer.\n",
      "\n",
      "INFO - Channel: 1 position: 400.693359375\n",
      "INFO - Response: ''\n",
      "\n",
      "INFO - Sending next command(3360): '2PR50\\r\\n'\n"
     ]
    },
    {
     "name": "stdout",
     "output_type": "stream",
     "text": [
      "780\n",
      "1\n"
     ]
    },
    {
     "name": "stderr",
     "output_type": "stream",
     "text": [
      "INFO - Motor 2: movement ceased. Continuing with command buffer.\n",
      "\n",
      "INFO - Channel: 1 position: 401.044921875\n",
      "INFO - Response: ''\n",
      "\n",
      "INFO - Sending next command(3361): '2PR50\\r\\n'\n"
     ]
    },
    {
     "name": "stdout",
     "output_type": "stream",
     "text": [
      "780\n",
      "1\n"
     ]
    },
    {
     "name": "stderr",
     "output_type": "stream",
     "text": [
      "INFO - Motor 2: movement ceased. Continuing with command buffer.\n",
      "\n",
      "INFO - Channel: 1 position: 401.440429688\n",
      "INFO - Response: ''\n",
      "\n",
      "INFO - Sending next command(3362): '2PR50\\r\\n'\n"
     ]
    },
    {
     "name": "stdout",
     "output_type": "stream",
     "text": [
      "780\n",
      "1\n"
     ]
    },
    {
     "name": "stderr",
     "output_type": "stream",
     "text": [
      "INFO - Motor 2: movement ceased. Continuing with command buffer.\n",
      "\n",
      "INFO - Channel: 1 position: 401.791992188\n",
      "INFO - Response: ''\n",
      "\n",
      "INFO - Sending next command(3363): '2PR50\\r\\n'\n"
     ]
    },
    {
     "name": "stdout",
     "output_type": "stream",
     "text": [
      "780\n",
      "1\n"
     ]
    },
    {
     "name": "stderr",
     "output_type": "stream",
     "text": [
      "INFO - Motor 2: movement ceased. Continuing with command buffer.\n",
      "\n",
      "INFO - Channel: 1 position: 402.1875\n",
      "INFO - Response: ''\n",
      "\n",
      "INFO - Sending next command(3364): '2PR50\\r\\n'\n"
     ]
    },
    {
     "name": "stdout",
     "output_type": "stream",
     "text": [
      "780\n",
      "1\n"
     ]
    },
    {
     "name": "stderr",
     "output_type": "stream",
     "text": [
      "INFO - Motor 2: movement ceased. Continuing with command buffer.\n",
      "\n",
      "INFO - Channel: 1 position: 402.583007812\n",
      "INFO - Response: ''\n",
      "\n",
      "INFO - Sending next command(3365): '2PR50\\r\\n'\n"
     ]
    },
    {
     "name": "stdout",
     "output_type": "stream",
     "text": [
      "780\n",
      "1\n"
     ]
    },
    {
     "name": "stderr",
     "output_type": "stream",
     "text": [
      "INFO - Motor 2: movement ceased. Continuing with command buffer.\n",
      "\n",
      "INFO - Channel: 1 position: 402.934570312\n",
      "INFO - Response: ''\n",
      "\n",
      "INFO - Sending next command(3366): '2PR50\\r\\n'\n"
     ]
    },
    {
     "name": "stdout",
     "output_type": "stream",
     "text": [
      "780\n",
      "1\n"
     ]
    },
    {
     "name": "stderr",
     "output_type": "stream",
     "text": [
      "INFO - Motor 2: movement ceased. Continuing with command buffer.\n",
      "\n",
      "INFO - Channel: 1 position: 403.330078125\n",
      "INFO - Response: ''\n",
      "\n",
      "INFO - Sending next command(3367): '2PR50\\r\\n'\n"
     ]
    },
    {
     "name": "stdout",
     "output_type": "stream",
     "text": [
      "780\n",
      "1\n"
     ]
    },
    {
     "name": "stderr",
     "output_type": "stream",
     "text": [
      "INFO - Motor 2: movement ceased. Continuing with command buffer.\n",
      "\n",
      "INFO - Channel: 1 position: 403.725585938\n",
      "INFO - Response: ''\n",
      "\n",
      "INFO - Sending next command(3368): '2PR50\\r\\n'\n"
     ]
    },
    {
     "name": "stdout",
     "output_type": "stream",
     "text": [
      "780\n",
      "1\n"
     ]
    },
    {
     "name": "stderr",
     "output_type": "stream",
     "text": [
      "INFO - Motor 2: movement ceased. Continuing with command buffer.\n",
      "\n",
      "INFO - Channel: 1 position: 404.165039062\n",
      "INFO - Response: ''\n",
      "\n",
      "INFO - Sending next command(3369): '2PR50\\r\\n'\n"
     ]
    },
    {
     "name": "stdout",
     "output_type": "stream",
     "text": [
      "780\n",
      "1\n"
     ]
    },
    {
     "name": "stderr",
     "output_type": "stream",
     "text": [
      "INFO - Motor 2: movement ceased. Continuing with command buffer.\n",
      "\n",
      "INFO - Channel: 1 position: 404.560546875\n",
      "INFO - Response: ''\n",
      "\n",
      "INFO - Sending next command(3370): '2PR50\\r\\n'\n"
     ]
    },
    {
     "name": "stdout",
     "output_type": "stream",
     "text": [
      "780\n",
      "1\n"
     ]
    },
    {
     "name": "stderr",
     "output_type": "stream",
     "text": [
      "INFO - Motor 2: movement ceased. Continuing with command buffer.\n",
      "\n",
      "INFO - Channel: 1 position: 404.956054688\n",
      "INFO - Response: ''\n",
      "\n",
      "INFO - Sending next command(3371): '2PR50\\r\\n'\n"
     ]
    },
    {
     "name": "stdout",
     "output_type": "stream",
     "text": [
      "780\n",
      "1\n"
     ]
    },
    {
     "name": "stderr",
     "output_type": "stream",
     "text": [
      "INFO - Motor 2: movement ceased. Continuing with command buffer.\n",
      "\n",
      "INFO - Channel: 1 position: 405.395507812\n",
      "INFO - Response: ''\n",
      "\n",
      "INFO - Sending next command(3372): '2PR50\\r\\n'\n"
     ]
    },
    {
     "name": "stdout",
     "output_type": "stream",
     "text": [
      "780\n",
      "1\n"
     ]
    },
    {
     "name": "stderr",
     "output_type": "stream",
     "text": [
      "INFO - Motor 2: movement ceased. Continuing with command buffer.\n",
      "\n",
      "INFO - Channel: 1 position: 405.791015625\n",
      "INFO - Response: ''\n",
      "\n",
      "INFO - Sending next command(3373): '2PR50\\r\\n'\n"
     ]
    },
    {
     "name": "stdout",
     "output_type": "stream",
     "text": [
      "780\n",
      "1\n"
     ]
    },
    {
     "name": "stderr",
     "output_type": "stream",
     "text": [
      "INFO - Motor 2: movement ceased. Continuing with command buffer.\n",
      "\n",
      "INFO - Channel: 1 position: 406.23046875\n",
      "INFO - Response: ''\n",
      "\n",
      "INFO - Sending next command(3374): '2PR50\\r\\n'\n"
     ]
    },
    {
     "name": "stdout",
     "output_type": "stream",
     "text": [
      "780\n",
      "1\n"
     ]
    },
    {
     "name": "stderr",
     "output_type": "stream",
     "text": [
      "INFO - Motor 2: movement ceased. Continuing with command buffer.\n",
      "\n",
      "INFO - Channel: 1 position: 406.669921875\n",
      "INFO - Response: ''\n",
      "\n",
      "INFO - Sending next command(3375): '2PR50\\r\\n'\n"
     ]
    },
    {
     "name": "stdout",
     "output_type": "stream",
     "text": [
      "780\n",
      "1\n"
     ]
    },
    {
     "name": "stderr",
     "output_type": "stream",
     "text": [
      "INFO - Motor 2: movement ceased. Continuing with command buffer.\n",
      "\n",
      "INFO - Channel: 1 position: 407.153320312\n",
      "INFO - Response: ''\n",
      "\n",
      "INFO - Sending next command(3376): '2PR50\\r\\n'\n"
     ]
    },
    {
     "name": "stdout",
     "output_type": "stream",
     "text": [
      "780\n",
      "1\n"
     ]
    },
    {
     "name": "stderr",
     "output_type": "stream",
     "text": [
      "INFO - Motor 2: movement ceased. Continuing with command buffer.\n",
      "\n",
      "INFO - Channel: 1 position: 407.680664062\n",
      "INFO - Response: ''\n",
      "\n",
      "INFO - Sending next command(3377): '2PR50\\r\\n'\n"
     ]
    },
    {
     "name": "stdout",
     "output_type": "stream",
     "text": [
      "780\n",
      "1\n"
     ]
    },
    {
     "name": "stderr",
     "output_type": "stream",
     "text": [
      "INFO - Motor 2: movement ceased. Continuing with command buffer.\n",
      "\n",
      "INFO - Channel: 1 position: 408.208007812\n",
      "INFO - Response: ''\n",
      "\n",
      "INFO - Sending next command(3378): '2PR50\\r\\n'\n"
     ]
    },
    {
     "name": "stdout",
     "output_type": "stream",
     "text": [
      "780\n",
      "1\n"
     ]
    },
    {
     "name": "stderr",
     "output_type": "stream",
     "text": [
      "INFO - Motor 2: movement ceased. Continuing with command buffer.\n",
      "\n",
      "INFO - Channel: 1 position: 408.735351562\n",
      "INFO - Response: ''\n",
      "\n",
      "INFO - Sending next command(3379): '2PR50\\r\\n'\n"
     ]
    },
    {
     "name": "stdout",
     "output_type": "stream",
     "text": [
      "780\n",
      "1\n"
     ]
    },
    {
     "name": "stderr",
     "output_type": "stream",
     "text": [
      "INFO - Motor 2: movement ceased. Continuing with command buffer.\n",
      "\n",
      "INFO - Channel: 1 position: 409.262695312\n"
     ]
    },
    {
     "name": "stdout",
     "output_type": "stream",
     "text": [
      "780\n",
      "1\n"
     ]
    }
   ],
   "source": [
    "test_steps=50\n",
    "\n",
    "for i in range(0,100):\n",
    "    mc.move_rel_steps(test_channel,test_steps)\n",
    "    new_position=mc.getPosition(test_channel)\n",
    "    positions.append(new_position)"
   ]
  },
  {
   "cell_type": "code",
   "execution_count": 286,
   "metadata": {
    "collapsed": false,
    "deletable": true,
    "editable": true
   },
   "outputs": [
    {
     "data": {
      "image/png": "[encoded data removed]",
      "text/plain": [
       "<matplotlib.figure.Figure at 0xe2e4c18>"
      ]
     },
     "metadata": {},
     "output_type": "display_data"
    },
    {
     "data": {
      "image/png": "[encoded data removed]",
      "text/plain": [
       "<matplotlib.figure.Figure at 0xa9dbef0>"
      ]
     },
     "metadata": {},
     "output_type": "display_data"
    }
   ],
   "source": [
    "AbsPositions=np.array(positions)\n",
    "slope=np.ediff1d(AbsPositions)/test_steps\n",
    "savefig=False\n",
    "# np.save('20180621_Encoder_Forward_Positions',AbsPositions)\n",
    "# np.save('20180621_Encoder_Forward_Slopes',slope)\n",
    "np.save('20180621_Encoder_Backward_Positions',AbsPositions)\n",
    "np.save('20180621_Encoder_Backward_Slopes',slope)\n",
    "\n",
    "# AbsPositions=np.load('20180621_Encoder_Forward_Positions.npy')\n",
    "# slope=np.load('20180621_Encoder_Forward_Slopes.npy')\n",
    "\n",
    "fig, ax = plt.subplots()\n",
    "ax.plot(AbsPositions, 'ro')\n",
    "ax.grid()\n",
    "ax.set_title('Encoder positions vs slipstick attempts')\n",
    "ax.set_ylabel('Degree',fontsize=16)\n",
    "ax.set_xlabel('Trial #',fontsize=16)\n",
    "if savefig:\n",
    "    plt.savefig('20180621_Encoder_Backward_Operation.png')\n",
    "\n",
    "fig, ax = plt.subplots()\n",
    "ax.plot(AbsPositions[1:],slope, 'ro')\n",
    "#ax.set_title('Encoder movement uniformity Vs Encoder Position \\n Backward operation')\n",
    "ax.set_title('Uniformity Vs Encoder Position \\n Forward operation')\n",
    "ax.set_ylabel('Degrees/step',fontsize=16)\n",
    "ax.set_xlabel('Encoder Positions(Deg)',fontsize=16)\n",
    "ax.set_ylim(0,0.055)\n",
    "ax.grid()\n",
    "if savefig:\n",
    "    plt.savefig('20180621_Encoder_Backward_Operation_slope.png')\n",
    "plt.show()\n",
    "\n"
   ]
  },
  {
   "cell_type": "code",
   "execution_count": 304,
   "metadata": {
    "collapsed": false
   },
   "outputs": [
    {
     "data": {
      "image/png": "[encoded data removed]",
      "text/plain": [
       "<matplotlib.figure.Figure at 0xac16908>"
      ]
     },
     "metadata": {},
     "output_type": "display_data"
    },
    {
     "data": {
      "image/png": "[encoded data removed]",
      "text/plain": [
       "<matplotlib.figure.Figure at 0xc2710b8>"
      ]
     },
     "metadata": {},
     "output_type": "display_data"
    }
   ],
   "source": [
    "savefig=True\n",
    "\n",
    "AbsPositions_Forward=np.load('20180621_Encoder_Forward_Positions.npy')\n",
    "slope_Forward=np.load('20180621_Encoder_Forward_Slopes.npy')\n",
    "\n",
    "AbsPositions_Backward=np.load('20180621_Encoder_Backward_Positions.npy')\n",
    "slope_Backward=np.load('20180621_Encoder_Backward_Slopes.npy')\n",
    "\n",
    "fig, ax = plt.subplots()\n",
    "ax.plot(AbsPositions_Forward,'ro',label='Forward')\n",
    "ax.plot(AbsPositions_Backward,'bo',label='Backward')\n",
    "ax.grid()\n",
    "ax.set_title('Encoder positions vs slipstick attempts')\n",
    "ax.set_ylabel('Degree',fontsize=16)\n",
    "ax.set_xlabel('Trial #',fontsize=16)\n",
    "ax.legend()\n",
    "if savefig:\n",
    "    plt.savefig('20180621_Encoder_testing.png')\n",
    "    plt.savefig('20180621_Encoder_testing.pdf')\n",
    "\n",
    "fig, ax = plt.subplots()\n",
    "ax.plot(AbsPositions_Forward[11:],slope_Forward[10:], 'ro',label='Forward')\n",
    "ax.plot(AbsPositions_Backward[1:],slope_Backward, 'bo',label='Backward')\n",
    "#ax.set_title('Encoder movement uniformity Vs Encoder Position \\n Backward operation')\n",
    "ax.set_title('Movement Uniformity Vs Encoder Position')\n",
    "ax.set_ylabel('Degrees/step',fontsize=16)\n",
    "ax.set_xlabel('Encoder Positions(Deg)',fontsize=16)\n",
    "ax.set_ylim(0,0.055)\n",
    "ax.legend()\n",
    "ax.grid()\n",
    "if savefig:\n",
    "    plt.savefig('20180621_Encoder_Uniformity.png')\n",
    "    plt.savefig('20180621_Encoder_Uniformity.pdf')\n",
    "plt.show()\n"
   ]
  },
  {
   "cell_type": "code",
   "execution_count": 261,
   "metadata": {
    "collapsed": false
   },
   "outputs": [
    {
     "data": {
      "text/plain": [
       "array([ 0.01669922,  0.02021484,  0.02636719,  0.03164062,  0.03779297,\n",
       "        0.04042969,  0.04306641,  0.04394531,  0.04306641,  0.04394531,\n",
       "        0.04394531,  0.04394531,  0.04394531,  0.04394531,  0.04394531,\n",
       "        0.04394531,  0.04482422,  0.04394531,  0.04482422,  0.04394531,\n",
       "        0.04394531,  0.04306641,  0.04306641,  0.04394531,  0.04306641,\n",
       "        0.04306641,  0.04306641,  0.04306641,  0.04394531,  0.04306641,\n",
       "        0.04306641,  0.04306641,  0.04306641,  0.04394531,  0.04306641,\n",
       "        0.04394531,  0.04482422,  0.04482422,  0.04482422,  0.04482422,\n",
       "        0.04482422,  0.04482422,  0.04482422,  0.04570312,  0.04570312,\n",
       "        0.04570312,  0.04482422,  0.04482422,  0.04482422,  0.04482422,\n",
       "        0.04482422,  0.04482422,  0.04482422,  0.04482422,  0.04570312,\n",
       "        0.04570312,  0.04482422,  0.04570312,  0.04658203,  0.04658203,\n",
       "        0.04746094,  0.04746094,  0.04746094,  0.04833984,  0.04833984,\n",
       "        0.04833984,  0.04921875,  0.04833984,  0.05009766,  0.05097656,\n",
       "        0.05185547,  0.05185547,  0.05097656,  0.05097656,  0.05097656,\n",
       "        0.05009766,  0.05097656,  0.05009766,  0.05097656,  0.05185547,\n",
       "        0.05009766,  0.05097656,  0.05097656,  0.05009766,  0.05097656,\n",
       "        0.04921875,  0.05009766,  0.04921875,  0.04833984,  0.04746094,\n",
       "        0.04833984,  0.04833984,  0.04833984,  0.04833984,  0.04833984,\n",
       "        0.04746094,  0.04658203,  0.04746094,  0.04746094,  0.04570312,\n",
       "        0.04482422,  0.04394531,  0.04306641,  0.04394531,  0.0421875 ,\n",
       "        0.04394531,  0.04394531,  0.04306641,  0.04306641,  0.04306641,\n",
       "        0.0421875 ,  0.04306641,  0.04306641,  0.04306641,  0.04394531,\n",
       "        0.04394531,  0.04482422,  0.04570312,  0.04482422,  0.04482422,\n",
       "        0.04394531,  0.04394531,  0.04394531,  0.04394531,  0.04306641,\n",
       "        0.04394531,  0.04306641,  0.04306641,  0.04394531,  0.04482422,\n",
       "        0.04570312,  0.04482422,  0.04570312,  0.04658203,  0.04658203,\n",
       "        0.04746094,  0.04746094,  0.04921875,  0.04833984,  0.04921875,\n",
       "        0.04921875,  0.04921875,  0.05009766,  0.05009766,  0.04833984,\n",
       "        0.04833984,  0.04833984,  0.04833984,  0.04833984,  0.04833984,\n",
       "        0.04921875,  0.04921875,  0.05009766,  0.04921875,  0.04921875,\n",
       "        0.05009766,  0.05009766,  0.05009766,  0.04921875,  0.05009766,\n",
       "        0.05009766,  0.05009766,  0.05009766,  0.04921875,  0.04921875,\n",
       "        0.04921875,  0.04833984,  0.04921875,  0.04833984,  0.04921875,\n",
       "        0.04746094,  0.04833984,  0.04833984,  0.04921875,  0.04746094,\n",
       "        0.04746094,  0.04833984,  0.04746094,  0.04746094,  0.04658203,\n",
       "        0.04658203,  0.04658203,  0.04658203,  0.04658203,  0.04570312,\n",
       "        0.04570312,  0.04570312,  0.04482422,  0.04482422,  0.04482422,\n",
       "        0.04394531,  0.04394531,  0.04306641,  0.04306641,  0.04394531,\n",
       "        0.04306641,  0.04394531,  0.04306641,  0.04306641,  0.04394531,\n",
       "        0.04394531,  0.04306641,  0.04394531,  0.0421875 ,  0.04306641,\n",
       "        0.04130859,  0.04306641,  0.0421875 ,  0.0421875 ,  0.04306641,\n",
       "        0.04306641,  0.04482422,  0.04482422,  0.04306641,  0.04394531,\n",
       "        0.04394531,  0.04306641,  0.04394531,  0.04394531,  0.04482422,\n",
       "        0.04482422,  0.04482422,  0.04482422,  0.04570312,  0.04658203,\n",
       "        0.04658203,  0.04746094,  0.04746094,  0.04658203,  0.04658203,\n",
       "        0.04570312,  0.04658203,  0.04570312,  0.04482422,  0.04482422,\n",
       "        0.04482422,  0.04658203,  0.04658203,  0.04746094,  0.04746094,\n",
       "        0.04833984,  0.04921875,  0.05009766,  0.05009766,  0.04921875,\n",
       "        0.05009766,  0.04921875,  0.04921875,  0.04921875,  0.04921875,\n",
       "        0.05009766,  0.04921875,  0.05009766,  0.04921875,  0.04921875,\n",
       "        0.05009766,  0.04833984,  0.04921875,  0.04921875,  0.04833984,\n",
       "        0.04921875,  0.04833984,  0.04921875,  0.04921875,  0.04921875,\n",
       "        0.04921875,  0.04833984,  0.04746094,  0.04746094,  0.04746094,\n",
       "        0.04658203,  0.04658203,  0.04658203,  0.04658203,  0.04658203,\n",
       "        0.04746094,  0.04746094,  0.04658203,  0.04746094,  0.04658203,\n",
       "        0.04746094,  0.04746094,  0.04658203,  0.04658203,  0.04658203,\n",
       "        0.04658203,  0.04658203,  0.04746094,  0.04746094,  0.04746094,\n",
       "        0.04833984,  0.04746094,  0.04746094,  0.04746094,  0.04746094,\n",
       "        0.04658203,  0.04746094,  0.04570312,  0.04658203,  0.04570312,\n",
       "        0.04570312,  0.04658203,  0.04570312,  0.04746094,  0.04658203,\n",
       "        0.04658203,  0.04746094,  0.04658203,  0.04746094,  0.04746094,\n",
       "        0.04833984,  0.04746094,  0.04833984,  0.04833984,  0.04833984,\n",
       "        0.04833984,  0.04921875,  0.04921875,  0.04921875,  0.04833984,\n",
       "        0.04921875,  0.04833984,  0.04921875,  0.04833984,  0.04921875,\n",
       "        0.04921875,  0.04921875,  0.05009766,  0.04921875,  0.04921875,\n",
       "        0.04921875,  0.04921875,  0.04921875,  0.04921875,  0.04921875,\n",
       "        0.05009766,  0.05009766,  0.05097656,  0.05097656,  0.05185547])"
      ]
     },
     "execution_count": 261,
     "metadata": {},
     "output_type": "execute_result"
    }
   ],
   "source": [
    "\n",
    "\n",
    "slope"
   ]
  },
  {
   "cell_type": "code",
   "execution_count": null,
   "metadata": {
    "collapsed": false,
    "deletable": true,
    "editable": true
   },
   "outputs": [],
   "source": [
    "print max(positions)\n",
    "print min(positions)"
   ]
  },
  {
   "cell_type": "markdown",
   "metadata": {
    "deletable": true,
    "editable": true
   },
   "source": [
    "Closed-loop movement test"
   ]
  },
  {
   "cell_type": "code",
   "execution_count": 42,
   "metadata": {
    "collapsed": false,
    "deletable": true,
    "editable": true
   },
   "outputs": [
    {
     "name": "stderr",
     "output_type": "stream",
     "text": [
      "INFO - Channel: 0 position: -1587.34863281\n"
     ]
    },
    {
     "name": "stdout",
     "output_type": "stream",
     "text": [
      "780\n",
      "0\n"
     ]
    }
   ],
   "source": [
    "positions=[]\n",
    "positions.append(mc.getPosition(0))"
   ]
  },
  {
   "cell_type": "code",
   "execution_count": 40,
   "metadata": {
    "collapsed": false,
    "deletable": true,
    "editable": true
   },
   "outputs": [
    {
     "name": "stderr",
     "output_type": "stream",
     "text": [
      "INFO - Channel: 0 position: -1456.69921875\n",
      "INFO - avg_steps: -11464.0625\n",
      "INFO - Need to go negative. Current position -1456.69921875 DEG. Setpoint -1600 DEG. Steps to be taken: -12464\n",
      "INFO - Response: ''\n",
      "\n",
      "INFO - Sending next command(292): '1PR-12464\\r\\n'\n"
     ]
    },
    {
     "name": "stdout",
     "output_type": "stream",
     "text": [
      "780\n",
      "0\n"
     ]
    },
    {
     "name": "stderr",
     "output_type": "stream",
     "text": [
      "INFO - Motor 1: movement ceased. Continuing with command buffer.\n",
      "\n",
      "INFO - Channel: 0 position: -1729.29199219\n",
      "INFO - Response: ''\n",
      "\n",
      "INFO - Sending next command(293): '1PR7240\\r\\n'\n"
     ]
    },
    {
     "name": "stdout",
     "output_type": "stream",
     "text": [
      "780\n",
      "0\n"
     ]
    },
    {
     "name": "stderr",
     "output_type": "stream",
     "text": [
      "INFO - Motor 1: movement ceased. Continuing with command buffer.\n",
      "\n",
      "INFO - Channel: 0 position: -1587.48046875\n",
      "ERROR - Current position -1587.48046875 deg. Setpoint exceeded by 12.51953125 deg\n",
      "INFO - Channel: 0 position: -1587.48046875\n"
     ]
    },
    {
     "name": "stdout",
     "output_type": "stream",
     "text": [
      "780\n",
      "0\n",
      "780\n",
      "0\n"
     ]
    }
   ],
   "source": [
    "mc.move_abs(0,-1600)\n",
    "new_position=mc.getPosition(0)\n",
    "positions.append(new_position)"
   ]
  },
  {
   "cell_type": "code",
   "execution_count": 6,
   "metadata": {
    "collapsed": false,
    "deletable": true,
    "editable": true
   },
   "outputs": [
    {
     "data": {
      "text/plain": [
       "[-97.8662109375, -99]"
      ]
     },
     "execution_count": 6,
     "metadata": {},
     "output_type": "execute_result"
    }
   ],
   "source": [
    "positions"
   ]
  },
  {
   "cell_type": "markdown",
   "metadata": {
    "deletable": true,
    "editable": true
   },
   "source": [
    "Continuous position monitoring"
   ]
  },
  {
   "cell_type": "code",
   "execution_count": 4,
   "metadata": {
    "collapsed": false,
    "deletable": true,
    "editable": true
   },
   "outputs": [
    {
     "name": "stderr",
     "output_type": "stream",
     "text": [
      "INFO - Channel: 0 position: -6063\n",
      "INFO - Channel: 1 position: 0\n",
      "INFO - Channel: 2 position: 0\n",
      "INFO - Channel: 3 position: 0\n"
     ]
    },
    {
     "name": "stdout",
     "output_type": "stream",
     "text": [
      "780\n",
      "0\n",
      "pos:-6063\n",
      "780\n",
      "1\n",
      "pos:0\n",
      "480\n",
      "2\n",
      "pos:0\n",
      "480\n",
      "3\n",
      "pos:0\n"
     ]
    },
    {
     "name": "stderr",
     "output_type": "stream",
     "text": [
      "INFO - Channel: 0 position: -6063\n",
      "INFO - Channel: 1 position: 0\n",
      "INFO - Channel: 2 position: 0\n",
      "INFO - Channel: 3 position: 0\n"
     ]
    },
    {
     "name": "stdout",
     "output_type": "stream",
     "text": [
      "780\n",
      "0\n",
      "pos:-6063\n",
      "780\n",
      "1\n",
      "pos:0\n",
      "480\n",
      "2\n",
      "pos:0\n",
      "480\n",
      "3\n",
      "pos:0\n"
     ]
    },
    {
     "name": "stderr",
     "output_type": "stream",
     "text": [
      "INFO - Channel: 0 position: -6063\n",
      "INFO - Channel: 1 position: 0\n",
      "INFO - Channel: 2 position: 0\n",
      "INFO - Channel: 3 position: 0\n"
     ]
    },
    {
     "name": "stdout",
     "output_type": "stream",
     "text": [
      "780\n",
      "0\n",
      "pos:-6063\n",
      "780\n",
      "1\n",
      "pos:0\n",
      "480\n",
      "2\n",
      "pos:0\n",
      "480\n",
      "3\n",
      "pos:0\n"
     ]
    },
    {
     "name": "stderr",
     "output_type": "stream",
     "text": [
      "INFO - Channel: 0 position: -6063\n",
      "INFO - Channel: 1 position: 0\n",
      "INFO - Channel: 2 position: 0\n",
      "INFO - Channel: 3 position: 0\n"
     ]
    },
    {
     "name": "stdout",
     "output_type": "stream",
     "text": [
      "780\n",
      "0\n",
      "pos:-6063\n",
      "780\n",
      "1\n",
      "pos:0\n",
      "480\n",
      "2\n",
      "pos:0\n",
      "480\n",
      "3\n",
      "pos:0\n"
     ]
    },
    {
     "name": "stderr",
     "output_type": "stream",
     "text": [
      "INFO - Channel: 0 position: -6063\n",
      "INFO - Channel: 1 position: 0\n",
      "INFO - Channel: 2 position: 0\n",
      "INFO - Channel: 3 position: 0\n"
     ]
    },
    {
     "name": "stdout",
     "output_type": "stream",
     "text": [
      "780\n",
      "0\n",
      "pos:-6063\n",
      "780\n",
      "1\n",
      "pos:0\n",
      "480\n",
      "2\n",
      "pos:0\n",
      "480\n",
      "3\n",
      "pos:0\n"
     ]
    },
    {
     "name": "stderr",
     "output_type": "stream",
     "text": [
      "INFO - Channel: 0 position: -6063\n",
      "INFO - Channel: 1 position: 0\n",
      "INFO - Channel: 2 position: 0\n",
      "INFO - Channel: 3 position: 0\n"
     ]
    },
    {
     "name": "stdout",
     "output_type": "stream",
     "text": [
      "780\n",
      "0\n",
      "pos:-6063\n",
      "780\n",
      "1\n",
      "pos:0\n",
      "480\n",
      "2\n",
      "pos:0\n",
      "480\n",
      "3\n",
      "pos:0\n"
     ]
    },
    {
     "name": "stderr",
     "output_type": "stream",
     "text": [
      "INFO - Channel: 0 position: -6063\n",
      "INFO - Channel: 1 position: 0\n",
      "INFO - Channel: 2 position: 0\n",
      "INFO - Channel: 3 position: 0\n"
     ]
    },
    {
     "name": "stdout",
     "output_type": "stream",
     "text": [
      "780\n",
      "0\n",
      "pos:-6063\n",
      "780\n",
      "1\n",
      "pos:0\n",
      "480\n",
      "2\n",
      "pos:0\n",
      "480\n",
      "3\n",
      "pos:0\n"
     ]
    },
    {
     "name": "stderr",
     "output_type": "stream",
     "text": [
      "INFO - Channel: 0 position: -6066\n",
      "INFO - Channel: 1 position: 0\n",
      "INFO - Channel: 2 position: 0\n",
      "INFO - Channel: 3 position: 0\n"
     ]
    },
    {
     "name": "stdout",
     "output_type": "stream",
     "text": [
      "780\n",
      "0\n",
      "pos:-6066\n",
      "780\n",
      "1\n",
      "pos:0\n",
      "480\n",
      "2\n",
      "pos:0\n",
      "480\n",
      "3\n",
      "pos:0\n"
     ]
    },
    {
     "name": "stderr",
     "output_type": "stream",
     "text": [
      "INFO - Channel: 0 position: -6457\n",
      "INFO - Channel: 1 position: 0\n",
      "INFO - Channel: 2 position: 0\n",
      "INFO - Channel: 3 position: 0\n"
     ]
    },
    {
     "name": "stdout",
     "output_type": "stream",
     "text": [
      "780\n",
      "0\n",
      "pos:-6457\n",
      "780\n",
      "1\n",
      "pos:0\n",
      "480\n",
      "2\n",
      "pos:0\n",
      "480\n",
      "3\n",
      "pos:0\n"
     ]
    },
    {
     "name": "stderr",
     "output_type": "stream",
     "text": [
      "INFO - Channel: 0 position: -7156\n",
      "INFO - Channel: 1 position: 0\n",
      "INFO - Channel: 2 position: 0\n",
      "INFO - Channel: 3 position: 0\n"
     ]
    },
    {
     "name": "stdout",
     "output_type": "stream",
     "text": [
      "780\n",
      "0\n",
      "pos:-7156\n",
      "780\n",
      "1\n",
      "pos:0\n",
      "480\n",
      "2\n",
      "pos:0\n",
      "480\n",
      "3\n",
      "pos:0\n"
     ]
    },
    {
     "name": "stderr",
     "output_type": "stream",
     "text": [
      "INFO - Channel: 0 position: -7841\n",
      "INFO - Channel: 1 position: 0\n",
      "INFO - Channel: 2 position: 0\n",
      "INFO - Channel: 3 position: 0\n"
     ]
    },
    {
     "name": "stdout",
     "output_type": "stream",
     "text": [
      "780\n",
      "0\n",
      "pos:-7841\n",
      "780\n",
      "1\n",
      "pos:0\n",
      "480\n",
      "2\n",
      "pos:0\n",
      "480\n",
      "3\n",
      "pos:0\n"
     ]
    },
    {
     "name": "stderr",
     "output_type": "stream",
     "text": [
      "INFO - Channel: 0 position: -8449\n",
      "INFO - Channel: 1 position: 0\n",
      "INFO - Channel: 2 position: 0\n",
      "INFO - Channel: 3 position: 0\n"
     ]
    },
    {
     "name": "stdout",
     "output_type": "stream",
     "text": [
      "780\n",
      "0\n",
      "pos:-8449\n",
      "780\n",
      "1\n",
      "pos:0\n",
      "480\n",
      "2\n",
      "pos:0\n",
      "480\n",
      "3\n",
      "pos:0\n"
     ]
    },
    {
     "name": "stderr",
     "output_type": "stream",
     "text": [
      "INFO - Channel: 0 position: -9597\n",
      "INFO - Channel: 1 position: 0\n",
      "INFO - Channel: 2 position: 0\n",
      "INFO - Channel: 3 position: 0\n"
     ]
    },
    {
     "name": "stdout",
     "output_type": "stream",
     "text": [
      "780\n",
      "0\n",
      "pos:-9597\n",
      "780\n",
      "1\n",
      "pos:0\n",
      "480\n",
      "2\n",
      "pos:0\n",
      "480\n",
      "3\n",
      "pos:0\n"
     ]
    },
    {
     "name": "stderr",
     "output_type": "stream",
     "text": [
      "INFO - Channel: 0 position: -11384\n",
      "INFO - Channel: 1 position: 0\n",
      "INFO - Channel: 2 position: 0\n",
      "INFO - Channel: 3 position: 0\n"
     ]
    },
    {
     "name": "stdout",
     "output_type": "stream",
     "text": [
      "780\n",
      "0\n",
      "pos:-11384\n",
      "780\n",
      "1\n",
      "pos:0\n",
      "480\n",
      "2\n",
      "pos:0\n",
      "480\n",
      "3\n",
      "pos:0\n"
     ]
    },
    {
     "name": "stderr",
     "output_type": "stream",
     "text": [
      "INFO - Channel: 0 position: -11636\n",
      "INFO - Channel: 1 position: 0\n",
      "INFO - Channel: 2 position: 0\n",
      "INFO - Channel: 3 position: 0\n"
     ]
    },
    {
     "name": "stdout",
     "output_type": "stream",
     "text": [
      "780\n",
      "0\n",
      "pos:-11636\n",
      "780\n",
      "1\n",
      "pos:0\n",
      "480\n",
      "2\n",
      "pos:0\n",
      "480\n",
      "3\n",
      "pos:0\n"
     ]
    },
    {
     "name": "stderr",
     "output_type": "stream",
     "text": [
      "INFO - Channel: 0 position: -11819\n",
      "INFO - Channel: 1 position: 0\n",
      "INFO - Channel: 2 position: 0\n",
      "INFO - Channel: 3 position: 0\n"
     ]
    },
    {
     "name": "stdout",
     "output_type": "stream",
     "text": [
      "780\n",
      "0\n",
      "pos:-11819\n",
      "780\n",
      "1\n",
      "pos:0\n",
      "480\n",
      "2\n",
      "pos:0\n",
      "480\n",
      "3\n",
      "pos:0\n"
     ]
    },
    {
     "name": "stderr",
     "output_type": "stream",
     "text": [
      "INFO - Channel: 0 position: -11819\n",
      "INFO - Channel: 1 position: 0\n",
      "INFO - Channel: 2 position: 0\n",
      "INFO - Channel: 3 position: 0\n"
     ]
    },
    {
     "name": "stdout",
     "output_type": "stream",
     "text": [
      "780\n",
      "0\n",
      "pos:-11819\n",
      "780\n",
      "1\n",
      "pos:0\n",
      "480\n",
      "2\n",
      "pos:0\n",
      "480\n",
      "3\n",
      "pos:0\n"
     ]
    },
    {
     "name": "stderr",
     "output_type": "stream",
     "text": [
      "INFO - Channel: 0 position: -11819\n",
      "INFO - Channel: 1 position: 0\n",
      "INFO - Channel: 2 position: 0\n",
      "INFO - Channel: 3 position: 0\n"
     ]
    },
    {
     "name": "stdout",
     "output_type": "stream",
     "text": [
      "780\n",
      "0\n",
      "pos:-11819\n",
      "780\n",
      "1\n",
      "pos:0\n",
      "480\n",
      "2\n",
      "pos:0\n",
      "480\n",
      "3\n",
      "pos:0\n"
     ]
    },
    {
     "name": "stderr",
     "output_type": "stream",
     "text": [
      "INFO - Channel: 0 position: -11808\n",
      "INFO - Channel: 1 position: 0\n",
      "INFO - Channel: 2 position: 0\n",
      "INFO - Channel: 3 position: 0\n"
     ]
    },
    {
     "name": "stdout",
     "output_type": "stream",
     "text": [
      "780\n",
      "0\n",
      "pos:-11808\n",
      "780\n",
      "1\n",
      "pos:0\n",
      "480\n",
      "2\n",
      "pos:0\n",
      "480\n",
      "3\n",
      "pos:0\n"
     ]
    },
    {
     "name": "stderr",
     "output_type": "stream",
     "text": [
      "INFO - Channel: 0 position: -13755\n",
      "INFO - Channel: 1 position: 0\n",
      "INFO - Channel: 2 position: 0\n",
      "INFO - Channel: 3 position: 0\n"
     ]
    },
    {
     "name": "stdout",
     "output_type": "stream",
     "text": [
      "780\n",
      "0\n",
      "pos:-13755\n",
      "780\n",
      "1\n",
      "pos:0\n",
      "480\n",
      "2\n",
      "pos:0\n",
      "480\n",
      "3\n",
      "pos:0\n"
     ]
    },
    {
     "name": "stderr",
     "output_type": "stream",
     "text": [
      "INFO - Channel: 0 position: -14630\n",
      "INFO - Channel: 1 position: 0\n",
      "INFO - Channel: 2 position: 0\n",
      "INFO - Channel: 3 position: 0\n"
     ]
    },
    {
     "name": "stdout",
     "output_type": "stream",
     "text": [
      "780\n",
      "0\n",
      "pos:-14630\n",
      "780\n",
      "1\n",
      "pos:0\n",
      "480\n",
      "2\n",
      "pos:0\n",
      "480\n",
      "3\n",
      "pos:0\n"
     ]
    },
    {
     "name": "stderr",
     "output_type": "stream",
     "text": [
      "INFO - Channel: 0 position: -15573\n",
      "INFO - Channel: 1 position: 0\n",
      "INFO - Channel: 2 position: 0\n",
      "INFO - Channel: 3 position: 0\n"
     ]
    },
    {
     "name": "stdout",
     "output_type": "stream",
     "text": [
      "780\n",
      "0\n",
      "pos:-15573\n",
      "780\n",
      "1\n",
      "pos:0\n",
      "480\n",
      "2\n",
      "pos:0\n",
      "480\n",
      "3\n",
      "pos:0\n"
     ]
    },
    {
     "name": "stderr",
     "output_type": "stream",
     "text": [
      "INFO - Channel: 0 position: -16363\n",
      "INFO - Channel: 1 position: 0\n",
      "INFO - Channel: 2 position: 0\n",
      "INFO - Channel: 3 position: 0\n"
     ]
    },
    {
     "name": "stdout",
     "output_type": "stream",
     "text": [
      "780\n",
      "0\n",
      "pos:-16363\n",
      "780\n",
      "1\n",
      "pos:0\n",
      "480\n",
      "2\n",
      "pos:0\n",
      "480\n",
      "3\n",
      "pos:0\n"
     ]
    },
    {
     "name": "stderr",
     "output_type": "stream",
     "text": [
      "INFO - Channel: 0 position: -17017\n",
      "INFO - Channel: 1 position: 0\n",
      "INFO - Channel: 2 position: 0\n",
      "INFO - Channel: 3 position: 0\n"
     ]
    },
    {
     "name": "stdout",
     "output_type": "stream",
     "text": [
      "780\n",
      "0\n",
      "pos:-17017\n",
      "780\n",
      "1\n",
      "pos:0\n",
      "480\n",
      "2\n",
      "pos:0\n",
      "480\n",
      "3\n",
      "pos:0\n"
     ]
    },
    {
     "name": "stderr",
     "output_type": "stream",
     "text": [
      "INFO - Channel: 0 position: -18972\n",
      "INFO - Channel: 1 position: 0\n",
      "INFO - Channel: 2 position: 0\n",
      "INFO - Channel: 3 position: 0\n"
     ]
    },
    {
     "name": "stdout",
     "output_type": "stream",
     "text": [
      "780\n",
      "0\n",
      "pos:-18972\n",
      "780\n",
      "1\n",
      "pos:0\n",
      "480\n",
      "2\n",
      "pos:0\n",
      "480\n",
      "3\n",
      "pos:0\n"
     ]
    },
    {
     "name": "stderr",
     "output_type": "stream",
     "text": [
      "INFO - Channel: 0 position: -21708\n",
      "INFO - Channel: 1 position: 0\n",
      "INFO - Channel: 2 position: 0\n",
      "INFO - Channel: 3 position: 0\n"
     ]
    },
    {
     "name": "stdout",
     "output_type": "stream",
     "text": [
      "780\n",
      "0\n",
      "pos:-21708\n",
      "780\n",
      "1\n",
      "pos:0\n",
      "480\n",
      "2\n",
      "pos:0\n",
      "480\n",
      "3\n",
      "pos:0\n"
     ]
    },
    {
     "name": "stderr",
     "output_type": "stream",
     "text": [
      "INFO - Channel: 0 position: -23763\n",
      "INFO - Channel: 1 position: 0\n",
      "INFO - Channel: 2 position: 0\n",
      "INFO - Channel: 3 position: 0\n"
     ]
    },
    {
     "name": "stdout",
     "output_type": "stream",
     "text": [
      "780\n",
      "0\n",
      "pos:-23763\n",
      "780\n",
      "1\n",
      "pos:0\n",
      "480\n",
      "2\n",
      "pos:0\n",
      "480\n",
      "3\n",
      "pos:0\n"
     ]
    },
    {
     "name": "stderr",
     "output_type": "stream",
     "text": [
      "INFO - Channel: 0 position: -23693\n",
      "INFO - Channel: 1 position: 0\n",
      "INFO - Channel: 2 position: 0\n",
      "INFO - Channel: 3 position: 0\n"
     ]
    },
    {
     "name": "stdout",
     "output_type": "stream",
     "text": [
      "780\n",
      "0\n",
      "pos:-23693\n",
      "780\n",
      "1\n",
      "pos:0\n",
      "480\n",
      "2\n",
      "pos:0\n",
      "480\n",
      "3\n",
      "pos:0\n"
     ]
    },
    {
     "name": "stderr",
     "output_type": "stream",
     "text": [
      "INFO - Channel: 0 position: -23869\n",
      "INFO - Channel: 1 position: 0\n",
      "INFO - Channel: 2 position: 0\n",
      "INFO - Channel: 3 position: 0\n"
     ]
    },
    {
     "name": "stdout",
     "output_type": "stream",
     "text": [
      "780\n",
      "0\n",
      "pos:-23869\n",
      "780\n",
      "1\n",
      "pos:0\n",
      "480\n",
      "2\n",
      "pos:0\n",
      "480\n",
      "3\n",
      "pos:0\n"
     ]
    },
    {
     "name": "stderr",
     "output_type": "stream",
     "text": [
      "INFO - Channel: 0 position: -24139\n",
      "INFO - Channel: 1 position: 0\n",
      "INFO - Channel: 2 position: 0\n",
      "INFO - Channel: 3 position: 0\n"
     ]
    },
    {
     "name": "stdout",
     "output_type": "stream",
     "text": [
      "780\n",
      "0\n",
      "pos:-24139\n",
      "780\n",
      "1\n",
      "pos:0\n",
      "480\n",
      "2\n",
      "pos:0\n",
      "480\n",
      "3\n",
      "pos:0\n"
     ]
    },
    {
     "name": "stderr",
     "output_type": "stream",
     "text": [
      "INFO - Channel: 0 position: -28014\n",
      "INFO - Channel: 1 position: 0\n",
      "INFO - Channel: 2 position: 0\n",
      "INFO - Channel: 3 position: 0\n"
     ]
    },
    {
     "name": "stdout",
     "output_type": "stream",
     "text": [
      "780\n",
      "0\n",
      "pos:-28014\n",
      "780\n",
      "1\n",
      "pos:0\n",
      "480\n",
      "2\n",
      "pos:0\n",
      "480\n",
      "3\n",
      "pos:0\n"
     ]
    },
    {
     "name": "stderr",
     "output_type": "stream",
     "text": [
      "INFO - Channel: 0 position: -29202\n",
      "INFO - Channel: 1 position: 0\n",
      "INFO - Channel: 2 position: 0\n",
      "INFO - Channel: 3 position: 0\n"
     ]
    },
    {
     "name": "stdout",
     "output_type": "stream",
     "text": [
      "780\n",
      "0\n",
      "pos:-29202\n",
      "780\n",
      "1\n",
      "pos:0\n",
      "480\n",
      "2\n",
      "pos:0\n",
      "480\n",
      "3\n",
      "pos:0\n"
     ]
    },
    {
     "name": "stderr",
     "output_type": "stream",
     "text": [
      "INFO - Channel: 0 position: -31040\n",
      "INFO - Channel: 1 position: 0\n",
      "INFO - Channel: 2 position: 0\n",
      "INFO - Channel: 3 position: 0\n"
     ]
    },
    {
     "name": "stdout",
     "output_type": "stream",
     "text": [
      "780\n",
      "0\n",
      "pos:-31040\n",
      "780\n",
      "1\n",
      "pos:0\n",
      "480\n",
      "2\n",
      "pos:0\n",
      "480\n",
      "3\n",
      "pos:0\n"
     ]
    },
    {
     "name": "stderr",
     "output_type": "stream",
     "text": [
      "INFO - Channel: 0 position: -31033\n",
      "INFO - Channel: 1 position: 0\n",
      "INFO - Channel: 2 position: 0\n",
      "INFO - Channel: 3 position: 0\n"
     ]
    },
    {
     "name": "stdout",
     "output_type": "stream",
     "text": [
      "780\n",
      "0\n",
      "pos:-31033\n",
      "780\n",
      "1\n",
      "pos:0\n",
      "480\n",
      "2\n",
      "pos:0\n",
      "480\n",
      "3\n",
      "pos:0\n"
     ]
    },
    {
     "name": "stderr",
     "output_type": "stream",
     "text": [
      "INFO - Channel: 0 position: -31257\n",
      "INFO - Channel: 1 position: 0\n",
      "INFO - Channel: 2 position: 0\n",
      "INFO - Channel: 3 position: 0\n"
     ]
    },
    {
     "name": "stdout",
     "output_type": "stream",
     "text": [
      "780\n",
      "0\n",
      "pos:-31257\n",
      "780\n",
      "1\n",
      "pos:0\n",
      "480\n",
      "2\n",
      "pos:0\n",
      "480\n",
      "3\n",
      "pos:0\n"
     ]
    },
    {
     "name": "stderr",
     "output_type": "stream",
     "text": [
      "INFO - Channel: 0 position: -37068\n",
      "INFO - Channel: 1 position: 0\n",
      "INFO - Channel: 2 position: 0\n",
      "INFO - Channel: 3 position: 0\n"
     ]
    },
    {
     "name": "stdout",
     "output_type": "stream",
     "text": [
      "780\n",
      "0\n",
      "pos:-37068\n",
      "780\n",
      "1\n",
      "pos:0\n",
      "480\n",
      "2\n",
      "pos:0\n",
      "480\n",
      "3\n",
      "pos:0\n"
     ]
    },
    {
     "name": "stderr",
     "output_type": "stream",
     "text": [
      "INFO - Channel: 0 position: -37018\n",
      "INFO - Channel: 1 position: 0\n",
      "INFO - Channel: 2 position: 0\n",
      "INFO - Channel: 3 position: 0\n"
     ]
    },
    {
     "name": "stdout",
     "output_type": "stream",
     "text": [
      "780\n",
      "0\n",
      "pos:-37018\n",
      "780\n",
      "1\n",
      "pos:0\n",
      "480\n",
      "2\n",
      "pos:0\n",
      "480\n",
      "3\n",
      "pos:0\n"
     ]
    },
    {
     "name": "stderr",
     "output_type": "stream",
     "text": [
      "INFO - Channel: 0 position: -36813\n",
      "INFO - Channel: 1 position: 0\n",
      "INFO - Channel: 2 position: 0\n",
      "INFO - Channel: 3 position: 0\n"
     ]
    },
    {
     "name": "stdout",
     "output_type": "stream",
     "text": [
      "780\n",
      "0\n",
      "pos:-36813\n",
      "780\n",
      "1\n",
      "pos:0\n",
      "480\n",
      "2\n",
      "pos:0\n",
      "480\n",
      "3\n",
      "pos:0\n"
     ]
    },
    {
     "name": "stderr",
     "output_type": "stream",
     "text": [
      "INFO - Channel: 0 position: -36839\n",
      "INFO - Channel: 1 position: 0\n",
      "INFO - Channel: 2 position: 0\n",
      "INFO - Channel: 3 position: 0\n"
     ]
    },
    {
     "name": "stdout",
     "output_type": "stream",
     "text": [
      "780\n",
      "0\n",
      "pos:-36839\n",
      "780\n",
      "1\n",
      "pos:0\n",
      "480\n",
      "2\n",
      "pos:0\n",
      "480\n",
      "3\n",
      "pos:0\n"
     ]
    },
    {
     "name": "stderr",
     "output_type": "stream",
     "text": [
      "INFO - Channel: 0 position: -36839\n",
      "INFO - Channel: 1 position: 0\n",
      "INFO - Channel: 2 position: 0\n",
      "INFO - Channel: 3 position: 0\n"
     ]
    },
    {
     "name": "stdout",
     "output_type": "stream",
     "text": [
      "780\n",
      "0\n",
      "pos:-36839\n",
      "780\n",
      "1\n",
      "pos:0\n",
      "480\n",
      "2\n",
      "pos:0\n",
      "480\n",
      "3\n",
      "pos:0\n"
     ]
    },
    {
     "name": "stderr",
     "output_type": "stream",
     "text": [
      "INFO - Channel: 0 position: -36839\n",
      "INFO - Channel: 1 position: 0\n",
      "INFO - Channel: 2 position: 0\n",
      "INFO - Channel: 3 position: 0\n"
     ]
    },
    {
     "name": "stdout",
     "output_type": "stream",
     "text": [
      "780\n",
      "0\n",
      "pos:-36839\n",
      "780\n",
      "1\n",
      "pos:0\n",
      "480\n",
      "2\n",
      "pos:0\n",
      "480\n",
      "3\n",
      "pos:0\n"
     ]
    },
    {
     "name": "stderr",
     "output_type": "stream",
     "text": [
      "INFO - Channel: 0 position: -37078\n",
      "INFO - Channel: 1 position: 0\n",
      "INFO - Channel: 2 position: 0\n",
      "INFO - Channel: 3 position: 0\n"
     ]
    },
    {
     "name": "stdout",
     "output_type": "stream",
     "text": [
      "780\n",
      "0\n",
      "pos:-37078\n",
      "780\n",
      "1\n",
      "pos:0\n",
      "480\n",
      "2\n",
      "pos:0\n",
      "480\n",
      "3\n",
      "pos:0\n"
     ]
    },
    {
     "name": "stderr",
     "output_type": "stream",
     "text": [
      "INFO - Channel: 0 position: -38142\n",
      "INFO - Channel: 1 position: 0\n",
      "INFO - Channel: 2 position: 0\n",
      "INFO - Channel: 3 position: 0\n"
     ]
    },
    {
     "name": "stdout",
     "output_type": "stream",
     "text": [
      "780\n",
      "0\n",
      "pos:-38142\n",
      "780\n",
      "1\n",
      "pos:0\n",
      "480\n",
      "2\n",
      "pos:0\n",
      "480\n",
      "3\n",
      "pos:0\n",
      "DONE\n"
     ]
    }
   ],
   "source": [
    "positions1=[]\n",
    "positions2=[]\n",
    "positions3=[]\n",
    "positions4=[]\n",
    "positions1.append(mc.getPosition(0));\n",
    "positions2.append(mc.getPosition(1));\n",
    "positions3.append(mc.getPosition(2));\n",
    "positions4.append(mc.getPosition(3));\n",
    "\n",
    "start_time=time.time()\n",
    "last_read_time=start_time\n",
    "current_time=start_time\n",
    "duration=10 # in sec\n",
    "period=0.2 # in sec\n",
    "while (current_time-start_time)<duration:\n",
    "    current_time=time.time()\n",
    "    if (current_time-last_read_time)>period:\n",
    "        new_position1=mc.getPosition(0)\n",
    "        positions1.append(new_position1)\n",
    "        \n",
    "        new_position2=mc.getPosition(1)\n",
    "        positions2.append(new_position2)\n",
    "        \n",
    "        new_position3=mc.getPosition(2)\n",
    "        positions3.append(new_position3)\n",
    "        \n",
    "        new_position4=mc.getPosition(3)\n",
    "        positions4.append(new_position4)\n",
    "        \n",
    "        last_read_time=time.time()\n",
    "print \"DONE\""
   ]
  },
  {
   "cell_type": "code",
   "execution_count": 5,
   "metadata": {
    "collapsed": false,
    "deletable": true,
    "editable": true
   },
   "outputs": [
    {
     "data": {
      "image/png": "[encoded data removed]",
      "text/plain": [
       "<matplotlib.figure.Figure at 0xa93ef98>"
      ]
     },
     "metadata": {},
     "output_type": "display_data"
    }
   ],
   "source": [
    "data1=map(int,positions1)\n",
    "data2=map(int,positions2)\n",
    "data3=map(int,positions3)\n",
    "data4=map(int,positions4)\n",
    "import matplotlib.pyplot as plt\n",
    "fig=plt.figure(figsize=(10,10));\n",
    "plt.plot(data1,'bo');\n",
    "plt.plot(data2,'ro');\n",
    "plt.plot(data3,'gx');\n",
    "plt.plot(data4,'yx');\n",
    "plt.show()"
   ]
  },
  {
   "cell_type": "code",
   "execution_count": null,
   "metadata": {
    "collapsed": false,
    "deletable": true,
    "editable": true
   },
   "outputs": [],
   "source": [
    "data"
   ]
  },
  {
   "cell_type": "code",
   "execution_count": 239,
   "metadata": {
    "collapsed": false,
    "deletable": true,
    "editable": true
   },
   "outputs": [
    {
     "name": "stderr",
     "output_type": "stream",
     "text": [
      "INFO - Channel: 1 position: 52.294921875\n",
      "INFO - Channel: 1 position: 52.294921875\n",
      "INFO - avg_steps: 3756.39648438\n",
      "INFO - Channel: 1 position: 52.294921875\n",
      "INFO - Response: ''\n",
      "\n",
      "INFO - Sending next command(2120): '2PR2629\\r\\n'\n"
     ]
    },
    {
     "name": "stdout",
     "output_type": "stream",
     "text": [
      "780\n",
      "1\n",
      "780\n",
      "1\n",
      "780\n",
      "1\n"
     ]
    },
    {
     "name": "stderr",
     "output_type": "stream",
     "text": [
      "INFO - Motor 2: movement ceased. Continuing with command buffer.\n",
      "\n",
      "INFO - Channel: 1 position: 108.500976562\n",
      "INFO - Response: ''\n",
      "\n",
      "INFO - Sending next command(2121): '2PR1882\\r\\n'\n"
     ]
    },
    {
     "name": "stdout",
     "output_type": "stream",
     "text": [
      "780\n",
      "1\n"
     ]
    },
    {
     "name": "stderr",
     "output_type": "stream",
     "text": [
      "INFO - Motor 2: movement ceased. Continuing with command buffer.\n",
      "\n",
      "INFO - Channel: 1 position: 146.162109375\n",
      "INFO - Response: ''\n",
      "\n",
      "INFO - Sending next command(2122): '2PR1381\\r\\n'\n"
     ]
    },
    {
     "name": "stdout",
     "output_type": "stream",
     "text": [
      "780\n",
      "1\n"
     ]
    },
    {
     "name": "stderr",
     "output_type": "stream",
     "text": [
      "INFO - Motor 2: movement ceased. Continuing with command buffer.\n",
      "\n",
      "INFO - Channel: 1 position: 175.913085938\n",
      "INFO - Response: ''\n",
      "\n",
      "INFO - Sending next command(2123): '2PR985\\r\\n'\n"
     ]
    },
    {
     "name": "stdout",
     "output_type": "stream",
     "text": [
      "780\n",
      "1\n"
     ]
    },
    {
     "name": "stderr",
     "output_type": "stream",
     "text": [
      "INFO - Motor 2: movement ceased. Continuing with command buffer.\n",
      "\n",
      "INFO - Channel: 1 position: 193.842773438\n",
      "INFO - Response: ''\n",
      "\n",
      "INFO - Sending next command(2124): '2PR747\\r\\n'\n"
     ]
    },
    {
     "name": "stdout",
     "output_type": "stream",
     "text": [
      "780\n",
      "1\n"
     ]
    },
    {
     "name": "stderr",
     "output_type": "stream",
     "text": [
      "INFO - Motor 2: movement ceased. Continuing with command buffer.\n",
      "\n",
      "INFO - Channel: 1 position: 207.158203125\n",
      "INFO - Response: ''\n",
      "\n",
      "INFO - Sending next command(2125): '2PR570\\r\\n'\n"
     ]
    },
    {
     "name": "stdout",
     "output_type": "stream",
     "text": [
      "780\n",
      "1\n"
     ]
    },
    {
     "name": "stderr",
     "output_type": "stream",
     "text": [
      "INFO - Motor 2: movement ceased. Continuing with command buffer.\n",
      "\n",
      "INFO - Channel: 1 position: 218.012695312\n",
      "INFO - Response: ''\n",
      "\n",
      "INFO - Sending next command(2126): '2PR425\\r\\n'\n"
     ]
    },
    {
     "name": "stdout",
     "output_type": "stream",
     "text": [
      "780\n",
      "1\n"
     ]
    },
    {
     "name": "stderr",
     "output_type": "stream",
     "text": [
      "INFO - Motor 2: movement ceased. Continuing with command buffer.\n",
      "\n",
      "INFO - Channel: 1 position: 225.263671875\n",
      "INFO - Response: ''\n",
      "\n",
      "INFO - Sending next command(2127): '2PR329\\r\\n'\n"
     ]
    },
    {
     "name": "stdout",
     "output_type": "stream",
     "text": [
      "780\n",
      "1\n"
     ]
    },
    {
     "name": "stderr",
     "output_type": "stream",
     "text": [
      "INFO - Motor 2: movement ceased. Continuing with command buffer.\n",
      "\n",
      "INFO - Channel: 1 position: 231.064453125\n",
      "INFO - Response: ''\n",
      "\n",
      "INFO - Sending next command(2128): '2PR252\\r\\n'\n"
     ]
    },
    {
     "name": "stdout",
     "output_type": "stream",
     "text": [
      "780\n",
      "1\n"
     ]
    },
    {
     "name": "stderr",
     "output_type": "stream",
     "text": [
      "INFO - Motor 2: movement ceased. Continuing with command buffer.\n",
      "\n",
      "INFO - Channel: 1 position: 235.283203125\n",
      "INFO - Response: ''\n",
      "\n",
      "INFO - Sending next command(2129): '2PR196\\r\\n'\n"
     ]
    },
    {
     "name": "stdout",
     "output_type": "stream",
     "text": [
      "780\n",
      "1\n"
     ]
    },
    {
     "name": "stderr",
     "output_type": "stream",
     "text": [
      "INFO - Motor 2: movement ceased. Continuing with command buffer.\n",
      "\n",
      "INFO - Channel: 1 position: 238.18359375\n",
      "INFO - Response: ''\n",
      "\n",
      "INFO - Sending next command(2130): '2PR157\\r\\n'\n"
     ]
    },
    {
     "name": "stdout",
     "output_type": "stream",
     "text": [
      "780\n",
      "1\n"
     ]
    },
    {
     "name": "stderr",
     "output_type": "stream",
     "text": [
      "INFO - Motor 2: movement ceased. Continuing with command buffer.\n",
      "\n",
      "INFO - Channel: 1 position: 240.424804688\n",
      "INFO - Response: ''\n",
      "\n",
      "INFO - Sending next command(2131): '2PR127\\r\\n'\n"
     ]
    },
    {
     "name": "stdout",
     "output_type": "stream",
     "text": [
      "780\n",
      "1\n"
     ]
    },
    {
     "name": "stderr",
     "output_type": "stream",
     "text": [
      "INFO - Motor 2: movement ceased. Continuing with command buffer.\n",
      "\n",
      "INFO - Channel: 1 position: 242.006835938\n",
      "INFO - Response: ''\n",
      "\n",
      "INFO - Sending next command(2132): '2PR106\\r\\n'\n"
     ]
    },
    {
     "name": "stdout",
     "output_type": "stream",
     "text": [
      "780\n",
      "1\n"
     ]
    },
    {
     "name": "stderr",
     "output_type": "stream",
     "text": [
      "INFO - Motor 2: movement ceased. Continuing with command buffer.\n",
      "\n",
      "INFO - Channel: 1 position: 243.28125\n",
      "INFO - Response: ''\n",
      "\n",
      "INFO - Sending next command(2133): '2PR89\\r\\n'\n"
     ]
    },
    {
     "name": "stdout",
     "output_type": "stream",
     "text": [
      "780\n",
      "1\n"
     ]
    },
    {
     "name": "stderr",
     "output_type": "stream",
     "text": [
      "INFO - Motor 2: movement ceased. Continuing with command buffer.\n",
      "\n",
      "INFO - Channel: 1 position: 244.3359375\n",
      "INFO - Response: ''\n",
      "\n",
      "INFO - Sending next command(2134): '2PR75\\r\\n'\n"
     ]
    },
    {
     "name": "stdout",
     "output_type": "stream",
     "text": [
      "780\n",
      "1\n"
     ]
    },
    {
     "name": "stderr",
     "output_type": "stream",
     "text": [
      "INFO - Motor 2: movement ceased. Continuing with command buffer.\n",
      "\n",
      "INFO - Channel: 1 position: 245.302734375\n",
      "INFO - Response: ''\n",
      "\n",
      "INFO - Sending next command(2135): '2PR62\\r\\n'\n"
     ]
    },
    {
     "name": "stdout",
     "output_type": "stream",
     "text": [
      "780\n",
      "1\n"
     ]
    },
    {
     "name": "stderr",
     "output_type": "stream",
     "text": [
      "INFO - Motor 2: movement ceased. Continuing with command buffer.\n",
      "\n",
      "INFO - Channel: 1 position: 246.181640625\n",
      "INFO - Response: ''\n",
      "\n",
      "INFO - Sending next command(2136): '2PR51\\r\\n'\n"
     ]
    },
    {
     "name": "stdout",
     "output_type": "stream",
     "text": [
      "780\n",
      "1\n"
     ]
    },
    {
     "name": "stderr",
     "output_type": "stream",
     "text": [
      "INFO - Motor 2: movement ceased. Continuing with command buffer.\n",
      "\n",
      "INFO - Channel: 1 position: 246.97265625\n",
      "INFO - Response: ''\n",
      "\n",
      "INFO - Sending next command(2137): '2PR40\\r\\n'\n"
     ]
    },
    {
     "name": "stdout",
     "output_type": "stream",
     "text": [
      "780\n",
      "1\n"
     ]
    },
    {
     "name": "stderr",
     "output_type": "stream",
     "text": [
      "INFO - Motor 2: movement ceased. Continuing with command buffer.\n",
      "\n",
      "INFO - Channel: 1 position: 247.67578125\n",
      "INFO - Response: ''\n",
      "\n",
      "INFO - Sending next command(2138): '2PR31\\r\\n'\n"
     ]
    },
    {
     "name": "stdout",
     "output_type": "stream",
     "text": [
      "780\n",
      "1\n"
     ]
    },
    {
     "name": "stderr",
     "output_type": "stream",
     "text": [
      "INFO - Motor 2: movement ceased. Continuing with command buffer.\n",
      "\n",
      "INFO - Channel: 1 position: 248.247070312\n",
      "INFO - Response: ''\n",
      "\n",
      "INFO - Sending next command(2139): '2PR23\\r\\n'\n"
     ]
    },
    {
     "name": "stdout",
     "output_type": "stream",
     "text": [
      "780\n",
      "1\n"
     ]
    },
    {
     "name": "stderr",
     "output_type": "stream",
     "text": [
      "INFO - Motor 2: movement ceased. Continuing with command buffer.\n",
      "\n",
      "INFO - Channel: 1 position: 248.686523438\n",
      "ERROR - Current position 248.686523438 deg. Setpoint not achieved by -1.3134765625 deg after max iterations.\n"
     ]
    },
    {
     "name": "stdout",
     "output_type": "stream",
     "text": [
      "780\n",
      "1\n"
     ]
    },
    {
     "data": {
      "text/plain": [
       "0"
      ]
     },
     "execution_count": 239,
     "metadata": {},
     "output_type": "execute_result"
    }
   ],
   "source": [
    "mc.getPosition(1)\n",
    "mc.move_abs(1,250)"
   ]
  },
  {
   "cell_type": "code",
   "execution_count": 1,
   "metadata": {
    "collapsed": false,
    "deletable": true,
    "editable": true
   },
   "outputs": [
    {
     "ename": "NameError",
     "evalue": "name 'mc' is not defined",
     "output_type": "error",
     "traceback": [
      "\u001b[1;31m---------------------------------------------------------------------------\u001b[0m",
      "\u001b[1;31mNameError\u001b[0m                                 Traceback (most recent call last)",
      "\u001b[1;32m<ipython-input-1-81f18a99074d>\u001b[0m in \u001b[0;36m<module>\u001b[1;34m()\u001b[0m\n\u001b[0;32m      1\u001b[0m \u001b[1;32mfor\u001b[0m \u001b[0mi\u001b[0m \u001b[1;32min\u001b[0m \u001b[0mrange\u001b[0m\u001b[1;33m(\u001b[0m\u001b[1;36m0\u001b[0m\u001b[1;33m,\u001b[0m\u001b[1;36m4\u001b[0m\u001b[1;33m)\u001b[0m\u001b[1;33m:\u001b[0m\u001b[1;33m\u001b[0m\u001b[0m\n\u001b[1;32m----> 2\u001b[1;33m    \u001b[1;32mprint\u001b[0m \u001b[0mmc\u001b[0m\u001b[1;33m.\u001b[0m\u001b[0mgetPosition\u001b[0m\u001b[1;33m(\u001b[0m\u001b[0mi\u001b[0m\u001b[1;33m)\u001b[0m\u001b[1;33m\u001b[0m\u001b[0m\n\u001b[0m",
      "\u001b[1;31mNameError\u001b[0m: name 'mc' is not defined"
     ]
    }
   ],
   "source": [
    "for i in range(0,4):\n",
    "   print mc.getPosition(i)"
   ]
  },
  {
   "cell_type": "code",
   "execution_count": 219,
   "metadata": {
    "collapsed": false,
    "deletable": true,
    "editable": true
   },
   "outputs": [],
   "source": [
    "## Closed-loop movement testing\n"
   ]
  },
  {
   "cell_type": "code",
   "execution_count": 229,
   "metadata": {
    "collapsed": false,
    "deletable": true,
    "editable": true
   },
   "outputs": [
    {
     "name": "stdout",
     "output_type": "stream",
     "text": [
      "[  5 201 191  57 209 249 186   5  -9 185  65 226 133 230  76  30 199 145\n",
      " 192  19  15 107   1 213   4  34 168 114 168  59 141 199 142  44  91 238\n",
      " 167 202  78 154  40  58 249 249 135 123  81 108  39 159   9  68 101  86\n",
      "  31  -4 197  -7  -3   6  41  95  86 158 171 243  98 135 244 195  -6  52\n",
      " 132 101  77 143  34 109 183  -1 -10 100 170  13  22 195 150 234 219  73\n",
      "  -8  34 171 122  80  45 184  72 142 245]\n"
     ]
    }
   ],
   "source": [
    "import numpy as np\n",
    "test_channel=1\n",
    "random_sequence=np.random.randint(-10,250,100)\n",
    "print random_sequence\n"
   ]
  },
  {
   "cell_type": "code",
   "execution_count": 230,
   "metadata": {
    "collapsed": false,
    "deletable": true,
    "editable": true
   },
   "outputs": [
    {
     "name": "stderr",
     "output_type": "stream",
     "text": [
      "INFO - Channel: 1 position: 140.9765625\n",
      "INFO - avg_steps: -2678.5546875\n",
      "INFO - Need to go negative. Current position 140.9765625 DEG. Setpoint 0 DEG. Steps to be taken: -3679\n",
      "INFO - Response: ''\n",
      "\n",
      "INFO - Sending next command(1656): '2PR-3679\\r\\n'\n"
     ]
    },
    {
     "name": "stdout",
     "output_type": "stream",
     "text": [
      "780\n",
      "1\n"
     ]
    },
    {
     "name": "stderr",
     "output_type": "stream",
     "text": [
      "INFO - Motor 2: movement ceased. Continuing with command buffer.\n",
      "\n",
      "INFO - Channel: 1 position: -53.5693359375\n",
      "INFO - Response: ''\n",
      "\n",
      "INFO - Sending next command(1657): '2PR712\\r\\n'\n"
     ]
    },
    {
     "name": "stdout",
     "output_type": "stream",
     "text": [
      "780\n",
      "1\n"
     ]
    },
    {
     "name": "stderr",
     "output_type": "stream",
     "text": [
      "INFO - Motor 2: movement ceased. Continuing with command buffer.\n",
      "\n",
      "INFO - Channel: 1 position: -33.75\n",
      "INFO - Response: ''\n",
      "\n",
      "INFO - Sending next command(1658): '2PR449\\r\\n'\n"
     ]
    },
    {
     "name": "stdout",
     "output_type": "stream",
     "text": [
      "780\n",
      "1\n"
     ]
    },
    {
     "name": "stderr",
     "output_type": "stream",
     "text": [
      "INFO - Motor 2: movement ceased. Continuing with command buffer.\n",
      "\n",
      "INFO - Channel: 1 position: -25.3564453125\n",
      "INFO - Response: ''\n",
      "\n",
      "INFO - Sending next command(1659): '2PR337\\r\\n'\n"
     ]
    },
    {
     "name": "stdout",
     "output_type": "stream",
     "text": [
      "780\n",
      "1\n"
     ]
    },
    {
     "name": "stderr",
     "output_type": "stream",
     "text": [
      "INFO - Motor 2: movement ceased. Continuing with command buffer.\n",
      "\n",
      "INFO - Channel: 1 position: -18.4130859375\n",
      "INFO - Response: ''\n",
      "\n",
      "INFO - Sending next command(1660): '2PR245\\r\\n'\n"
     ]
    },
    {
     "name": "stdout",
     "output_type": "stream",
     "text": [
      "780\n",
      "1\n"
     ]
    },
    {
     "name": "stderr",
     "output_type": "stream",
     "text": [
      "INFO - Motor 2: movement ceased. Continuing with command buffer.\n",
      "\n",
      "INFO - Channel: 1 position: -12.744140625\n",
      "INFO - Response: ''\n",
      "\n",
      "INFO - Sending next command(1661): '2PR169\\r\\n'\n"
     ]
    },
    {
     "name": "stdout",
     "output_type": "stream",
     "text": [
      "780\n",
      "1\n"
     ]
    },
    {
     "name": "stderr",
     "output_type": "stream",
     "text": [
      "INFO - Motor 2: movement ceased. Continuing with command buffer.\n",
      "\n",
      "INFO - Channel: 1 position: -8.525390625\n",
      "INFO - Response: ''\n",
      "\n",
      "INFO - Sending next command(1662): '2PR113\\r\\n'\n"
     ]
    },
    {
     "name": "stdout",
     "output_type": "stream",
     "text": [
      "780\n",
      "1\n"
     ]
    },
    {
     "name": "stderr",
     "output_type": "stream",
     "text": [
      "INFO - Motor 2: movement ceased. Continuing with command buffer.\n",
      "\n",
      "INFO - Channel: 1 position: -5.712890625\n",
      "INFO - Response: ''\n",
      "\n",
      "INFO - Sending next command(1663): '2PR76\\r\\n'\n"
     ]
    },
    {
     "name": "stdout",
     "output_type": "stream",
     "text": [
      "780\n",
      "1\n"
     ]
    },
    {
     "name": "stderr",
     "output_type": "stream",
     "text": [
      "INFO - Motor 2: movement ceased. Continuing with command buffer.\n",
      "\n",
      "INFO - Channel: 1 position: -3.779296875\n",
      "INFO - Response: ''\n",
      "\n",
      "INFO - Sending next command(1664): '2PR50\\r\\n'\n"
     ]
    },
    {
     "name": "stdout",
     "output_type": "stream",
     "text": [
      "780\n",
      "1\n"
     ]
    },
    {
     "name": "stderr",
     "output_type": "stream",
     "text": [
      "INFO - Motor 2: movement ceased. Continuing with command buffer.\n",
      "\n",
      "INFO - Channel: 1 position: -2.4169921875\n",
      "INFO - Response: ''\n",
      "\n",
      "INFO - Sending next command(1665): '2PR32\\r\\n'\n"
     ]
    },
    {
     "name": "stdout",
     "output_type": "stream",
     "text": [
      "780\n",
      "1\n"
     ]
    },
    {
     "name": "stderr",
     "output_type": "stream",
     "text": [
      "INFO - Motor 2: movement ceased. Continuing with command buffer.\n",
      "\n",
      "INFO - Channel: 1 position: -1.4501953125\n",
      "INFO - Response: ''\n",
      "\n",
      "INFO - Sending next command(1666): '2PR19\\r\\n'\n"
     ]
    },
    {
     "name": "stdout",
     "output_type": "stream",
     "text": [
      "780\n",
      "1\n"
     ]
    },
    {
     "name": "stderr",
     "output_type": "stream",
     "text": [
      "INFO - Motor 2: movement ceased. Continuing with command buffer.\n",
      "\n",
      "INFO - Channel: 1 position: -0.791015625\n",
      "INFO - Response: ''\n",
      "\n",
      "INFO - Sending next command(1667): '2PR11\\r\\n'\n"
     ]
    },
    {
     "name": "stdout",
     "output_type": "stream",
     "text": [
      "780\n",
      "1\n"
     ]
    },
    {
     "name": "stderr",
     "output_type": "stream",
     "text": [
      "INFO - Motor 2: movement ceased. Continuing with command buffer.\n",
      "\n",
      "INFO - Channel: 1 position: -0.439453125\n",
      "INFO - Response: ''\n",
      "\n",
      "INFO - Sending next command(1668): '2PR6\\r\\n'\n"
     ]
    },
    {
     "name": "stdout",
     "output_type": "stream",
     "text": [
      "780\n",
      "1\n"
     ]
    },
    {
     "name": "stderr",
     "output_type": "stream",
     "text": [
      "INFO - Motor 2: movement ceased. Continuing with command buffer.\n",
      "\n",
      "INFO - Channel: 1 position: -0.263671875\n",
      "INFO - Response: ''\n",
      "\n",
      "INFO - Sending next command(1669): '2PR4\\r\\n'\n"
     ]
    },
    {
     "name": "stdout",
     "output_type": "stream",
     "text": [
      "780\n",
      "1\n"
     ]
    },
    {
     "name": "stderr",
     "output_type": "stream",
     "text": [
      "INFO - Motor 2: movement ceased. Continuing with command buffer.\n",
      "\n",
      "INFO - Channel: 1 position: -0.1318359375\n",
      "INFO - Response: ''\n",
      "\n",
      "INFO - Sending next command(1670): '2PR2\\r\\n'\n"
     ]
    },
    {
     "name": "stdout",
     "output_type": "stream",
     "text": [
      "780\n",
      "1\n"
     ]
    },
    {
     "name": "stderr",
     "output_type": "stream",
     "text": [
      "INFO - Motor 2: movement ceased. Continuing with command buffer.\n",
      "\n",
      "INFO - Channel: 1 position: -0.0439453125\n",
      "INFO - Response: ''\n",
      "\n",
      "INFO - Sending next command(1671): '2PR1\\r\\n'\n"
     ]
    },
    {
     "name": "stdout",
     "output_type": "stream",
     "text": [
      "780\n",
      "1\n"
     ]
    },
    {
     "name": "stderr",
     "output_type": "stream",
     "text": [
      "INFO - Motor 2: movement ceased. Continuing with command buffer.\n",
      "\n",
      "INFO - Channel: 1 position: -0.0439453125\n",
      "INFO - Response: ''\n",
      "\n",
      "INFO - Sending next command(1672): '2PR1\\r\\n'\n"
     ]
    },
    {
     "name": "stdout",
     "output_type": "stream",
     "text": [
      "780\n",
      "1\n"
     ]
    },
    {
     "name": "stderr",
     "output_type": "stream",
     "text": [
      "INFO - Motor 2: movement ceased. Continuing with command buffer.\n",
      "\n",
      "INFO - Channel: 1 position: 0.0\n",
      "INFO - New motor position is 0.0 deg, error 0.0 deg.\n",
      "INFO - Channel: 1 position: 0.0\n",
      "INFO - Channel: 1 position: 0.0\n",
      "INFO - avg_steps: 95.0\n",
      "INFO - Channel: 1 position: 0.0\n",
      "INFO - Response: ''\n",
      "\n",
      "INFO - Sending next command(1673): '2PR67\\r\\n'\n"
     ]
    },
    {
     "name": "stdout",
     "output_type": "stream",
     "text": [
      "780\n",
      "1\n",
      "780\n",
      "1\n",
      "780\n",
      "1\n",
      "780\n",
      "1\n"
     ]
    },
    {
     "name": "stderr",
     "output_type": "stream",
     "text": [
      "INFO - Motor 2: movement ceased. Continuing with command buffer.\n",
      "\n",
      "INFO - Channel: 1 position: 1.58203125\n",
      "INFO - Response: ''\n",
      "\n",
      "INFO - Sending next command(1674): '2PR45\\r\\n'\n"
     ]
    },
    {
     "name": "stdout",
     "output_type": "stream",
     "text": [
      "780\n",
      "1\n"
     ]
    },
    {
     "name": "stderr",
     "output_type": "stream",
     "text": [
      "INFO - Motor 2: movement ceased. Continuing with command buffer.\n",
      "\n",
      "INFO - Channel: 1 position: 2.8125\n",
      "INFO - Response: ''\n",
      "\n",
      "INFO - Sending next command(1675): '2PR29\\r\\n'\n"
     ]
    },
    {
     "name": "stdout",
     "output_type": "stream",
     "text": [
      "780\n",
      "1\n"
     ]
    },
    {
     "name": "stderr",
     "output_type": "stream",
     "text": [
      "INFO - Motor 2: movement ceased. Continuing with command buffer.\n",
      "\n",
      "INFO - Channel: 1 position: 3.6474609375\n",
      "INFO - Response: ''\n",
      "\n",
      "INFO - Sending next command(1676): '2PR18\\r\\n'\n"
     ]
    },
    {
     "name": "stdout",
     "output_type": "stream",
     "text": [
      "780\n",
      "1\n"
     ]
    },
    {
     "name": "stderr",
     "output_type": "stream",
     "text": [
      "INFO - Motor 2: movement ceased. Continuing with command buffer.\n",
      "\n",
      "INFO - Channel: 1 position: 4.2626953125\n",
      "INFO - Response: ''\n",
      "\n",
      "INFO - Sending next command(1677): '2PR10\\r\\n'\n"
     ]
    },
    {
     "name": "stdout",
     "output_type": "stream",
     "text": [
      "780\n",
      "1\n"
     ]
    },
    {
     "name": "stderr",
     "output_type": "stream",
     "text": [
      "INFO - Motor 2: movement ceased. Continuing with command buffer.\n",
      "\n",
      "INFO - Channel: 1 position: 4.5703125\n",
      "INFO - Response: ''\n",
      "\n",
      "INFO - Sending next command(1678): '2PR6\\r\\n'\n"
     ]
    },
    {
     "name": "stdout",
     "output_type": "stream",
     "text": [
      "780\n",
      "1\n"
     ]
    },
    {
     "name": "stderr",
     "output_type": "stream",
     "text": [
      "INFO - Motor 2: movement ceased. Continuing with command buffer.\n",
      "\n",
      "INFO - Channel: 1 position: 4.74609375\n",
      "INFO - Response: ''\n",
      "\n",
      "INFO - Sending next command(1679): '2PR3\\r\\n'\n"
     ]
    },
    {
     "name": "stdout",
     "output_type": "stream",
     "text": [
      "780\n",
      "1\n"
     ]
    },
    {
     "name": "stderr",
     "output_type": "stream",
     "text": [
      "INFO - Motor 2: movement ceased. Continuing with command buffer.\n",
      "\n",
      "INFO - Channel: 1 position: 4.833984375\n",
      "INFO - Response: ''\n",
      "\n",
      "INFO - Sending next command(1680): '2PR2\\r\\n'\n"
     ]
    },
    {
     "name": "stdout",
     "output_type": "stream",
     "text": [
      "780\n",
      "1\n"
     ]
    },
    {
     "name": "stderr",
     "output_type": "stream",
     "text": [
      "INFO - Motor 2: movement ceased. Continuing with command buffer.\n",
      "\n",
      "INFO - Channel: 1 position: 4.8779296875\n",
      "INFO - Response: ''\n",
      "\n",
      "INFO - Sending next command(1681): '2PR2\\r\\n'\n"
     ]
    },
    {
     "name": "stdout",
     "output_type": "stream",
     "text": [
      "780\n",
      "1\n"
     ]
    },
    {
     "name": "stderr",
     "output_type": "stream",
     "text": [
      "INFO - Motor 2: movement ceased. Continuing with command buffer.\n",
      "\n",
      "INFO - Channel: 1 position: 4.921875\n",
      "INFO - Response: ''\n",
      "\n",
      "INFO - Sending next command(1682): '2PR1\\r\\n'\n"
     ]
    },
    {
     "name": "stdout",
     "output_type": "stream",
     "text": [
      "780\n",
      "1\n"
     ]
    },
    {
     "name": "stderr",
     "output_type": "stream",
     "text": [
      "INFO - Motor 2: movement ceased. Continuing with command buffer.\n",
      "\n",
      "INFO - Channel: 1 position: 4.9658203125\n",
      "INFO - Response: ''\n",
      "\n",
      "INFO - Sending next command(1683): '2PR1\\r\\n'\n"
     ]
    },
    {
     "name": "stdout",
     "output_type": "stream",
     "text": [
      "780\n",
      "1\n"
     ]
    },
    {
     "name": "stderr",
     "output_type": "stream",
     "text": [
      "INFO - Motor 2: movement ceased. Continuing with command buffer.\n",
      "\n",
      "INFO - Channel: 1 position: 4.9658203125\n",
      "INFO - Response: ''\n",
      "\n",
      "INFO - Sending next command(1684): '2PR1\\r\\n'\n"
     ]
    },
    {
     "name": "stdout",
     "output_type": "stream",
     "text": [
      "780\n",
      "1\n"
     ]
    },
    {
     "name": "stderr",
     "output_type": "stream",
     "text": [
      "INFO - Motor 2: movement ceased. Continuing with command buffer.\n",
      "\n",
      "INFO - Channel: 1 position: 5.009765625\n",
      "INFO - New motor position is 5.009765625 deg, error 0.009765625 deg.\n",
      "INFO - Channel: 1 position: 5.009765625\n",
      "INFO - Channel: 1 position: 5.009765625\n",
      "INFO - avg_steps: 3723.81445312\n",
      "INFO - Channel: 1 position: 5.009765625\n",
      "INFO - Response: ''\n",
      "\n",
      "INFO - Sending next command(1685): '2PR2607\\r\\n'\n"
     ]
    },
    {
     "name": "stdout",
     "output_type": "stream",
     "text": [
      "780\n",
      "1\n",
      "780\n",
      "1\n",
      "780\n",
      "1\n",
      "780\n",
      "1\n"
     ]
    },
    {
     "name": "stderr",
     "output_type": "stream",
     "text": [
      "INFO - Motor 2: movement ceased. Continuing with command buffer.\n",
      "\n",
      "INFO - Channel: 1 position: 12.5244140625\n",
      "INFO - Response: ''\n",
      "\n",
      "INFO - Sending next command(1686): '2PR2507\\r\\n'\n"
     ]
    },
    {
     "name": "stdout",
     "output_type": "stream",
     "text": [
      "780\n",
      "1\n"
     ]
    },
    {
     "name": "stderr",
     "output_type": "stream",
     "text": [
      "INFO - Motor 2: movement ceased. Continuing with command buffer.\n",
      "\n",
      "INFO - Channel: 1 position: 12.5244140625\n",
      "INFO - Response: ''\n",
      "\n",
      "INFO - Sending next command(1687): '2PR2507\\r\\n'\n"
     ]
    },
    {
     "name": "stdout",
     "output_type": "stream",
     "text": [
      "780\n",
      "1\n"
     ]
    },
    {
     "name": "stderr",
     "output_type": "stream",
     "text": [
      "INFO - Motor 2: movement ceased. Continuing with command buffer.\n",
      "\n",
      "INFO - Channel: 1 position: 12.5244140625\n",
      "INFO - Response: ''\n",
      "\n",
      "INFO - Sending next command(1688): '2PR2507\\r\\n'\n"
     ]
    },
    {
     "name": "stdout",
     "output_type": "stream",
     "text": [
      "780\n",
      "1\n"
     ]
    },
    {
     "name": "stderr",
     "output_type": "stream",
     "text": [
      "INFO - Motor 2: movement ceased. Continuing with command buffer.\n",
      "\n",
      "INFO - Channel: 1 position: 12.5244140625\n",
      "INFO - Response: ''\n",
      "\n",
      "INFO - Sending next command(1689): '2PR2507\\r\\n'\n"
     ]
    },
    {
     "name": "stdout",
     "output_type": "stream",
     "text": [
      "780\n",
      "1\n"
     ]
    },
    {
     "name": "stderr",
     "output_type": "stream",
     "text": [
      "INFO - Motor 2: movement ceased. Continuing with command buffer.\n",
      "\n",
      "INFO - Channel: 1 position: 12.5244140625\n",
      "INFO - Response: ''\n",
      "\n",
      "INFO - Sending next command(1690): '2PR2507\\r\\n'\n"
     ]
    },
    {
     "name": "stdout",
     "output_type": "stream",
     "text": [
      "780\n",
      "1\n"
     ]
    },
    {
     "name": "stderr",
     "output_type": "stream",
     "text": [
      "INFO - Motor 2: movement ceased. Continuing with command buffer.\n",
      "\n",
      "INFO - Channel: 1 position: 12.5244140625\n",
      "INFO - Response: ''\n",
      "\n",
      "INFO - Sending next command(1691): '2PR2507\\r\\n'\n"
     ]
    },
    {
     "name": "stdout",
     "output_type": "stream",
     "text": [
      "780\n",
      "1\n"
     ]
    },
    {
     "name": "stderr",
     "output_type": "stream",
     "text": [
      "INFO - Motor 2: movement ceased. Continuing with command buffer.\n",
      "\n",
      "INFO - Channel: 1 position: 12.5244140625\n",
      "INFO - Response: ''\n",
      "\n",
      "INFO - Sending next command(1692): '2PR2507\\r\\n'\n"
     ]
    },
    {
     "name": "stdout",
     "output_type": "stream",
     "text": [
      "780\n",
      "1\n"
     ]
    },
    {
     "name": "stderr",
     "output_type": "stream",
     "text": [
      "INFO - Motor 2: movement ceased. Continuing with command buffer.\n",
      "\n",
      "INFO - Channel: 1 position: 12.5244140625\n",
      "INFO - Response: ''\n",
      "\n",
      "INFO - Sending next command(1693): '2PR2507\\r\\n'\n"
     ]
    },
    {
     "name": "stdout",
     "output_type": "stream",
     "text": [
      "780\n",
      "1\n"
     ]
    },
    {
     "name": "stderr",
     "output_type": "stream",
     "text": [
      "INFO - Motor 2: movement ceased. Continuing with command buffer.\n",
      "\n",
      "INFO - Channel: 1 position: 12.5244140625\n",
      "INFO - Response: ''\n",
      "\n",
      "INFO - Sending next command(1694): '2PR2507\\r\\n'\n"
     ]
    },
    {
     "name": "stdout",
     "output_type": "stream",
     "text": [
      "780\n",
      "1\n"
     ]
    },
    {
     "name": "stderr",
     "output_type": "stream",
     "text": [
      "INFO - Motor 2: movement ceased. Continuing with command buffer.\n",
      "\n",
      "INFO - Channel: 1 position: 12.5244140625\n",
      "INFO - Response: ''\n",
      "\n",
      "INFO - Sending next command(1695): '2PR2507\\r\\n'\n"
     ]
    },
    {
     "name": "stdout",
     "output_type": "stream",
     "text": [
      "780\n",
      "1\n"
     ]
    },
    {
     "name": "stderr",
     "output_type": "stream",
     "text": [
      "INFO - Motor 2: movement ceased. Continuing with command buffer.\n",
      "\n",
      "INFO - Channel: 1 position: 12.5244140625\n",
      "INFO - Response: ''\n",
      "\n",
      "INFO - Sending next command(1696): '2PR2507\\r\\n'\n"
     ]
    },
    {
     "name": "stdout",
     "output_type": "stream",
     "text": [
      "780\n",
      "1\n"
     ]
    },
    {
     "name": "stderr",
     "output_type": "stream",
     "text": [
      "INFO - Motor 2: movement ceased. Continuing with command buffer.\n",
      "\n",
      "INFO - Channel: 1 position: 12.5244140625\n",
      "INFO - Response: ''\n",
      "\n",
      "INFO - Sending next command(1697): '2PR2507\\r\\n'\n"
     ]
    },
    {
     "name": "stdout",
     "output_type": "stream",
     "text": [
      "780\n",
      "1\n"
     ]
    },
    {
     "name": "stderr",
     "output_type": "stream",
     "text": [
      "INFO - Motor 2: movement ceased. Continuing with command buffer.\n",
      "\n",
      "INFO - Channel: 1 position: 12.5244140625\n",
      "INFO - Response: ''\n",
      "\n",
      "INFO - Sending next command(1698): '2PR2507\\r\\n'\n"
     ]
    },
    {
     "name": "stdout",
     "output_type": "stream",
     "text": [
      "780\n",
      "1\n"
     ]
    },
    {
     "name": "stderr",
     "output_type": "stream",
     "text": [
      "INFO - Motor 2: movement ceased. Continuing with command buffer.\n",
      "\n",
      "INFO - Channel: 1 position: 12.5244140625\n",
      "INFO - Response: ''\n",
      "\n",
      "INFO - Sending next command(1699): '2PR2507\\r\\n'\n"
     ]
    },
    {
     "name": "stdout",
     "output_type": "stream",
     "text": [
      "780\n",
      "1\n"
     ]
    },
    {
     "name": "stderr",
     "output_type": "stream",
     "text": [
      "INFO - Motor 2: movement ceased. Continuing with command buffer.\n",
      "\n",
      "INFO - Channel: 1 position: 12.5244140625\n",
      "INFO - Response: ''\n",
      "\n",
      "INFO - Sending next command(1700): '2PR2507\\r\\n'\n"
     ]
    },
    {
     "name": "stdout",
     "output_type": "stream",
     "text": [
      "780\n",
      "1\n"
     ]
    },
    {
     "name": "stderr",
     "output_type": "stream",
     "text": [
      "INFO - Motor 2: movement ceased. Continuing with command buffer.\n",
      "\n",
      "INFO - Channel: 1 position: 12.5244140625\n",
      "INFO - Response: ''\n",
      "\n",
      "INFO - Sending next command(1701): '2PR2507\\r\\n'\n"
     ]
    },
    {
     "name": "stdout",
     "output_type": "stream",
     "text": [
      "780\n",
      "1\n"
     ]
    },
    {
     "name": "stderr",
     "output_type": "stream",
     "text": [
      "INFO - Motor 2: movement ceased. Continuing with command buffer.\n",
      "\n",
      "INFO - Channel: 1 position: 12.5244140625\n",
      "INFO - Response: ''\n",
      "\n",
      "INFO - Sending next command(1702): '2PR2507\\r\\n'\n"
     ]
    },
    {
     "name": "stdout",
     "output_type": "stream",
     "text": [
      "780\n",
      "1\n"
     ]
    },
    {
     "name": "stderr",
     "output_type": "stream",
     "text": [
      "INFO - Motor 2: movement ceased. Continuing with command buffer.\n",
      "\n",
      "INFO - Channel: 1 position: 12.5244140625\n",
      "INFO - Response: ''\n",
      "\n",
      "INFO - Sending next command(1703): '2PR2507\\r\\n'\n"
     ]
    },
    {
     "name": "stdout",
     "output_type": "stream",
     "text": [
      "780\n",
      "1\n"
     ]
    },
    {
     "name": "stderr",
     "output_type": "stream",
     "text": [
      "INFO - Motor 2: movement ceased. Continuing with command buffer.\n",
      "\n",
      "INFO - Channel: 1 position: 12.5244140625\n",
      "INFO - Response: ''\n",
      "\n",
      "INFO - Sending next command(1704): '2PR2507\\r\\n'\n"
     ]
    },
    {
     "name": "stdout",
     "output_type": "stream",
     "text": [
      "780\n",
      "1\n"
     ]
    },
    {
     "name": "stderr",
     "output_type": "stream",
     "text": [
      "INFO - Motor 2: movement ceased. Continuing with command buffer.\n",
      "\n",
      "INFO - Channel: 1 position: 12.5244140625\n",
      "ERROR - Current position 12.5244140625 deg. Setpoint not achieved by -188.475585938 deg after max iterations.\n",
      "INFO - Channel: 1 position: 12.5244140625\n",
      "INFO - Channel: 1 position: 12.5244140625\n",
      "INFO - avg_steps: 3391.03613281\n",
      "INFO - Channel: 1 position: 12.5244140625\n",
      "INFO - Response: ''\n",
      "\n",
      "INFO - Sending next command(1705): '2PR2374\\r\\n'\n"
     ]
    },
    {
     "name": "stdout",
     "output_type": "stream",
     "text": [
      "780\n",
      "1\n",
      "780\n",
      "1\n",
      "780\n",
      "1\n",
      "780\n",
      "1\n"
     ]
    },
    {
     "name": "stderr",
     "output_type": "stream",
     "text": [
      "INFO - Motor 2: movement ceased. Continuing with command buffer.\n",
      "\n",
      "INFO - Channel: 1 position: 12.5244140625\n",
      "INFO - Response: ''\n",
      "\n",
      "INFO - Sending next command(1706): '2PR2374\\r\\n'\n"
     ]
    },
    {
     "name": "stdout",
     "output_type": "stream",
     "text": [
      "780\n",
      "1\n"
     ]
    },
    {
     "name": "stderr",
     "output_type": "stream",
     "text": [
      "INFO - Motor 2: movement ceased. Continuing with command buffer.\n",
      "\n",
      "INFO - Channel: 1 position: 12.5244140625\n",
      "INFO - Response: ''\n",
      "\n",
      "INFO - Sending next command(1707): '2PR2374\\r\\n'\n"
     ]
    },
    {
     "name": "stdout",
     "output_type": "stream",
     "text": [
      "780\n",
      "1\n"
     ]
    },
    {
     "name": "stderr",
     "output_type": "stream",
     "text": [
      "INFO - Motor 2: movement ceased. Continuing with command buffer.\n",
      "\n",
      "INFO - Channel: 1 position: 12.5244140625\n",
      "INFO - Response: ''\n",
      "\n",
      "INFO - Sending next command(1708): '2PR2374\\r\\n'\n"
     ]
    },
    {
     "name": "stdout",
     "output_type": "stream",
     "text": [
      "780\n",
      "1\n"
     ]
    },
    {
     "name": "stderr",
     "output_type": "stream",
     "text": [
      "INFO - Motor 2: movement ceased. Continuing with command buffer.\n",
      "\n",
      "INFO - Channel: 1 position: 12.5244140625\n",
      "INFO - Response: ''\n",
      "\n",
      "INFO - Sending next command(1709): '2PR2374\\r\\n'\n"
     ]
    },
    {
     "name": "stdout",
     "output_type": "stream",
     "text": [
      "780\n",
      "1\n"
     ]
    },
    {
     "name": "stderr",
     "output_type": "stream",
     "text": [
      "INFO - Motor 2: movement ceased. Continuing with command buffer.\n",
      "\n",
      "INFO - Channel: 1 position: 12.5244140625\n",
      "INFO - Response: ''\n",
      "\n",
      "INFO - Sending next command(1710): '2PR2374\\r\\n'\n"
     ]
    },
    {
     "name": "stdout",
     "output_type": "stream",
     "text": [
      "780\n",
      "1\n"
     ]
    },
    {
     "name": "stderr",
     "output_type": "stream",
     "text": [
      "INFO - Motor 2: movement ceased. Continuing with command buffer.\n",
      "\n",
      "INFO - Channel: 1 position: 12.5244140625\n",
      "INFO - Response: ''\n",
      "\n",
      "INFO - Sending next command(1711): '2PR2374\\r\\n'\n"
     ]
    },
    {
     "name": "stdout",
     "output_type": "stream",
     "text": [
      "780\n",
      "1\n"
     ]
    },
    {
     "name": "stderr",
     "output_type": "stream",
     "text": [
      "INFO - Motor 2: movement ceased. Continuing with command buffer.\n",
      "\n",
      "INFO - Channel: 1 position: 12.5244140625\n",
      "INFO - Response: ''\n",
      "\n",
      "INFO - Sending next command(1712): '2PR2374\\r\\n'\n"
     ]
    },
    {
     "name": "stdout",
     "output_type": "stream",
     "text": [
      "780\n",
      "1\n"
     ]
    },
    {
     "name": "stderr",
     "output_type": "stream",
     "text": [
      "INFO - Motor 2: movement ceased. Continuing with command buffer.\n",
      "\n",
      "INFO - Channel: 1 position: 12.5244140625\n",
      "INFO - Response: ''\n",
      "\n",
      "INFO - Sending next command(1713): '2PR2374\\r\\n'\n"
     ]
    },
    {
     "name": "stdout",
     "output_type": "stream",
     "text": [
      "780\n",
      "1\n"
     ]
    },
    {
     "name": "stderr",
     "output_type": "stream",
     "text": [
      "INFO - Motor 2: movement ceased. Continuing with command buffer.\n",
      "\n",
      "INFO - Channel: 1 position: 12.5244140625\n",
      "INFO - Response: ''\n",
      "\n",
      "INFO - Sending next command(1714): '2PR2374\\r\\n'\n"
     ]
    },
    {
     "name": "stdout",
     "output_type": "stream",
     "text": [
      "780\n",
      "1\n"
     ]
    },
    {
     "name": "stderr",
     "output_type": "stream",
     "text": [
      "INFO - Motor 2: movement ceased. Continuing with command buffer.\n",
      "\n",
      "INFO - Channel: 1 position: 12.5244140625\n",
      "INFO - Response: ''\n",
      "\n",
      "INFO - Sending next command(1715): '2PR2374\\r\\n'\n"
     ]
    },
    {
     "name": "stdout",
     "output_type": "stream",
     "text": [
      "780\n",
      "1\n"
     ]
    },
    {
     "name": "stderr",
     "output_type": "stream",
     "text": [
      "INFO - Motor 2: movement ceased. Continuing with command buffer.\n",
      "\n",
      "INFO - Channel: 1 position: 12.5244140625\n",
      "INFO - Response: ''\n",
      "\n",
      "INFO - Sending next command(1716): '2PR2374\\r\\n'\n"
     ]
    },
    {
     "name": "stdout",
     "output_type": "stream",
     "text": [
      "780\n",
      "1\n"
     ]
    },
    {
     "name": "stderr",
     "output_type": "stream",
     "text": [
      "INFO - Motor 2: movement ceased. Continuing with command buffer.\n",
      "\n",
      "INFO - Channel: 1 position: 12.5244140625\n",
      "INFO - Response: ''\n",
      "\n",
      "INFO - Sending next command(1717): '2PR2374\\r\\n'\n"
     ]
    },
    {
     "name": "stdout",
     "output_type": "stream",
     "text": [
      "780\n",
      "1\n"
     ]
    },
    {
     "name": "stderr",
     "output_type": "stream",
     "text": [
      "INFO - Motor 2: movement ceased. Continuing with command buffer.\n",
      "\n",
      "INFO - Channel: 1 position: 12.5244140625\n",
      "INFO - Response: ''\n",
      "\n",
      "INFO - Sending next command(1718): '2PR2374\\r\\n'\n"
     ]
    },
    {
     "name": "stdout",
     "output_type": "stream",
     "text": [
      "780\n",
      "1\n"
     ]
    },
    {
     "name": "stderr",
     "output_type": "stream",
     "text": [
      "INFO - Motor 2: movement ceased. Continuing with command buffer.\n",
      "\n",
      "INFO - Channel: 1 position: 12.5244140625\n",
      "INFO - Response: ''\n",
      "\n",
      "INFO - Sending next command(1719): '2PR2374\\r\\n'\n"
     ]
    },
    {
     "name": "stdout",
     "output_type": "stream",
     "text": [
      "780\n",
      "1\n"
     ]
    },
    {
     "name": "stderr",
     "output_type": "stream",
     "text": [
      "INFO - Motor 2: movement ceased. Continuing with command buffer.\n",
      "\n",
      "INFO - Channel: 1 position: 12.5244140625\n",
      "INFO - Response: ''\n",
      "\n",
      "INFO - Sending next command(1720): '2PR2374\\r\\n'\n"
     ]
    },
    {
     "name": "stdout",
     "output_type": "stream",
     "text": [
      "780\n",
      "1\n"
     ]
    },
    {
     "name": "stderr",
     "output_type": "stream",
     "text": [
      "INFO - Motor 2: movement ceased. Continuing with command buffer.\n",
      "\n",
      "INFO - Channel: 1 position: 12.5244140625\n",
      "INFO - Response: ''\n",
      "\n",
      "INFO - Sending next command(1721): '2PR2374\\r\\n'\n"
     ]
    },
    {
     "name": "stdout",
     "output_type": "stream",
     "text": [
      "780\n",
      "1\n"
     ]
    },
    {
     "name": "stderr",
     "output_type": "stream",
     "text": [
      "INFO - Motor 2: movement ceased. Continuing with command buffer.\n",
      "\n",
      "INFO - Channel: 1 position: 12.5244140625\n",
      "INFO - Response: ''\n",
      "\n",
      "INFO - Sending next command(1722): '2PR2374\\r\\n'\n"
     ]
    },
    {
     "name": "stdout",
     "output_type": "stream",
     "text": [
      "780\n",
      "1\n"
     ]
    },
    {
     "name": "stderr",
     "output_type": "stream",
     "text": [
      "INFO - Motor 2: movement ceased. Continuing with command buffer.\n",
      "\n",
      "INFO - Channel: 1 position: 12.5244140625\n",
      "INFO - Response: ''\n",
      "\n",
      "INFO - Sending next command(1723): '2PR2374\\r\\n'\n"
     ]
    },
    {
     "name": "stdout",
     "output_type": "stream",
     "text": [
      "780\n",
      "1\n"
     ]
    },
    {
     "name": "stderr",
     "output_type": "stream",
     "text": [
      "INFO - Motor 2: movement ceased. Continuing with command buffer.\n",
      "\n",
      "INFO - Channel: 1 position: 12.5244140625\n",
      "INFO - Response: ''\n",
      "\n",
      "INFO - Sending next command(1724): '2PR2374\\r\\n'\n"
     ]
    },
    {
     "name": "stdout",
     "output_type": "stream",
     "text": [
      "780\n",
      "1\n"
     ]
    },
    {
     "name": "stderr",
     "output_type": "stream",
     "text": [
      "INFO - Motor 2: movement ceased. Continuing with command buffer.\n",
      "\n",
      "INFO - Channel: 1 position: 12.5244140625\n",
      "ERROR - Current position 12.5244140625 deg. Setpoint not achieved by -178.475585938 deg after max iterations.\n",
      "INFO - Channel: 1 position: 12.5244140625\n",
      "INFO - Channel: 1 position: 12.5244140625\n",
      "INFO - avg_steps: 845.036132812\n",
      "INFO - Channel: 1 position: 12.5244140625\n",
      "INFO - Response: ''\n",
      "\n",
      "INFO - Sending next command(1725): '2PR592\\r\\n'\n"
     ]
    },
    {
     "name": "stdout",
     "output_type": "stream",
     "text": [
      "780\n",
      "1\n",
      "780\n",
      "1\n",
      "780\n",
      "1\n",
      "780\n",
      "1\n"
     ]
    },
    {
     "name": "stderr",
     "output_type": "stream",
     "text": [
      "INFO - Motor 2: movement ceased. Continuing with command buffer.\n",
      "\n",
      "INFO - Channel: 1 position: 12.5244140625\n",
      "INFO - Response: ''\n",
      "\n",
      "INFO - Sending next command(1726): '2PR592\\r\\n'\n"
     ]
    },
    {
     "name": "stdout",
     "output_type": "stream",
     "text": [
      "780\n",
      "1\n"
     ]
    },
    {
     "name": "stderr",
     "output_type": "stream",
     "text": [
      "INFO - Motor 2: movement ceased. Continuing with command buffer.\n",
      "\n",
      "INFO - Channel: 1 position: 12.5244140625\n",
      "INFO - Response: ''\n",
      "\n",
      "INFO - Sending next command(1727): '2PR592\\r\\n'\n"
     ]
    },
    {
     "name": "stdout",
     "output_type": "stream",
     "text": [
      "780\n",
      "1\n"
     ]
    },
    {
     "name": "stderr",
     "output_type": "stream",
     "text": [
      "INFO - Motor 2: movement ceased. Continuing with command buffer.\n",
      "\n",
      "INFO - Channel: 1 position: 12.5244140625\n",
      "INFO - Response: ''\n",
      "\n",
      "INFO - Sending next command(1728): '2PR592\\r\\n'\n"
     ]
    },
    {
     "name": "stdout",
     "output_type": "stream",
     "text": [
      "780\n",
      "1\n"
     ]
    },
    {
     "name": "stderr",
     "output_type": "stream",
     "text": [
      "INFO - Motor 2: movement ceased. Continuing with command buffer.\n",
      "\n",
      "INFO - Channel: 1 position: 12.5244140625\n",
      "INFO - Response: ''\n",
      "\n",
      "INFO - Sending next command(1729): '2PR592\\r\\n'\n"
     ]
    },
    {
     "name": "stdout",
     "output_type": "stream",
     "text": [
      "780\n",
      "1\n"
     ]
    },
    {
     "name": "stderr",
     "output_type": "stream",
     "text": [
      "INFO - Motor 2: movement ceased. Continuing with command buffer.\n",
      "\n",
      "INFO - Channel: 1 position: 12.5244140625\n",
      "INFO - Response: ''\n",
      "\n",
      "INFO - Sending next command(1730): '2PR592\\r\\n'\n"
     ]
    },
    {
     "name": "stdout",
     "output_type": "stream",
     "text": [
      "780\n",
      "1\n"
     ]
    },
    {
     "name": "stderr",
     "output_type": "stream",
     "text": [
      "INFO - Motor 2: movement ceased. Continuing with command buffer.\n",
      "\n",
      "INFO - Channel: 1 position: 12.5244140625\n",
      "INFO - Response: ''\n",
      "\n",
      "INFO - Sending next command(1731): '2PR592\\r\\n'\n"
     ]
    },
    {
     "name": "stdout",
     "output_type": "stream",
     "text": [
      "780\n",
      "1\n"
     ]
    },
    {
     "name": "stderr",
     "output_type": "stream",
     "text": [
      "INFO - Motor 2: movement ceased. Continuing with command buffer.\n",
      "\n",
      "INFO - Channel: 1 position: 12.5244140625\n",
      "INFO - Response: ''\n",
      "\n",
      "INFO - Sending next command(1732): '2PR592\\r\\n'\n"
     ]
    },
    {
     "name": "stdout",
     "output_type": "stream",
     "text": [
      "780\n",
      "1\n"
     ]
    },
    {
     "name": "stderr",
     "output_type": "stream",
     "text": [
      "INFO - Motor 2: movement ceased. Continuing with command buffer.\n",
      "\n",
      "INFO - Channel: 1 position: 12.5244140625\n",
      "INFO - Response: ''\n",
      "\n",
      "INFO - Sending next command(1733): '2PR592\\r\\n'\n"
     ]
    },
    {
     "name": "stdout",
     "output_type": "stream",
     "text": [
      "780\n",
      "1\n"
     ]
    },
    {
     "name": "stderr",
     "output_type": "stream",
     "text": [
      "INFO - Motor 2: movement ceased. Continuing with command buffer.\n",
      "\n",
      "INFO - Channel: 1 position: 12.5244140625\n",
      "INFO - Response: ''\n",
      "\n",
      "INFO - Sending next command(1734): '2PR592\\r\\n'\n"
     ]
    },
    {
     "name": "stdout",
     "output_type": "stream",
     "text": [
      "780\n",
      "1\n"
     ]
    },
    {
     "name": "stderr",
     "output_type": "stream",
     "text": [
      "INFO - Motor 2: movement ceased. Continuing with command buffer.\n",
      "\n",
      "INFO - Channel: 1 position: 12.5244140625\n",
      "INFO - Response: ''\n",
      "\n",
      "INFO - Sending next command(1735): '2PR592\\r\\n'\n"
     ]
    },
    {
     "name": "stdout",
     "output_type": "stream",
     "text": [
      "780\n",
      "1\n"
     ]
    },
    {
     "name": "stderr",
     "output_type": "stream",
     "text": [
      "INFO - Motor 2: movement ceased. Continuing with command buffer.\n",
      "\n",
      "INFO - Channel: 1 position: 12.5244140625\n",
      "INFO - Response: ''\n",
      "\n",
      "INFO - Sending next command(1736): '2PR592\\r\\n'\n"
     ]
    },
    {
     "name": "stdout",
     "output_type": "stream",
     "text": [
      "780\n",
      "1\n"
     ]
    },
    {
     "name": "stderr",
     "output_type": "stream",
     "text": [
      "INFO - Motor 2: movement ceased. Continuing with command buffer.\n",
      "\n",
      "INFO - Channel: 1 position: 12.5244140625\n",
      "INFO - Response: ''\n",
      "\n",
      "INFO - Sending next command(1737): '2PR592\\r\\n'\n"
     ]
    },
    {
     "name": "stdout",
     "output_type": "stream",
     "text": [
      "780\n",
      "1\n"
     ]
    },
    {
     "name": "stderr",
     "output_type": "stream",
     "text": [
      "INFO - Motor 2: movement ceased. Continuing with command buffer.\n",
      "\n",
      "INFO - Channel: 1 position: 12.5244140625\n",
      "INFO - Response: ''\n",
      "\n",
      "INFO - Sending next command(1738): '2PR592\\r\\n'\n"
     ]
    },
    {
     "name": "stdout",
     "output_type": "stream",
     "text": [
      "780\n",
      "1\n"
     ]
    },
    {
     "name": "stderr",
     "output_type": "stream",
     "text": [
      "INFO - Motor 2: movement ceased. Continuing with command buffer.\n",
      "\n",
      "INFO - Channel: 1 position: 12.5244140625\n",
      "INFO - Response: ''\n",
      "\n",
      "INFO - Sending next command(1739): '2PR592\\r\\n'\n"
     ]
    },
    {
     "name": "stdout",
     "output_type": "stream",
     "text": [
      "780\n",
      "1\n"
     ]
    },
    {
     "name": "stderr",
     "output_type": "stream",
     "text": [
      "INFO - Motor 2: movement ceased. Continuing with command buffer.\n",
      "\n",
      "INFO - Channel: 1 position: 12.5244140625\n",
      "INFO - Response: ''\n",
      "\n",
      "INFO - Sending next command(1740): '2PR592\\r\\n'\n"
     ]
    },
    {
     "name": "stdout",
     "output_type": "stream",
     "text": [
      "780\n",
      "1\n"
     ]
    },
    {
     "name": "stderr",
     "output_type": "stream",
     "text": [
      "INFO - Motor 2: movement ceased. Continuing with command buffer.\n",
      "\n",
      "INFO - Channel: 1 position: 12.5244140625\n",
      "INFO - Response: ''\n",
      "\n",
      "INFO - Sending next command(1741): '2PR592\\r\\n'\n"
     ]
    },
    {
     "name": "stdout",
     "output_type": "stream",
     "text": [
      "780\n",
      "1\n"
     ]
    },
    {
     "name": "stderr",
     "output_type": "stream",
     "text": [
      "INFO - Motor 2: movement ceased. Continuing with command buffer.\n",
      "\n",
      "INFO - Channel: 1 position: 12.5244140625\n",
      "INFO - Response: ''\n",
      "\n",
      "INFO - Sending next command(1742): '2PR592\\r\\n'\n"
     ]
    },
    {
     "name": "stdout",
     "output_type": "stream",
     "text": [
      "780\n",
      "1\n"
     ]
    },
    {
     "name": "stderr",
     "output_type": "stream",
     "text": [
      "INFO - Motor 2: movement ceased. Continuing with command buffer.\n",
      "\n",
      "INFO - Channel: 1 position: 12.5244140625\n",
      "INFO - Response: ''\n",
      "\n",
      "INFO - Sending next command(1743): '2PR592\\r\\n'\n"
     ]
    },
    {
     "name": "stdout",
     "output_type": "stream",
     "text": [
      "780\n",
      "1\n"
     ]
    },
    {
     "name": "stderr",
     "output_type": "stream",
     "text": [
      "INFO - Motor 2: movement ceased. Continuing with command buffer.\n",
      "\n",
      "INFO - Channel: 1 position: 12.5244140625\n",
      "INFO - Response: ''\n",
      "\n",
      "INFO - Sending next command(1744): '2PR592\\r\\n'\n"
     ]
    },
    {
     "name": "stdout",
     "output_type": "stream",
     "text": [
      "780\n",
      "1\n"
     ]
    },
    {
     "name": "stderr",
     "output_type": "stream",
     "text": [
      "INFO - Motor 2: movement ceased. Continuing with command buffer.\n",
      "\n",
      "INFO - Channel: 1 position: 12.5244140625\n",
      "ERROR - Current position 12.5244140625 deg. Setpoint not achieved by -44.4755859375 deg after max iterations.\n",
      "INFO - Channel: 1 position: 12.5244140625\n",
      "INFO - Channel: 1 position: 12.5244140625\n",
      "INFO - avg_steps: 3733.03613281\n",
      "INFO - Channel: 1 position: 12.5244140625\n",
      "INFO - Response: ''\n",
      "\n",
      "INFO - Sending next command(1745): '2PR2613\\r\\n'\n"
     ]
    },
    {
     "name": "stdout",
     "output_type": "stream",
     "text": [
      "780\n",
      "1\n",
      "780\n",
      "1\n",
      "780\n",
      "1\n",
      "780\n",
      "1\n"
     ]
    },
    {
     "name": "stderr",
     "output_type": "stream",
     "text": [
      "INFO - Motor 2: movement ceased. Continuing with command buffer.\n",
      "\n",
      "INFO - Channel: 1 position: 12.5244140625\n",
      "INFO - Response: ''\n",
      "\n",
      "INFO - Sending next command(1746): '2PR2613\\r\\n'\n"
     ]
    },
    {
     "name": "stdout",
     "output_type": "stream",
     "text": [
      "780\n",
      "1\n"
     ]
    },
    {
     "name": "stderr",
     "output_type": "stream",
     "text": [
      "INFO - Motor 2: movement ceased. Continuing with command buffer.\n",
      "\n",
      "INFO - Channel: 1 position: 12.5244140625\n",
      "INFO - Response: ''\n",
      "\n",
      "INFO - Sending next command(1747): '2PR2613\\r\\n'\n"
     ]
    },
    {
     "name": "stdout",
     "output_type": "stream",
     "text": [
      "780\n",
      "1\n"
     ]
    },
    {
     "name": "stderr",
     "output_type": "stream",
     "text": [
      "INFO - Motor 2: movement ceased. Continuing with command buffer.\n",
      "\n",
      "INFO - Channel: 1 position: 12.5244140625\n",
      "INFO - Response: ''\n",
      "\n",
      "INFO - Sending next command(1748): '2PR2613\\r\\n'\n"
     ]
    },
    {
     "name": "stdout",
     "output_type": "stream",
     "text": [
      "780\n",
      "1\n"
     ]
    },
    {
     "name": "stderr",
     "output_type": "stream",
     "text": [
      "INFO - Motor 2: movement ceased. Continuing with command buffer.\n",
      "\n",
      "INFO - Channel: 1 position: 12.5244140625\n",
      "INFO - Response: ''\n",
      "\n",
      "INFO - Sending next command(1749): '2PR2613\\r\\n'\n"
     ]
    },
    {
     "name": "stdout",
     "output_type": "stream",
     "text": [
      "780\n",
      "1\n"
     ]
    },
    {
     "name": "stderr",
     "output_type": "stream",
     "text": [
      "INFO - Motor 2: movement ceased. Continuing with command buffer.\n",
      "\n",
      "INFO - Channel: 1 position: 12.5244140625\n",
      "INFO - Response: ''\n",
      "\n",
      "INFO - Sending next command(1750): '2PR2613\\r\\n'\n"
     ]
    },
    {
     "name": "stdout",
     "output_type": "stream",
     "text": [
      "780\n",
      "1\n"
     ]
    },
    {
     "name": "stderr",
     "output_type": "stream",
     "text": [
      "INFO - Motor 2: movement ceased. Continuing with command buffer.\n",
      "\n",
      "INFO - Channel: 1 position: 12.5244140625\n",
      "INFO - Response: ''\n",
      "\n",
      "INFO - Sending next command(1751): '2PR2613\\r\\n'\n"
     ]
    },
    {
     "name": "stdout",
     "output_type": "stream",
     "text": [
      "780\n",
      "1\n"
     ]
    },
    {
     "name": "stderr",
     "output_type": "stream",
     "text": [
      "INFO - Motor 2: movement ceased. Continuing with command buffer.\n",
      "\n",
      "INFO - Channel: 1 position: 12.5244140625\n",
      "INFO - Response: ''\n",
      "\n",
      "INFO - Sending next command(1752): '2PR2613\\r\\n'\n"
     ]
    },
    {
     "name": "stdout",
     "output_type": "stream",
     "text": [
      "780\n",
      "1\n"
     ]
    },
    {
     "name": "stderr",
     "output_type": "stream",
     "text": [
      "INFO - Motor 2: movement ceased. Continuing with command buffer.\n",
      "\n",
      "INFO - Channel: 1 position: 12.5244140625\n",
      "INFO - Response: ''\n",
      "\n",
      "INFO - Sending next command(1753): '2PR2613\\r\\n'\n"
     ]
    },
    {
     "name": "stdout",
     "output_type": "stream",
     "text": [
      "780\n",
      "1\n"
     ]
    },
    {
     "name": "stderr",
     "output_type": "stream",
     "text": [
      "INFO - Motor 2: movement ceased. Continuing with command buffer.\n",
      "\n",
      "INFO - Channel: 1 position: 12.5244140625\n",
      "INFO - Response: ''\n",
      "\n",
      "INFO - Sending next command(1754): '2PR2613\\r\\n'\n"
     ]
    },
    {
     "name": "stdout",
     "output_type": "stream",
     "text": [
      "780\n",
      "1\n"
     ]
    },
    {
     "name": "stderr",
     "output_type": "stream",
     "text": [
      "INFO - Motor 2: movement ceased. Continuing with command buffer.\n",
      "\n",
      "INFO - Channel: 1 position: 12.5244140625\n",
      "INFO - Response: ''\n",
      "\n",
      "INFO - Sending next command(1755): '2PR2613\\r\\n'\n"
     ]
    },
    {
     "name": "stdout",
     "output_type": "stream",
     "text": [
      "780\n",
      "1\n"
     ]
    },
    {
     "name": "stderr",
     "output_type": "stream",
     "text": [
      "INFO - Motor 2: movement ceased. Continuing with command buffer.\n",
      "\n",
      "INFO - Channel: 1 position: 12.5244140625\n",
      "INFO - Response: ''\n",
      "\n",
      "INFO - Sending next command(1756): '2PR2613\\r\\n'\n"
     ]
    },
    {
     "name": "stdout",
     "output_type": "stream",
     "text": [
      "780\n",
      "1\n"
     ]
    },
    {
     "name": "stderr",
     "output_type": "stream",
     "text": [
      "INFO - Motor 2: movement ceased. Continuing with command buffer.\n",
      "\n",
      "INFO - Channel: 1 position: 12.5244140625\n",
      "INFO - Response: ''\n",
      "\n",
      "INFO - Sending next command(1757): '2PR2613\\r\\n'\n"
     ]
    },
    {
     "name": "stdout",
     "output_type": "stream",
     "text": [
      "780\n",
      "1\n"
     ]
    },
    {
     "name": "stderr",
     "output_type": "stream",
     "text": [
      "INFO - Motor 2: movement ceased. Continuing with command buffer.\n",
      "\n",
      "INFO - Channel: 1 position: 12.5244140625\n",
      "INFO - Response: ''\n",
      "\n",
      "INFO - Sending next command(1758): '2PR2613\\r\\n'\n"
     ]
    },
    {
     "name": "stdout",
     "output_type": "stream",
     "text": [
      "780\n",
      "1\n"
     ]
    },
    {
     "name": "stderr",
     "output_type": "stream",
     "text": [
      "INFO - Motor 2: movement ceased. Continuing with command buffer.\n",
      "\n",
      "INFO - Channel: 1 position: 12.5244140625\n",
      "INFO - Response: ''\n",
      "\n",
      "INFO - Sending next command(1759): '2PR2613\\r\\n'\n"
     ]
    },
    {
     "name": "stdout",
     "output_type": "stream",
     "text": [
      "780\n",
      "1\n"
     ]
    },
    {
     "name": "stderr",
     "output_type": "stream",
     "text": [
      "INFO - Motor 2: movement ceased. Continuing with command buffer.\n",
      "\n",
      "INFO - Channel: 1 position: 12.5244140625\n",
      "INFO - Response: ''\n",
      "\n",
      "INFO - Sending next command(1760): '2PR2613\\r\\n'\n"
     ]
    },
    {
     "name": "stdout",
     "output_type": "stream",
     "text": [
      "780\n",
      "1\n"
     ]
    },
    {
     "name": "stderr",
     "output_type": "stream",
     "text": [
      "INFO - Motor 2: movement ceased. Continuing with command buffer.\n",
      "\n",
      "INFO - Channel: 1 position: 12.5244140625\n",
      "INFO - Response: ''\n",
      "\n",
      "INFO - Sending next command(1761): '2PR2613\\r\\n'\n"
     ]
    },
    {
     "name": "stdout",
     "output_type": "stream",
     "text": [
      "780\n",
      "1\n"
     ]
    },
    {
     "name": "stderr",
     "output_type": "stream",
     "text": [
      "INFO - Motor 2: movement ceased. Continuing with command buffer.\n",
      "\n",
      "INFO - Channel: 1 position: 12.5244140625\n",
      "INFO - Response: ''\n",
      "\n",
      "INFO - Sending next command(1762): '2PR2613\\r\\n'\n"
     ]
    },
    {
     "name": "stdout",
     "output_type": "stream",
     "text": [
      "780\n",
      "1\n"
     ]
    },
    {
     "name": "stderr",
     "output_type": "stream",
     "text": [
      "INFO - Motor 2: movement ceased. Continuing with command buffer.\n",
      "\n",
      "INFO - Channel: 1 position: 12.5244140625\n",
      "INFO - Response: ''\n",
      "\n",
      "INFO - Sending next command(1763): '2PR2613\\r\\n'\n"
     ]
    },
    {
     "name": "stdout",
     "output_type": "stream",
     "text": [
      "780\n",
      "1\n"
     ]
    },
    {
     "name": "stderr",
     "output_type": "stream",
     "text": [
      "INFO - Motor 2: movement ceased. Continuing with command buffer.\n",
      "\n",
      "INFO - Channel: 1 position: 12.5244140625\n",
      "INFO - Response: ''\n",
      "\n",
      "INFO - Sending next command(1764): '2PR2613\\r\\n'\n"
     ]
    },
    {
     "name": "stdout",
     "output_type": "stream",
     "text": [
      "780\n",
      "1\n"
     ]
    },
    {
     "name": "stderr",
     "output_type": "stream",
     "text": [
      "INFO - Motor 2: movement ceased. Continuing with command buffer.\n",
      "\n",
      "INFO - Channel: 1 position: 12.5244140625\n",
      "ERROR - Current position 12.5244140625 deg. Setpoint not achieved by -196.475585938 deg after max iterations.\n",
      "INFO - Channel: 1 position: 12.5244140625\n",
      "INFO - Channel: 1 position: 12.5244140625\n",
      "INFO - avg_steps: 4493.03613281\n",
      "INFO - Channel: 1 position: 12.5244140625\n",
      "INFO - Response: ''\n",
      "\n",
      "INFO - Sending next command(1765): '2PR3145\\r\\n'\n"
     ]
    },
    {
     "name": "stdout",
     "output_type": "stream",
     "text": [
      "780\n",
      "1\n",
      "780\n",
      "1\n",
      "780\n",
      "1\n",
      "780\n",
      "1\n"
     ]
    },
    {
     "name": "stderr",
     "output_type": "stream",
     "text": [
      "INFO - Motor 2: movement ceased. Continuing with command buffer.\n",
      "\n",
      "INFO - Channel: 1 position: 12.5244140625\n",
      "INFO - Response: ''\n",
      "\n",
      "INFO - Sending next command(1766): '2PR3145\\r\\n'\n"
     ]
    },
    {
     "name": "stdout",
     "output_type": "stream",
     "text": [
      "780\n",
      "1\n"
     ]
    },
    {
     "name": "stderr",
     "output_type": "stream",
     "text": [
      "INFO - Motor 2: movement ceased. Continuing with command buffer.\n",
      "\n",
      "INFO - Channel: 1 position: 12.5244140625\n",
      "INFO - Response: ''\n",
      "\n",
      "INFO - Sending next command(1767): '2PR3145\\r\\n'\n"
     ]
    },
    {
     "name": "stdout",
     "output_type": "stream",
     "text": [
      "780\n",
      "1\n"
     ]
    },
    {
     "name": "stderr",
     "output_type": "stream",
     "text": [
      "INFO - Motor 2: movement ceased. Continuing with command buffer.\n",
      "\n",
      "INFO - Channel: 1 position: 12.5244140625\n",
      "INFO - Response: ''\n",
      "\n",
      "INFO - Sending next command(1768): '2PR3145\\r\\n'\n"
     ]
    },
    {
     "name": "stdout",
     "output_type": "stream",
     "text": [
      "780\n",
      "1\n"
     ]
    },
    {
     "name": "stderr",
     "output_type": "stream",
     "text": [
      "INFO - Motor 2: movement ceased. Continuing with command buffer.\n",
      "\n",
      "INFO - Channel: 1 position: 12.5244140625\n",
      "INFO - Response: ''\n",
      "\n",
      "INFO - Sending next command(1769): '2PR3145\\r\\n'\n"
     ]
    },
    {
     "name": "stdout",
     "output_type": "stream",
     "text": [
      "780\n",
      "1\n"
     ]
    },
    {
     "name": "stderr",
     "output_type": "stream",
     "text": [
      "INFO - Motor 2: movement ceased. Continuing with command buffer.\n",
      "\n",
      "INFO - Channel: 1 position: 12.5244140625\n",
      "INFO - Response: ''\n",
      "\n",
      "INFO - Sending next command(1770): '2PR3145\\r\\n'\n"
     ]
    },
    {
     "name": "stdout",
     "output_type": "stream",
     "text": [
      "780\n",
      "1\n"
     ]
    },
    {
     "name": "stderr",
     "output_type": "stream",
     "text": [
      "INFO - Motor 2: movement ceased. Continuing with command buffer.\n",
      "\n",
      "INFO - Channel: 1 position: 12.5244140625\n",
      "INFO - Response: ''\n",
      "\n",
      "INFO - Sending next command(1771): '2PR3145\\r\\n'\n"
     ]
    },
    {
     "name": "stdout",
     "output_type": "stream",
     "text": [
      "780\n",
      "1\n"
     ]
    },
    {
     "name": "stderr",
     "output_type": "stream",
     "text": [
      "INFO - Motor 2: movement ceased. Continuing with command buffer.\n",
      "\n",
      "INFO - Channel: 1 position: 12.5244140625\n",
      "INFO - Response: ''\n",
      "\n",
      "INFO - Sending next command(1772): '2PR3145\\r\\n'\n"
     ]
    },
    {
     "name": "stdout",
     "output_type": "stream",
     "text": [
      "780\n",
      "1\n"
     ]
    },
    {
     "name": "stderr",
     "output_type": "stream",
     "text": [
      "INFO - Motor 2: movement ceased. Continuing with command buffer.\n",
      "\n",
      "INFO - Channel: 1 position: 12.5244140625\n",
      "INFO - Response: ''\n",
      "\n",
      "INFO - Sending next command(1773): '2PR3145\\r\\n'\n"
     ]
    },
    {
     "name": "stdout",
     "output_type": "stream",
     "text": [
      "780\n",
      "1\n"
     ]
    },
    {
     "name": "stderr",
     "output_type": "stream",
     "text": [
      "INFO - Motor 2: movement ceased. Continuing with command buffer.\n",
      "\n",
      "INFO - Channel: 1 position: 12.5244140625\n",
      "INFO - Response: ''\n",
      "\n",
      "INFO - Sending next command(1774): '2PR3145\\r\\n'\n"
     ]
    },
    {
     "name": "stdout",
     "output_type": "stream",
     "text": [
      "780\n",
      "1\n"
     ]
    },
    {
     "name": "stderr",
     "output_type": "stream",
     "text": [
      "INFO - Motor 2: movement ceased. Continuing with command buffer.\n",
      "\n",
      "INFO - Channel: 1 position: 12.5244140625\n",
      "INFO - Response: ''\n",
      "\n",
      "INFO - Sending next command(1775): '2PR3145\\r\\n'\n"
     ]
    },
    {
     "name": "stdout",
     "output_type": "stream",
     "text": [
      "780\n",
      "1\n"
     ]
    },
    {
     "name": "stderr",
     "output_type": "stream",
     "text": [
      "INFO - Motor 2: movement ceased. Continuing with command buffer.\n",
      "\n",
      "INFO - Channel: 1 position: 12.5244140625\n",
      "INFO - Response: ''\n",
      "\n",
      "INFO - Sending next command(1776): '2PR3145\\r\\n'\n"
     ]
    },
    {
     "name": "stdout",
     "output_type": "stream",
     "text": [
      "780\n",
      "1\n"
     ]
    },
    {
     "name": "stderr",
     "output_type": "stream",
     "text": [
      "INFO - Motor 2: movement ceased. Continuing with command buffer.\n",
      "\n",
      "INFO - Channel: 1 position: 12.5244140625\n",
      "INFO - Response: ''\n",
      "\n",
      "INFO - Sending next command(1777): '2PR3145\\r\\n'\n"
     ]
    },
    {
     "name": "stdout",
     "output_type": "stream",
     "text": [
      "780\n",
      "1\n"
     ]
    },
    {
     "name": "stderr",
     "output_type": "stream",
     "text": [
      "INFO - Motor 2: movement ceased. Continuing with command buffer.\n",
      "\n",
      "INFO - Channel: 1 position: 12.5244140625\n",
      "INFO - Response: ''\n",
      "\n",
      "INFO - Sending next command(1778): '2PR3145\\r\\n'\n"
     ]
    },
    {
     "name": "stdout",
     "output_type": "stream",
     "text": [
      "780\n",
      "1\n"
     ]
    },
    {
     "name": "stderr",
     "output_type": "stream",
     "text": [
      "INFO - Motor 2: movement ceased. Continuing with command buffer.\n",
      "\n",
      "INFO - Channel: 1 position: 12.5244140625\n",
      "INFO - Response: ''\n",
      "\n",
      "INFO - Sending next command(1779): '2PR3145\\r\\n'\n"
     ]
    },
    {
     "name": "stdout",
     "output_type": "stream",
     "text": [
      "780\n",
      "1\n"
     ]
    },
    {
     "name": "stderr",
     "output_type": "stream",
     "text": [
      "INFO - Motor 2: movement ceased. Continuing with command buffer.\n",
      "\n",
      "INFO - Channel: 1 position: 12.5244140625\n",
      "INFO - Response: ''\n",
      "\n",
      "INFO - Sending next command(1780): '2PR3145\\r\\n'\n"
     ]
    },
    {
     "name": "stdout",
     "output_type": "stream",
     "text": [
      "780\n",
      "1\n"
     ]
    },
    {
     "name": "stderr",
     "output_type": "stream",
     "text": [
      "INFO - Motor 2: movement ceased. Continuing with command buffer.\n",
      "\n",
      "INFO - Channel: 1 position: 12.5244140625\n",
      "INFO - Response: ''\n",
      "\n",
      "INFO - Sending next command(1781): '2PR3145\\r\\n'\n"
     ]
    },
    {
     "name": "stdout",
     "output_type": "stream",
     "text": [
      "780\n",
      "1\n"
     ]
    },
    {
     "name": "stderr",
     "output_type": "stream",
     "text": [
      "INFO - Motor 2: movement ceased. Continuing with command buffer.\n",
      "\n",
      "INFO - Channel: 1 position: 12.5244140625\n",
      "INFO - Response: ''\n",
      "\n",
      "INFO - Sending next command(1782): '2PR3145\\r\\n'\n"
     ]
    },
    {
     "name": "stdout",
     "output_type": "stream",
     "text": [
      "780\n",
      "1\n"
     ]
    },
    {
     "name": "stderr",
     "output_type": "stream",
     "text": [
      "INFO - Motor 2: movement ceased. Continuing with command buffer.\n",
      "\n",
      "INFO - Channel: 1 position: 12.5244140625\n",
      "INFO - Response: ''\n",
      "\n",
      "INFO - Sending next command(1783): '2PR3145\\r\\n'\n"
     ]
    },
    {
     "name": "stdout",
     "output_type": "stream",
     "text": [
      "780\n",
      "1\n"
     ]
    },
    {
     "name": "stderr",
     "output_type": "stream",
     "text": [
      "INFO - Motor 2: movement ceased. Continuing with command buffer.\n",
      "\n",
      "INFO - Channel: 1 position: 12.5244140625\n",
      "INFO - Response: ''\n",
      "\n",
      "INFO - Sending next command(1784): '2PR3145\\r\\n'\n"
     ]
    },
    {
     "name": "stdout",
     "output_type": "stream",
     "text": [
      "780\n",
      "1\n"
     ]
    },
    {
     "name": "stderr",
     "output_type": "stream",
     "text": [
      "INFO - Motor 2: movement ceased. Continuing with command buffer.\n",
      "\n",
      "INFO - Channel: 1 position: 12.5244140625\n",
      "ERROR - Current position 12.5244140625 deg. Setpoint not achieved by -236.475585938 deg after max iterations.\n",
      "INFO - Channel: 1 position: 12.5244140625\n",
      "INFO - Channel: 1 position: 12.5244140625\n",
      "INFO - avg_steps: 3296.03613281\n",
      "INFO - Channel: 1 position: 12.5244140625\n",
      "INFO - Response: ''\n",
      "\n",
      "INFO - Sending next command(1785): '2PR2307\\r\\n'\n"
     ]
    },
    {
     "name": "stdout",
     "output_type": "stream",
     "text": [
      "780\n",
      "1\n",
      "780\n",
      "1\n",
      "780\n",
      "1\n",
      "780\n",
      "1\n"
     ]
    },
    {
     "name": "stderr",
     "output_type": "stream",
     "text": [
      "INFO - Motor 2: movement ceased. Continuing with command buffer.\n",
      "\n",
      "INFO - Channel: 1 position: 12.5244140625\n",
      "INFO - Response: ''\n",
      "\n",
      "INFO - Sending next command(1786): '2PR2307\\r\\n'\n"
     ]
    },
    {
     "name": "stdout",
     "output_type": "stream",
     "text": [
      "780\n",
      "1\n"
     ]
    },
    {
     "name": "stderr",
     "output_type": "stream",
     "text": [
      "INFO - Motor 2: movement ceased. Continuing with command buffer.\n",
      "\n",
      "INFO - Channel: 1 position: 12.5244140625\n",
      "INFO - Response: ''\n",
      "\n",
      "INFO - Sending next command(1787): '2PR2307\\r\\n'\n"
     ]
    },
    {
     "name": "stdout",
     "output_type": "stream",
     "text": [
      "780\n",
      "1\n"
     ]
    },
    {
     "name": "stderr",
     "output_type": "stream",
     "text": [
      "INFO - Motor 2: movement ceased. Continuing with command buffer.\n",
      "\n",
      "INFO - Channel: 1 position: 12.5244140625\n",
      "INFO - Response: ''\n",
      "\n",
      "INFO - Sending next command(1788): '2PR2307\\r\\n'\n"
     ]
    },
    {
     "name": "stdout",
     "output_type": "stream",
     "text": [
      "780\n",
      "1\n"
     ]
    },
    {
     "name": "stderr",
     "output_type": "stream",
     "text": [
      "INFO - Motor 2: movement ceased. Continuing with command buffer.\n",
      "\n",
      "INFO - Channel: 1 position: 12.5244140625\n",
      "INFO - Response: ''\n",
      "\n",
      "INFO - Sending next command(1789): '2PR2307\\r\\n'\n"
     ]
    },
    {
     "name": "stdout",
     "output_type": "stream",
     "text": [
      "780\n",
      "1\n"
     ]
    },
    {
     "name": "stderr",
     "output_type": "stream",
     "text": [
      "INFO - Motor 2: movement ceased. Continuing with command buffer.\n",
      "\n",
      "INFO - Channel: 1 position: 12.5244140625\n",
      "INFO - Response: ''\n",
      "\n",
      "INFO - Sending next command(1790): '2PR2307\\r\\n'\n"
     ]
    },
    {
     "name": "stdout",
     "output_type": "stream",
     "text": [
      "780\n",
      "1\n"
     ]
    },
    {
     "name": "stderr",
     "output_type": "stream",
     "text": [
      "INFO - Motor 2: movement ceased. Continuing with command buffer.\n",
      "\n",
      "INFO - Channel: 1 position: 12.5244140625\n",
      "INFO - Response: ''\n",
      "\n",
      "INFO - Sending next command(1791): '2PR2307\\r\\n'\n"
     ]
    },
    {
     "name": "stdout",
     "output_type": "stream",
     "text": [
      "780\n",
      "1\n"
     ]
    },
    {
     "name": "stderr",
     "output_type": "stream",
     "text": [
      "INFO - Motor 2: movement ceased. Continuing with command buffer.\n",
      "\n",
      "INFO - Channel: 1 position: 12.5244140625\n",
      "INFO - Response: ''\n",
      "\n",
      "INFO - Sending next command(1792): '2PR2307\\r\\n'\n"
     ]
    },
    {
     "name": "stdout",
     "output_type": "stream",
     "text": [
      "780\n",
      "1\n"
     ]
    },
    {
     "name": "stderr",
     "output_type": "stream",
     "text": [
      "INFO - Motor 2: movement ceased. Continuing with command buffer.\n",
      "\n",
      "INFO - Channel: 1 position: 12.5244140625\n",
      "INFO - Response: ''\n",
      "\n",
      "INFO - Sending next command(1793): '2PR2307\\r\\n'\n"
     ]
    },
    {
     "name": "stdout",
     "output_type": "stream",
     "text": [
      "780\n",
      "1\n"
     ]
    },
    {
     "name": "stderr",
     "output_type": "stream",
     "text": [
      "INFO - Motor 2: movement ceased. Continuing with command buffer.\n",
      "\n",
      "INFO - Channel: 1 position: 12.5244140625\n",
      "INFO - Response: ''\n",
      "\n",
      "INFO - Sending next command(1794): '2PR2307\\r\\n'\n"
     ]
    },
    {
     "name": "stdout",
     "output_type": "stream",
     "text": [
      "780\n",
      "1\n"
     ]
    },
    {
     "name": "stderr",
     "output_type": "stream",
     "text": [
      "INFO - Motor 2: movement ceased. Continuing with command buffer.\n",
      "\n",
      "INFO - Channel: 1 position: 12.5244140625\n",
      "INFO - Response: ''\n",
      "\n",
      "INFO - Sending next command(1795): '2PR2307\\r\\n'\n"
     ]
    },
    {
     "name": "stdout",
     "output_type": "stream",
     "text": [
      "780\n",
      "1\n"
     ]
    },
    {
     "name": "stderr",
     "output_type": "stream",
     "text": [
      "INFO - Motor 2: movement ceased. Continuing with command buffer.\n",
      "\n",
      "INFO - Channel: 1 position: 12.5244140625\n",
      "INFO - Response: ''\n",
      "\n",
      "INFO - Sending next command(1796): '2PR2307\\r\\n'\n"
     ]
    },
    {
     "name": "stdout",
     "output_type": "stream",
     "text": [
      "780\n",
      "1\n"
     ]
    },
    {
     "name": "stderr",
     "output_type": "stream",
     "text": [
      "INFO - Motor 2: movement ceased. Continuing with command buffer.\n",
      "\n",
      "INFO - Channel: 1 position: 12.5244140625\n",
      "INFO - Response: ''\n",
      "\n",
      "INFO - Sending next command(1797): '2PR2307\\r\\n'\n"
     ]
    },
    {
     "name": "stdout",
     "output_type": "stream",
     "text": [
      "780\n",
      "1\n"
     ]
    },
    {
     "name": "stderr",
     "output_type": "stream",
     "text": [
      "INFO - Motor 2: movement ceased. Continuing with command buffer.\n",
      "\n",
      "INFO - Channel: 1 position: 12.5244140625\n",
      "INFO - Response: ''\n",
      "\n",
      "INFO - Sending next command(1798): '2PR2307\\r\\n'\n"
     ]
    },
    {
     "name": "stdout",
     "output_type": "stream",
     "text": [
      "780\n",
      "1\n"
     ]
    },
    {
     "name": "stderr",
     "output_type": "stream",
     "text": [
      "INFO - Motor 2: movement ceased. Continuing with command buffer.\n",
      "\n",
      "INFO - Channel: 1 position: 12.5244140625\n",
      "INFO - Response: ''\n",
      "\n",
      "INFO - Sending next command(1799): '2PR2307\\r\\n'\n"
     ]
    },
    {
     "name": "stdout",
     "output_type": "stream",
     "text": [
      "780\n",
      "1\n"
     ]
    },
    {
     "name": "stderr",
     "output_type": "stream",
     "text": [
      "INFO - Motor 2: movement ceased. Continuing with command buffer.\n",
      "\n",
      "INFO - Channel: 1 position: 12.5244140625\n",
      "INFO - Response: ''\n",
      "\n",
      "INFO - Sending next command(1800): '2PR2307\\r\\n'\n"
     ]
    },
    {
     "name": "stdout",
     "output_type": "stream",
     "text": [
      "780\n",
      "1\n"
     ]
    },
    {
     "name": "stderr",
     "output_type": "stream",
     "text": [
      "INFO - Motor 2: movement ceased. Continuing with command buffer.\n",
      "\n",
      "INFO - Channel: 1 position: 12.5244140625\n",
      "INFO - Response: ''\n",
      "\n",
      "INFO - Sending next command(1801): '2PR2307\\r\\n'\n"
     ]
    },
    {
     "name": "stdout",
     "output_type": "stream",
     "text": [
      "780\n",
      "1\n"
     ]
    },
    {
     "name": "stderr",
     "output_type": "stream",
     "text": [
      "INFO - Motor 2: movement ceased. Continuing with command buffer.\n",
      "\n",
      "INFO - Channel: 1 position: 12.5244140625\n",
      "INFO - Response: ''\n",
      "\n",
      "INFO - Sending next command(1802): '2PR2307\\r\\n'\n"
     ]
    },
    {
     "name": "stdout",
     "output_type": "stream",
     "text": [
      "780\n",
      "1\n"
     ]
    },
    {
     "name": "stderr",
     "output_type": "stream",
     "text": [
      "INFO - Motor 2: movement ceased. Continuing with command buffer.\n",
      "\n",
      "INFO - Channel: 1 position: 12.5244140625\n",
      "INFO - Response: ''\n",
      "\n",
      "INFO - Sending next command(1803): '2PR2307\\r\\n'\n"
     ]
    },
    {
     "name": "stdout",
     "output_type": "stream",
     "text": [
      "780\n",
      "1\n"
     ]
    },
    {
     "name": "stderr",
     "output_type": "stream",
     "text": [
      "INFO - Motor 2: movement ceased. Continuing with command buffer.\n",
      "\n",
      "INFO - Channel: 1 position: 13.1396484375\n",
      "INFO - Response: ''\n",
      "\n",
      "INFO - Sending next command(1804): '2PR2299\\r\\n'\n"
     ]
    },
    {
     "name": "stdout",
     "output_type": "stream",
     "text": [
      "780\n",
      "1\n"
     ]
    },
    {
     "name": "stderr",
     "output_type": "stream",
     "text": [
      "INFO - Motor 2: movement ceased. Continuing with command buffer.\n",
      "\n",
      "INFO - Channel: 1 position: 35.068359375\n",
      "ERROR - Current position 35.068359375 deg. Setpoint not achieved by -150.931640625 deg after max iterations.\n",
      "INFO - Channel: 1 position: 35.068359375\n",
      "INFO - Channel: 1 position: 35.068359375\n",
      "INFO - avg_steps: -571.298828125\n",
      "INFO - Need to go negative. Current position 35.068359375 DEG. Setpoint 5 DEG. Steps to be taken: -1571\n",
      "INFO - Response: ''\n",
      "\n",
      "INFO - Sending next command(1805): '2PR-1571\\r\\n'\n"
     ]
    },
    {
     "name": "stdout",
     "output_type": "stream",
     "text": [
      "780\n",
      "1\n",
      "780\n",
      "1\n",
      "780\n",
      "1\n"
     ]
    },
    {
     "name": "stderr",
     "output_type": "stream",
     "text": [
      "INFO - Motor 2: movement ceased. Continuing with command buffer.\n",
      "\n",
      "INFO - Channel: 1 position: -45.2197265625\n",
      "INFO - Response: ''\n",
      "\n",
      "INFO - Sending next command(1806): '2PR668\\r\\n'\n"
     ]
    },
    {
     "name": "stdout",
     "output_type": "stream",
     "text": [
      "780\n",
      "1\n"
     ]
    },
    {
     "name": "stderr",
     "output_type": "stream",
     "text": [
      "INFO - Motor 2: movement ceased. Continuing with command buffer.\n",
      "\n",
      "INFO - Channel: 1 position: -27.0703125\n",
      "INFO - Response: ''\n",
      "\n",
      "INFO - Sending next command(1807): '2PR427\\r\\n'\n"
     ]
    },
    {
     "name": "stdout",
     "output_type": "stream",
     "text": [
      "780\n",
      "1\n"
     ]
    },
    {
     "name": "stderr",
     "output_type": "stream",
     "text": [
      "INFO - Motor 2: movement ceased. Continuing with command buffer.\n",
      "\n",
      "INFO - Channel: 1 position: -20.6103515625\n",
      "INFO - Response: ''\n",
      "\n",
      "INFO - Sending next command(1808): '2PR341\\r\\n'\n"
     ]
    },
    {
     "name": "stdout",
     "output_type": "stream",
     "text": [
      "780\n",
      "1\n"
     ]
    },
    {
     "name": "stderr",
     "output_type": "stream",
     "text": [
      "INFO - Motor 2: movement ceased. Continuing with command buffer.\n",
      "\n",
      "INFO - Channel: 1 position: -15.380859375\n",
      "INFO - Response: ''\n",
      "\n",
      "INFO - Sending next command(1809): '2PR271\\r\\n'\n"
     ]
    },
    {
     "name": "stdout",
     "output_type": "stream",
     "text": [
      "780\n",
      "1\n"
     ]
    },
    {
     "name": "stderr",
     "output_type": "stream",
     "text": [
      "INFO - Motor 2: movement ceased. Continuing with command buffer.\n",
      "\n",
      "INFO - Channel: 1 position: -11.25\n",
      "INFO - Response: ''\n",
      "\n",
      "INFO - Sending next command(1810): '2PR216\\r\\n'\n"
     ]
    },
    {
     "name": "stdout",
     "output_type": "stream",
     "text": [
      "780\n",
      "1\n"
     ]
    },
    {
     "name": "stderr",
     "output_type": "stream",
     "text": [
      "INFO - Motor 2: movement ceased. Continuing with command buffer.\n",
      "\n",
      "INFO - Channel: 1 position: -7.8662109375\n",
      "INFO - Response: ''\n",
      "\n",
      "INFO - Sending next command(1811): '2PR171\\r\\n'\n"
     ]
    },
    {
     "name": "stdout",
     "output_type": "stream",
     "text": [
      "780\n",
      "1\n"
     ]
    },
    {
     "name": "stderr",
     "output_type": "stream",
     "text": [
      "INFO - Motor 2: movement ceased. Continuing with command buffer.\n",
      "\n",
      "INFO - Channel: 1 position: -5.2734375\n",
      "INFO - Response: ''\n",
      "\n",
      "INFO - Sending next command(1812): '2PR137\\r\\n'\n"
     ]
    },
    {
     "name": "stdout",
     "output_type": "stream",
     "text": [
      "780\n",
      "1\n"
     ]
    },
    {
     "name": "stderr",
     "output_type": "stream",
     "text": [
      "INFO - Motor 2: movement ceased. Continuing with command buffer.\n",
      "\n",
      "INFO - Channel: 1 position: -3.4716796875\n",
      "INFO - Response: ''\n",
      "\n",
      "INFO - Sending next command(1813): '2PR113\\r\\n'\n"
     ]
    },
    {
     "name": "stdout",
     "output_type": "stream",
     "text": [
      "780\n",
      "1\n"
     ]
    },
    {
     "name": "stderr",
     "output_type": "stream",
     "text": [
      "INFO - Motor 2: movement ceased. Continuing with command buffer.\n",
      "\n",
      "INFO - Channel: 1 position: -2.109375\n",
      "INFO - Response: ''\n",
      "\n",
      "INFO - Sending next command(1814): '2PR95\\r\\n'\n"
     ]
    },
    {
     "name": "stdout",
     "output_type": "stream",
     "text": [
      "780\n",
      "1\n"
     ]
    },
    {
     "name": "stderr",
     "output_type": "stream",
     "text": [
      "INFO - Motor 2: movement ceased. Continuing with command buffer.\n",
      "\n",
      "INFO - Channel: 1 position: -1.0986328125\n",
      "INFO - Response: ''\n",
      "\n",
      "INFO - Sending next command(1815): '2PR81\\r\\n'\n"
     ]
    },
    {
     "name": "stdout",
     "output_type": "stream",
     "text": [
      "780\n",
      "1\n"
     ]
    },
    {
     "name": "stderr",
     "output_type": "stream",
     "text": [
      "INFO - Motor 2: movement ceased. Continuing with command buffer.\n",
      "\n",
      "INFO - Channel: 1 position: -0.3076171875\n",
      "INFO - Response: ''\n",
      "\n",
      "INFO - Sending next command(1816): '2PR71\\r\\n'\n"
     ]
    },
    {
     "name": "stdout",
     "output_type": "stream",
     "text": [
      "780\n",
      "1\n"
     ]
    },
    {
     "name": "stderr",
     "output_type": "stream",
     "text": [
      "INFO - Motor 2: movement ceased. Continuing with command buffer.\n",
      "\n",
      "INFO - Channel: 1 position: 0.439453125\n",
      "INFO - Response: ''\n",
      "\n",
      "INFO - Sending next command(1817): '2PR61\\r\\n'\n"
     ]
    },
    {
     "name": "stdout",
     "output_type": "stream",
     "text": [
      "780\n",
      "1\n"
     ]
    },
    {
     "name": "stderr",
     "output_type": "stream",
     "text": [
      "INFO - Motor 2: movement ceased. Continuing with command buffer.\n",
      "\n",
      "INFO - Channel: 1 position: 1.142578125\n",
      "INFO - Response: ''\n",
      "\n",
      "INFO - Sending next command(1818): '2PR51\\r\\n'\n"
     ]
    },
    {
     "name": "stdout",
     "output_type": "stream",
     "text": [
      "780\n",
      "1\n"
     ]
    },
    {
     "name": "stderr",
     "output_type": "stream",
     "text": [
      "INFO - Motor 2: movement ceased. Continuing with command buffer.\n",
      "\n",
      "INFO - Channel: 1 position: 1.845703125\n",
      "INFO - Response: ''\n",
      "\n",
      "INFO - Sending next command(1819): '2PR42\\r\\n'\n"
     ]
    },
    {
     "name": "stdout",
     "output_type": "stream",
     "text": [
      "780\n",
      "1\n"
     ]
    },
    {
     "name": "stderr",
     "output_type": "stream",
     "text": [
      "INFO - Motor 2: movement ceased. Continuing with command buffer.\n",
      "\n",
      "INFO - Channel: 1 position: 2.5048828125\n",
      "INFO - Response: ''\n",
      "\n",
      "INFO - Sending next command(1820): '2PR33\\r\\n'\n"
     ]
    },
    {
     "name": "stdout",
     "output_type": "stream",
     "text": [
      "780\n",
      "1\n"
     ]
    },
    {
     "name": "stderr",
     "output_type": "stream",
     "text": [
      "INFO - Motor 2: movement ceased. Continuing with command buffer.\n",
      "\n",
      "INFO - Channel: 1 position: 3.1201171875\n",
      "INFO - Response: ''\n",
      "\n",
      "INFO - Sending next command(1821): '2PR25\\r\\n'\n"
     ]
    },
    {
     "name": "stdout",
     "output_type": "stream",
     "text": [
      "780\n",
      "1\n"
     ]
    },
    {
     "name": "stderr",
     "output_type": "stream",
     "text": [
      "INFO - Motor 2: movement ceased. Continuing with command buffer.\n",
      "\n",
      "INFO - Channel: 1 position: 3.6474609375\n",
      "INFO - Response: ''\n",
      "\n",
      "INFO - Sending next command(1822): '2PR18\\r\\n'\n"
     ]
    },
    {
     "name": "stdout",
     "output_type": "stream",
     "text": [
      "780\n",
      "1\n"
     ]
    },
    {
     "name": "stderr",
     "output_type": "stream",
     "text": [
      "INFO - Motor 2: movement ceased. Continuing with command buffer.\n",
      "\n",
      "INFO - Channel: 1 position: 4.04296875\n",
      "INFO - Response: ''\n",
      "\n",
      "INFO - Sending next command(1823): '2PR13\\r\\n'\n"
     ]
    },
    {
     "name": "stdout",
     "output_type": "stream",
     "text": [
      "780\n",
      "1\n"
     ]
    },
    {
     "name": "stderr",
     "output_type": "stream",
     "text": [
      "INFO - Motor 2: movement ceased. Continuing with command buffer.\n",
      "\n",
      "INFO - Channel: 1 position: 4.306640625\n",
      "INFO - Response: ''\n",
      "\n",
      "INFO - Sending next command(1824): '2PR9\\r\\n'\n"
     ]
    },
    {
     "name": "stdout",
     "output_type": "stream",
     "text": [
      "780\n",
      "1\n"
     ]
    },
    {
     "name": "stderr",
     "output_type": "stream",
     "text": [
      "INFO - Motor 2: movement ceased. Continuing with command buffer.\n",
      "\n",
      "INFO - Channel: 1 position: 4.482421875\n",
      "INFO - Response: ''\n",
      "\n",
      "INFO - Sending next command(1825): '2PR7\\r\\n'\n"
     ]
    },
    {
     "name": "stdout",
     "output_type": "stream",
     "text": [
      "780\n",
      "1\n"
     ]
    },
    {
     "name": "stderr",
     "output_type": "stream",
     "text": [
      "INFO - Motor 2: movement ceased. Continuing with command buffer.\n",
      "\n",
      "INFO - Channel: 1 position: 4.658203125\n",
      "ERROR - Current position 4.658203125 deg. Setpoint not achieved by -0.341796875 deg after max iterations.\n",
      "INFO - Channel: 1 position: 4.658203125\n",
      "INFO - Channel: 1 position: 4.658203125\n",
      "INFO - avg_steps: -259.505859375\n",
      "INFO - Need to go negative. Current position 4.658203125 DEG. Setpoint -9 DEG. Steps to be taken: -1260\n",
      "INFO - Response: ''\n",
      "\n",
      "INFO - Sending next command(1826): '2PR-1260\\r\\n'\n"
     ]
    },
    {
     "name": "stdout",
     "output_type": "stream",
     "text": [
      "780\n",
      "1\n",
      "780\n",
      "1\n",
      "780\n",
      "1\n"
     ]
    },
    {
     "name": "stderr",
     "output_type": "stream",
     "text": [
      "INFO - Motor 2: movement ceased. Continuing with command buffer.\n",
      "\n",
      "INFO - Channel: 1 position: -56.9970703125\n",
      "INFO - Response: ''\n",
      "\n",
      "INFO - Sending next command(1827): '2PR638\\r\\n'\n"
     ]
    },
    {
     "name": "stdout",
     "output_type": "stream",
     "text": [
      "780\n",
      "1\n"
     ]
    },
    {
     "name": "stderr",
     "output_type": "stream",
     "text": [
      "INFO - Motor 2: movement ceased. Continuing with command buffer.\n",
      "\n",
      "INFO - Channel: 1 position: -39.4189453125\n",
      "INFO - Response: ''\n",
      "\n",
      "INFO - Sending next command(1828): '2PR405\\r\\n'\n"
     ]
    },
    {
     "name": "stdout",
     "output_type": "stream",
     "text": [
      "780\n",
      "1\n"
     ]
    },
    {
     "name": "stderr",
     "output_type": "stream",
     "text": [
      "INFO - Motor 2: movement ceased. Continuing with command buffer.\n",
      "\n",
      "INFO - Channel: 1 position: -35.2001953125\n",
      "INFO - Response: ''\n",
      "\n",
      "INFO - Sending next command(1829): '2PR348\\r\\n'\n"
     ]
    },
    {
     "name": "stdout",
     "output_type": "stream",
     "text": [
      "780\n",
      "1\n"
     ]
    },
    {
     "name": "stderr",
     "output_type": "stream",
     "text": [
      "INFO - Motor 2: movement ceased. Continuing with command buffer.\n",
      "\n",
      "INFO - Channel: 1 position: -33.75\n",
      "INFO - Response: ''\n",
      "\n",
      "INFO - Sending next command(1830): '2PR329\\r\\n'\n"
     ]
    },
    {
     "name": "stdout",
     "output_type": "stream",
     "text": [
      "780\n",
      "1\n"
     ]
    },
    {
     "name": "stderr",
     "output_type": "stream",
     "text": [
      "INFO - Motor 2: movement ceased. Continuing with command buffer.\n",
      "\n",
      "INFO - Channel: 1 position: -33.046875\n",
      "INFO - Response: ''\n",
      "\n",
      "INFO - Sending next command(1831): '2PR320\\r\\n'\n"
     ]
    },
    {
     "name": "stdout",
     "output_type": "stream",
     "text": [
      "780\n",
      "1\n"
     ]
    },
    {
     "name": "stderr",
     "output_type": "stream",
     "text": [
      "INFO - Motor 2: movement ceased. Continuing with command buffer.\n",
      "\n",
      "INFO - Channel: 1 position: -32.34375\n",
      "INFO - Response: ''\n",
      "\n",
      "INFO - Sending next command(1832): '2PR310\\r\\n'\n"
     ]
    },
    {
     "name": "stdout",
     "output_type": "stream",
     "text": [
      "780\n",
      "1\n"
     ]
    },
    {
     "name": "stderr",
     "output_type": "stream",
     "text": [
      "INFO - Motor 2: movement ceased. Continuing with command buffer.\n",
      "\n",
      "INFO - Channel: 1 position: -31.7724609375\n",
      "INFO - Response: ''\n",
      "\n",
      "INFO - Sending next command(1833): '2PR303\\r\\n'\n"
     ]
    },
    {
     "name": "stdout",
     "output_type": "stream",
     "text": [
      "780\n",
      "1\n"
     ]
    },
    {
     "name": "stderr",
     "output_type": "stream",
     "text": [
      "INFO - Motor 2: movement ceased. Continuing with command buffer.\n",
      "\n",
      "INFO - Channel: 1 position: -31.2451171875\n",
      "INFO - Response: ''\n",
      "\n",
      "INFO - Sending next command(1834): '2PR296\\r\\n'\n"
     ]
    },
    {
     "name": "stdout",
     "output_type": "stream",
     "text": [
      "780\n",
      "1\n"
     ]
    },
    {
     "name": "stderr",
     "output_type": "stream",
     "text": [
      "INFO - Motor 2: movement ceased. Continuing with command buffer.\n",
      "\n",
      "INFO - Channel: 1 position: -30.76171875\n",
      "INFO - Response: ''\n",
      "\n",
      "INFO - Sending next command(1835): '2PR289\\r\\n'\n"
     ]
    },
    {
     "name": "stdout",
     "output_type": "stream",
     "text": [
      "780\n",
      "1\n"
     ]
    },
    {
     "name": "stderr",
     "output_type": "stream",
     "text": [
      "INFO - Motor 2: movement ceased. Continuing with command buffer.\n",
      "\n",
      "INFO - Channel: 1 position: -30.322265625\n",
      "INFO - Response: ''\n",
      "\n",
      "INFO - Sending next command(1836): '2PR284\\r\\n'\n"
     ]
    },
    {
     "name": "stdout",
     "output_type": "stream",
     "text": [
      "780\n",
      "1\n"
     ]
    },
    {
     "name": "stderr",
     "output_type": "stream",
     "text": [
      "INFO - Motor 2: movement ceased. Continuing with command buffer.\n",
      "\n",
      "INFO - Channel: 1 position: -29.8388671875\n",
      "INFO - Response: ''\n",
      "\n",
      "INFO - Sending next command(1837): '2PR277\\r\\n'\n"
     ]
    },
    {
     "name": "stdout",
     "output_type": "stream",
     "text": [
      "780\n",
      "1\n"
     ]
    },
    {
     "name": "stderr",
     "output_type": "stream",
     "text": [
      "INFO - Motor 2: movement ceased. Continuing with command buffer.\n",
      "\n",
      "INFO - Channel: 1 position: -29.35546875\n",
      "INFO - Response: ''\n",
      "\n",
      "INFO - Sending next command(1838): '2PR271\\r\\n'\n"
     ]
    },
    {
     "name": "stdout",
     "output_type": "stream",
     "text": [
      "780\n",
      "1\n"
     ]
    },
    {
     "name": "stderr",
     "output_type": "stream",
     "text": [
      "INFO - Motor 2: movement ceased. Continuing with command buffer.\n",
      "\n",
      "INFO - Channel: 1 position: -28.828125\n",
      "INFO - Response: ''\n",
      "\n",
      "INFO - Sending next command(1839): '2PR264\\r\\n'\n"
     ]
    },
    {
     "name": "stdout",
     "output_type": "stream",
     "text": [
      "780\n",
      "1\n"
     ]
    },
    {
     "name": "stderr",
     "output_type": "stream",
     "text": [
      "INFO - Motor 2: movement ceased. Continuing with command buffer.\n",
      "\n",
      "INFO - Channel: 1 position: -28.2568359375\n",
      "INFO - Response: ''\n",
      "\n",
      "INFO - Sending next command(1840): '2PR256\\r\\n'\n"
     ]
    },
    {
     "name": "stdout",
     "output_type": "stream",
     "text": [
      "780\n",
      "1\n"
     ]
    },
    {
     "name": "stderr",
     "output_type": "stream",
     "text": [
      "INFO - Motor 2: movement ceased. Continuing with command buffer.\n",
      "\n",
      "INFO - Channel: 1 position: -27.7294921875\n",
      "INFO - Response: ''\n",
      "\n",
      "INFO - Sending next command(1841): '2PR249\\r\\n'\n"
     ]
    },
    {
     "name": "stdout",
     "output_type": "stream",
     "text": [
      "780\n",
      "1\n"
     ]
    },
    {
     "name": "stderr",
     "output_type": "stream",
     "text": [
      "INFO - Motor 2: movement ceased. Continuing with command buffer.\n",
      "\n",
      "INFO - Channel: 1 position: -27.158203125\n",
      "INFO - Response: ''\n",
      "\n",
      "INFO - Sending next command(1842): '2PR242\\r\\n'\n"
     ]
    },
    {
     "name": "stdout",
     "output_type": "stream",
     "text": [
      "780\n",
      "1\n"
     ]
    },
    {
     "name": "stderr",
     "output_type": "stream",
     "text": [
      "INFO - Motor 2: movement ceased. Continuing with command buffer.\n",
      "\n",
      "INFO - Channel: 1 position: -26.54296875\n",
      "INFO - Response: ''\n",
      "\n",
      "INFO - Sending next command(1843): '2PR233\\r\\n'\n"
     ]
    },
    {
     "name": "stdout",
     "output_type": "stream",
     "text": [
      "780\n",
      "1\n"
     ]
    },
    {
     "name": "stderr",
     "output_type": "stream",
     "text": [
      "INFO - Motor 2: movement ceased. Continuing with command buffer.\n",
      "\n",
      "INFO - Channel: 1 position: -25.8837890625\n",
      "INFO - Response: ''\n",
      "\n",
      "INFO - Sending next command(1844): '2PR225\\r\\n'\n"
     ]
    },
    {
     "name": "stdout",
     "output_type": "stream",
     "text": [
      "780\n",
      "1\n"
     ]
    },
    {
     "name": "stderr",
     "output_type": "stream",
     "text": [
      "INFO - Motor 2: movement ceased. Continuing with command buffer.\n",
      "\n",
      "INFO - Channel: 1 position: -25.13671875\n",
      "INFO - Response: ''\n",
      "\n",
      "INFO - Sending next command(1845): '2PR215\\r\\n'\n"
     ]
    },
    {
     "name": "stdout",
     "output_type": "stream",
     "text": [
      "780\n",
      "1\n"
     ]
    },
    {
     "name": "stderr",
     "output_type": "stream",
     "text": [
      "INFO - Motor 2: movement ceased. Continuing with command buffer.\n",
      "\n",
      "INFO - Channel: 1 position: -24.3896484375\n",
      "INFO - Response: ''\n",
      "\n",
      "INFO - Sending next command(1846): '2PR205\\r\\n'\n"
     ]
    },
    {
     "name": "stdout",
     "output_type": "stream",
     "text": [
      "780\n",
      "1\n"
     ]
    },
    {
     "name": "stderr",
     "output_type": "stream",
     "text": [
      "INFO - Motor 2: movement ceased. Continuing with command buffer.\n",
      "\n",
      "INFO - Channel: 1 position: -23.37890625\n",
      "ERROR - Current position -23.37890625 deg. Setpoint not achieved by -14.37890625 deg after max iterations.\n",
      "INFO - Channel: 1 position: -23.37890625\n",
      "INFO - Channel: 1 position: -23.37890625\n",
      "INFO - avg_steps: 3959.19921875\n",
      "INFO - Channel: 1 position: -23.37890625\n",
      "INFO - Response: ''\n",
      "\n",
      "INFO - Sending next command(1847): '2PR2771\\r\\n'\n"
     ]
    },
    {
     "name": "stdout",
     "output_type": "stream",
     "text": [
      "780\n",
      "1\n",
      "780\n",
      "1\n",
      "780\n",
      "1\n",
      "780\n",
      "1\n"
     ]
    },
    {
     "name": "stderr",
     "output_type": "stream",
     "text": [
      "INFO - Motor 2: movement ceased. Continuing with command buffer.\n",
      "\n",
      "INFO - Channel: 1 position: -3.251953125\n",
      "INFO - Response: ''\n",
      "\n",
      "INFO - Sending next command(1848): '2PR2504\\r\\n'\n"
     ]
    },
    {
     "name": "stdout",
     "output_type": "stream",
     "text": [
      "780\n",
      "1\n"
     ]
    },
    {
     "name": "stderr",
     "output_type": "stream",
     "text": [
      "INFO - Motor 2: movement ceased. Continuing with command buffer.\n",
      "\n",
      "INFO - Channel: 1 position: -3.251953125\n",
      "INFO - Response: ''\n",
      "\n",
      "INFO - Sending next command(1849): '2PR2504\\r\\n'\n"
     ]
    },
    {
     "name": "stdout",
     "output_type": "stream",
     "text": [
      "780\n",
      "1\n"
     ]
    },
    {
     "name": "stderr",
     "output_type": "stream",
     "text": [
      "INFO - Motor 2: movement ceased. Continuing with command buffer.\n",
      "\n",
      "INFO - Channel: 1 position: -3.251953125\n",
      "INFO - Response: ''\n",
      "\n",
      "INFO - Sending next command(1850): '2PR2504\\r\\n'\n"
     ]
    },
    {
     "name": "stdout",
     "output_type": "stream",
     "text": [
      "780\n",
      "1\n"
     ]
    },
    {
     "name": "stderr",
     "output_type": "stream",
     "text": [
      "INFO - Motor 2: movement ceased. Continuing with command buffer.\n",
      "\n",
      "INFO - Channel: 1 position: -3.251953125\n",
      "INFO - Response: ''\n",
      "\n",
      "INFO - Sending next command(1851): '2PR2504\\r\\n'\n"
     ]
    },
    {
     "name": "stdout",
     "output_type": "stream",
     "text": [
      "780\n",
      "1\n"
     ]
    },
    {
     "name": "stderr",
     "output_type": "stream",
     "text": [
      "INFO - Motor 2: movement ceased. Continuing with command buffer.\n",
      "\n",
      "INFO - Channel: 1 position: -3.251953125\n",
      "INFO - Response: ''\n",
      "\n",
      "INFO - Sending next command(1852): '2PR2504\\r\\n'\n"
     ]
    },
    {
     "name": "stdout",
     "output_type": "stream",
     "text": [
      "780\n",
      "1\n"
     ]
    },
    {
     "name": "stderr",
     "output_type": "stream",
     "text": [
      "INFO - Motor 2: movement ceased. Continuing with command buffer.\n",
      "\n",
      "INFO - Channel: 1 position: -3.251953125\n",
      "INFO - Response: ''\n",
      "\n",
      "INFO - Sending next command(1853): '2PR2504\\r\\n'\n"
     ]
    },
    {
     "name": "stdout",
     "output_type": "stream",
     "text": [
      "780\n",
      "1\n"
     ]
    },
    {
     "name": "stderr",
     "output_type": "stream",
     "text": [
      "INFO - Motor 2: movement ceased. Continuing with command buffer.\n",
      "\n",
      "INFO - Channel: 1 position: -3.251953125\n",
      "INFO - Response: ''\n",
      "\n",
      "INFO - Sending next command(1854): '2PR2504\\r\\n'\n"
     ]
    },
    {
     "name": "stdout",
     "output_type": "stream",
     "text": [
      "780\n",
      "1\n"
     ]
    },
    {
     "name": "stderr",
     "output_type": "stream",
     "text": [
      "INFO - Motor 2: movement ceased. Continuing with command buffer.\n",
      "\n",
      "INFO - Channel: 1 position: -3.251953125\n",
      "INFO - Response: ''\n",
      "\n",
      "INFO - Sending next command(1855): '2PR2504\\r\\n'\n"
     ]
    },
    {
     "name": "stdout",
     "output_type": "stream",
     "text": [
      "780\n",
      "1\n"
     ]
    },
    {
     "name": "stderr",
     "output_type": "stream",
     "text": [
      "INFO - Motor 2: movement ceased. Continuing with command buffer.\n",
      "\n",
      "INFO - Channel: 1 position: -3.251953125\n",
      "INFO - Response: ''\n",
      "\n",
      "INFO - Sending next command(1856): '2PR2504\\r\\n'\n"
     ]
    },
    {
     "name": "stdout",
     "output_type": "stream",
     "text": [
      "780\n",
      "1\n"
     ]
    },
    {
     "name": "stderr",
     "output_type": "stream",
     "text": [
      "INFO - Motor 2: movement ceased. Continuing with command buffer.\n",
      "\n",
      "INFO - Channel: 1 position: -3.251953125\n",
      "INFO - Response: ''\n",
      "\n",
      "INFO - Sending next command(1857): '2PR2504\\r\\n'\n"
     ]
    },
    {
     "name": "stdout",
     "output_type": "stream",
     "text": [
      "780\n",
      "1\n"
     ]
    },
    {
     "name": "stderr",
     "output_type": "stream",
     "text": [
      "INFO - Motor 2: movement ceased. Continuing with command buffer.\n",
      "\n",
      "INFO - Channel: 1 position: -3.251953125\n",
      "INFO - Response: ''\n",
      "\n",
      "INFO - Sending next command(1858): '2PR2504\\r\\n'\n"
     ]
    },
    {
     "name": "stdout",
     "output_type": "stream",
     "text": [
      "780\n",
      "1\n"
     ]
    },
    {
     "name": "stderr",
     "output_type": "stream",
     "text": [
      "INFO - Motor 2: movement ceased. Continuing with command buffer.\n",
      "\n",
      "INFO - Channel: 1 position: -3.251953125\n",
      "INFO - Response: ''\n",
      "\n",
      "INFO - Sending next command(1859): '2PR2504\\r\\n'\n"
     ]
    },
    {
     "name": "stdout",
     "output_type": "stream",
     "text": [
      "780\n",
      "1\n"
     ]
    },
    {
     "name": "stderr",
     "output_type": "stream",
     "text": [
      "INFO - Motor 2: movement ceased. Continuing with command buffer.\n",
      "\n",
      "INFO - Channel: 1 position: -3.251953125\n",
      "INFO - Response: ''\n",
      "\n",
      "INFO - Sending next command(1860): '2PR2504\\r\\n'\n"
     ]
    },
    {
     "name": "stdout",
     "output_type": "stream",
     "text": [
      "780\n",
      "1\n"
     ]
    },
    {
     "name": "stderr",
     "output_type": "stream",
     "text": [
      "INFO - Motor 2: movement ceased. Continuing with command buffer.\n",
      "\n",
      "INFO - Channel: 1 position: 5.8447265625\n",
      "INFO - Response: ''\n",
      "\n",
      "INFO - Sending next command(1861): '2PR2383\\r\\n'\n"
     ]
    },
    {
     "name": "stdout",
     "output_type": "stream",
     "text": [
      "780\n",
      "1\n"
     ]
    },
    {
     "name": "stderr",
     "output_type": "stream",
     "text": [
      "INFO - Motor 2: movement ceased. Continuing with command buffer.\n",
      "\n",
      "INFO - Channel: 1 position: 6.1962890625\n",
      "INFO - Response: ''\n",
      "\n",
      "INFO - Sending next command(1862): '2PR2378\\r\\n'\n"
     ]
    },
    {
     "name": "stdout",
     "output_type": "stream",
     "text": [
      "780\n",
      "1\n"
     ]
    },
    {
     "name": "stderr",
     "output_type": "stream",
     "text": [
      "INFO - Motor 2: movement ceased. Continuing with command buffer.\n",
      "\n",
      "INFO - Channel: 1 position: 6.6796875\n",
      "INFO - Response: ''\n",
      "\n",
      "INFO - Sending next command(1863): '2PR2372\\r\\n'\n"
     ]
    },
    {
     "name": "stdout",
     "output_type": "stream",
     "text": [
      "780\n",
      "1\n"
     ]
    },
    {
     "name": "stderr",
     "output_type": "stream",
     "text": [
      "INFO - Motor 2: movement ceased. Continuing with command buffer.\n",
      "\n",
      "INFO - Channel: 1 position: 13.0517578125\n",
      "INFO - Response: ''\n",
      "\n",
      "INFO - Sending next command(1864): '2PR2287\\r\\n'\n"
     ]
    },
    {
     "name": "stdout",
     "output_type": "stream",
     "text": [
      "780\n",
      "1\n"
     ]
    },
    {
     "name": "stderr",
     "output_type": "stream",
     "text": [
      "INFO - Motor 2: movement ceased. Continuing with command buffer.\n",
      "\n",
      "INFO - Channel: 1 position: 13.7548828125\n",
      "INFO - Response: ''\n",
      "\n",
      "INFO - Sending next command(1865): '2PR2278\\r\\n'\n"
     ]
    },
    {
     "name": "stdout",
     "output_type": "stream",
     "text": [
      "780\n",
      "1\n"
     ]
    },
    {
     "name": "stderr",
     "output_type": "stream",
     "text": [
      "INFO - Motor 2: movement ceased. Continuing with command buffer.\n",
      "\n",
      "INFO - Channel: 1 position: 13.4033203125\n",
      "INFO - Response: ''\n",
      "\n",
      "INFO - Sending next command(1866): '2PR2282\\r\\n'\n"
     ]
    },
    {
     "name": "stdout",
     "output_type": "stream",
     "text": [
      "780\n",
      "1\n"
     ]
    },
    {
     "name": "stderr",
     "output_type": "stream",
     "text": [
      "INFO - Motor 2: movement ceased. Continuing with command buffer.\n",
      "\n",
      "INFO - Channel: 1 position: 25.48828125\n",
      "ERROR - Current position 25.48828125 deg. Setpoint not achieved by -159.51171875 deg after max iterations.\n",
      "INFO - Channel: 1 position: 25.576171875\n",
      "INFO - Channel: 1 position: 25.7080078125\n",
      "INFO - avg_steps: 746.547851562\n",
      "INFO - Channel: 1 position: 25.83984375\n",
      "INFO - Response: ''\n",
      "\n",
      "INFO - Sending next command(1867): '2PR521\\r\\n'\n"
     ]
    },
    {
     "name": "stdout",
     "output_type": "stream",
     "text": [
      "780\n",
      "1\n",
      "780\n",
      "1\n",
      "780\n",
      "1\n",
      "780\n",
      "1\n"
     ]
    },
    {
     "name": "stderr",
     "output_type": "stream",
     "text": [
      "INFO - Motor 2: movement ceased. Continuing with command buffer.\n",
      "\n",
      "INFO - Channel: 1 position: 27.685546875\n",
      "INFO - Response: ''\n",
      "\n",
      "INFO - Sending next command(1868): '2PR496\\r\\n'\n"
     ]
    },
    {
     "name": "stdout",
     "output_type": "stream",
     "text": [
      "780\n",
      "1\n"
     ]
    },
    {
     "name": "stderr",
     "output_type": "stream",
     "text": [
      "INFO - Motor 2: movement ceased. Continuing with command buffer.\n",
      "\n",
      "INFO - Channel: 1 position: 30.322265625\n",
      "INFO - Response: ''\n",
      "\n",
      "INFO - Sending next command(1869): '2PR461\\r\\n'\n"
     ]
    },
    {
     "name": "stdout",
     "output_type": "stream",
     "text": [
      "780\n",
      "1\n"
     ]
    },
    {
     "name": "stderr",
     "output_type": "stream",
     "text": [
      "INFO - Motor 2: movement ceased. Continuing with command buffer.\n",
      "\n",
      "INFO - Channel: 1 position: 30.673828125\n",
      "INFO - Response: ''\n",
      "\n",
      "INFO - Sending next command(1870): '2PR457\\r\\n'\n"
     ]
    },
    {
     "name": "stdout",
     "output_type": "stream",
     "text": [
      "780\n",
      "1\n"
     ]
    },
    {
     "name": "stderr",
     "output_type": "stream",
     "text": [
      "INFO - Motor 2: movement ceased. Continuing with command buffer.\n",
      "\n",
      "INFO - Channel: 1 position: 30.8935546875\n",
      "INFO - Response: ''\n",
      "\n",
      "INFO - Sending next command(1871): '2PR454\\r\\n'\n"
     ]
    },
    {
     "name": "stdout",
     "output_type": "stream",
     "text": [
      "780\n",
      "1\n"
     ]
    },
    {
     "name": "stderr",
     "output_type": "stream",
     "text": [
      "INFO - Motor 2: movement ceased. Continuing with command buffer.\n",
      "\n",
      "INFO - Channel: 1 position: 30.9814453125\n",
      "INFO - Response: ''\n",
      "\n",
      "INFO - Sending next command(1872): '2PR452\\r\\n'\n"
     ]
    },
    {
     "name": "stdout",
     "output_type": "stream",
     "text": [
      "780\n",
      "1\n"
     ]
    },
    {
     "name": "stderr",
     "output_type": "stream",
     "text": [
      "INFO - Motor 2: movement ceased. Continuing with command buffer.\n",
      "\n",
      "INFO - Channel: 1 position: 31.025390625\n",
      "INFO - Response: ''\n",
      "\n",
      "INFO - Sending next command(1873): '2PR452\\r\\n'\n"
     ]
    },
    {
     "name": "stdout",
     "output_type": "stream",
     "text": [
      "780\n",
      "1\n"
     ]
    },
    {
     "name": "stderr",
     "output_type": "stream",
     "text": [
      "INFO - Motor 2: movement ceased. Continuing with command buffer.\n",
      "\n",
      "INFO - Channel: 1 position: 31.025390625\n",
      "INFO - Response: ''\n",
      "\n",
      "INFO - Sending next command(1874): '2PR452\\r\\n'\n"
     ]
    },
    {
     "name": "stdout",
     "output_type": "stream",
     "text": [
      "780\n",
      "1\n"
     ]
    },
    {
     "name": "stderr",
     "output_type": "stream",
     "text": [
      "INFO - Motor 2: movement ceased. Continuing with command buffer.\n",
      "\n",
      "INFO - Channel: 1 position: 31.025390625\n",
      "INFO - Response: ''\n",
      "\n",
      "INFO - Sending next command(1875): '2PR452\\r\\n'\n"
     ]
    },
    {
     "name": "stdout",
     "output_type": "stream",
     "text": [
      "780\n",
      "1\n"
     ]
    },
    {
     "name": "stderr",
     "output_type": "stream",
     "text": [
      "INFO - Motor 2: movement ceased. Continuing with command buffer.\n",
      "\n",
      "INFO - Channel: 1 position: 31.0693359375\n",
      "INFO - Response: ''\n",
      "\n",
      "INFO - Sending next command(1876): '2PR451\\r\\n'\n"
     ]
    },
    {
     "name": "stdout",
     "output_type": "stream",
     "text": [
      "780\n",
      "1\n"
     ]
    },
    {
     "name": "stderr",
     "output_type": "stream",
     "text": [
      "INFO - Motor 2: movement ceased. Continuing with command buffer.\n",
      "\n",
      "INFO - Channel: 1 position: 31.0693359375\n",
      "INFO - Response: ''\n",
      "\n",
      "INFO - Sending next command(1877): '2PR451\\r\\n'\n"
     ]
    },
    {
     "name": "stdout",
     "output_type": "stream",
     "text": [
      "780\n",
      "1\n"
     ]
    },
    {
     "name": "stderr",
     "output_type": "stream",
     "text": [
      "INFO - Motor 2: movement ceased. Continuing with command buffer.\n",
      "\n",
      "INFO - Channel: 1 position: 31.0693359375\n",
      "INFO - Response: ''\n",
      "\n",
      "INFO - Sending next command(1878): '2PR451\\r\\n'\n"
     ]
    },
    {
     "name": "stdout",
     "output_type": "stream",
     "text": [
      "780\n",
      "1\n"
     ]
    },
    {
     "name": "stderr",
     "output_type": "stream",
     "text": [
      "INFO - Motor 2: movement ceased. Continuing with command buffer.\n",
      "\n",
      "INFO - Channel: 1 position: 31.0693359375\n",
      "INFO - Response: ''\n",
      "\n",
      "INFO - Sending next command(1879): '2PR451\\r\\n'\n"
     ]
    },
    {
     "name": "stdout",
     "output_type": "stream",
     "text": [
      "780\n",
      "1\n"
     ]
    },
    {
     "name": "stderr",
     "output_type": "stream",
     "text": [
      "INFO - Motor 2: movement ceased. Continuing with command buffer.\n",
      "\n",
      "INFO - Channel: 1 position: 31.0693359375\n",
      "INFO - Response: ''\n",
      "\n",
      "INFO - Sending next command(1880): '2PR451\\r\\n'\n"
     ]
    },
    {
     "name": "stdout",
     "output_type": "stream",
     "text": [
      "780\n",
      "1\n"
     ]
    },
    {
     "name": "stderr",
     "output_type": "stream",
     "text": [
      "INFO - Motor 2: movement ceased. Continuing with command buffer.\n",
      "\n",
      "INFO - Channel: 1 position: 31.0693359375\n",
      "INFO - Response: ''\n",
      "\n",
      "INFO - Sending next command(1881): '2PR451\\r\\n'\n"
     ]
    },
    {
     "name": "stdout",
     "output_type": "stream",
     "text": [
      "780\n",
      "1\n"
     ]
    },
    {
     "name": "stderr",
     "output_type": "stream",
     "text": [
      "INFO - Motor 2: movement ceased. Continuing with command buffer.\n",
      "\n",
      "INFO - Channel: 1 position: 31.0693359375\n",
      "INFO - Response: ''\n",
      "\n",
      "INFO - Sending next command(1882): '2PR451\\r\\n'\n"
     ]
    },
    {
     "name": "stdout",
     "output_type": "stream",
     "text": [
      "780\n",
      "1\n"
     ]
    },
    {
     "name": "stderr",
     "output_type": "stream",
     "text": [
      "INFO - Motor 2: movement ceased. Continuing with command buffer.\n",
      "\n",
      "INFO - Channel: 1 position: 31.0693359375\n",
      "INFO - Response: ''\n",
      "\n",
      "INFO - Sending next command(1883): '2PR451\\r\\n'\n"
     ]
    },
    {
     "name": "stdout",
     "output_type": "stream",
     "text": [
      "780\n",
      "1\n"
     ]
    },
    {
     "name": "stderr",
     "output_type": "stream",
     "text": [
      "INFO - Motor 2: movement ceased. Continuing with command buffer.\n",
      "\n",
      "INFO - Channel: 1 position: 31.0693359375\n",
      "INFO - Response: ''\n",
      "\n",
      "INFO - Sending next command(1884): '2PR451\\r\\n'\n"
     ]
    },
    {
     "name": "stdout",
     "output_type": "stream",
     "text": [
      "780\n",
      "1\n"
     ]
    },
    {
     "name": "stderr",
     "output_type": "stream",
     "text": [
      "INFO - Motor 2: movement ceased. Continuing with command buffer.\n",
      "\n",
      "INFO - Channel: 1 position: 31.0693359375\n",
      "INFO - Response: ''\n",
      "\n",
      "INFO - Sending next command(1885): '2PR451\\r\\n'\n"
     ]
    },
    {
     "name": "stdout",
     "output_type": "stream",
     "text": [
      "780\n",
      "1\n"
     ]
    },
    {
     "name": "stderr",
     "output_type": "stream",
     "text": [
      "INFO - Motor 2: movement ceased. Continuing with command buffer.\n",
      "\n",
      "INFO - Channel: 1 position: 31.11328125\n",
      "INFO - Response: ''\n",
      "\n",
      "INFO - Sending next command(1886): '2PR451\\r\\n'\n"
     ]
    },
    {
     "name": "stdout",
     "output_type": "stream",
     "text": [
      "780\n",
      "1\n"
     ]
    },
    {
     "name": "stderr",
     "output_type": "stream",
     "text": [
      "INFO - Motor 2: movement ceased. Continuing with command buffer.\n",
      "\n",
      "INFO - Channel: 1 position: 31.11328125\n",
      "ERROR - Current position 31.11328125 deg. Setpoint not achieved by -33.88671875 deg after max iterations.\n",
      "INFO - Channel: 1 position: 31.11328125\n",
      "INFO - Channel: 1 position: 31.11328125\n",
      "INFO - avg_steps: 3702.84765625\n",
      "INFO - Channel: 1 position: 31.11328125\n",
      "INFO - Response: ''\n",
      "\n",
      "INFO - Sending next command(1887): '2PR2592\\r\\n'\n"
     ]
    },
    {
     "name": "stdout",
     "output_type": "stream",
     "text": [
      "780\n",
      "1\n",
      "780\n",
      "1\n",
      "780\n",
      "1\n",
      "780\n",
      "1\n"
     ]
    },
    {
     "name": "stderr",
     "output_type": "stream",
     "text": [
      "INFO - Motor 2: movement ceased. Continuing with command buffer.\n",
      "\n",
      "INFO - Channel: 1 position: 31.11328125\n",
      "INFO - Response: ''\n",
      "\n",
      "INFO - Sending next command(1888): '2PR2592\\r\\n'\n"
     ]
    },
    {
     "name": "stdout",
     "output_type": "stream",
     "text": [
      "780\n",
      "1\n"
     ]
    },
    {
     "name": "stderr",
     "output_type": "stream",
     "text": [
      "INFO - Motor 2: movement ceased. Continuing with command buffer.\n",
      "\n",
      "INFO - Channel: 1 position: 31.11328125\n",
      "INFO - Response: ''\n",
      "\n",
      "INFO - Sending next command(1889): '2PR2592\\r\\n'\n"
     ]
    },
    {
     "name": "stdout",
     "output_type": "stream",
     "text": [
      "780\n",
      "1\n"
     ]
    },
    {
     "name": "stderr",
     "output_type": "stream",
     "text": [
      "INFO - Motor 2: movement ceased. Continuing with command buffer.\n",
      "\n",
      "INFO - Channel: 1 position: 31.11328125\n",
      "INFO - Response: ''\n",
      "\n",
      "INFO - Sending next command(1890): '2PR2592\\r\\n'\n"
     ]
    },
    {
     "name": "stdout",
     "output_type": "stream",
     "text": [
      "780\n",
      "1\n"
     ]
    },
    {
     "name": "stderr",
     "output_type": "stream",
     "text": [
      "INFO - Motor 2: movement ceased. Continuing with command buffer.\n",
      "\n",
      "INFO - Channel: 1 position: 65.9619140625\n",
      "INFO - Response: ''\n",
      "\n",
      "INFO - Sending next command(1891): '2PR2129\\r\\n'\n"
     ]
    },
    {
     "name": "stdout",
     "output_type": "stream",
     "text": [
      "780\n",
      "1\n"
     ]
    },
    {
     "name": "stderr",
     "output_type": "stream",
     "text": [
      "INFO - Motor 2: movement ceased. Continuing with command buffer.\n",
      "\n",
      "INFO - Channel: 1 position: 111.4453125\n",
      "INFO - Response: ''\n",
      "\n",
      "INFO - Sending next command(1892): '2PR1524\\r\\n'\n"
     ]
    },
    {
     "name": "stdout",
     "output_type": "stream",
     "text": [
      "780\n",
      "1\n"
     ]
    },
    {
     "name": "stderr",
     "output_type": "stream",
     "text": [
      "INFO - Motor 2: movement ceased. Continuing with command buffer.\n",
      "\n",
      "INFO - Channel: 1 position: 144.580078125\n",
      "INFO - Response: ''\n",
      "\n",
      "INFO - Sending next command(1893): '2PR1083\\r\\n'\n"
     ]
    },
    {
     "name": "stdout",
     "output_type": "stream",
     "text": [
      "780\n",
      "1\n"
     ]
    },
    {
     "name": "stderr",
     "output_type": "stream",
     "text": [
      "INFO - Motor 2: movement ceased. Continuing with command buffer.\n",
      "\n",
      "INFO - Channel: 1 position: 170.33203125\n",
      "INFO - Response: ''\n",
      "\n",
      "INFO - Sending next command(1894): '2PR740\\r\\n'\n"
     ]
    },
    {
     "name": "stdout",
     "output_type": "stream",
     "text": [
      "780\n",
      "1\n"
     ]
    },
    {
     "name": "stderr",
     "output_type": "stream",
     "text": [
      "INFO - Motor 2: movement ceased. Continuing with command buffer.\n",
      "\n",
      "INFO - Channel: 1 position: 185.229492188\n",
      "INFO - Response: ''\n",
      "\n",
      "INFO - Sending next command(1895): '2PR542\\r\\n'\n"
     ]
    },
    {
     "name": "stdout",
     "output_type": "stream",
     "text": [
      "780\n",
      "1\n"
     ]
    },
    {
     "name": "stderr",
     "output_type": "stream",
     "text": [
      "INFO - Motor 2: movement ceased. Continuing with command buffer.\n",
      "\n",
      "INFO - Channel: 1 position: 196.259765625\n",
      "INFO - Response: ''\n",
      "\n",
      "INFO - Sending next command(1896): '2PR396\\r\\n'\n"
     ]
    },
    {
     "name": "stdout",
     "output_type": "stream",
     "text": [
      "780\n",
      "1\n"
     ]
    },
    {
     "name": "stderr",
     "output_type": "stream",
     "text": [
      "INFO - Motor 2: movement ceased. Continuing with command buffer.\n",
      "\n",
      "INFO - Channel: 1 position: 204.2578125\n",
      "INFO - Response: ''\n",
      "\n",
      "INFO - Sending next command(1897): '2PR289\\r\\n'\n"
     ]
    },
    {
     "name": "stdout",
     "output_type": "stream",
     "text": [
      "780\n",
      "1\n"
     ]
    },
    {
     "name": "stderr",
     "output_type": "stream",
     "text": [
      "INFO - Motor 2: movement ceased. Continuing with command buffer.\n",
      "\n",
      "INFO - Channel: 1 position: 210.278320312\n",
      "INFO - Response: ''\n",
      "\n",
      "INFO - Sending next command(1898): '2PR209\\r\\n'\n"
     ]
    },
    {
     "name": "stdout",
     "output_type": "stream",
     "text": [
      "780\n",
      "1\n"
     ]
    },
    {
     "name": "stderr",
     "output_type": "stream",
     "text": [
      "INFO - Motor 2: movement ceased. Continuing with command buffer.\n",
      "\n",
      "INFO - Channel: 1 position: 214.672851562\n",
      "INFO - Response: ''\n",
      "\n",
      "INFO - Sending next command(1899): '2PR151\\r\\n'\n"
     ]
    },
    {
     "name": "stdout",
     "output_type": "stream",
     "text": [
      "780\n",
      "1\n"
     ]
    },
    {
     "name": "stderr",
     "output_type": "stream",
     "text": [
      "INFO - Motor 2: movement ceased. Continuing with command buffer.\n",
      "\n",
      "INFO - Channel: 1 position: 217.96875\n",
      "INFO - Response: ''\n",
      "\n",
      "INFO - Sending next command(1900): '2PR107\\r\\n'\n"
     ]
    },
    {
     "name": "stdout",
     "output_type": "stream",
     "text": [
      "780\n",
      "1\n"
     ]
    },
    {
     "name": "stderr",
     "output_type": "stream",
     "text": [
      "INFO - Motor 2: movement ceased. Continuing with command buffer.\n",
      "\n",
      "INFO - Channel: 1 position: 220.341796875\n",
      "INFO - Response: ''\n",
      "\n",
      "INFO - Sending next command(1901): '2PR75\\r\\n'\n"
     ]
    },
    {
     "name": "stdout",
     "output_type": "stream",
     "text": [
      "780\n",
      "1\n"
     ]
    },
    {
     "name": "stderr",
     "output_type": "stream",
     "text": [
      "INFO - Motor 2: movement ceased. Continuing with command buffer.\n",
      "\n",
      "INFO - Channel: 1 position: 222.099609375\n",
      "INFO - Response: ''\n",
      "\n",
      "INFO - Sending next command(1902): '2PR52\\r\\n'\n"
     ]
    },
    {
     "name": "stdout",
     "output_type": "stream",
     "text": [
      "780\n",
      "1\n"
     ]
    },
    {
     "name": "stderr",
     "output_type": "stream",
     "text": [
      "INFO - Motor 2: movement ceased. Continuing with command buffer.\n",
      "\n",
      "INFO - Channel: 1 position: 223.374023438\n",
      "INFO - Response: ''\n",
      "\n",
      "INFO - Sending next command(1903): '2PR35\\r\\n'\n"
     ]
    },
    {
     "name": "stdout",
     "output_type": "stream",
     "text": [
      "780\n",
      "1\n"
     ]
    },
    {
     "name": "stderr",
     "output_type": "stream",
     "text": [
      "INFO - Motor 2: movement ceased. Continuing with command buffer.\n",
      "\n",
      "INFO - Channel: 1 position: 224.252929688\n",
      "INFO - Response: ''\n",
      "\n",
      "INFO - Sending next command(1904): '2PR23\\r\\n'\n"
     ]
    },
    {
     "name": "stdout",
     "output_type": "stream",
     "text": [
      "780\n",
      "1\n"
     ]
    },
    {
     "name": "stderr",
     "output_type": "stream",
     "text": [
      "INFO - Motor 2: movement ceased. Continuing with command buffer.\n",
      "\n",
      "INFO - Channel: 1 position: 224.912109375\n",
      "INFO - Response: ''\n",
      "\n",
      "INFO - Sending next command(1905): '2PR14\\r\\n'\n"
     ]
    },
    {
     "name": "stdout",
     "output_type": "stream",
     "text": [
      "780\n",
      "1\n"
     ]
    },
    {
     "name": "stderr",
     "output_type": "stream",
     "text": [
      "INFO - Motor 2: movement ceased. Continuing with command buffer.\n",
      "\n",
      "INFO - Channel: 1 position: 225.307617188\n",
      "INFO - Response: ''\n",
      "\n",
      "INFO - Sending next command(1906): '2PR9\\r\\n'\n"
     ]
    },
    {
     "name": "stdout",
     "output_type": "stream",
     "text": [
      "780\n",
      "1\n"
     ]
    },
    {
     "name": "stderr",
     "output_type": "stream",
     "text": [
      "INFO - Motor 2: movement ceased. Continuing with command buffer.\n",
      "\n",
      "INFO - Channel: 1 position: 225.571289062\n",
      "ERROR - Current position 225.571289062 deg. Setpoint not achieved by -0.4287109375 deg after max iterations.\n",
      "INFO - Channel: 1 position: 225.571289062\n",
      "INFO - Channel: 1 position: 225.571289062\n",
      "INFO - avg_steps: -1758.85449219\n",
      "INFO - Need to go negative. Current position 225.571289062 DEG. Setpoint 133 DEG. Steps to be taken: -2759\n",
      "INFO - Response: ''\n",
      "\n",
      "INFO - Sending next command(1907): '2PR-2759\\r\\n'\n"
     ]
    },
    {
     "name": "stdout",
     "output_type": "stream",
     "text": [
      "780\n",
      "1\n",
      "780\n",
      "1\n",
      "780\n",
      "1\n"
     ]
    },
    {
     "name": "stderr",
     "output_type": "stream",
     "text": [
      "INFO - Motor 2: movement ceased. Continuing with command buffer.\n",
      "\n",
      "INFO - Channel: 1 position: 80.244140625\n",
      "INFO - Response: ''\n",
      "\n",
      "INFO - Sending next command(1908): '2PR702\\r\\n'\n"
     ]
    },
    {
     "name": "stdout",
     "output_type": "stream",
     "text": [
      "780\n",
      "1\n"
     ]
    },
    {
     "name": "stderr",
     "output_type": "stream",
     "text": [
      "INFO - Motor 2: movement ceased. Continuing with command buffer.\n",
      "\n",
      "INFO - Channel: 1 position: 104.633789062\n",
      "INFO - Response: ''\n",
      "\n",
      "INFO - Sending next command(1909): '2PR377\\r\\n'\n"
     ]
    },
    {
     "name": "stdout",
     "output_type": "stream",
     "text": [
      "780\n",
      "1\n"
     ]
    },
    {
     "name": "stderr",
     "output_type": "stream",
     "text": [
      "INFO - Motor 2: movement ceased. Continuing with command buffer.\n",
      "\n",
      "INFO - Channel: 1 position: 113.818359375\n",
      "INFO - Response: ''\n",
      "\n",
      "INFO - Sending next command(1910): '2PR255\\r\\n'\n"
     ]
    },
    {
     "name": "stdout",
     "output_type": "stream",
     "text": [
      "780\n",
      "1\n"
     ]
    },
    {
     "name": "stderr",
     "output_type": "stream",
     "text": [
      "INFO - Motor 2: movement ceased. Continuing with command buffer.\n",
      "\n",
      "INFO - Channel: 1 position: 119.926757812\n",
      "INFO - Response: ''\n",
      "\n",
      "INFO - Sending next command(1911): '2PR174\\r\\n'\n"
     ]
    },
    {
     "name": "stdout",
     "output_type": "stream",
     "text": [
      "780\n",
      "1\n"
     ]
    },
    {
     "name": "stderr",
     "output_type": "stream",
     "text": [
      "INFO - Motor 2: movement ceased. Continuing with command buffer.\n",
      "\n",
      "INFO - Channel: 1 position: 124.189453125\n",
      "INFO - Response: ''\n",
      "\n",
      "INFO - Sending next command(1912): '2PR117\\r\\n'\n"
     ]
    },
    {
     "name": "stdout",
     "output_type": "stream",
     "text": [
      "780\n",
      "1\n"
     ]
    },
    {
     "name": "stderr",
     "output_type": "stream",
     "text": [
      "INFO - Motor 2: movement ceased. Continuing with command buffer.\n",
      "\n",
      "INFO - Channel: 1 position: 127.001953125\n",
      "INFO - Response: ''\n",
      "\n",
      "INFO - Sending next command(1913): '2PR80\\r\\n'\n"
     ]
    },
    {
     "name": "stdout",
     "output_type": "stream",
     "text": [
      "780\n",
      "1\n"
     ]
    },
    {
     "name": "stderr",
     "output_type": "stream",
     "text": [
      "INFO - Motor 2: movement ceased. Continuing with command buffer.\n",
      "\n",
      "INFO - Channel: 1 position: 128.891601562\n",
      "INFO - Response: ''\n",
      "\n",
      "INFO - Sending next command(1914): '2PR55\\r\\n'\n"
     ]
    },
    {
     "name": "stdout",
     "output_type": "stream",
     "text": [
      "780\n",
      "1\n"
     ]
    },
    {
     "name": "stderr",
     "output_type": "stream",
     "text": [
      "INFO - Motor 2: movement ceased. Continuing with command buffer.\n",
      "\n",
      "INFO - Channel: 1 position: 130.385742188\n",
      "INFO - Response: ''\n",
      "\n",
      "INFO - Sending next command(1915): '2PR35\\r\\n'\n"
     ]
    },
    {
     "name": "stdout",
     "output_type": "stream",
     "text": [
      "780\n",
      "1\n"
     ]
    },
    {
     "name": "stderr",
     "output_type": "stream",
     "text": [
      "INFO - Motor 2: movement ceased. Continuing with command buffer.\n",
      "\n",
      "INFO - Channel: 1 position: 131.396484375\n",
      "INFO - Response: ''\n",
      "\n",
      "INFO - Sending next command(1916): '2PR21\\r\\n'\n"
     ]
    },
    {
     "name": "stdout",
     "output_type": "stream",
     "text": [
      "780\n",
      "1\n"
     ]
    },
    {
     "name": "stderr",
     "output_type": "stream",
     "text": [
      "INFO - Motor 2: movement ceased. Continuing with command buffer.\n",
      "\n",
      "INFO - Channel: 1 position: 132.055664062\n",
      "INFO - Response: ''\n",
      "\n",
      "INFO - Sending next command(1917): '2PR13\\r\\n'\n"
     ]
    },
    {
     "name": "stdout",
     "output_type": "stream",
     "text": [
      "780\n",
      "1\n"
     ]
    },
    {
     "name": "stderr",
     "output_type": "stream",
     "text": [
      "INFO - Motor 2: movement ceased. Continuing with command buffer.\n",
      "\n",
      "INFO - Channel: 1 position: 132.495117188\n",
      "INFO - Response: ''\n",
      "\n",
      "INFO - Sending next command(1918): '2PR7\\r\\n'\n"
     ]
    },
    {
     "name": "stdout",
     "output_type": "stream",
     "text": [
      "780\n",
      "1\n"
     ]
    },
    {
     "name": "stderr",
     "output_type": "stream",
     "text": [
      "INFO - Motor 2: movement ceased. Continuing with command buffer.\n",
      "\n",
      "INFO - Channel: 1 position: 132.71484375\n",
      "INFO - Response: ''\n",
      "\n",
      "INFO - Sending next command(1919): '2PR4\\r\\n'\n"
     ]
    },
    {
     "name": "stdout",
     "output_type": "stream",
     "text": [
      "780\n",
      "1\n"
     ]
    },
    {
     "name": "stderr",
     "output_type": "stream",
     "text": [
      "INFO - Motor 2: movement ceased. Continuing with command buffer.\n",
      "\n",
      "INFO - Channel: 1 position: 132.846679688\n",
      "INFO - Response: ''\n",
      "\n",
      "INFO - Sending next command(1920): '2PR2\\r\\n'\n"
     ]
    },
    {
     "name": "stdout",
     "output_type": "stream",
     "text": [
      "780\n",
      "1\n"
     ]
    },
    {
     "name": "stderr",
     "output_type": "stream",
     "text": [
      "INFO - Motor 2: movement ceased. Continuing with command buffer.\n",
      "\n",
      "INFO - Channel: 1 position: 132.890625\n",
      "INFO - Response: ''\n",
      "\n",
      "INFO - Sending next command(1921): '2PR1\\r\\n'\n"
     ]
    },
    {
     "name": "stdout",
     "output_type": "stream",
     "text": [
      "780\n",
      "1\n"
     ]
    },
    {
     "name": "stderr",
     "output_type": "stream",
     "text": [
      "INFO - Motor 2: movement ceased. Continuing with command buffer.\n",
      "\n",
      "INFO - Channel: 1 position: 132.934570312\n",
      "INFO - Response: ''\n",
      "\n",
      "INFO - Sending next command(1922): '2PR1\\r\\n'\n"
     ]
    },
    {
     "name": "stdout",
     "output_type": "stream",
     "text": [
      "780\n",
      "1\n"
     ]
    },
    {
     "name": "stderr",
     "output_type": "stream",
     "text": [
      "INFO - Motor 2: movement ceased. Continuing with command buffer.\n",
      "\n",
      "INFO - Channel: 1 position: 132.978515625\n",
      "INFO - New motor position is 132.978515625 deg, error -0.021484375 deg.\n",
      "INFO - Channel: 1 position: 132.978515625\n",
      "INFO - Channel: 1 position: 132.978515625\n",
      "INFO - avg_steps: 1843.40820312\n",
      "INFO - Channel: 1 position: 132.978515625\n",
      "INFO - Response: ''\n",
      "\n",
      "INFO - Sending next command(1923): '2PR1290\\r\\n'\n"
     ]
    },
    {
     "name": "stdout",
     "output_type": "stream",
     "text": [
      "780\n",
      "1\n",
      "780\n",
      "1\n",
      "780\n",
      "1\n",
      "780\n",
      "1\n"
     ]
    },
    {
     "name": "stderr",
     "output_type": "stream",
     "text": [
      "INFO - Motor 2: movement ceased. Continuing with command buffer.\n",
      "\n",
      "INFO - Channel: 1 position: 164.663085938\n",
      "INFO - Response: ''\n",
      "\n",
      "INFO - Sending next command(1924): '2PR869\\r\\n'\n"
     ]
    },
    {
     "name": "stdout",
     "output_type": "stream",
     "text": [
      "780\n",
      "1\n"
     ]
    },
    {
     "name": "stderr",
     "output_type": "stream",
     "text": [
      "INFO - Motor 2: movement ceased. Continuing with command buffer.\n",
      "\n",
      "INFO - Channel: 1 position: 183.69140625\n",
      "INFO - Response: ''\n",
      "\n",
      "INFO - Sending next command(1925): '2PR616\\r\\n'\n"
     ]
    },
    {
     "name": "stdout",
     "output_type": "stream",
     "text": [
      "780\n",
      "1\n"
     ]
    },
    {
     "name": "stderr",
     "output_type": "stream",
     "text": [
      "INFO - Motor 2: movement ceased. Continuing with command buffer.\n",
      "\n",
      "INFO - Channel: 1 position: 196.435546875\n",
      "INFO - Response: ''\n",
      "\n",
      "INFO - Sending next command(1926): '2PR446\\r\\n'\n"
     ]
    },
    {
     "name": "stdout",
     "output_type": "stream",
     "text": [
      "780\n",
      "1\n"
     ]
    },
    {
     "name": "stderr",
     "output_type": "stream",
     "text": [
      "INFO - Motor 2: movement ceased. Continuing with command buffer.\n",
      "\n",
      "INFO - Channel: 1 position: 204.873046875\n",
      "INFO - Response: ''\n",
      "\n",
      "INFO - Sending next command(1927): '2PR334\\r\\n'\n"
     ]
    },
    {
     "name": "stdout",
     "output_type": "stream",
     "text": [
      "780\n",
      "1\n"
     ]
    },
    {
     "name": "stderr",
     "output_type": "stream",
     "text": [
      "INFO - Motor 2: movement ceased. Continuing with command buffer.\n",
      "\n",
      "INFO - Channel: 1 position: 211.684570312\n",
      "INFO - Response: ''\n",
      "\n",
      "INFO - Sending next command(1928): '2PR244\\r\\n'\n"
     ]
    },
    {
     "name": "stdout",
     "output_type": "stream",
     "text": [
      "780\n",
      "1\n"
     ]
    },
    {
     "name": "stderr",
     "output_type": "stream",
     "text": [
      "INFO - Motor 2: movement ceased. Continuing with command buffer.\n",
      "\n",
      "INFO - Channel: 1 position: 216.650390625\n",
      "INFO - Response: ''\n",
      "\n",
      "INFO - Sending next command(1929): '2PR178\\r\\n'\n"
     ]
    },
    {
     "name": "stdout",
     "output_type": "stream",
     "text": [
      "780\n",
      "1\n"
     ]
    },
    {
     "name": "stderr",
     "output_type": "stream",
     "text": [
      "INFO - Motor 2: movement ceased. Continuing with command buffer.\n",
      "\n",
      "INFO - Channel: 1 position: 220.385742188\n",
      "INFO - Response: ''\n",
      "\n",
      "INFO - Sending next command(1930): '2PR128\\r\\n'\n"
     ]
    },
    {
     "name": "stdout",
     "output_type": "stream",
     "text": [
      "780\n",
      "1\n"
     ]
    },
    {
     "name": "stderr",
     "output_type": "stream",
     "text": [
      "INFO - Motor 2: movement ceased. Continuing with command buffer.\n",
      "\n",
      "INFO - Channel: 1 position: 223.022460938\n",
      "INFO - Response: ''\n",
      "\n",
      "INFO - Sending next command(1931): '2PR93\\r\\n'\n"
     ]
    },
    {
     "name": "stdout",
     "output_type": "stream",
     "text": [
      "780\n",
      "1\n"
     ]
    },
    {
     "name": "stderr",
     "output_type": "stream",
     "text": [
      "INFO - Motor 2: movement ceased. Continuing with command buffer.\n",
      "\n",
      "INFO - Channel: 1 position: 225.0\n",
      "INFO - Response: ''\n",
      "\n",
      "INFO - Sending next command(1932): '2PR67\\r\\n'\n"
     ]
    },
    {
     "name": "stdout",
     "output_type": "stream",
     "text": [
      "780\n",
      "1\n"
     ]
    },
    {
     "name": "stderr",
     "output_type": "stream",
     "text": [
      "INFO - Motor 2: movement ceased. Continuing with command buffer.\n",
      "\n",
      "INFO - Channel: 1 position: 226.450195312\n",
      "INFO - Response: ''\n",
      "\n",
      "INFO - Sending next command(1933): '2PR47\\r\\n'\n"
     ]
    },
    {
     "name": "stdout",
     "output_type": "stream",
     "text": [
      "780\n",
      "1\n"
     ]
    },
    {
     "name": "stderr",
     "output_type": "stream",
     "text": [
      "INFO - Motor 2: movement ceased. Continuing with command buffer.\n",
      "\n",
      "INFO - Channel: 1 position: 227.592773438\n",
      "INFO - Response: ''\n",
      "\n",
      "INFO - Sending next command(1934): '2PR32\\r\\n'\n"
     ]
    },
    {
     "name": "stdout",
     "output_type": "stream",
     "text": [
      "780\n",
      "1\n"
     ]
    },
    {
     "name": "stderr",
     "output_type": "stream",
     "text": [
      "INFO - Motor 2: movement ceased. Continuing with command buffer.\n",
      "\n",
      "INFO - Channel: 1 position: 228.427734375\n",
      "INFO - Response: ''\n",
      "\n",
      "INFO - Sending next command(1935): '2PR21\\r\\n'\n"
     ]
    },
    {
     "name": "stdout",
     "output_type": "stream",
     "text": [
      "780\n",
      "1\n"
     ]
    },
    {
     "name": "stderr",
     "output_type": "stream",
     "text": [
      "INFO - Motor 2: movement ceased. Continuing with command buffer.\n",
      "\n",
      "INFO - Channel: 1 position: 229.086914062\n",
      "INFO - Response: ''\n",
      "\n",
      "INFO - Sending next command(1936): '2PR12\\r\\n'\n"
     ]
    },
    {
     "name": "stdout",
     "output_type": "stream",
     "text": [
      "780\n",
      "1\n"
     ]
    },
    {
     "name": "stderr",
     "output_type": "stream",
     "text": [
      "INFO - Motor 2: movement ceased. Continuing with command buffer.\n",
      "\n",
      "INFO - Channel: 1 position: 229.438476562\n",
      "INFO - Response: ''\n",
      "\n",
      "INFO - Sending next command(1937): '2PR7\\r\\n'\n"
     ]
    },
    {
     "name": "stdout",
     "output_type": "stream",
     "text": [
      "780\n",
      "1\n"
     ]
    },
    {
     "name": "stderr",
     "output_type": "stream",
     "text": [
      "INFO - Motor 2: movement ceased. Continuing with command buffer.\n",
      "\n",
      "INFO - Channel: 1 position: 229.658203125\n",
      "INFO - Response: ''\n",
      "\n",
      "INFO - Sending next command(1938): '2PR5\\r\\n'\n"
     ]
    },
    {
     "name": "stdout",
     "output_type": "stream",
     "text": [
      "780\n",
      "1\n"
     ]
    },
    {
     "name": "stderr",
     "output_type": "stream",
     "text": [
      "INFO - Motor 2: movement ceased. Continuing with command buffer.\n",
      "\n",
      "INFO - Channel: 1 position: 229.790039062\n",
      "INFO - Response: ''\n",
      "\n",
      "INFO - Sending next command(1939): '2PR3\\r\\n'\n"
     ]
    },
    {
     "name": "stdout",
     "output_type": "stream",
     "text": [
      "780\n",
      "1\n"
     ]
    },
    {
     "name": "stderr",
     "output_type": "stream",
     "text": [
      "INFO - Motor 2: movement ceased. Continuing with command buffer.\n",
      "\n",
      "INFO - Channel: 1 position: 229.877929688\n",
      "INFO - Response: ''\n",
      "\n",
      "INFO - Sending next command(1940): '2PR2\\r\\n'\n"
     ]
    },
    {
     "name": "stdout",
     "output_type": "stream",
     "text": [
      "780\n",
      "1\n"
     ]
    },
    {
     "name": "stderr",
     "output_type": "stream",
     "text": [
      "INFO - Motor 2: movement ceased. Continuing with command buffer.\n",
      "\n",
      "INFO - Channel: 1 position: 229.921875\n",
      "INFO - Response: ''\n",
      "\n",
      "INFO - Sending next command(1941): '2PR1\\r\\n'\n"
     ]
    },
    {
     "name": "stdout",
     "output_type": "stream",
     "text": [
      "780\n",
      "1\n"
     ]
    },
    {
     "name": "stderr",
     "output_type": "stream",
     "text": [
      "INFO - Motor 2: movement ceased. Continuing with command buffer.\n",
      "\n",
      "INFO - Channel: 1 position: 229.965820312\n",
      "INFO - Response: ''\n",
      "\n",
      "INFO - Sending next command(1942): '2PR1\\r\\n'\n"
     ]
    },
    {
     "name": "stdout",
     "output_type": "stream",
     "text": [
      "780\n",
      "1\n"
     ]
    },
    {
     "name": "stderr",
     "output_type": "stream",
     "text": [
      "INFO - Motor 2: movement ceased. Continuing with command buffer.\n",
      "\n",
      "INFO - Channel: 1 position: 229.965820312\n",
      "INFO - New motor position is 229.965820312 deg, error -0.0341796875 deg.\n",
      "INFO - Channel: 1 position: 229.965820312\n",
      "INFO - Channel: 1 position: 229.965820312\n",
      "INFO - avg_steps: -2925.35058594\n",
      "INFO - Need to go negative. Current position 229.965820312 DEG. Setpoint 76 DEG. Steps to be taken: -3925\n",
      "INFO - Response: ''\n",
      "\n",
      "INFO - Sending next command(1943): '2PR-3925\\r\\n'\n"
     ]
    },
    {
     "name": "stdout",
     "output_type": "stream",
     "text": [
      "780\n",
      "1\n",
      "780\n",
      "1\n",
      "780\n",
      "1\n"
     ]
    },
    {
     "name": "stderr",
     "output_type": "stream",
     "text": [
      "INFO - Motor 2: movement ceased. Continuing with command buffer.\n",
      "\n",
      "INFO - Channel: 1 position: 22.5\n",
      "INFO - Response: ''\n",
      "\n",
      "INFO - Sending next command(1944): '2PR712\\r\\n'\n"
     ]
    },
    {
     "name": "stdout",
     "output_type": "stream",
     "text": [
      "780\n",
      "1\n"
     ]
    },
    {
     "name": "stderr",
     "output_type": "stream",
     "text": [
      "INFO - Motor 2: movement ceased. Continuing with command buffer.\n",
      "\n",
      "INFO - Channel: 1 position: 44.3408203125\n",
      "INFO - Response: ''\n",
      "\n",
      "INFO - Sending next command(1945): '2PR421\\r\\n'\n"
     ]
    },
    {
     "name": "stdout",
     "output_type": "stream",
     "text": [
      "780\n",
      "1\n"
     ]
    },
    {
     "name": "stderr",
     "output_type": "stream",
     "text": [
      "INFO - Motor 2: movement ceased. Continuing with command buffer.\n",
      "\n",
      "INFO - Channel: 1 position: 53.9208984375\n",
      "INFO - Response: ''\n",
      "\n",
      "INFO - Sending next command(1946): '2PR294\\r\\n'\n"
     ]
    },
    {
     "name": "stdout",
     "output_type": "stream",
     "text": [
      "780\n",
      "1\n"
     ]
    },
    {
     "name": "stderr",
     "output_type": "stream",
     "text": [
      "INFO - Motor 2: movement ceased. Continuing with command buffer.\n",
      "\n",
      "INFO - Channel: 1 position: 61.875\n",
      "INFO - Response: ''\n",
      "\n",
      "INFO - Sending next command(1947): '2PR188\\r\\n'\n"
     ]
    },
    {
     "name": "stdout",
     "output_type": "stream",
     "text": [
      "780\n",
      "1\n"
     ]
    },
    {
     "name": "stderr",
     "output_type": "stream",
     "text": [
      "INFO - Motor 2: movement ceased. Continuing with command buffer.\n",
      "\n",
      "INFO - Channel: 1 position: 66.62109375\n",
      "INFO - Response: ''\n",
      "\n",
      "INFO - Sending next command(1948): '2PR125\\r\\n'\n"
     ]
    },
    {
     "name": "stdout",
     "output_type": "stream",
     "text": [
      "780\n",
      "1\n"
     ]
    },
    {
     "name": "stderr",
     "output_type": "stream",
     "text": [
      "INFO - Motor 2: movement ceased. Continuing with command buffer.\n",
      "\n",
      "INFO - Channel: 1 position: 69.7412109375\n",
      "INFO - Response: ''\n",
      "\n",
      "INFO - Sending next command(1949): '2PR83\\r\\n'\n"
     ]
    },
    {
     "name": "stdout",
     "output_type": "stream",
     "text": [
      "780\n",
      "1\n"
     ]
    },
    {
     "name": "stderr",
     "output_type": "stream",
     "text": [
      "INFO - Motor 2: movement ceased. Continuing with command buffer.\n",
      "\n",
      "INFO - Channel: 1 position: 71.8505859375\n",
      "INFO - Response: ''\n",
      "\n",
      "INFO - Sending next command(1950): '2PR55\\r\\n'\n"
     ]
    },
    {
     "name": "stdout",
     "output_type": "stream",
     "text": [
      "780\n",
      "1\n"
     ]
    },
    {
     "name": "stderr",
     "output_type": "stream",
     "text": [
      "INFO - Motor 2: movement ceased. Continuing with command buffer.\n",
      "\n",
      "INFO - Channel: 1 position: 73.3447265625\n",
      "INFO - Response: ''\n",
      "\n",
      "INFO - Sending next command(1951): '2PR35\\r\\n'\n"
     ]
    },
    {
     "name": "stdout",
     "output_type": "stream",
     "text": [
      "780\n",
      "1\n"
     ]
    },
    {
     "name": "stderr",
     "output_type": "stream",
     "text": [
      "INFO - Motor 2: movement ceased. Continuing with command buffer.\n",
      "\n",
      "INFO - Channel: 1 position: 74.3115234375\n",
      "INFO - Response: ''\n",
      "\n",
      "INFO - Sending next command(1952): '2PR22\\r\\n'\n"
     ]
    },
    {
     "name": "stdout",
     "output_type": "stream",
     "text": [
      "780\n",
      "1\n"
     ]
    },
    {
     "name": "stderr",
     "output_type": "stream",
     "text": [
      "INFO - Motor 2: movement ceased. Continuing with command buffer.\n",
      "\n",
      "INFO - Channel: 1 position: 74.970703125\n",
      "INFO - Response: ''\n",
      "\n",
      "INFO - Sending next command(1953): '2PR14\\r\\n'\n"
     ]
    },
    {
     "name": "stdout",
     "output_type": "stream",
     "text": [
      "780\n",
      "1\n"
     ]
    },
    {
     "name": "stderr",
     "output_type": "stream",
     "text": [
      "INFO - Motor 2: movement ceased. Continuing with command buffer.\n",
      "\n",
      "INFO - Channel: 1 position: 75.41015625\n",
      "INFO - Response: ''\n",
      "\n",
      "INFO - Sending next command(1954): '2PR8\\r\\n'\n"
     ]
    },
    {
     "name": "stdout",
     "output_type": "stream",
     "text": [
      "780\n",
      "1\n"
     ]
    },
    {
     "name": "stderr",
     "output_type": "stream",
     "text": [
      "INFO - Motor 2: movement ceased. Continuing with command buffer.\n",
      "\n",
      "INFO - Channel: 1 position: 75.6298828125\n",
      "INFO - Response: ''\n",
      "\n",
      "INFO - Sending next command(1955): '2PR5\\r\\n'\n"
     ]
    },
    {
     "name": "stdout",
     "output_type": "stream",
     "text": [
      "780\n",
      "1\n"
     ]
    },
    {
     "name": "stderr",
     "output_type": "stream",
     "text": [
      "INFO - Motor 2: movement ceased. Continuing with command buffer.\n",
      "\n",
      "INFO - Channel: 1 position: 75.76171875\n",
      "INFO - Response: ''\n",
      "\n",
      "INFO - Sending next command(1956): '2PR3\\r\\n'\n"
     ]
    },
    {
     "name": "stdout",
     "output_type": "stream",
     "text": [
      "780\n",
      "1\n"
     ]
    },
    {
     "name": "stderr",
     "output_type": "stream",
     "text": [
      "INFO - Motor 2: movement ceased. Continuing with command buffer.\n",
      "\n",
      "INFO - Channel: 1 position: 75.849609375\n",
      "INFO - Response: ''\n",
      "\n",
      "INFO - Sending next command(1957): '2PR2\\r\\n'\n"
     ]
    },
    {
     "name": "stdout",
     "output_type": "stream",
     "text": [
      "780\n",
      "1\n"
     ]
    },
    {
     "name": "stderr",
     "output_type": "stream",
     "text": [
      "INFO - Motor 2: movement ceased. Continuing with command buffer.\n",
      "\n",
      "INFO - Channel: 1 position: 75.9375\n",
      "INFO - Response: ''\n",
      "\n",
      "INFO - Sending next command(1958): '2PR1\\r\\n'\n"
     ]
    },
    {
     "name": "stdout",
     "output_type": "stream",
     "text": [
      "780\n",
      "1\n"
     ]
    },
    {
     "name": "stderr",
     "output_type": "stream",
     "text": [
      "INFO - Motor 2: movement ceased. Continuing with command buffer.\n",
      "\n",
      "INFO - Channel: 1 position: 75.9375\n",
      "INFO - Response: ''\n",
      "\n",
      "INFO - Sending next command(1959): '2PR1\\r\\n'\n"
     ]
    },
    {
     "name": "stdout",
     "output_type": "stream",
     "text": [
      "780\n",
      "1\n"
     ]
    },
    {
     "name": "stderr",
     "output_type": "stream",
     "text": [
      "INFO - Motor 2: movement ceased. Continuing with command buffer.\n",
      "\n",
      "INFO - Channel: 1 position: 75.9814453125\n",
      "INFO - New motor position is 75.9814453125 deg, error -0.0185546875 deg.\n",
      "INFO - Channel: 1 position: 75.9814453125\n",
      "INFO - Channel: 1 position: 75.9814453125\n",
      "INFO - avg_steps: -873.647460938\n",
      "INFO - Need to go negative. Current position 75.9814453125 DEG. Setpoint 30 DEG. Steps to be taken: -1874\n",
      "INFO - Response: ''\n",
      "\n",
      "INFO - Sending next command(1960): '2PR-1874\\r\\n'\n"
     ]
    },
    {
     "name": "stdout",
     "output_type": "stream",
     "text": [
      "780\n",
      "1\n",
      "780\n",
      "1\n",
      "780\n",
      "1\n"
     ]
    },
    {
     "name": "stderr",
     "output_type": "stream",
     "text": [
      "INFO - Motor 2: movement ceased. Continuing with command buffer.\n",
      "\n",
      "INFO - Channel: 1 position: -21.4013671875\n",
      "INFO - Response: ''\n",
      "\n",
      "INFO - Sending next command(1961): '2PR684\\r\\n'\n"
     ]
    },
    {
     "name": "stdout",
     "output_type": "stream",
     "text": [
      "780\n",
      "1\n"
     ]
    },
    {
     "name": "stderr",
     "output_type": "stream",
     "text": [
      "INFO - Motor 2: movement ceased. Continuing with command buffer.\n",
      "\n",
      "INFO - Channel: 1 position: 0.1318359375\n",
      "INFO - Response: ''\n",
      "\n",
      "INFO - Sending next command(1962): '2PR397\\r\\n'\n"
     ]
    },
    {
     "name": "stdout",
     "output_type": "stream",
     "text": [
      "780\n",
      "1\n"
     ]
    },
    {
     "name": "stderr",
     "output_type": "stream",
     "text": [
      "INFO - Motor 2: movement ceased. Continuing with command buffer.\n",
      "\n",
      "INFO - Channel: 1 position: 5.9326171875\n",
      "INFO - Response: ''\n",
      "\n",
      "INFO - Sending next command(1963): '2PR320\\r\\n'\n"
     ]
    },
    {
     "name": "stdout",
     "output_type": "stream",
     "text": [
      "780\n",
      "1\n"
     ]
    },
    {
     "name": "stderr",
     "output_type": "stream",
     "text": [
      "INFO - Motor 2: movement ceased. Continuing with command buffer.\n",
      "\n",
      "INFO - Channel: 1 position: 10.0634765625\n",
      "INFO - Response: ''\n",
      "\n",
      "INFO - Sending next command(1964): '2PR265\\r\\n'\n"
     ]
    },
    {
     "name": "stdout",
     "output_type": "stream",
     "text": [
      "780\n",
      "1\n"
     ]
    },
    {
     "name": "stderr",
     "output_type": "stream",
     "text": [
      "INFO - Motor 2: movement ceased. Continuing with command buffer.\n",
      "\n",
      "INFO - Channel: 1 position: 11.6015625\n",
      "INFO - Response: ''\n",
      "\n",
      "INFO - Sending next command(1965): '2PR245\\r\\n'\n"
     ]
    },
    {
     "name": "stdout",
     "output_type": "stream",
     "text": [
      "780\n",
      "1\n"
     ]
    },
    {
     "name": "stderr",
     "output_type": "stream",
     "text": [
      "INFO - Motor 2: movement ceased. Continuing with command buffer.\n",
      "\n",
      "INFO - Channel: 1 position: 12.4365234375\n",
      "INFO - Response: ''\n",
      "\n",
      "INFO - Sending next command(1966): '2PR234\\r\\n'\n"
     ]
    },
    {
     "name": "stdout",
     "output_type": "stream",
     "text": [
      "780\n",
      "1\n"
     ]
    },
    {
     "name": "stderr",
     "output_type": "stream",
     "text": [
      "INFO - Motor 2: movement ceased. Continuing with command buffer.\n",
      "\n",
      "INFO - Channel: 1 position: 13.18359375\n",
      "INFO - Response: ''\n",
      "\n",
      "INFO - Sending next command(1967): '2PR224\\r\\n'\n"
     ]
    },
    {
     "name": "stdout",
     "output_type": "stream",
     "text": [
      "780\n",
      "1\n"
     ]
    },
    {
     "name": "stderr",
     "output_type": "stream",
     "text": [
      "INFO - Motor 2: movement ceased. Continuing with command buffer.\n",
      "\n",
      "INFO - Channel: 1 position: 13.6669921875\n",
      "INFO - Response: ''\n",
      "\n",
      "INFO - Sending next command(1968): '2PR217\\r\\n'\n"
     ]
    },
    {
     "name": "stdout",
     "output_type": "stream",
     "text": [
      "780\n",
      "1\n"
     ]
    },
    {
     "name": "stderr",
     "output_type": "stream",
     "text": [
      "INFO - Motor 2: movement ceased. Continuing with command buffer.\n",
      "\n",
      "INFO - Channel: 1 position: 14.0625\n",
      "INFO - Response: ''\n",
      "\n",
      "INFO - Sending next command(1969): '2PR212\\r\\n'\n"
     ]
    },
    {
     "name": "stdout",
     "output_type": "stream",
     "text": [
      "780\n",
      "1\n"
     ]
    },
    {
     "name": "stderr",
     "output_type": "stream",
     "text": [
      "INFO - Motor 2: movement ceased. Continuing with command buffer.\n",
      "\n",
      "INFO - Channel: 1 position: 14.501953125\n",
      "INFO - Response: ''\n",
      "\n",
      "INFO - Sending next command(1970): '2PR206\\r\\n'\n"
     ]
    },
    {
     "name": "stdout",
     "output_type": "stream",
     "text": [
      "780\n",
      "1\n"
     ]
    },
    {
     "name": "stderr",
     "output_type": "stream",
     "text": [
      "INFO - Motor 2: movement ceased. Continuing with command buffer.\n",
      "\n",
      "INFO - Channel: 1 position: 14.94140625\n",
      "INFO - Response: ''\n",
      "\n",
      "INFO - Sending next command(1971): '2PR200\\r\\n'\n"
     ]
    },
    {
     "name": "stdout",
     "output_type": "stream",
     "text": [
      "780\n",
      "1\n"
     ]
    },
    {
     "name": "stderr",
     "output_type": "stream",
     "text": [
      "INFO - Motor 2: movement ceased. Continuing with command buffer.\n",
      "\n",
      "INFO - Channel: 1 position: 15.4248046875\n",
      "INFO - Response: ''\n",
      "\n",
      "INFO - Sending next command(1972): '2PR194\\r\\n'\n"
     ]
    },
    {
     "name": "stdout",
     "output_type": "stream",
     "text": [
      "780\n",
      "1\n"
     ]
    },
    {
     "name": "stderr",
     "output_type": "stream",
     "text": [
      "INFO - Motor 2: movement ceased. Continuing with command buffer.\n",
      "\n",
      "INFO - Channel: 1 position: 15.8203125\n",
      "INFO - Response: ''\n",
      "\n",
      "INFO - Sending next command(1973): '2PR189\\r\\n'\n"
     ]
    },
    {
     "name": "stdout",
     "output_type": "stream",
     "text": [
      "780\n",
      "1\n"
     ]
    },
    {
     "name": "stderr",
     "output_type": "stream",
     "text": [
      "INFO - Motor 2: movement ceased. Continuing with command buffer.\n",
      "\n",
      "INFO - Channel: 1 position: 16.259765625\n",
      "INFO - Response: ''\n",
      "\n",
      "INFO - Sending next command(1974): '2PR183\\r\\n'\n"
     ]
    },
    {
     "name": "stdout",
     "output_type": "stream",
     "text": [
      "780\n",
      "1\n"
     ]
    },
    {
     "name": "stderr",
     "output_type": "stream",
     "text": [
      "INFO - Motor 2: movement ceased. Continuing with command buffer.\n",
      "\n",
      "INFO - Channel: 1 position: 16.69921875\n",
      "INFO - Response: ''\n",
      "\n",
      "INFO - Sending next command(1975): '2PR177\\r\\n'\n"
     ]
    },
    {
     "name": "stdout",
     "output_type": "stream",
     "text": [
      "780\n",
      "1\n"
     ]
    },
    {
     "name": "stderr",
     "output_type": "stream",
     "text": [
      "INFO - Motor 2: movement ceased. Continuing with command buffer.\n",
      "\n",
      "INFO - Channel: 1 position: 17.138671875\n",
      "INFO - Response: ''\n",
      "\n",
      "INFO - Sending next command(1976): '2PR171\\r\\n'\n"
     ]
    },
    {
     "name": "stdout",
     "output_type": "stream",
     "text": [
      "780\n",
      "1\n"
     ]
    },
    {
     "name": "stderr",
     "output_type": "stream",
     "text": [
      "INFO - Motor 2: movement ceased. Continuing with command buffer.\n",
      "\n",
      "INFO - Channel: 1 position: 17.666015625\n",
      "INFO - Response: ''\n",
      "\n",
      "INFO - Sending next command(1977): '2PR164\\r\\n'\n"
     ]
    },
    {
     "name": "stdout",
     "output_type": "stream",
     "text": [
      "780\n",
      "1\n"
     ]
    },
    {
     "name": "stderr",
     "output_type": "stream",
     "text": [
      "INFO - Motor 2: movement ceased. Continuing with command buffer.\n",
      "\n",
      "INFO - Channel: 1 position: 18.2373046875\n",
      "INFO - Response: ''\n",
      "\n",
      "INFO - Sending next command(1978): '2PR156\\r\\n'\n"
     ]
    },
    {
     "name": "stdout",
     "output_type": "stream",
     "text": [
      "780\n",
      "1\n"
     ]
    },
    {
     "name": "stderr",
     "output_type": "stream",
     "text": [
      "INFO - Motor 2: movement ceased. Continuing with command buffer.\n",
      "\n",
      "INFO - Channel: 1 position: 18.8525390625\n",
      "INFO - Response: ''\n",
      "\n",
      "INFO - Sending next command(1979): '2PR148\\r\\n'\n"
     ]
    },
    {
     "name": "stdout",
     "output_type": "stream",
     "text": [
      "780\n",
      "1\n"
     ]
    },
    {
     "name": "stderr",
     "output_type": "stream",
     "text": [
      "INFO - Motor 2: movement ceased. Continuing with command buffer.\n",
      "\n",
      "INFO - Channel: 1 position: 19.51171875\n",
      "INFO - Response: ''\n",
      "\n",
      "INFO - Sending next command(1980): '2PR139\\r\\n'\n"
     ]
    },
    {
     "name": "stdout",
     "output_type": "stream",
     "text": [
      "780\n",
      "1\n"
     ]
    },
    {
     "name": "stderr",
     "output_type": "stream",
     "text": [
      "INFO - Motor 2: movement ceased. Continuing with command buffer.\n",
      "\n",
      "INFO - Channel: 1 position: 20.126953125\n",
      "ERROR - Current position 20.126953125 deg. Setpoint not achieved by -9.873046875 deg after max iterations.\n",
      "INFO - Channel: 1 position: 20.126953125\n",
      "INFO - Channel: 1 position: 20.126953125\n",
      "INFO - avg_steps: 3398.58789062\n",
      "INFO - Channel: 1 position: 20.126953125\n",
      "INFO - Response: ''\n",
      "\n",
      "INFO - Sending next command(1981): '2PR2379\\r\\n'\n"
     ]
    },
    {
     "name": "stdout",
     "output_type": "stream",
     "text": [
      "780\n",
      "1\n",
      "780\n",
      "1\n",
      "780\n",
      "1\n",
      "780\n",
      "1\n"
     ]
    },
    {
     "name": "stderr",
     "output_type": "stream",
     "text": [
      "INFO - Motor 2: movement ceased. Continuing with command buffer.\n",
      "\n",
      "INFO - Channel: 1 position: 20.6103515625\n",
      "INFO - Response: ''\n",
      "\n",
      "INFO - Sending next command(1982): '2PR2373\\r\\n'\n"
     ]
    },
    {
     "name": "stdout",
     "output_type": "stream",
     "text": [
      "780\n",
      "1\n"
     ]
    },
    {
     "name": "stderr",
     "output_type": "stream",
     "text": [
      "INFO - Motor 2: movement ceased. Continuing with command buffer.\n",
      "\n",
      "INFO - Channel: 1 position: 20.654296875\n",
      "INFO - Response: ''\n",
      "\n",
      "INFO - Sending next command(1983): '2PR2372\\r\\n'\n"
     ]
    },
    {
     "name": "stdout",
     "output_type": "stream",
     "text": [
      "780\n",
      "1\n"
     ]
    },
    {
     "name": "stderr",
     "output_type": "stream",
     "text": [
      "INFO - Motor 2: movement ceased. Continuing with command buffer.\n",
      "\n",
      "INFO - Channel: 1 position: 20.654296875\n",
      "INFO - Response: ''\n",
      "\n",
      "INFO - Sending next command(1984): '2PR2372\\r\\n'\n"
     ]
    },
    {
     "name": "stdout",
     "output_type": "stream",
     "text": [
      "780\n",
      "1\n"
     ]
    },
    {
     "name": "stderr",
     "output_type": "stream",
     "text": [
      "INFO - Motor 2: movement ceased. Continuing with command buffer.\n",
      "\n",
      "INFO - Channel: 1 position: 20.654296875\n",
      "INFO - Response: ''\n",
      "\n",
      "INFO - Sending next command(1985): '2PR2372\\r\\n'\n"
     ]
    },
    {
     "name": "stdout",
     "output_type": "stream",
     "text": [
      "780\n",
      "1\n"
     ]
    },
    {
     "name": "stderr",
     "output_type": "stream",
     "text": [
      "INFO - Motor 2: movement ceased. Continuing with command buffer.\n",
      "\n",
      "INFO - Channel: 1 position: 20.654296875\n",
      "INFO - Response: ''\n",
      "\n",
      "INFO - Sending next command(1986): '2PR2372\\r\\n'\n"
     ]
    },
    {
     "name": "stdout",
     "output_type": "stream",
     "text": [
      "780\n",
      "1\n"
     ]
    },
    {
     "name": "stderr",
     "output_type": "stream",
     "text": [
      "INFO - Motor 2: movement ceased. Continuing with command buffer.\n",
      "\n",
      "INFO - Channel: 1 position: 20.654296875\n",
      "INFO - Response: ''\n",
      "\n",
      "INFO - Sending next command(1987): '2PR2372\\r\\n'\n"
     ]
    },
    {
     "name": "stdout",
     "output_type": "stream",
     "text": [
      "780\n",
      "1\n"
     ]
    },
    {
     "name": "stderr",
     "output_type": "stream",
     "text": [
      "INFO - Motor 2: movement ceased. Continuing with command buffer.\n",
      "\n",
      "INFO - Channel: 1 position: 20.654296875\n",
      "INFO - Response: ''\n",
      "\n",
      "INFO - Sending next command(1988): '2PR2372\\r\\n'\n"
     ]
    },
    {
     "name": "stdout",
     "output_type": "stream",
     "text": [
      "780\n",
      "1\n"
     ]
    },
    {
     "name": "stderr",
     "output_type": "stream",
     "text": [
      "INFO - Motor 2: movement ceased. Continuing with command buffer.\n",
      "\n",
      "INFO - Channel: 1 position: 20.6982421875\n",
      "INFO - Response: ''\n",
      "\n",
      "INFO - Sending next command(1989): '2PR2371\\r\\n'\n"
     ]
    },
    {
     "name": "stdout",
     "output_type": "stream",
     "text": [
      "780\n",
      "1\n"
     ]
    },
    {
     "name": "stderr",
     "output_type": "stream",
     "text": [
      "INFO - Motor 2: movement ceased. Continuing with command buffer.\n",
      "\n",
      "INFO - Channel: 1 position: 20.6982421875\n",
      "INFO - Response: ''\n",
      "\n",
      "INFO - Sending next command(1990): '2PR2371\\r\\n'\n"
     ]
    },
    {
     "name": "stdout",
     "output_type": "stream",
     "text": [
      "780\n",
      "1\n"
     ]
    },
    {
     "name": "stderr",
     "output_type": "stream",
     "text": [
      "INFO - Motor 2: movement ceased. Continuing with command buffer.\n",
      "\n",
      "INFO - Channel: 1 position: 20.6982421875\n",
      "INFO - Response: ''\n",
      "\n",
      "INFO - Sending next command(1991): '2PR2371\\r\\n'\n"
     ]
    },
    {
     "name": "stdout",
     "output_type": "stream",
     "text": [
      "780\n",
      "1\n"
     ]
    },
    {
     "name": "stderr",
     "output_type": "stream",
     "text": [
      "INFO - Motor 2: movement ceased. Continuing with command buffer.\n",
      "\n",
      "INFO - Channel: 1 position: 20.6982421875\n",
      "INFO - Response: ''\n",
      "\n",
      "INFO - Sending next command(1992): '2PR2371\\r\\n'\n"
     ]
    },
    {
     "name": "stdout",
     "output_type": "stream",
     "text": [
      "780\n",
      "1\n"
     ]
    },
    {
     "name": "stderr",
     "output_type": "stream",
     "text": [
      "INFO - Motor 2: movement ceased. Continuing with command buffer.\n",
      "\n",
      "INFO - Channel: 1 position: 20.6982421875\n",
      "INFO - Response: ''\n",
      "\n",
      "INFO - Sending next command(1993): '2PR2371\\r\\n'\n"
     ]
    },
    {
     "name": "stdout",
     "output_type": "stream",
     "text": [
      "780\n",
      "1\n"
     ]
    },
    {
     "name": "stderr",
     "output_type": "stream",
     "text": [
      "INFO - Motor 2: movement ceased. Continuing with command buffer.\n",
      "\n",
      "INFO - Channel: 1 position: 20.6982421875\n",
      "INFO - Response: ''\n",
      "\n",
      "INFO - Sending next command(1994): '2PR2371\\r\\n'\n"
     ]
    },
    {
     "name": "stdout",
     "output_type": "stream",
     "text": [
      "780\n",
      "1\n"
     ]
    },
    {
     "name": "stderr",
     "output_type": "stream",
     "text": [
      "INFO - Motor 2: movement ceased. Continuing with command buffer.\n",
      "\n",
      "INFO - Channel: 1 position: 20.6982421875\n",
      "INFO - Response: ''\n",
      "\n",
      "INFO - Sending next command(1995): '2PR2371\\r\\n'\n"
     ]
    },
    {
     "name": "stdout",
     "output_type": "stream",
     "text": [
      "780\n",
      "1\n"
     ]
    },
    {
     "name": "stderr",
     "output_type": "stream",
     "text": [
      "INFO - Motor 2: movement ceased. Continuing with command buffer.\n",
      "\n",
      "INFO - Channel: 1 position: 20.7421875\n",
      "INFO - Response: ''\n",
      "\n",
      "INFO - Sending next command(1996): '2PR2371\\r\\n'\n"
     ]
    },
    {
     "name": "stdout",
     "output_type": "stream",
     "text": [
      "780\n",
      "1\n"
     ]
    },
    {
     "name": "stderr",
     "output_type": "stream",
     "text": [
      "INFO - Motor 2: movement ceased. Continuing with command buffer.\n",
      "\n",
      "INFO - Channel: 1 position: 20.7421875\n",
      "INFO - Response: ''\n",
      "\n",
      "INFO - Sending next command(1997): '2PR2371\\r\\n'\n"
     ]
    },
    {
     "name": "stdout",
     "output_type": "stream",
     "text": [
      "780\n",
      "1\n"
     ]
    },
    {
     "name": "stderr",
     "output_type": "stream",
     "text": [
      "INFO - Motor 2: movement ceased. Continuing with command buffer.\n",
      "\n",
      "INFO - Channel: 1 position: 20.7421875\n",
      "INFO - Response: ''\n",
      "\n",
      "INFO - Sending next command(1998): '2PR2371\\r\\n'\n"
     ]
    },
    {
     "name": "stdout",
     "output_type": "stream",
     "text": [
      "780\n",
      "1\n"
     ]
    },
    {
     "name": "stderr",
     "output_type": "stream",
     "text": [
      "INFO - Motor 2: movement ceased. Continuing with command buffer.\n",
      "\n",
      "INFO - Channel: 1 position: 20.7421875\n",
      "INFO - Response: ''\n",
      "\n",
      "INFO - Sending next command(1999): '2PR2371\\r\\n'\n"
     ]
    },
    {
     "name": "stdout",
     "output_type": "stream",
     "text": [
      "780\n",
      "1\n"
     ]
    },
    {
     "ename": "KeyboardInterrupt",
     "evalue": "",
     "output_type": "error",
     "traceback": [
      "\u001b[1;31m---------------------------------------------------------------------------\u001b[0m",
      "\u001b[1;31mKeyboardInterrupt\u001b[0m                         Traceback (most recent call last)",
      "\u001b[1;32m<ipython-input-230-c3ba1cd9eec8>\u001b[0m in \u001b[0;36m<module>\u001b[1;34m()\u001b[0m\n\u001b[0;32m      3\u001b[0m \u001b[0mpositions\u001b[0m\u001b[1;33m.\u001b[0m\u001b[0mappend\u001b[0m\u001b[1;33m(\u001b[0m\u001b[0mmc\u001b[0m\u001b[1;33m.\u001b[0m\u001b[0mgetPosition\u001b[0m\u001b[1;33m(\u001b[0m\u001b[0mtest_channel\u001b[0m\u001b[1;33m)\u001b[0m\u001b[1;33m)\u001b[0m\u001b[1;33m\u001b[0m\u001b[0m\n\u001b[0;32m      4\u001b[0m \u001b[1;32mfor\u001b[0m \u001b[0mi\u001b[0m \u001b[1;32min\u001b[0m \u001b[0mrandom_sequence\u001b[0m\u001b[1;33m:\u001b[0m\u001b[1;33m\u001b[0m\u001b[0m\n\u001b[1;32m----> 5\u001b[1;33m     \u001b[0mmc\u001b[0m\u001b[1;33m.\u001b[0m\u001b[0mmove_abs\u001b[0m\u001b[1;33m(\u001b[0m\u001b[0mtest_channel\u001b[0m\u001b[1;33m,\u001b[0m\u001b[0mi\u001b[0m\u001b[1;33m)\u001b[0m\u001b[1;33m\u001b[0m\u001b[0m\n\u001b[0m\u001b[0;32m      6\u001b[0m     \u001b[0mnew_position\u001b[0m\u001b[1;33m=\u001b[0m\u001b[0mmc\u001b[0m\u001b[1;33m.\u001b[0m\u001b[0mgetPosition\u001b[0m\u001b[1;33m(\u001b[0m\u001b[0mtest_channel\u001b[0m\u001b[1;33m)\u001b[0m\u001b[1;33m\u001b[0m\u001b[0m\n\u001b[0;32m      7\u001b[0m     \u001b[0mpositions\u001b[0m\u001b[1;33m.\u001b[0m\u001b[0mappend\u001b[0m\u001b[1;33m(\u001b[0m\u001b[0mnew_position\u001b[0m\u001b[1;33m)\u001b[0m\u001b[1;33m\u001b[0m\u001b[0m\n",
      "\u001b[1;32mC:\\Users\\Rb\\LabSoftware\\pypico\\pypico\\motorControl.pyc\u001b[0m in \u001b[0;36mmove_abs\u001b[1;34m(self, channel, degrees)\u001b[0m\n\u001b[0;32m    163\u001b[0m             \u001b[0mstatus_msg\u001b[0m \u001b[1;33m=\u001b[0m \u001b[1;34m\"Current position {} DEG. Setpoint {} DEG. Steps to be taken: {}\"\u001b[0m\u001b[1;33m\u001b[0m\u001b[0m\n\u001b[0;32m    164\u001b[0m             \u001b[0mself\u001b[0m\u001b[1;33m.\u001b[0m\u001b[0mlogger\u001b[0m\u001b[1;33m.\u001b[0m\u001b[0mdebug\u001b[0m\u001b[1;33m(\u001b[0m\u001b[0mstatus_msg\u001b[0m\u001b[1;33m.\u001b[0m\u001b[0mformat\u001b[0m\u001b[1;33m(\u001b[0m\u001b[0mposition\u001b[0m\u001b[1;33m,\u001b[0m \u001b[0mdegrees\u001b[0m\u001b[1;33m,\u001b[0m \u001b[0msteps\u001b[0m\u001b[1;33m)\u001b[0m\u001b[1;33m)\u001b[0m\u001b[1;33m\u001b[0m\u001b[0m\n\u001b[1;32m--> 165\u001b[1;33m             \u001b[0mret\u001b[0m \u001b[1;33m=\u001b[0m \u001b[0mself\u001b[0m\u001b[1;33m.\u001b[0m\u001b[0mmove_rel_steps\u001b[0m\u001b[1;33m(\u001b[0m\u001b[0mchannel\u001b[0m\u001b[1;33m,\u001b[0m \u001b[0msteps\u001b[0m\u001b[1;33m)\u001b[0m\u001b[1;33m\u001b[0m\u001b[0m\n\u001b[0m\u001b[0;32m    166\u001b[0m             \u001b[1;32mif\u001b[0m \u001b[0mret\u001b[0m \u001b[1;33m<\u001b[0m \u001b[1;36m0\u001b[0m\u001b[1;33m:\u001b[0m\u001b[1;33m\u001b[0m\u001b[0m\n\u001b[0;32m    167\u001b[0m                 \u001b[1;32mreturn\u001b[0m \u001b[0mret\u001b[0m\u001b[1;33m\u001b[0m\u001b[0m\n",
      "\u001b[1;32mC:\\Users\\Rb\\LabSoftware\\pypico\\pypico\\motorControl.pyc\u001b[0m in \u001b[0;36mmove_rel_steps\u001b[1;34m(self, channel, steps)\u001b[0m\n\u001b[0;32m    112\u001b[0m                 \u001b[1;31m#print \"moving this much:{}\".format(steps)\u001b[0m\u001b[1;33m\u001b[0m\u001b[1;33m\u001b[0m\u001b[0m\n\u001b[0;32m    113\u001b[0m                 \u001b[0mcmdID\u001b[0m \u001b[1;33m=\u001b[0m \u001b[0mself\u001b[0m\u001b[1;33m.\u001b[0m\u001b[0mdriver\u001b[0m\u001b[1;33m.\u001b[0m\u001b[0mqueueCommand\u001b[0m\u001b[1;33m(\u001b[0m\u001b[1;34m\"{}PR{}\"\u001b[0m\u001b[1;33m.\u001b[0m\u001b[0mformat\u001b[0m\u001b[1;33m(\u001b[0m\u001b[0mmotor\u001b[0m\u001b[1;33m,\u001b[0m\u001b[0msteps\u001b[0m\u001b[1;33m)\u001b[0m\u001b[1;33m)\u001b[0m\u001b[1;33m[\u001b[0m\u001b[1;36m1\u001b[0m\u001b[1;33m]\u001b[0m\u001b[1;33m\u001b[0m\u001b[0m\n\u001b[1;32m--> 114\u001b[1;33m                 \u001b[0mself\u001b[0m\u001b[1;33m.\u001b[0m\u001b[0mwaitForCmd\u001b[0m\u001b[1;33m(\u001b[0m\u001b[0mcmdID\u001b[0m\u001b[1;33m)\u001b[0m\u001b[1;33m\u001b[0m\u001b[0m\n\u001b[0m\u001b[0;32m    115\u001b[0m                 \u001b[1;32mreturn\u001b[0m \u001b[1;36m0\u001b[0m\u001b[1;33m\u001b[0m\u001b[0m\n\u001b[0;32m    116\u001b[0m             \u001b[1;32melse\u001b[0m\u001b[1;33m:\u001b[0m\u001b[1;33m\u001b[0m\u001b[0m\n",
      "\u001b[1;32mC:\\Users\\Rb\\LabSoftware\\pypico\\pypico\\motorControl.pyc\u001b[0m in \u001b[0;36mwaitForCmd\u001b[1;34m(self, cmdID)\u001b[0m\n\u001b[0;32m     82\u001b[0m                 \u001b[0mself\u001b[0m\u001b[1;33m.\u001b[0m\u001b[0mlogger\u001b[0m\u001b[1;33m.\u001b[0m\u001b[0mdebug\u001b[0m\u001b[1;33m(\u001b[0m\u001b[1;34m\"current cmd: {}, waiting for: {}\"\u001b[0m\u001b[1;33m.\u001b[0m\u001b[0mformat\u001b[0m\u001b[1;33m(\u001b[0m\u001b[0mcid\u001b[0m\u001b[1;33m,\u001b[0m\u001b[0mcmdID\u001b[0m\u001b[1;33m)\u001b[0m\u001b[1;33m)\u001b[0m\u001b[1;33m\u001b[0m\u001b[0m\n\u001b[0;32m     83\u001b[0m                 \u001b[0mlast_cid\u001b[0m \u001b[1;33m=\u001b[0m \u001b[0mcid\u001b[0m\u001b[1;33m\u001b[0m\u001b[0m\n\u001b[1;32m---> 84\u001b[1;33m             \u001b[0mtime\u001b[0m\u001b[1;33m.\u001b[0m\u001b[0msleep\u001b[0m\u001b[1;33m(\u001b[0m\u001b[1;36m0.1\u001b[0m\u001b[1;33m)\u001b[0m \u001b[1;31m# not having print statement seems to break the loop for some reason\u001b[0m\u001b[1;33m\u001b[0m\u001b[0m\n\u001b[0m\u001b[0;32m     85\u001b[0m \u001b[1;33m\u001b[0m\u001b[0m\n\u001b[0;32m     86\u001b[0m     \"\"\" Put code here to be called after a new motor position is achieved\n",
      "\u001b[1;31mKeyboardInterrupt\u001b[0m: "
     ]
    }
   ],
   "source": [
    "positions=[]\n",
    "mc.move_abs(test_channel,0) #move it back to zero.\n",
    "positions.append(mc.getPosition(test_channel))\n",
    "for i in random_sequence:\n",
    "    mc.move_abs(test_channel,i)\n",
    "    new_position=mc.getPosition(test_channel)\n",
    "    positions.append(new_position)\n",
    "print positions"
   ]
  },
  {
   "cell_type": "code",
   "execution_count": 231,
   "metadata": {
    "collapsed": false,
    "deletable": true,
    "editable": true
   },
   "outputs": [
    {
     "ename": "ValueError",
     "evalue": "x and y must have same first dimension, but have shapes (101L,) and (17L,)",
     "output_type": "error",
     "traceback": [
      "\u001b[1;31m---------------------------------------------------------------------------\u001b[0m",
      "\u001b[1;31mValueError\u001b[0m                                Traceback (most recent call last)",
      "\u001b[1;32m<ipython-input-231-424dcdf6bc60>\u001b[0m in \u001b[0;36m<module>\u001b[1;34m()\u001b[0m\n\u001b[0;32m      3\u001b[0m \u001b[0mvalues\u001b[0m\u001b[1;33m=\u001b[0m\u001b[0mnp\u001b[0m\u001b[1;33m.\u001b[0m\u001b[0mlinspace\u001b[0m\u001b[1;33m(\u001b[0m\u001b[0mnp\u001b[0m\u001b[1;33m.\u001b[0m\u001b[0mmin\u001b[0m\u001b[1;33m(\u001b[0m\u001b[0mrandom_sequence\u001b[0m\u001b[1;33m)\u001b[0m\u001b[1;33m,\u001b[0m\u001b[0mnp\u001b[0m\u001b[1;33m.\u001b[0m\u001b[0mmax\u001b[0m\u001b[1;33m(\u001b[0m\u001b[0mrandom_sequence\u001b[0m\u001b[1;33m)\u001b[0m\u001b[1;33m,\u001b[0m\u001b[1;36m2\u001b[0m\u001b[1;33m)\u001b[0m\u001b[1;33m\u001b[0m\u001b[0m\n\u001b[0;32m      4\u001b[0m \u001b[0mfig\u001b[0m\u001b[1;33m=\u001b[0m\u001b[0mplt\u001b[0m\u001b[1;33m.\u001b[0m\u001b[0mfigure\u001b[0m\u001b[1;33m(\u001b[0m\u001b[0mfigsize\u001b[0m\u001b[1;33m=\u001b[0m\u001b[1;33m(\u001b[0m\u001b[1;36m10\u001b[0m\u001b[1;33m,\u001b[0m\u001b[1;36m10\u001b[0m\u001b[1;33m)\u001b[0m\u001b[1;33m)\u001b[0m\u001b[1;33m;\u001b[0m\u001b[1;33m\u001b[0m\u001b[0m\n\u001b[1;32m----> 5\u001b[1;33m \u001b[0mplt\u001b[0m\u001b[1;33m.\u001b[0m\u001b[0mplot\u001b[0m\u001b[1;33m(\u001b[0m\u001b[0mnp\u001b[0m\u001b[1;33m.\u001b[0m\u001b[0minsert\u001b[0m\u001b[1;33m(\u001b[0m\u001b[0mrandom_sequence\u001b[0m\u001b[1;33m,\u001b[0m\u001b[1;36m0\u001b[0m\u001b[1;33m,\u001b[0m\u001b[1;36m0\u001b[0m\u001b[1;33m)\u001b[0m\u001b[1;33m,\u001b[0m\u001b[0mpositions\u001b[0m\u001b[1;33m,\u001b[0m \u001b[1;34m'bo'\u001b[0m\u001b[1;33m)\u001b[0m\u001b[1;33m;\u001b[0m\u001b[1;33m\u001b[0m\u001b[0m\n\u001b[0m\u001b[0;32m      6\u001b[0m \u001b[0mplt\u001b[0m\u001b[1;33m.\u001b[0m\u001b[0mplot\u001b[0m\u001b[1;33m(\u001b[0m\u001b[0mvalues\u001b[0m\u001b[1;33m,\u001b[0m\u001b[0mvalues\u001b[0m\u001b[1;33m)\u001b[0m\u001b[1;33m\u001b[0m\u001b[0m\n\u001b[0;32m      7\u001b[0m \u001b[0mplt\u001b[0m\u001b[1;33m.\u001b[0m\u001b[0mtitle\u001b[0m\u001b[1;33m(\u001b[0m\u001b[1;34m'Randomized movement test, {}'\u001b[0m\u001b[1;33m.\u001b[0m\u001b[0mformat\u001b[0m\u001b[1;33m(\u001b[0m\u001b[0mchannel_labels\u001b[0m\u001b[1;33m[\u001b[0m\u001b[0mtest_channel\u001b[0m\u001b[1;33m]\u001b[0m\u001b[1;33m)\u001b[0m\u001b[1;33m,\u001b[0m\u001b[0mfontsize\u001b[0m\u001b[1;33m=\u001b[0m\u001b[1;36m20\u001b[0m\u001b[1;33m)\u001b[0m\u001b[1;33m\u001b[0m\u001b[0m\n",
      "\u001b[1;32mC:\\Users\\Rb\\AppData\\Local\\Enthought\\Canopy\\User\\lib\\site-packages\\matplotlib\\pyplot.pyc\u001b[0m in \u001b[0;36mplot\u001b[1;34m(*args, **kwargs)\u001b[0m\n\u001b[0;32m   3316\u001b[0m                       mplDeprecation)\n\u001b[0;32m   3317\u001b[0m     \u001b[1;32mtry\u001b[0m\u001b[1;33m:\u001b[0m\u001b[1;33m\u001b[0m\u001b[0m\n\u001b[1;32m-> 3318\u001b[1;33m         \u001b[0mret\u001b[0m \u001b[1;33m=\u001b[0m \u001b[0max\u001b[0m\u001b[1;33m.\u001b[0m\u001b[0mplot\u001b[0m\u001b[1;33m(\u001b[0m\u001b[1;33m*\u001b[0m\u001b[0margs\u001b[0m\u001b[1;33m,\u001b[0m \u001b[1;33m**\u001b[0m\u001b[0mkwargs\u001b[0m\u001b[1;33m)\u001b[0m\u001b[1;33m\u001b[0m\u001b[0m\n\u001b[0m\u001b[0;32m   3319\u001b[0m     \u001b[1;32mfinally\u001b[0m\u001b[1;33m:\u001b[0m\u001b[1;33m\u001b[0m\u001b[0m\n\u001b[0;32m   3320\u001b[0m         \u001b[0max\u001b[0m\u001b[1;33m.\u001b[0m\u001b[0m_hold\u001b[0m \u001b[1;33m=\u001b[0m \u001b[0mwashold\u001b[0m\u001b[1;33m\u001b[0m\u001b[0m\n",
      "\u001b[1;32mC:\\Users\\Rb\\AppData\\Local\\Enthought\\Canopy\\User\\lib\\site-packages\\matplotlib\\__init__.pyc\u001b[0m in \u001b[0;36minner\u001b[1;34m(ax, *args, **kwargs)\u001b[0m\n\u001b[0;32m   1890\u001b[0m                     warnings.warn(msg % (label_namer, func.__name__),\n\u001b[0;32m   1891\u001b[0m                                   RuntimeWarning, stacklevel=2)\n\u001b[1;32m-> 1892\u001b[1;33m             \u001b[1;32mreturn\u001b[0m \u001b[0mfunc\u001b[0m\u001b[1;33m(\u001b[0m\u001b[0max\u001b[0m\u001b[1;33m,\u001b[0m \u001b[1;33m*\u001b[0m\u001b[0margs\u001b[0m\u001b[1;33m,\u001b[0m \u001b[1;33m**\u001b[0m\u001b[0mkwargs\u001b[0m\u001b[1;33m)\u001b[0m\u001b[1;33m\u001b[0m\u001b[0m\n\u001b[0m\u001b[0;32m   1893\u001b[0m         \u001b[0mpre_doc\u001b[0m \u001b[1;33m=\u001b[0m \u001b[0minner\u001b[0m\u001b[1;33m.\u001b[0m\u001b[0m__doc__\u001b[0m\u001b[1;33m\u001b[0m\u001b[0m\n\u001b[0;32m   1894\u001b[0m         \u001b[1;32mif\u001b[0m \u001b[0mpre_doc\u001b[0m \u001b[1;32mis\u001b[0m \u001b[0mNone\u001b[0m\u001b[1;33m:\u001b[0m\u001b[1;33m\u001b[0m\u001b[0m\n",
      "\u001b[1;32mC:\\Users\\Rb\\AppData\\Local\\Enthought\\Canopy\\User\\lib\\site-packages\\matplotlib\\axes\\_axes.pyc\u001b[0m in \u001b[0;36mplot\u001b[1;34m(self, *args, **kwargs)\u001b[0m\n\u001b[0;32m   1404\u001b[0m         \u001b[0mkwargs\u001b[0m \u001b[1;33m=\u001b[0m \u001b[0mcbook\u001b[0m\u001b[1;33m.\u001b[0m\u001b[0mnormalize_kwargs\u001b[0m\u001b[1;33m(\u001b[0m\u001b[0mkwargs\u001b[0m\u001b[1;33m,\u001b[0m \u001b[0m_alias_map\u001b[0m\u001b[1;33m)\u001b[0m\u001b[1;33m\u001b[0m\u001b[0m\n\u001b[0;32m   1405\u001b[0m \u001b[1;33m\u001b[0m\u001b[0m\n\u001b[1;32m-> 1406\u001b[1;33m         \u001b[1;32mfor\u001b[0m \u001b[0mline\u001b[0m \u001b[1;32min\u001b[0m \u001b[0mself\u001b[0m\u001b[1;33m.\u001b[0m\u001b[0m_get_lines\u001b[0m\u001b[1;33m(\u001b[0m\u001b[1;33m*\u001b[0m\u001b[0margs\u001b[0m\u001b[1;33m,\u001b[0m \u001b[1;33m**\u001b[0m\u001b[0mkwargs\u001b[0m\u001b[1;33m)\u001b[0m\u001b[1;33m:\u001b[0m\u001b[1;33m\u001b[0m\u001b[0m\n\u001b[0m\u001b[0;32m   1407\u001b[0m             \u001b[0mself\u001b[0m\u001b[1;33m.\u001b[0m\u001b[0madd_line\u001b[0m\u001b[1;33m(\u001b[0m\u001b[0mline\u001b[0m\u001b[1;33m)\u001b[0m\u001b[1;33m\u001b[0m\u001b[0m\n\u001b[0;32m   1408\u001b[0m             \u001b[0mlines\u001b[0m\u001b[1;33m.\u001b[0m\u001b[0mappend\u001b[0m\u001b[1;33m(\u001b[0m\u001b[0mline\u001b[0m\u001b[1;33m)\u001b[0m\u001b[1;33m\u001b[0m\u001b[0m\n",
      "\u001b[1;32mC:\\Users\\Rb\\AppData\\Local\\Enthought\\Canopy\\User\\lib\\site-packages\\matplotlib\\axes\\_base.pyc\u001b[0m in \u001b[0;36m_grab_next_args\u001b[1;34m(self, *args, **kwargs)\u001b[0m\n\u001b[0;32m    405\u001b[0m                 \u001b[1;32mreturn\u001b[0m\u001b[1;33m\u001b[0m\u001b[0m\n\u001b[0;32m    406\u001b[0m             \u001b[1;32mif\u001b[0m \u001b[0mlen\u001b[0m\u001b[1;33m(\u001b[0m\u001b[0mremaining\u001b[0m\u001b[1;33m)\u001b[0m \u001b[1;33m<=\u001b[0m \u001b[1;36m3\u001b[0m\u001b[1;33m:\u001b[0m\u001b[1;33m\u001b[0m\u001b[0m\n\u001b[1;32m--> 407\u001b[1;33m                 \u001b[1;32mfor\u001b[0m \u001b[0mseg\u001b[0m \u001b[1;32min\u001b[0m \u001b[0mself\u001b[0m\u001b[1;33m.\u001b[0m\u001b[0m_plot_args\u001b[0m\u001b[1;33m(\u001b[0m\u001b[0mremaining\u001b[0m\u001b[1;33m,\u001b[0m \u001b[0mkwargs\u001b[0m\u001b[1;33m)\u001b[0m\u001b[1;33m:\u001b[0m\u001b[1;33m\u001b[0m\u001b[0m\n\u001b[0m\u001b[0;32m    408\u001b[0m                     \u001b[1;32myield\u001b[0m \u001b[0mseg\u001b[0m\u001b[1;33m\u001b[0m\u001b[0m\n\u001b[0;32m    409\u001b[0m                 \u001b[1;32mreturn\u001b[0m\u001b[1;33m\u001b[0m\u001b[0m\n",
      "\u001b[1;32mC:\\Users\\Rb\\AppData\\Local\\Enthought\\Canopy\\User\\lib\\site-packages\\matplotlib\\axes\\_base.pyc\u001b[0m in \u001b[0;36m_plot_args\u001b[1;34m(self, tup, kwargs)\u001b[0m\n\u001b[0;32m    383\u001b[0m             \u001b[0mx\u001b[0m\u001b[1;33m,\u001b[0m \u001b[0my\u001b[0m \u001b[1;33m=\u001b[0m \u001b[0mindex_of\u001b[0m\u001b[1;33m(\u001b[0m\u001b[0mtup\u001b[0m\u001b[1;33m[\u001b[0m\u001b[1;33m-\u001b[0m\u001b[1;36m1\u001b[0m\u001b[1;33m]\u001b[0m\u001b[1;33m)\u001b[0m\u001b[1;33m\u001b[0m\u001b[0m\n\u001b[0;32m    384\u001b[0m \u001b[1;33m\u001b[0m\u001b[0m\n\u001b[1;32m--> 385\u001b[1;33m         \u001b[0mx\u001b[0m\u001b[1;33m,\u001b[0m \u001b[0my\u001b[0m \u001b[1;33m=\u001b[0m \u001b[0mself\u001b[0m\u001b[1;33m.\u001b[0m\u001b[0m_xy_from_xy\u001b[0m\u001b[1;33m(\u001b[0m\u001b[0mx\u001b[0m\u001b[1;33m,\u001b[0m \u001b[0my\u001b[0m\u001b[1;33m)\u001b[0m\u001b[1;33m\u001b[0m\u001b[0m\n\u001b[0m\u001b[0;32m    386\u001b[0m \u001b[1;33m\u001b[0m\u001b[0m\n\u001b[0;32m    387\u001b[0m         \u001b[1;32mif\u001b[0m \u001b[0mself\u001b[0m\u001b[1;33m.\u001b[0m\u001b[0mcommand\u001b[0m \u001b[1;33m==\u001b[0m \u001b[1;34m'plot'\u001b[0m\u001b[1;33m:\u001b[0m\u001b[1;33m\u001b[0m\u001b[0m\n",
      "\u001b[1;32mC:\\Users\\Rb\\AppData\\Local\\Enthought\\Canopy\\User\\lib\\site-packages\\matplotlib\\axes\\_base.pyc\u001b[0m in \u001b[0;36m_xy_from_xy\u001b[1;34m(self, x, y)\u001b[0m\n\u001b[0;32m    242\u001b[0m         \u001b[1;32mif\u001b[0m \u001b[0mx\u001b[0m\u001b[1;33m.\u001b[0m\u001b[0mshape\u001b[0m\u001b[1;33m[\u001b[0m\u001b[1;36m0\u001b[0m\u001b[1;33m]\u001b[0m \u001b[1;33m!=\u001b[0m \u001b[0my\u001b[0m\u001b[1;33m.\u001b[0m\u001b[0mshape\u001b[0m\u001b[1;33m[\u001b[0m\u001b[1;36m0\u001b[0m\u001b[1;33m]\u001b[0m\u001b[1;33m:\u001b[0m\u001b[1;33m\u001b[0m\u001b[0m\n\u001b[0;32m    243\u001b[0m             raise ValueError(\"x and y must have same first dimension, but \"\n\u001b[1;32m--> 244\u001b[1;33m                              \"have shapes {} and {}\".format(x.shape, y.shape))\n\u001b[0m\u001b[0;32m    245\u001b[0m         \u001b[1;32mif\u001b[0m \u001b[0mx\u001b[0m\u001b[1;33m.\u001b[0m\u001b[0mndim\u001b[0m \u001b[1;33m>\u001b[0m \u001b[1;36m2\u001b[0m \u001b[1;32mor\u001b[0m \u001b[0my\u001b[0m\u001b[1;33m.\u001b[0m\u001b[0mndim\u001b[0m \u001b[1;33m>\u001b[0m \u001b[1;36m2\u001b[0m\u001b[1;33m:\u001b[0m\u001b[1;33m\u001b[0m\u001b[0m\n\u001b[0;32m    246\u001b[0m             raise ValueError(\"x and y can be no greater than 2-D, but have \"\n",
      "\u001b[1;31mValueError\u001b[0m: x and y must have same first dimension, but have shapes (101L,) and (17L,)"
     ]
    }
   ],
   "source": [
    "savefig=False\n",
    "channel_labels=['780X','780Y','480X','480Y']\n",
    "values=np.linspace(np.min(random_sequence),np.max(random_sequence),2)\n",
    "fig=plt.figure(figsize=(10,10));\n",
    "plt.plot(np.insert(random_sequence,0,0),positions, 'bo');\n",
    "plt.plot(values,values)\n",
    "plt.title('Randomized movement test, {}'.format(channel_labels[test_channel]),fontsize=20)\n",
    "plt.xlabel('Target, abs position(deg)',fontsize=20)\n",
    "plt.ylabel('Reached, abs position(deg)',fontsize=20)\n",
    "if savefig:\n",
    "    plt.savefig('Randomized_movement_test_780X.pdf')\n",
    "    plt.savefig('Randomized_movement_test_780X.png')\n",
    "plt.show()"
   ]
  },
  {
   "cell_type": "code",
   "execution_count": 228,
   "metadata": {
    "collapsed": false,
    "deletable": true,
    "editable": true
   },
   "outputs": [
    {
     "data": {
      "image/png": "[encoded data removed]",
      "text/plain": [
       "<matplotlib.figure.Figure at 0xc7780b8>"
      ]
     },
     "metadata": {},
     "output_type": "display_data"
    }
   ],
   "source": [
    "\n",
    "values=np.linspace(np.min(random_sequence),np.max(random_sequence),2)\n",
    "fig=plt.figure(figsize=(10,10));\n",
    "plt.plot(np.insert(random_sequence,0,0),positions-np.insert(random_sequence,0,0), 'bo');\n",
    "plt.title('Randomized movement test, , {}, residuals'.format(channel_labels[test_channel]),fontsize=20)\n",
    "plt.xlabel('Target, abs position(deg)',fontsize=20)\n",
    "plt.ylabel('Residuals(Reached-Target, deg)',fontsize=20)\n",
    "plt.ylim(-1,1)\n",
    "plt.savefig('Randomized_movement_test_780X,residuals.pdf')\n",
    "plt.savefig('Randomized_movement_test_780X,residuals.png')\n",
    "plt.show()"
   ]
  },
  {
   "cell_type": "code",
   "execution_count": 4,
   "metadata": {
    "collapsed": false,
    "deletable": true,
    "editable": true
   },
   "outputs": [
    {
     "name": "stdout",
     "output_type": "stream",
     "text": [
      "[299 497 303 262 392 367  54 133 205 215 347 444 108 171 186 155 366  94\n",
      " 307 233 121 414 206 252 393 428 475  89 317 185 263  80 349  27  57  26\n",
      " 260 105 399 129]\n"
     ]
    }
   ],
   "source": [
    "# Testing Y axis\n",
    "import numpy as np\n",
    "test_channel=1\n",
    "random_sequence=np.random.randint(0,500,40)\n",
    "print random_sequence"
   ]
  },
  {
   "cell_type": "code",
   "execution_count": 5,
   "metadata": {
    "collapsed": false,
    "deletable": true,
    "editable": true
   },
   "outputs": [
    {
     "name": "stderr",
     "output_type": "stream",
     "text": [
      "INFO - Channel: 1 position: 99.931640625\n",
      "INFO - avg_steps: 2708.79882812\n",
      "INFO - Channel: 1 position: 99.931640625\n",
      "INFO - Response: ''\n",
      "\n",
      "INFO - Sending next command(17): '2PR1896\\r\\n'\n"
     ]
    },
    {
     "name": "stdout",
     "output_type": "stream",
     "text": [
      "780\n",
      "1\n",
      "780\n",
      "1\n"
     ]
    },
    {
     "name": "stderr",
     "output_type": "stream",
     "text": [
      "INFO - Motor 2: movement ceased. Continuing with command buffer.\n",
      "\n",
      "INFO - Channel: 1 position: 146.469726562\n",
      "INFO - Response: ''\n",
      "\n",
      "INFO - Sending next command(18): '2PR1277\\r\\n'\n"
     ]
    },
    {
     "name": "stdout",
     "output_type": "stream",
     "text": [
      "780\n",
      "1\n"
     ]
    },
    {
     "name": "stderr",
     "output_type": "stream",
     "text": [
      "INFO - Motor 2: movement ceased. Continuing with command buffer.\n",
      "\n",
      "INFO - Channel: 1 position: 174.287109375\n",
      "INFO - Response: ''\n",
      "\n",
      "INFO - Sending next command(19): '2PR907\\r\\n'\n"
     ]
    },
    {
     "name": "stdout",
     "output_type": "stream",
     "text": [
      "780\n",
      "1\n"
     ]
    },
    {
     "name": "stderr",
     "output_type": "stream",
     "text": [
      "INFO - Motor 2: movement ceased. Continuing with command buffer.\n",
      "\n",
      "INFO - Channel: 1 position: 190.239257812\n",
      "INFO - Response: ''\n",
      "\n",
      "INFO - Sending next command(20): '2PR695\\r\\n'\n"
     ]
    },
    {
     "name": "stdout",
     "output_type": "stream",
     "text": [
      "780\n",
      "1\n"
     ]
    },
    {
     "name": "stderr",
     "output_type": "stream",
     "text": [
      "INFO - Motor 2: movement ceased. Continuing with command buffer.\n",
      "\n",
      "INFO - Channel: 1 position: 201.357421875\n",
      "INFO - Response: ''\n",
      "\n",
      "INFO - Sending next command(21): '2PR547\\r\\n'\n"
     ]
    },
    {
     "name": "stdout",
     "output_type": "stream",
     "text": [
      "780\n",
      "1\n"
     ]
    },
    {
     "name": "stderr",
     "output_type": "stream",
     "text": [
      "INFO - Motor 2: movement ceased. Continuing with command buffer.\n",
      "\n",
      "INFO - Channel: 1 position: 210.322265625\n",
      "INFO - Response: ''\n",
      "\n",
      "INFO - Sending next command(22): '2PR428\\r\\n'\n"
     ]
    },
    {
     "name": "stdout",
     "output_type": "stream",
     "text": [
      "780\n",
      "1\n"
     ]
    },
    {
     "name": "stderr",
     "output_type": "stream",
     "text": [
      "INFO - Motor 2: movement ceased. Continuing with command buffer.\n",
      "\n",
      "INFO - Channel: 1 position: 217.265625\n",
      "INFO - Response: ''\n",
      "\n",
      "INFO - Sending next command(23): '2PR336\\r\\n'\n"
     ]
    },
    {
     "name": "stdout",
     "output_type": "stream",
     "text": [
      "780\n",
      "1\n"
     ]
    },
    {
     "name": "stderr",
     "output_type": "stream",
     "text": [
      "INFO - Motor 2: movement ceased. Continuing with command buffer.\n",
      "\n",
      "INFO - Channel: 1 position: 223.330078125\n",
      "INFO - Response: ''\n",
      "\n",
      "INFO - Sending next command(24): '2PR255\\r\\n'\n"
     ]
    },
    {
     "name": "stdout",
     "output_type": "stream",
     "text": [
      "780\n",
      "1\n"
     ]
    },
    {
     "name": "stderr",
     "output_type": "stream",
     "text": [
      "INFO - Motor 2: movement ceased. Continuing with command buffer.\n",
      "\n",
      "INFO - Channel: 1 position: 228.120117188\n",
      "INFO - Response: ''\n",
      "\n",
      "INFO - Sending next command(25): '2PR191\\r\\n'\n"
     ]
    },
    {
     "name": "stdout",
     "output_type": "stream",
     "text": [
      "780\n",
      "1\n"
     ]
    },
    {
     "name": "stderr",
     "output_type": "stream",
     "text": [
      "INFO - Motor 2: movement ceased. Continuing with command buffer.\n",
      "\n",
      "INFO - Channel: 1 position: 231.811523438\n",
      "INFO - Response: ''\n",
      "\n",
      "INFO - Sending next command(26): '2PR142\\r\\n'\n"
     ]
    },
    {
     "name": "stdout",
     "output_type": "stream",
     "text": [
      "780\n",
      "1\n"
     ]
    },
    {
     "name": "stderr",
     "output_type": "stream",
     "text": [
      "INFO - Motor 2: movement ceased. Continuing with command buffer.\n",
      "\n",
      "INFO - Channel: 1 position: 234.66796875\n",
      "INFO - Response: ''\n",
      "\n",
      "INFO - Sending next command(27): '2PR104\\r\\n'\n"
     ]
    },
    {
     "name": "stdout",
     "output_type": "stream",
     "text": [
      "780\n",
      "1\n"
     ]
    },
    {
     "name": "stderr",
     "output_type": "stream",
     "text": [
      "INFO - Motor 2: movement ceased. Continuing with command buffer.\n",
      "\n",
      "INFO - Channel: 1 position: 236.733398438\n",
      "INFO - Response: ''\n",
      "\n",
      "INFO - Sending next command(28): '2PR77\\r\\n'\n"
     ]
    },
    {
     "name": "stdout",
     "output_type": "stream",
     "text": [
      "780\n",
      "1\n"
     ]
    },
    {
     "name": "stderr",
     "output_type": "stream",
     "text": [
      "INFO - Motor 2: movement ceased. Continuing with command buffer.\n",
      "\n",
      "INFO - Channel: 1 position: 238.359375\n",
      "INFO - Response: ''\n",
      "\n",
      "INFO - Sending next command(29): '2PR55\\r\\n'\n"
     ]
    },
    {
     "name": "stdout",
     "output_type": "stream",
     "text": [
      "780\n",
      "1\n"
     ]
    },
    {
     "name": "stderr",
     "output_type": "stream",
     "text": [
      "INFO - Motor 2: movement ceased. Continuing with command buffer.\n",
      "\n",
      "INFO - Channel: 1 position: 239.633789062\n",
      "INFO - Response: ''\n",
      "\n",
      "INFO - Sending next command(30): '2PR38\\r\\n'\n"
     ]
    },
    {
     "name": "stdout",
     "output_type": "stream",
     "text": [
      "780\n",
      "1\n"
     ]
    },
    {
     "name": "stderr",
     "output_type": "stream",
     "text": [
      "INFO - Motor 2: movement ceased. Continuing with command buffer.\n",
      "\n",
      "INFO - Channel: 1 position: 240.600585938\n",
      "INFO - Response: ''\n",
      "\n",
      "INFO - Sending next command(31): '2PR25\\r\\n'\n"
     ]
    },
    {
     "name": "stdout",
     "output_type": "stream",
     "text": [
      "780\n",
      "1\n"
     ]
    },
    {
     "name": "stderr",
     "output_type": "stream",
     "text": [
      "INFO - Motor 2: movement ceased. Continuing with command buffer.\n",
      "\n",
      "INFO - Channel: 1 position: 241.303710938\n",
      "INFO - Response: ''\n",
      "\n",
      "INFO - Sending next command(32): '2PR16\\r\\n'\n"
     ]
    },
    {
     "name": "stdout",
     "output_type": "stream",
     "text": [
      "780\n",
      "1\n"
     ]
    },
    {
     "name": "stderr",
     "output_type": "stream",
     "text": [
      "INFO - Motor 2: movement ceased. Continuing with command buffer.\n",
      "\n",
      "INFO - Channel: 1 position: 241.787109375\n",
      "INFO - Response: ''\n",
      "\n",
      "INFO - Sending next command(33): '2PR9\\r\\n'\n"
     ]
    },
    {
     "name": "stdout",
     "output_type": "stream",
     "text": [
      "780\n",
      "1\n"
     ]
    },
    {
     "name": "stderr",
     "output_type": "stream",
     "text": [
      "INFO - Motor 2: movement ceased. Continuing with command buffer.\n",
      "\n",
      "INFO - Channel: 1 position: 242.05078125\n",
      "INFO - Response: ''\n",
      "\n",
      "INFO - Sending next command(34): '2PR6\\r\\n'\n"
     ]
    },
    {
     "name": "stdout",
     "output_type": "stream",
     "text": [
      "780\n",
      "1\n"
     ]
    },
    {
     "name": "stderr",
     "output_type": "stream",
     "text": [
      "INFO - Motor 2: movement ceased. Continuing with command buffer.\n",
      "\n",
      "INFO - Channel: 1 position: 242.2265625\n",
      "INFO - Response: ''\n",
      "\n",
      "INFO - Sending next command(35): '2PR4\\r\\n'\n"
     ]
    },
    {
     "name": "stdout",
     "output_type": "stream",
     "text": [
      "780\n",
      "1\n"
     ]
    },
    {
     "name": "stderr",
     "output_type": "stream",
     "text": [
      "INFO - Motor 2: movement ceased. Continuing with command buffer.\n",
      "\n",
      "INFO - Channel: 1 position: 242.358398438\n",
      "INFO - Response: ''\n",
      "\n",
      "INFO - Sending next command(36): '2PR2\\r\\n'\n"
     ]
    },
    {
     "name": "stdout",
     "output_type": "stream",
     "text": [
      "780\n",
      "1\n"
     ]
    },
    {
     "name": "stderr",
     "output_type": "stream",
     "text": [
      "INFO - Motor 2: movement ceased. Continuing with command buffer.\n",
      "\n",
      "INFO - Channel: 1 position: 242.40234375\n",
      "INFO - New motor position is 242.40234375 deg, error -0.09765625 deg.\n",
      "INFO - Channel: 1 position: 242.40234375\n",
      "INFO - Channel: 1 position: 242.40234375\n",
      "INFO - avg_steps: 1075.35546875\n",
      "INFO - Channel: 1 position: 242.40234375\n",
      "INFO - Response: ''\n",
      "\n",
      "INFO - Sending next command(37): '2PR753\\r\\n'\n"
     ]
    },
    {
     "name": "stdout",
     "output_type": "stream",
     "text": [
      "780\n",
      "1\n",
      "780\n",
      "1\n",
      "780\n",
      "1\n",
      "780\n",
      "1\n"
     ]
    },
    {
     "name": "stderr",
     "output_type": "stream",
     "text": [
      "INFO - Motor 2: movement ceased. Continuing with command buffer.\n",
      "\n",
      "INFO - Channel: 1 position: 256.948242188\n",
      "INFO - Response: ''\n",
      "\n",
      "INFO - Sending next command(38): '2PR559\\r\\n'\n"
     ]
    },
    {
     "name": "stdout",
     "output_type": "stream",
     "text": [
      "780\n",
      "1\n"
     ]
    },
    {
     "name": "stderr",
     "output_type": "stream",
     "text": [
      "INFO - Motor 2: movement ceased. Continuing with command buffer.\n",
      "\n",
      "INFO - Channel: 1 position: 266.791992188\n",
      "INFO - Response: ''\n",
      "\n",
      "INFO - Sending next command(39): '2PR428\\r\\n'\n"
     ]
    },
    {
     "name": "stdout",
     "output_type": "stream",
     "text": [
      "780\n",
      "1\n"
     ]
    },
    {
     "name": "stderr",
     "output_type": "stream",
     "text": [
      "INFO - Motor 2: movement ceased. Continuing with command buffer.\n",
      "\n",
      "INFO - Channel: 1 position: 273.69140625\n",
      "INFO - Response: ''\n",
      "\n",
      "INFO - Sending next command(40): '2PR337\\r\\n'\n"
     ]
    },
    {
     "name": "stdout",
     "output_type": "stream",
     "text": [
      "780\n",
      "1\n"
     ]
    },
    {
     "name": "stderr",
     "output_type": "stream",
     "text": [
      "INFO - Motor 2: movement ceased. Continuing with command buffer.\n",
      "\n",
      "INFO - Channel: 1 position: 279.096679688\n",
      "INFO - Response: ''\n",
      "\n",
      "INFO - Sending next command(41): '2PR265\\r\\n'\n"
     ]
    },
    {
     "name": "stdout",
     "output_type": "stream",
     "text": [
      "780\n",
      "1\n"
     ]
    },
    {
     "name": "stderr",
     "output_type": "stream",
     "text": [
      "INFO - Motor 2: movement ceased. Continuing with command buffer.\n",
      "\n",
      "INFO - Channel: 1 position: 283.227539062\n",
      "INFO - Response: ''\n",
      "\n",
      "INFO - Sending next command(42): '2PR210\\r\\n'\n"
     ]
    },
    {
     "name": "stdout",
     "output_type": "stream",
     "text": [
      "780\n",
      "1\n"
     ]
    },
    {
     "name": "stderr",
     "output_type": "stream",
     "text": [
      "INFO - Motor 2: movement ceased. Continuing with command buffer.\n",
      "\n",
      "INFO - Channel: 1 position: 286.391601562\n",
      "INFO - Response: ''\n",
      "\n",
      "INFO - Sending next command(43): '2PR168\\r\\n'\n"
     ]
    },
    {
     "name": "stdout",
     "output_type": "stream",
     "text": [
      "780\n",
      "1\n"
     ]
    },
    {
     "name": "stderr",
     "output_type": "stream",
     "text": [
      "INFO - Motor 2: movement ceased. Continuing with command buffer.\n",
      "\n",
      "INFO - Channel: 1 position: 288.80859375\n",
      "INFO - Response: ''\n",
      "\n",
      "INFO - Sending next command(44): '2PR136\\r\\n'\n"
     ]
    },
    {
     "name": "stdout",
     "output_type": "stream",
     "text": [
      "780\n",
      "1\n"
     ]
    },
    {
     "name": "stderr",
     "output_type": "stream",
     "text": [
      "INFO - Motor 2: movement ceased. Continuing with command buffer.\n",
      "\n",
      "INFO - Channel: 1 position: 290.786132812\n",
      "INFO - Response: ''\n",
      "\n",
      "INFO - Sending next command(45): '2PR109\\r\\n'\n"
     ]
    },
    {
     "name": "stdout",
     "output_type": "stream",
     "text": [
      "780\n",
      "1\n"
     ]
    },
    {
     "name": "stderr",
     "output_type": "stream",
     "text": [
      "INFO - Motor 2: movement ceased. Continuing with command buffer.\n",
      "\n",
      "INFO - Channel: 1 position: 292.456054688\n",
      "INFO - Response: ''\n",
      "\n",
      "INFO - Sending next command(46): '2PR87\\r\\n'\n"
     ]
    },
    {
     "name": "stdout",
     "output_type": "stream",
     "text": [
      "780\n",
      "1\n"
     ]
    },
    {
     "name": "stderr",
     "output_type": "stream",
     "text": [
      "INFO - Motor 2: movement ceased. Continuing with command buffer.\n",
      "\n",
      "INFO - Channel: 1 position: 293.90625\n",
      "INFO - Response: ''\n",
      "\n",
      "INFO - Sending next command(47): '2PR68\\r\\n'\n"
     ]
    },
    {
     "name": "stdout",
     "output_type": "stream",
     "text": [
      "780\n",
      "1\n"
     ]
    },
    {
     "name": "stderr",
     "output_type": "stream",
     "text": [
      "INFO - Motor 2: movement ceased. Continuing with command buffer.\n",
      "\n",
      "INFO - Channel: 1 position: 295.092773438\n",
      "INFO - Response: ''\n",
      "\n",
      "INFO - Sending next command(48): '2PR52\\r\\n'\n"
     ]
    },
    {
     "name": "stdout",
     "output_type": "stream",
     "text": [
      "780\n",
      "1\n"
     ]
    },
    {
     "name": "stderr",
     "output_type": "stream",
     "text": [
      "INFO - Motor 2: movement ceased. Continuing with command buffer.\n",
      "\n",
      "INFO - Channel: 1 position: 296.059570312\n",
      "INFO - Response: ''\n",
      "\n",
      "INFO - Sending next command(49): '2PR39\\r\\n'\n"
     ]
    },
    {
     "name": "stdout",
     "output_type": "stream",
     "text": [
      "780\n",
      "1\n"
     ]
    },
    {
     "name": "stderr",
     "output_type": "stream",
     "text": [
      "INFO - Motor 2: movement ceased. Continuing with command buffer.\n",
      "\n",
      "INFO - Channel: 1 position: 296.850585938\n",
      "INFO - Response: ''\n",
      "\n",
      "INFO - Sending next command(50): '2PR29\\r\\n'\n"
     ]
    },
    {
     "name": "stdout",
     "output_type": "stream",
     "text": [
      "780\n",
      "1\n"
     ]
    },
    {
     "name": "stderr",
     "output_type": "stream",
     "text": [
      "INFO - Motor 2: movement ceased. Continuing with command buffer.\n",
      "\n",
      "INFO - Channel: 1 position: 297.465820312\n",
      "INFO - Response: ''\n",
      "\n",
      "INFO - Sending next command(51): '2PR20\\r\\n'\n"
     ]
    },
    {
     "name": "stdout",
     "output_type": "stream",
     "text": [
      "780\n",
      "1\n"
     ]
    },
    {
     "name": "stderr",
     "output_type": "stream",
     "text": [
      "INFO - Motor 2: movement ceased. Continuing with command buffer.\n",
      "\n",
      "INFO - Channel: 1 position: 297.905273438\n",
      "INFO - Response: ''\n",
      "\n",
      "INFO - Sending next command(52): '2PR15\\r\\n'\n"
     ]
    },
    {
     "name": "stdout",
     "output_type": "stream",
     "text": [
      "780\n",
      "1\n"
     ]
    },
    {
     "name": "stderr",
     "output_type": "stream",
     "text": [
      "INFO - Motor 2: movement ceased. Continuing with command buffer.\n",
      "\n",
      "INFO - Channel: 1 position: 298.30078125\n",
      "INFO - Response: ''\n",
      "\n",
      "INFO - Sending next command(53): '2PR9\\r\\n'\n"
     ]
    },
    {
     "name": "stdout",
     "output_type": "stream",
     "text": [
      "780\n",
      "1\n"
     ]
    },
    {
     "name": "stderr",
     "output_type": "stream",
     "text": [
      "INFO - Motor 2: movement ceased. Continuing with command buffer.\n",
      "\n",
      "INFO - Channel: 1 position: 298.4765625\n",
      "INFO - Response: ''\n",
      "\n",
      "INFO - Sending next command(54): '2PR7\\r\\n'\n"
     ]
    },
    {
     "name": "stdout",
     "output_type": "stream",
     "text": [
      "780\n",
      "1\n"
     ]
    },
    {
     "name": "stderr",
     "output_type": "stream",
     "text": [
      "INFO - Motor 2: movement ceased. Continuing with command buffer.\n",
      "\n",
      "INFO - Channel: 1 position: 298.608398438\n",
      "INFO - Response: ''\n",
      "\n",
      "INFO - Sending next command(55): '2PR5\\r\\n'\n"
     ]
    },
    {
     "name": "stdout",
     "output_type": "stream",
     "text": [
      "780\n",
      "1\n"
     ]
    },
    {
     "name": "stderr",
     "output_type": "stream",
     "text": [
      "INFO - Motor 2: movement ceased. Continuing with command buffer.\n",
      "\n",
      "INFO - Channel: 1 position: 298.740234375\n",
      "INFO - Response: ''\n",
      "\n",
      "INFO - Sending next command(56): '2PR3\\r\\n'\n"
     ]
    },
    {
     "name": "stdout",
     "output_type": "stream",
     "text": [
      "780\n",
      "1\n"
     ]
    },
    {
     "name": "stderr",
     "output_type": "stream",
     "text": [
      "INFO - Motor 2: movement ceased. Continuing with command buffer.\n",
      "\n",
      "INFO - Channel: 1 position: 298.784179688\n",
      "ERROR - Current position 298.784179688 deg. Setpoint not achieved by -0.2158203125 deg after max iterations.\n",
      "INFO - Channel: 1 position: 298.784179688\n",
      "INFO - Channel: 1 position: 298.784179688\n",
      "INFO - avg_steps: 3766.10058594\n",
      "INFO - Channel: 1 position: 298.784179688\n",
      "INFO - Response: ''\n",
      "\n",
      "INFO - Sending next command(57): '2PR2636\\r\\n'\n"
     ]
    },
    {
     "name": "stdout",
     "output_type": "stream",
     "text": [
      "780\n",
      "1\n",
      "780\n",
      "1\n",
      "780\n",
      "1\n",
      "780\n",
      "1\n"
     ]
    },
    {
     "name": "stderr",
     "output_type": "stream",
     "text": [
      "INFO - Motor 2: movement ceased. Continuing with command buffer.\n",
      "\n",
      "INFO - Channel: 1 position: 338.73046875\n",
      "INFO - Response: ''\n",
      "\n",
      "INFO - Sending next command(58): '2PR2105\\r\\n'\n"
     ]
    },
    {
     "name": "stdout",
     "output_type": "stream",
     "text": [
      "780\n",
      "1\n"
     ]
    },
    {
     "name": "stderr",
     "output_type": "stream",
     "text": [
      "INFO - Motor 2: movement ceased. Continuing with command buffer.\n",
      "\n",
      "INFO - Channel: 1 position: 386.71875\n",
      "INFO - Response: ''\n",
      "\n",
      "INFO - Sending next command(59): '2PR1467\\r\\n'\n"
     ]
    },
    {
     "name": "stdout",
     "output_type": "stream",
     "text": [
      "780\n",
      "1\n"
     ]
    },
    {
     "name": "stderr",
     "output_type": "stream",
     "text": [
      "INFO - Motor 2: movement ceased. Continuing with command buffer.\n",
      "\n",
      "INFO - Channel: 1 position: 430.83984375\n",
      "INFO - Response: ''\n",
      "\n",
      "INFO - Sending next command(60): '2PR880\\r\\n'\n"
     ]
    },
    {
     "name": "stdout",
     "output_type": "stream",
     "text": [
      "780\n",
      "1\n"
     ]
    },
    {
     "name": "stderr",
     "output_type": "stream",
     "text": [
      "INFO - Motor 2: movement ceased. Continuing with command buffer.\n",
      "\n",
      "INFO - Channel: 1 position: 456.372070312\n",
      "INFO - Response: ''\n",
      "\n",
      "INFO - Sending next command(61): '2PR540\\r\\n'\n"
     ]
    },
    {
     "name": "stdout",
     "output_type": "stream",
     "text": [
      "780\n",
      "1\n"
     ]
    },
    {
     "name": "stderr",
     "output_type": "stream",
     "text": [
      "INFO - Motor 2: movement ceased. Continuing with command buffer.\n",
      "\n",
      "INFO - Channel: 1 position: 471.708984375\n",
      "INFO - Response: ''\n",
      "\n",
      "INFO - Sending next command(62): '2PR336\\r\\n'\n"
     ]
    },
    {
     "name": "stdout",
     "output_type": "stream",
     "text": [
      "780\n",
      "1\n"
     ]
    },
    {
     "name": "stderr",
     "output_type": "stream",
     "text": [
      "INFO - Motor 2: movement ceased. Continuing with command buffer.\n",
      "\n",
      "INFO - Channel: 1 position: 481.245117188\n",
      "INFO - Response: ''\n",
      "\n",
      "INFO - Sending next command(63): '2PR210\\r\\n'\n"
     ]
    },
    {
     "name": "stdout",
     "output_type": "stream",
     "text": [
      "780\n",
      "1\n"
     ]
    },
    {
     "name": "stderr",
     "output_type": "stream",
     "text": [
      "INFO - Motor 2: movement ceased. Continuing with command buffer.\n",
      "\n",
      "INFO - Channel: 1 position: 487.485351562\n",
      "INFO - Response: ''\n",
      "\n",
      "INFO - Sending next command(64): '2PR127\\r\\n'\n"
     ]
    },
    {
     "name": "stdout",
     "output_type": "stream",
     "text": [
      "780\n",
      "1\n"
     ]
    },
    {
     "name": "stderr",
     "output_type": "stream",
     "text": [
      "INFO - Motor 2: movement ceased. Continuing with command buffer.\n",
      "\n",
      "INFO - Channel: 1 position: 491.352539062\n",
      "INFO - Response: ''\n",
      "\n",
      "INFO - Sending next command(65): '2PR75\\r\\n'\n"
     ]
    },
    {
     "name": "stdout",
     "output_type": "stream",
     "text": [
      "780\n",
      "1\n"
     ]
    },
    {
     "name": "stderr",
     "output_type": "stream",
     "text": [
      "INFO - Motor 2: movement ceased. Continuing with command buffer.\n",
      "\n",
      "INFO - Channel: 1 position: 493.637695312\n",
      "INFO - Response: ''\n",
      "\n",
      "INFO - Sending next command(66): '2PR45\\r\\n'\n"
     ]
    },
    {
     "name": "stdout",
     "output_type": "stream",
     "text": [
      "780\n",
      "1\n"
     ]
    },
    {
     "name": "stderr",
     "output_type": "stream",
     "text": [
      "INFO - Motor 2: movement ceased. Continuing with command buffer.\n",
      "\n",
      "INFO - Channel: 1 position: 495.087890625\n",
      "INFO - Response: ''\n",
      "\n",
      "INFO - Sending next command(67): '2PR25\\r\\n'\n"
     ]
    },
    {
     "name": "stdout",
     "output_type": "stream",
     "text": [
      "780\n",
      "1\n"
     ]
    },
    {
     "name": "stderr",
     "output_type": "stream",
     "text": [
      "INFO - Motor 2: movement ceased. Continuing with command buffer.\n",
      "\n",
      "INFO - Channel: 1 position: 495.966796875\n",
      "INFO - Response: ''\n",
      "\n",
      "INFO - Sending next command(68): '2PR14\\r\\n'\n"
     ]
    },
    {
     "name": "stdout",
     "output_type": "stream",
     "text": [
      "780\n",
      "1\n"
     ]
    },
    {
     "name": "stderr",
     "output_type": "stream",
     "text": [
      "INFO - Motor 2: movement ceased. Continuing with command buffer.\n",
      "\n",
      "INFO - Channel: 1 position: 496.494140625\n",
      "INFO - Response: ''\n",
      "\n",
      "INFO - Sending next command(69): '2PR7\\r\\n'\n"
     ]
    },
    {
     "name": "stdout",
     "output_type": "stream",
     "text": [
      "780\n",
      "1\n"
     ]
    },
    {
     "name": "stderr",
     "output_type": "stream",
     "text": [
      "INFO - Motor 2: movement ceased. Continuing with command buffer.\n",
      "\n",
      "INFO - Channel: 1 position: 496.7578125\n",
      "INFO - Response: ''\n",
      "\n",
      "INFO - Sending next command(70): '2PR3\\r\\n'\n"
     ]
    },
    {
     "name": "stdout",
     "output_type": "stream",
     "text": [
      "780\n",
      "1\n"
     ]
    },
    {
     "name": "stderr",
     "output_type": "stream",
     "text": [
      "INFO - Motor 2: movement ceased. Continuing with command buffer.\n",
      "\n",
      "INFO - Channel: 1 position: 496.845703125\n",
      "INFO - Response: ''\n",
      "\n",
      "INFO - Sending next command(71): '2PR2\\r\\n'\n"
     ]
    },
    {
     "name": "stdout",
     "output_type": "stream",
     "text": [
      "780\n",
      "1\n"
     ]
    },
    {
     "name": "stderr",
     "output_type": "stream",
     "text": [
      "INFO - Motor 2: movement ceased. Continuing with command buffer.\n",
      "\n",
      "INFO - Channel: 1 position: 496.93359375\n",
      "INFO - Response: ''\n",
      "\n",
      "INFO - Sending next command(72): '2PR1\\r\\n'\n"
     ]
    },
    {
     "name": "stdout",
     "output_type": "stream",
     "text": [
      "780\n",
      "1\n"
     ]
    },
    {
     "name": "stderr",
     "output_type": "stream",
     "text": [
      "INFO - Motor 2: movement ceased. Continuing with command buffer.\n",
      "\n",
      "INFO - Channel: 1 position: 496.977539062\n",
      "INFO - New motor position is 496.977539062 deg, error -0.0224609375 deg.\n",
      "INFO - Channel: 1 position: 496.977539062\n",
      "INFO - Channel: 1 position: 496.977539062\n",
      "INFO - avg_steps: -3685.57324219\n",
      "INFO - Need to go negative. Current position 496.977539062 DEG. Setpoint 303 DEG. Steps to be taken: -4686\n",
      "INFO - Response: ''\n",
      "\n",
      "INFO - Sending next command(73): '2PR-4686\\r\\n'\n"
     ]
    },
    {
     "name": "stdout",
     "output_type": "stream",
     "text": [
      "780\n",
      "1\n",
      "780\n",
      "1\n",
      "780\n",
      "1\n"
     ]
    },
    {
     "name": "stderr",
     "output_type": "stream",
     "text": [
      "INFO - Motor 2: movement ceased. Continuing with command buffer.\n",
      "\n",
      "INFO - Channel: 1 position: 247.236328125\n",
      "INFO - Response: ''\n",
      "\n",
      "INFO - Sending next command(74): '2PR742\\r\\n'\n"
     ]
    },
    {
     "name": "stdout",
     "output_type": "stream",
     "text": [
      "780\n",
      "1\n"
     ]
    },
    {
     "name": "stderr",
     "output_type": "stream",
     "text": [
      "INFO - Motor 2: movement ceased. Continuing with command buffer.\n",
      "\n",
      "INFO - Channel: 1 position: 270.3515625\n",
      "INFO - Response: ''\n",
      "\n",
      "INFO - Sending next command(75): '2PR434\\r\\n'\n"
     ]
    },
    {
     "name": "stdout",
     "output_type": "stream",
     "text": [
      "780\n",
      "1\n"
     ]
    },
    {
     "name": "stderr",
     "output_type": "stream",
     "text": [
      "INFO - Motor 2: movement ceased. Continuing with command buffer.\n",
      "\n",
      "INFO - Channel: 1 position: 279.008789062\n",
      "INFO - Response: ''\n",
      "\n",
      "INFO - Sending next command(76): '2PR319\\r\\n'\n"
     ]
    },
    {
     "name": "stdout",
     "output_type": "stream",
     "text": [
      "780\n",
      "1\n"
     ]
    },
    {
     "name": "stderr",
     "output_type": "stream",
     "text": [
      "INFO - Motor 2: movement ceased. Continuing with command buffer.\n",
      "\n",
      "INFO - Channel: 1 position: 284.853515625\n",
      "INFO - Response: ''\n",
      "\n",
      "INFO - Sending next command(77): '2PR241\\r\\n'\n"
     ]
    },
    {
     "name": "stdout",
     "output_type": "stream",
     "text": [
      "780\n",
      "1\n"
     ]
    },
    {
     "name": "stderr",
     "output_type": "stream",
     "text": [
      "INFO - Motor 2: movement ceased. Continuing with command buffer.\n",
      "\n",
      "INFO - Channel: 1 position: 288.940429688\n",
      "INFO - Response: ''\n",
      "\n",
      "INFO - Sending next command(78): '2PR187\\r\\n'\n"
     ]
    },
    {
     "name": "stdout",
     "output_type": "stream",
     "text": [
      "780\n",
      "1\n"
     ]
    },
    {
     "name": "stderr",
     "output_type": "stream",
     "text": [
      "INFO - Motor 2: movement ceased. Continuing with command buffer.\n",
      "\n",
      "INFO - Channel: 1 position: 292.1484375\n",
      "INFO - Response: ''\n",
      "\n",
      "INFO - Sending next command(79): '2PR144\\r\\n'\n"
     ]
    },
    {
     "name": "stdout",
     "output_type": "stream",
     "text": [
      "780\n",
      "1\n"
     ]
    },
    {
     "name": "stderr",
     "output_type": "stream",
     "text": [
      "INFO - Motor 2: movement ceased. Continuing with command buffer.\n",
      "\n",
      "INFO - Channel: 1 position: 294.829101562\n",
      "INFO - Response: ''\n",
      "\n",
      "INFO - Sending next command(80): '2PR109\\r\\n'\n"
     ]
    },
    {
     "name": "stdout",
     "output_type": "stream",
     "text": [
      "780\n",
      "1\n"
     ]
    },
    {
     "name": "stderr",
     "output_type": "stream",
     "text": [
      "INFO - Motor 2: movement ceased. Continuing with command buffer.\n",
      "\n",
      "INFO - Channel: 1 position: 296.89453125\n",
      "INFO - Response: ''\n",
      "\n",
      "INFO - Sending next command(81): '2PR81\\r\\n'\n"
     ]
    },
    {
     "name": "stdout",
     "output_type": "stream",
     "text": [
      "780\n",
      "1\n"
     ]
    },
    {
     "name": "stderr",
     "output_type": "stream",
     "text": [
      "INFO - Motor 2: movement ceased. Continuing with command buffer.\n",
      "\n",
      "INFO - Channel: 1 position: 298.520507812\n",
      "INFO - Response: ''\n",
      "\n",
      "INFO - Sending next command(82): '2PR60\\r\\n'\n"
     ]
    },
    {
     "name": "stdout",
     "output_type": "stream",
     "text": [
      "780\n",
      "1\n"
     ]
    },
    {
     "name": "stderr",
     "output_type": "stream",
     "text": [
      "INFO - Motor 2: movement ceased. Continuing with command buffer.\n",
      "\n",
      "INFO - Channel: 1 position: 299.794921875\n",
      "INFO - Response: ''\n",
      "\n",
      "INFO - Sending next command(83): '2PR43\\r\\n'\n"
     ]
    },
    {
     "name": "stdout",
     "output_type": "stream",
     "text": [
      "780\n",
      "1\n"
     ]
    },
    {
     "name": "stderr",
     "output_type": "stream",
     "text": [
      "INFO - Motor 2: movement ceased. Continuing with command buffer.\n",
      "\n",
      "INFO - Channel: 1 position: 300.76171875\n",
      "INFO - Response: ''\n",
      "\n",
      "INFO - Sending next command(84): '2PR30\\r\\n'\n"
     ]
    },
    {
     "name": "stdout",
     "output_type": "stream",
     "text": [
      "780\n",
      "1\n"
     ]
    },
    {
     "name": "stderr",
     "output_type": "stream",
     "text": [
      "INFO - Motor 2: movement ceased. Continuing with command buffer.\n",
      "\n",
      "INFO - Channel: 1 position: 301.552734375\n",
      "INFO - Response: ''\n",
      "\n",
      "INFO - Sending next command(85): '2PR19\\r\\n'\n"
     ]
    },
    {
     "name": "stdout",
     "output_type": "stream",
     "text": [
      "780\n",
      "1\n"
     ]
    },
    {
     "name": "stderr",
     "output_type": "stream",
     "text": [
      "INFO - Motor 2: movement ceased. Continuing with command buffer.\n",
      "\n",
      "INFO - Channel: 1 position: 302.080078125\n",
      "INFO - Response: ''\n",
      "\n",
      "INFO - Sending next command(86): '2PR12\\r\\n'\n"
     ]
    },
    {
     "name": "stdout",
     "output_type": "stream",
     "text": [
      "780\n",
      "1\n"
     ]
    },
    {
     "name": "stderr",
     "output_type": "stream",
     "text": [
      "INFO - Motor 2: movement ceased. Continuing with command buffer.\n",
      "\n",
      "INFO - Channel: 1 position: 302.387695312\n",
      "INFO - Response: ''\n",
      "\n",
      "INFO - Sending next command(87): '2PR8\\r\\n'\n"
     ]
    },
    {
     "name": "stdout",
     "output_type": "stream",
     "text": [
      "780\n",
      "1\n"
     ]
    },
    {
     "name": "stderr",
     "output_type": "stream",
     "text": [
      "INFO - Motor 2: movement ceased. Continuing with command buffer.\n",
      "\n",
      "INFO - Channel: 1 position: 302.607421875\n",
      "INFO - Response: ''\n",
      "\n",
      "INFO - Sending next command(88): '2PR5\\r\\n'\n"
     ]
    },
    {
     "name": "stdout",
     "output_type": "stream",
     "text": [
      "780\n",
      "1\n"
     ]
    },
    {
     "name": "stderr",
     "output_type": "stream",
     "text": [
      "INFO - Motor 2: movement ceased. Continuing with command buffer.\n",
      "\n",
      "INFO - Channel: 1 position: 302.739257812\n",
      "INFO - Response: ''\n",
      "\n",
      "INFO - Sending next command(89): '2PR3\\r\\n'\n"
     ]
    },
    {
     "name": "stdout",
     "output_type": "stream",
     "text": [
      "780\n",
      "1\n"
     ]
    },
    {
     "name": "stderr",
     "output_type": "stream",
     "text": [
      "INFO - Motor 2: movement ceased. Continuing with command buffer.\n",
      "\n",
      "INFO - Channel: 1 position: 302.827148438\n",
      "INFO - Response: ''\n",
      "\n",
      "INFO - Sending next command(90): '2PR2\\r\\n'\n"
     ]
    },
    {
     "name": "stdout",
     "output_type": "stream",
     "text": [
      "780\n",
      "1\n"
     ]
    },
    {
     "name": "stderr",
     "output_type": "stream",
     "text": [
      "INFO - Motor 2: movement ceased. Continuing with command buffer.\n",
      "\n",
      "INFO - Channel: 1 position: 302.87109375\n",
      "INFO - Response: ''\n",
      "\n",
      "INFO - Sending next command(91): '2PR2\\r\\n'\n"
     ]
    },
    {
     "name": "stdout",
     "output_type": "stream",
     "text": [
      "780\n",
      "1\n"
     ]
    },
    {
     "name": "stderr",
     "output_type": "stream",
     "text": [
      "INFO - Motor 2: movement ceased. Continuing with command buffer.\n",
      "\n",
      "INFO - Channel: 1 position: 302.915039062\n",
      "INFO - Response: ''\n",
      "\n",
      "INFO - Sending next command(92): '2PR1\\r\\n'\n"
     ]
    },
    {
     "name": "stdout",
     "output_type": "stream",
     "text": [
      "780\n",
      "1\n"
     ]
    },
    {
     "name": "stderr",
     "output_type": "stream",
     "text": [
      "INFO - Motor 2: movement ceased. Continuing with command buffer.\n",
      "\n",
      "INFO - Channel: 1 position: 302.958984375\n",
      "INFO - Response: ''\n",
      "\n",
      "INFO - Sending next command(93): '2PR1\\r\\n'\n"
     ]
    },
    {
     "name": "stdout",
     "output_type": "stream",
     "text": [
      "780\n",
      "1\n"
     ]
    },
    {
     "name": "stderr",
     "output_type": "stream",
     "text": [
      "INFO - Motor 2: movement ceased. Continuing with command buffer.\n",
      "\n",
      "INFO - Channel: 1 position: 302.958984375\n",
      "INFO - New motor position is 302.958984375 deg, error -0.041015625 deg.\n",
      "INFO - Channel: 1 position: 302.958984375\n",
      "INFO - Channel: 1 position: 302.958984375\n",
      "INFO - avg_steps: -778.220703125\n",
      "INFO - Need to go negative. Current position 302.958984375 DEG. Setpoint 262 DEG. Steps to be taken: -1778\n",
      "INFO - Response: ''\n",
      "\n",
      "INFO - Sending next command(94): '2PR-1778\\r\\n'\n"
     ]
    },
    {
     "name": "stdout",
     "output_type": "stream",
     "text": [
      "780\n",
      "1\n",
      "780\n",
      "1\n",
      "780\n",
      "1\n"
     ]
    },
    {
     "name": "stderr",
     "output_type": "stream",
     "text": [
      "INFO - Motor 2: movement ceased. Continuing with command buffer.\n",
      "\n",
      "INFO - Channel: 1 position: 209.00390625\n",
      "INFO - Response: ''\n",
      "\n",
      "INFO - Sending next command(95): '2PR705\\r\\n'\n"
     ]
    },
    {
     "name": "stdout",
     "output_type": "stream",
     "text": [
      "780\n",
      "1\n"
     ]
    },
    {
     "name": "stderr",
     "output_type": "stream",
     "text": [
      "INFO - Motor 2: movement ceased. Continuing with command buffer.\n",
      "\n",
      "INFO - Channel: 1 position: 234.272460938\n",
      "INFO - Response: ''\n",
      "\n",
      "INFO - Sending next command(96): '2PR369\\r\\n'\n"
     ]
    },
    {
     "name": "stdout",
     "output_type": "stream",
     "text": [
      "780\n",
      "1\n"
     ]
    },
    {
     "name": "stderr",
     "output_type": "stream",
     "text": [
      "INFO - Motor 2: movement ceased. Continuing with command buffer.\n",
      "\n",
      "INFO - Channel: 1 position: 243.588867188\n",
      "INFO - Response: ''\n",
      "\n",
      "INFO - Sending next command(97): '2PR245\\r\\n'\n"
     ]
    },
    {
     "name": "stdout",
     "output_type": "stream",
     "text": [
      "780\n",
      "1\n"
     ]
    },
    {
     "name": "stderr",
     "output_type": "stream",
     "text": [
      "INFO - Motor 2: movement ceased. Continuing with command buffer.\n",
      "\n",
      "INFO - Channel: 1 position: 249.565429688\n",
      "INFO - Response: ''\n",
      "\n",
      "INFO - Sending next command(98): '2PR165\\r\\n'\n"
     ]
    },
    {
     "name": "stdout",
     "output_type": "stream",
     "text": [
      "780\n",
      "1\n"
     ]
    },
    {
     "name": "stderr",
     "output_type": "stream",
     "text": [
      "INFO - Motor 2: movement ceased. Continuing with command buffer.\n",
      "\n",
      "INFO - Channel: 1 position: 253.4765625\n",
      "INFO - Response: ''\n",
      "\n",
      "INFO - Sending next command(99): '2PR113\\r\\n'\n"
     ]
    },
    {
     "name": "stdout",
     "output_type": "stream",
     "text": [
      "780\n",
      "1\n"
     ]
    },
    {
     "name": "stderr",
     "output_type": "stream",
     "text": [
      "INFO - Motor 2: movement ceased. Continuing with command buffer.\n",
      "\n",
      "INFO - Channel: 1 position: 256.11328125\n",
      "INFO - Response: ''\n",
      "\n",
      "INFO - Sending next command(100): '2PR78\\r\\n'\n"
     ]
    },
    {
     "name": "stdout",
     "output_type": "stream",
     "text": [
      "780\n",
      "1\n"
     ]
    },
    {
     "name": "stderr",
     "output_type": "stream",
     "text": [
      "INFO - Motor 2: movement ceased. Continuing with command buffer.\n",
      "\n",
      "INFO - Channel: 1 position: 258.002929688\n",
      "INFO - Response: ''\n",
      "\n",
      "INFO - Sending next command(101): '2PR53\\r\\n'\n"
     ]
    },
    {
     "name": "stdout",
     "output_type": "stream",
     "text": [
      "780\n",
      "1\n"
     ]
    },
    {
     "name": "stderr",
     "output_type": "stream",
     "text": [
      "INFO - Motor 2: movement ceased. Continuing with command buffer.\n",
      "\n",
      "INFO - Channel: 1 position: 259.365234375\n",
      "INFO - Response: ''\n",
      "\n",
      "INFO - Sending next command(102): '2PR35\\r\\n'\n"
     ]
    },
    {
     "name": "stdout",
     "output_type": "stream",
     "text": [
      "780\n",
      "1\n"
     ]
    },
    {
     "name": "stderr",
     "output_type": "stream",
     "text": [
      "INFO - Motor 2: movement ceased. Continuing with command buffer.\n",
      "\n",
      "INFO - Channel: 1 position: 260.33203125\n",
      "INFO - Response: ''\n",
      "\n",
      "INFO - Sending next command(103): '2PR22\\r\\n'\n"
     ]
    },
    {
     "name": "stdout",
     "output_type": "stream",
     "text": [
      "780\n",
      "1\n"
     ]
    },
    {
     "name": "stderr",
     "output_type": "stream",
     "text": [
      "INFO - Motor 2: movement ceased. Continuing with command buffer.\n",
      "\n",
      "INFO - Channel: 1 position: 261.03515625\n",
      "INFO - Response: ''\n",
      "\n",
      "INFO - Sending next command(104): '2PR13\\r\\n'\n"
     ]
    },
    {
     "name": "stdout",
     "output_type": "stream",
     "text": [
      "780\n",
      "1\n"
     ]
    },
    {
     "name": "stderr",
     "output_type": "stream",
     "text": [
      "INFO - Motor 2: movement ceased. Continuing with command buffer.\n",
      "\n",
      "INFO - Channel: 1 position: 261.430664062\n",
      "INFO - Response: ''\n",
      "\n",
      "INFO - Sending next command(105): '2PR8\\r\\n'\n"
     ]
    },
    {
     "name": "stdout",
     "output_type": "stream",
     "text": [
      "780\n",
      "1\n"
     ]
    },
    {
     "name": "stderr",
     "output_type": "stream",
     "text": [
      "INFO - Motor 2: movement ceased. Continuing with command buffer.\n",
      "\n",
      "INFO - Channel: 1 position: 261.650390625\n",
      "INFO - Response: ''\n",
      "\n",
      "INFO - Sending next command(106): '2PR5\\r\\n'\n"
     ]
    },
    {
     "name": "stdout",
     "output_type": "stream",
     "text": [
      "780\n",
      "1\n"
     ]
    },
    {
     "name": "stderr",
     "output_type": "stream",
     "text": [
      "INFO - Motor 2: movement ceased. Continuing with command buffer.\n",
      "\n",
      "INFO - Channel: 1 position: 261.782226562\n",
      "INFO - Response: ''\n",
      "\n",
      "INFO - Sending next command(107): '2PR3\\r\\n'\n"
     ]
    },
    {
     "name": "stdout",
     "output_type": "stream",
     "text": [
      "780\n",
      "1\n"
     ]
    },
    {
     "name": "stderr",
     "output_type": "stream",
     "text": [
      "INFO - Motor 2: movement ceased. Continuing with command buffer.\n",
      "\n",
      "INFO - Channel: 1 position: 261.870117188\n",
      "INFO - Response: ''\n",
      "\n",
      "INFO - Sending next command(108): '2PR2\\r\\n'\n"
     ]
    },
    {
     "name": "stdout",
     "output_type": "stream",
     "text": [
      "780\n",
      "1\n"
     ]
    },
    {
     "name": "stderr",
     "output_type": "stream",
     "text": [
      "INFO - Motor 2: movement ceased. Continuing with command buffer.\n",
      "\n",
      "INFO - Channel: 1 position: 261.958007812\n",
      "INFO - Response: ''\n",
      "\n",
      "INFO - Sending next command(109): '2PR1\\r\\n'\n"
     ]
    },
    {
     "name": "stdout",
     "output_type": "stream",
     "text": [
      "780\n",
      "1\n"
     ]
    },
    {
     "name": "stderr",
     "output_type": "stream",
     "text": [
      "INFO - Motor 2: movement ceased. Continuing with command buffer.\n",
      "\n",
      "INFO - Channel: 1 position: 261.958007812\n",
      "INFO - Response: ''\n",
      "\n",
      "INFO - Sending next command(110): '2PR1\\r\\n'\n"
     ]
    },
    {
     "name": "stdout",
     "output_type": "stream",
     "text": [
      "780\n",
      "1\n"
     ]
    },
    {
     "name": "stderr",
     "output_type": "stream",
     "text": [
      "INFO - Motor 2: movement ceased. Continuing with command buffer.\n",
      "\n",
      "INFO - Channel: 1 position: 262.001953125\n",
      "INFO - New motor position is 262.001953125 deg, error 0.001953125 deg.\n",
      "INFO - Channel: 1 position: 262.001953125\n",
      "INFO - Channel: 1 position: 262.001953125\n",
      "INFO - avg_steps: 2469.96289062\n",
      "INFO - Channel: 1 position: 262.001953125\n",
      "INFO - Response: ''\n",
      "\n",
      "INFO - Sending next command(111): '2PR1729\\r\\n'\n"
     ]
    },
    {
     "name": "stdout",
     "output_type": "stream",
     "text": [
      "780\n",
      "1\n",
      "780\n",
      "1\n",
      "780\n",
      "1\n",
      "780\n",
      "1\n"
     ]
    },
    {
     "name": "stderr",
     "output_type": "stream",
     "text": [
      "INFO - Motor 2: movement ceased. Continuing with command buffer.\n",
      "\n",
      "INFO - Channel: 1 position: 293.291015625\n",
      "INFO - Response: ''\n",
      "\n",
      "INFO - Sending next command(112): '2PR1313\\r\\n'\n"
     ]
    },
    {
     "name": "stdout",
     "output_type": "stream",
     "text": [
      "780\n",
      "1\n"
     ]
    },
    {
     "name": "stderr",
     "output_type": "stream",
     "text": [
      "INFO - Motor 2: movement ceased. Continuing with command buffer.\n",
      "\n",
      "INFO - Channel: 1 position: 314.82421875\n",
      "INFO - Response: ''\n",
      "\n",
      "INFO - Sending next command(113): '2PR1026\\r\\n'\n"
     ]
    },
    {
     "name": "stdout",
     "output_type": "stream",
     "text": [
      "780\n",
      "1\n"
     ]
    },
    {
     "name": "stderr",
     "output_type": "stream",
     "text": [
      "INFO - Motor 2: movement ceased. Continuing with command buffer.\n",
      "\n",
      "INFO - Channel: 1 position: 332.094726562\n",
      "INFO - Response: ''\n",
      "\n",
      "INFO - Sending next command(114): '2PR797\\r\\n'\n"
     ]
    },
    {
     "name": "stdout",
     "output_type": "stream",
     "text": [
      "780\n",
      "1\n"
     ]
    },
    {
     "name": "stderr",
     "output_type": "stream",
     "text": [
      "INFO - Motor 2: movement ceased. Continuing with command buffer.\n",
      "\n",
      "INFO - Channel: 1 position: 348.706054688\n",
      "INFO - Response: ''\n",
      "\n",
      "INFO - Sending next command(115): '2PR576\\r\\n'\n"
     ]
    },
    {
     "name": "stdout",
     "output_type": "stream",
     "text": [
      "780\n",
      "1\n"
     ]
    },
    {
     "name": "stderr",
     "output_type": "stream",
     "text": [
      "INFO - Motor 2: movement ceased. Continuing with command buffer.\n",
      "\n",
      "INFO - Channel: 1 position: 362.329101562\n",
      "INFO - Response: ''\n",
      "\n",
      "INFO - Sending next command(116): '2PR395\\r\\n'\n"
     ]
    },
    {
     "name": "stdout",
     "output_type": "stream",
     "text": [
      "780\n",
      "1\n"
     ]
    },
    {
     "name": "stderr",
     "output_type": "stream",
     "text": [
      "INFO - Motor 2: movement ceased. Continuing with command buffer.\n",
      "\n",
      "INFO - Channel: 1 position: 372.392578125\n",
      "INFO - Response: ''\n",
      "\n",
      "INFO - Sending next command(117): '2PR261\\r\\n'\n"
     ]
    },
    {
     "name": "stdout",
     "output_type": "stream",
     "text": [
      "780\n",
      "1\n"
     ]
    },
    {
     "name": "stderr",
     "output_type": "stream",
     "text": [
      "INFO - Motor 2: movement ceased. Continuing with command buffer.\n",
      "\n",
      "INFO - Channel: 1 position: 379.643554688\n",
      "INFO - Response: ''\n",
      "\n",
      "INFO - Sending next command(118): '2PR164\\r\\n'\n"
     ]
    },
    {
     "name": "stdout",
     "output_type": "stream",
     "text": [
      "780\n",
      "1\n"
     ]
    },
    {
     "name": "stderr",
     "output_type": "stream",
     "text": [
      "INFO - Motor 2: movement ceased. Continuing with command buffer.\n",
      "\n",
      "INFO - Channel: 1 position: 384.916992188\n",
      "INFO - Response: ''\n",
      "\n",
      "INFO - Sending next command(119): '2PR94\\r\\n'\n"
     ]
    },
    {
     "name": "stdout",
     "output_type": "stream",
     "text": [
      "780\n",
      "1\n"
     ]
    },
    {
     "name": "stderr",
     "output_type": "stream",
     "text": [
      "INFO - Motor 2: movement ceased. Continuing with command buffer.\n",
      "\n",
      "INFO - Channel: 1 position: 388.037109375\n",
      "INFO - Response: ''\n",
      "\n",
      "INFO - Sending next command(120): '2PR53\\r\\n'\n"
     ]
    },
    {
     "name": "stdout",
     "output_type": "stream",
     "text": [
      "780\n",
      "1\n"
     ]
    },
    {
     "name": "stderr",
     "output_type": "stream",
     "text": [
      "INFO - Motor 2: movement ceased. Continuing with command buffer.\n",
      "\n",
      "INFO - Channel: 1 position: 389.838867188\n",
      "INFO - Response: ''\n",
      "\n",
      "INFO - Sending next command(121): '2PR29\\r\\n'\n"
     ]
    },
    {
     "name": "stdout",
     "output_type": "stream",
     "text": [
      "780\n",
      "1\n"
     ]
    },
    {
     "name": "stderr",
     "output_type": "stream",
     "text": [
      "INFO - Motor 2: movement ceased. Continuing with command buffer.\n",
      "\n",
      "INFO - Channel: 1 position: 390.893554688\n",
      "INFO - Response: ''\n",
      "\n",
      "INFO - Sending next command(122): '2PR15\\r\\n'\n"
     ]
    },
    {
     "name": "stdout",
     "output_type": "stream",
     "text": [
      "780\n",
      "1\n"
     ]
    },
    {
     "name": "stderr",
     "output_type": "stream",
     "text": [
      "INFO - Motor 2: movement ceased. Continuing with command buffer.\n",
      "\n",
      "INFO - Channel: 1 position: 391.508789062\n",
      "INFO - Response: ''\n",
      "\n",
      "INFO - Sending next command(123): '2PR7\\r\\n'\n"
     ]
    },
    {
     "name": "stdout",
     "output_type": "stream",
     "text": [
      "780\n",
      "1\n"
     ]
    },
    {
     "name": "stderr",
     "output_type": "stream",
     "text": [
      "INFO - Motor 2: movement ceased. Continuing with command buffer.\n",
      "\n",
      "INFO - Channel: 1 position: 391.772460938\n",
      "INFO - Response: ''\n",
      "\n",
      "INFO - Sending next command(124): '2PR3\\r\\n'\n"
     ]
    },
    {
     "name": "stdout",
     "output_type": "stream",
     "text": [
      "780\n",
      "1\n"
     ]
    },
    {
     "name": "stderr",
     "output_type": "stream",
     "text": [
      "INFO - Motor 2: movement ceased. Continuing with command buffer.\n",
      "\n",
      "INFO - Channel: 1 position: 391.860351562\n",
      "INFO - Response: ''\n",
      "\n",
      "INFO - Sending next command(125): '2PR2\\r\\n'\n"
     ]
    },
    {
     "name": "stdout",
     "output_type": "stream",
     "text": [
      "780\n",
      "1\n"
     ]
    },
    {
     "name": "stderr",
     "output_type": "stream",
     "text": [
      "INFO - Motor 2: movement ceased. Continuing with command buffer.\n",
      "\n",
      "INFO - Channel: 1 position: 391.948242188\n",
      "INFO - Response: ''\n",
      "\n",
      "INFO - Sending next command(126): '2PR1\\r\\n'\n"
     ]
    },
    {
     "name": "stdout",
     "output_type": "stream",
     "text": [
      "780\n",
      "1\n"
     ]
    },
    {
     "name": "stderr",
     "output_type": "stream",
     "text": [
      "INFO - Motor 2: movement ceased. Continuing with command buffer.\n",
      "\n",
      "INFO - Channel: 1 position: 391.9921875\n",
      "INFO - New motor position is 391.9921875 deg, error -0.0078125 deg.\n",
      "INFO - Channel: 1 position: 391.9921875\n",
      "INFO - Channel: 1 position: 391.9921875\n",
      "INFO - avg_steps: -474.8515625\n",
      "INFO - Need to go negative. Current position 391.9921875 DEG. Setpoint 367 DEG. Steps to be taken: -1475\n",
      "INFO - Response: ''\n",
      "\n",
      "INFO - Sending next command(127): '2PR-1475\\r\\n'\n"
     ]
    },
    {
     "name": "stdout",
     "output_type": "stream",
     "text": [
      "780\n",
      "1\n",
      "780\n",
      "1\n",
      "780\n",
      "1\n"
     ]
    },
    {
     "name": "stderr",
     "output_type": "stream",
     "text": [
      "INFO - Motor 2: movement ceased. Continuing with command buffer.\n",
      "\n",
      "INFO - Channel: 1 position: 315.0\n",
      "INFO - Response: ''\n",
      "\n",
      "INFO - Sending next command(128): '2PR692\\r\\n'\n"
     ]
    },
    {
     "name": "stdout",
     "output_type": "stream",
     "text": [
      "780\n",
      "1\n"
     ]
    },
    {
     "name": "stderr",
     "output_type": "stream",
     "text": [
      "INFO - Motor 2: movement ceased. Continuing with command buffer.\n",
      "\n",
      "INFO - Channel: 1 position: 338.02734375\n",
      "INFO - Response: ''\n",
      "\n",
      "INFO - Sending next command(129): '2PR385\\r\\n'\n"
     ]
    },
    {
     "name": "stdout",
     "output_type": "stream",
     "text": [
      "780\n",
      "1\n"
     ]
    },
    {
     "name": "stderr",
     "output_type": "stream",
     "text": [
      "INFO - Motor 2: movement ceased. Continuing with command buffer.\n",
      "\n",
      "INFO - Channel: 1 position: 347.16796875\n",
      "INFO - Response: ''\n",
      "\n",
      "INFO - Sending next command(130): '2PR264\\r\\n'\n"
     ]
    },
    {
     "name": "stdout",
     "output_type": "stream",
     "text": [
      "780\n",
      "1\n"
     ]
    },
    {
     "name": "stderr",
     "output_type": "stream",
     "text": [
      "INFO - Motor 2: movement ceased. Continuing with command buffer.\n",
      "\n",
      "INFO - Channel: 1 position: 353.364257812\n",
      "INFO - Response: ''\n",
      "\n",
      "INFO - Sending next command(131): '2PR181\\r\\n'\n"
     ]
    },
    {
     "name": "stdout",
     "output_type": "stream",
     "text": [
      "780\n",
      "1\n"
     ]
    },
    {
     "name": "stderr",
     "output_type": "stream",
     "text": [
      "INFO - Motor 2: movement ceased. Continuing with command buffer.\n",
      "\n",
      "INFO - Channel: 1 position: 357.934570312\n",
      "INFO - Response: ''\n",
      "\n",
      "INFO - Sending next command(132): '2PR121\\r\\n'\n"
     ]
    },
    {
     "name": "stdout",
     "output_type": "stream",
     "text": [
      "780\n",
      "1\n"
     ]
    },
    {
     "name": "stderr",
     "output_type": "stream",
     "text": [
      "INFO - Motor 2: movement ceased. Continuing with command buffer.\n",
      "\n",
      "INFO - Channel: 1 position: 361.098632812\n",
      "INFO - Response: ''\n",
      "\n",
      "INFO - Sending next command(133): '2PR78\\r\\n'\n"
     ]
    },
    {
     "name": "stdout",
     "output_type": "stream",
     "text": [
      "780\n",
      "1\n"
     ]
    },
    {
     "name": "stderr",
     "output_type": "stream",
     "text": [
      "INFO - Motor 2: movement ceased. Continuing with command buffer.\n",
      "\n",
      "INFO - Channel: 1 position: 363.208007812\n",
      "INFO - Response: ''\n",
      "\n",
      "INFO - Sending next command(134): '2PR50\\r\\n'\n"
     ]
    },
    {
     "name": "stdout",
     "output_type": "stream",
     "text": [
      "780\n",
      "1\n"
     ]
    },
    {
     "name": "stderr",
     "output_type": "stream",
     "text": [
      "INFO - Motor 2: movement ceased. Continuing with command buffer.\n",
      "\n",
      "INFO - Channel: 1 position: 364.614257812\n",
      "INFO - Response: ''\n",
      "\n",
      "INFO - Sending next command(135): '2PR32\\r\\n'\n"
     ]
    },
    {
     "name": "stdout",
     "output_type": "stream",
     "text": [
      "780\n",
      "1\n"
     ]
    },
    {
     "name": "stderr",
     "output_type": "stream",
     "text": [
      "INFO - Motor 2: movement ceased. Continuing with command buffer.\n",
      "\n",
      "INFO - Channel: 1 position: 365.581054688\n",
      "INFO - Response: ''\n",
      "\n",
      "INFO - Sending next command(136): '2PR19\\r\\n'\n"
     ]
    },
    {
     "name": "stdout",
     "output_type": "stream",
     "text": [
      "780\n",
      "1\n"
     ]
    },
    {
     "name": "stderr",
     "output_type": "stream",
     "text": [
      "INFO - Motor 2: movement ceased. Continuing with command buffer.\n",
      "\n",
      "INFO - Channel: 1 position: 366.240234375\n",
      "INFO - Response: ''\n",
      "\n",
      "INFO - Sending next command(137): '2PR10\\r\\n'\n"
     ]
    },
    {
     "name": "stdout",
     "output_type": "stream",
     "text": [
      "780\n",
      "1\n"
     ]
    },
    {
     "name": "stderr",
     "output_type": "stream",
     "text": [
      "INFO - Motor 2: movement ceased. Continuing with command buffer.\n",
      "\n",
      "INFO - Channel: 1 position: 366.547851562\n",
      "INFO - Response: ''\n",
      "\n",
      "INFO - Sending next command(138): '2PR6\\r\\n'\n"
     ]
    },
    {
     "name": "stdout",
     "output_type": "stream",
     "text": [
      "780\n",
      "1\n"
     ]
    },
    {
     "name": "stderr",
     "output_type": "stream",
     "text": [
      "INFO - Motor 2: movement ceased. Continuing with command buffer.\n",
      "\n",
      "INFO - Channel: 1 position: 366.767578125\n",
      "INFO - Response: ''\n",
      "\n",
      "INFO - Sending next command(139): '2PR3\\r\\n'\n"
     ]
    },
    {
     "name": "stdout",
     "output_type": "stream",
     "text": [
      "780\n",
      "1\n"
     ]
    },
    {
     "name": "stderr",
     "output_type": "stream",
     "text": [
      "INFO - Motor 2: movement ceased. Continuing with command buffer.\n",
      "\n",
      "INFO - Channel: 1 position: 366.85546875\n",
      "INFO - Response: ''\n",
      "\n",
      "INFO - Sending next command(140): '2PR2\\r\\n'\n"
     ]
    },
    {
     "name": "stdout",
     "output_type": "stream",
     "text": [
      "780\n",
      "1\n"
     ]
    },
    {
     "name": "stderr",
     "output_type": "stream",
     "text": [
      "INFO - Motor 2: movement ceased. Continuing with command buffer.\n",
      "\n",
      "INFO - Channel: 1 position: 366.899414062\n",
      "INFO - Response: ''\n",
      "\n",
      "INFO - Sending next command(141): '2PR1\\r\\n'\n"
     ]
    },
    {
     "name": "stdout",
     "output_type": "stream",
     "text": [
      "780\n",
      "1\n"
     ]
    },
    {
     "name": "stderr",
     "output_type": "stream",
     "text": [
      "INFO - Motor 2: movement ceased. Continuing with command buffer.\n",
      "\n",
      "INFO - Channel: 1 position: 366.943359375\n",
      "INFO - Response: ''\n",
      "\n",
      "INFO - Sending next command(142): '2PR1\\r\\n'\n"
     ]
    },
    {
     "name": "stdout",
     "output_type": "stream",
     "text": [
      "780\n",
      "1\n"
     ]
    },
    {
     "name": "stderr",
     "output_type": "stream",
     "text": [
      "INFO - Motor 2: movement ceased. Continuing with command buffer.\n",
      "\n",
      "INFO - Channel: 1 position: 366.943359375\n",
      "INFO - Response: ''\n",
      "\n",
      "INFO - Sending next command(143): '2PR1\\r\\n'\n"
     ]
    },
    {
     "name": "stdout",
     "output_type": "stream",
     "text": [
      "780\n",
      "1\n"
     ]
    },
    {
     "name": "stderr",
     "output_type": "stream",
     "text": [
      "INFO - Motor 2: movement ceased. Continuing with command buffer.\n",
      "\n",
      "INFO - Channel: 1 position: 366.987304688\n",
      "INFO - New motor position is 366.987304688 deg, error -0.0126953125 deg.\n",
      "INFO - Channel: 1 position: 366.987304688\n",
      "INFO - Channel: 1 position: 366.987304688\n",
      "INFO - avg_steps: -5946.75878906\n",
      "INFO - Need to go negative. Current position 366.987304688 DEG. Setpoint 54 DEG. Steps to be taken: -6947\n",
      "INFO - Response: ''\n",
      "\n",
      "INFO - Sending next command(144): '2PR-6947\\r\\n'\n"
     ]
    },
    {
     "name": "stdout",
     "output_type": "stream",
     "text": [
      "780\n",
      "1\n",
      "780\n",
      "1\n",
      "780\n",
      "1\n"
     ]
    },
    {
     "name": "stderr",
     "output_type": "stream",
     "text": [
      "INFO - Motor 2: movement ceased. Continuing with command buffer.\n",
      "\n",
      "INFO - Channel: 1 position: 8.876953125\n",
      "INFO - Response: ''\n",
      "\n",
      "INFO - Sending next command(145): '2PR600\\r\\n'\n"
     ]
    },
    {
     "name": "stdout",
     "output_type": "stream",
     "text": [
      "780\n",
      "1\n"
     ]
    },
    {
     "name": "stderr",
     "output_type": "stream",
     "text": [
      "INFO - Motor 2: movement ceased. Continuing with command buffer.\n",
      "\n",
      "INFO - Channel: 1 position: 33.1787109375\n",
      "INFO - Response: ''\n",
      "\n",
      "INFO - Sending next command(146): '2PR277\\r\\n'\n"
     ]
    },
    {
     "name": "stdout",
     "output_type": "stream",
     "text": [
      "780\n",
      "1\n"
     ]
    },
    {
     "name": "stderr",
     "output_type": "stream",
     "text": [
      "INFO - Motor 2: movement ceased. Continuing with command buffer.\n",
      "\n",
      "INFO - Channel: 1 position: 40.95703125\n",
      "INFO - Response: ''\n",
      "\n",
      "INFO - Sending next command(147): '2PR173\\r\\n'\n"
     ]
    },
    {
     "name": "stdout",
     "output_type": "stream",
     "text": [
      "780\n",
      "1\n"
     ]
    },
    {
     "name": "stderr",
     "output_type": "stream",
     "text": [
      "INFO - Motor 2: movement ceased. Continuing with command buffer.\n",
      "\n",
      "INFO - Channel: 1 position: 45.2197265625\n",
      "INFO - Response: ''\n",
      "\n",
      "INFO - Sending next command(148): '2PR117\\r\\n'\n"
     ]
    },
    {
     "name": "stdout",
     "output_type": "stream",
     "text": [
      "780\n",
      "1\n"
     ]
    },
    {
     "name": "stderr",
     "output_type": "stream",
     "text": [
      "INFO - Motor 2: movement ceased. Continuing with command buffer.\n",
      "\n",
      "INFO - Channel: 1 position: 47.98828125\n",
      "INFO - Response: ''\n",
      "\n",
      "INFO - Sending next command(149): '2PR80\\r\\n'\n"
     ]
    },
    {
     "name": "stdout",
     "output_type": "stream",
     "text": [
      "780\n",
      "1\n"
     ]
    },
    {
     "name": "stderr",
     "output_type": "stream",
     "text": [
      "INFO - Motor 2: movement ceased. Continuing with command buffer.\n",
      "\n",
      "INFO - Channel: 1 position: 49.8779296875\n",
      "INFO - Response: ''\n",
      "\n",
      "INFO - Sending next command(150): '2PR55\\r\\n'\n"
     ]
    },
    {
     "name": "stdout",
     "output_type": "stream",
     "text": [
      "780\n",
      "1\n"
     ]
    },
    {
     "name": "stderr",
     "output_type": "stream",
     "text": [
      "INFO - Motor 2: movement ceased. Continuing with command buffer.\n",
      "\n",
      "INFO - Channel: 1 position: 51.1962890625\n",
      "INFO - Response: ''\n",
      "\n",
      "INFO - Sending next command(151): '2PR37\\r\\n'\n"
     ]
    },
    {
     "name": "stdout",
     "output_type": "stream",
     "text": [
      "780\n",
      "1\n"
     ]
    },
    {
     "name": "stderr",
     "output_type": "stream",
     "text": [
      "INFO - Motor 2: movement ceased. Continuing with command buffer.\n",
      "\n",
      "INFO - Channel: 1 position: 52.1630859375\n",
      "INFO - Response: ''\n",
      "\n",
      "INFO - Sending next command(152): '2PR24\\r\\n'\n"
     ]
    },
    {
     "name": "stdout",
     "output_type": "stream",
     "text": [
      "780\n",
      "1\n"
     ]
    },
    {
     "name": "stderr",
     "output_type": "stream",
     "text": [
      "INFO - Motor 2: movement ceased. Continuing with command buffer.\n",
      "\n",
      "INFO - Channel: 1 position: 52.7783203125\n",
      "INFO - Response: ''\n",
      "\n",
      "INFO - Sending next command(153): '2PR16\\r\\n'\n"
     ]
    },
    {
     "name": "stdout",
     "output_type": "stream",
     "text": [
      "780\n",
      "1\n"
     ]
    },
    {
     "name": "stderr",
     "output_type": "stream",
     "text": [
      "INFO - Motor 2: movement ceased. Continuing with command buffer.\n",
      "\n",
      "INFO - Channel: 1 position: 53.2177734375\n",
      "INFO - Response: ''\n",
      "\n",
      "INFO - Sending next command(154): '2PR10\\r\\n'\n"
     ]
    },
    {
     "name": "stdout",
     "output_type": "stream",
     "text": [
      "780\n",
      "1\n"
     ]
    },
    {
     "name": "stderr",
     "output_type": "stream",
     "text": [
      "INFO - Motor 2: movement ceased. Continuing with command buffer.\n",
      "\n",
      "INFO - Channel: 1 position: 53.4814453125\n",
      "INFO - Response: ''\n",
      "\n",
      "INFO - Sending next command(155): '2PR7\\r\\n'\n"
     ]
    },
    {
     "name": "stdout",
     "output_type": "stream",
     "text": [
      "780\n",
      "1\n"
     ]
    },
    {
     "name": "stderr",
     "output_type": "stream",
     "text": [
      "INFO - Motor 2: movement ceased. Continuing with command buffer.\n",
      "\n",
      "INFO - Channel: 1 position: 53.6572265625\n",
      "INFO - Response: ''\n",
      "\n",
      "INFO - Sending next command(156): '2PR5\\r\\n'\n"
     ]
    },
    {
     "name": "stdout",
     "output_type": "stream",
     "text": [
      "780\n",
      "1\n"
     ]
    },
    {
     "name": "stderr",
     "output_type": "stream",
     "text": [
      "INFO - Motor 2: movement ceased. Continuing with command buffer.\n",
      "\n",
      "INFO - Channel: 1 position: 53.7451171875\n",
      "INFO - Response: ''\n",
      "\n",
      "INFO - Sending next command(157): '2PR3\\r\\n'\n"
     ]
    },
    {
     "name": "stdout",
     "output_type": "stream",
     "text": [
      "780\n",
      "1\n"
     ]
    },
    {
     "name": "stderr",
     "output_type": "stream",
     "text": [
      "INFO - Motor 2: movement ceased. Continuing with command buffer.\n",
      "\n",
      "INFO - Channel: 1 position: 53.8330078125\n",
      "INFO - Response: ''\n",
      "\n",
      "INFO - Sending next command(158): '2PR2\\r\\n'\n"
     ]
    },
    {
     "name": "stdout",
     "output_type": "stream",
     "text": [
      "780\n",
      "1\n"
     ]
    },
    {
     "name": "stderr",
     "output_type": "stream",
     "text": [
      "INFO - Motor 2: movement ceased. Continuing with command buffer.\n",
      "\n",
      "INFO - Channel: 1 position: 53.876953125\n",
      "INFO - Response: ''\n",
      "\n",
      "INFO - Sending next command(159): '2PR2\\r\\n'\n"
     ]
    },
    {
     "name": "stdout",
     "output_type": "stream",
     "text": [
      "780\n",
      "1\n"
     ]
    },
    {
     "name": "stderr",
     "output_type": "stream",
     "text": [
      "INFO - Motor 2: movement ceased. Continuing with command buffer.\n",
      "\n",
      "INFO - Channel: 1 position: 53.9208984375\n",
      "INFO - Response: ''\n",
      "\n",
      "INFO - Sending next command(160): '2PR1\\r\\n'\n"
     ]
    },
    {
     "name": "stdout",
     "output_type": "stream",
     "text": [
      "780\n",
      "1\n"
     ]
    },
    {
     "name": "stderr",
     "output_type": "stream",
     "text": [
      "INFO - Motor 2: movement ceased. Continuing with command buffer.\n",
      "\n",
      "INFO - Channel: 1 position: 53.9208984375\n",
      "INFO - Response: ''\n",
      "\n",
      "INFO - Sending next command(161): '2PR1\\r\\n'\n"
     ]
    },
    {
     "name": "stdout",
     "output_type": "stream",
     "text": [
      "780\n",
      "1\n"
     ]
    },
    {
     "name": "stderr",
     "output_type": "stream",
     "text": [
      "INFO - Motor 2: movement ceased. Continuing with command buffer.\n",
      "\n",
      "INFO - Channel: 1 position: 53.96484375\n",
      "INFO - Response: ''\n",
      "\n",
      "INFO - Sending next command(162): '2PR1\\r\\n'\n"
     ]
    },
    {
     "name": "stdout",
     "output_type": "stream",
     "text": [
      "780\n",
      "1\n"
     ]
    },
    {
     "name": "stderr",
     "output_type": "stream",
     "text": [
      "INFO - Motor 2: movement ceased. Continuing with command buffer.\n",
      "\n",
      "INFO - Channel: 1 position: 53.96484375\n",
      "INFO - Response: ''\n",
      "\n",
      "INFO - Sending next command(163): '2PR1\\r\\n'\n"
     ]
    },
    {
     "name": "stdout",
     "output_type": "stream",
     "text": [
      "780\n",
      "1\n"
     ]
    },
    {
     "name": "stderr",
     "output_type": "stream",
     "text": [
      "INFO - Motor 2: movement ceased. Continuing with command buffer.\n",
      "\n",
      "INFO - Channel: 1 position: 54.0087890625\n",
      "INFO - New motor position is 54.0087890625 deg, error 0.0087890625 deg.\n",
      "INFO - Channel: 1 position: 54.0087890625\n",
      "INFO - Channel: 1 position: 54.0087890625\n",
      "INFO - avg_steps: 1500.83300781\n",
      "INFO - Channel: 1 position: 54.0087890625\n",
      "INFO - Response: ''\n",
      "\n",
      "INFO - Sending next command(164): '2PR1051\\r\\n'\n"
     ]
    },
    {
     "name": "stdout",
     "output_type": "stream",
     "text": [
      "780\n",
      "1\n",
      "780\n",
      "1\n",
      "780\n",
      "1\n",
      "780\n",
      "1\n"
     ]
    },
    {
     "name": "stderr",
     "output_type": "stream",
     "text": [
      "INFO - Motor 2: movement ceased. Continuing with command buffer.\n",
      "\n",
      "INFO - Channel: 1 position: 70.4443359375\n",
      "INFO - Response: ''\n",
      "\n",
      "INFO - Sending next command(165): '2PR832\\r\\n'\n"
     ]
    },
    {
     "name": "stdout",
     "output_type": "stream",
     "text": [
      "780\n",
      "1\n"
     ]
    },
    {
     "name": "stderr",
     "output_type": "stream",
     "text": [
      "INFO - Motor 2: movement ceased. Continuing with command buffer.\n",
      "\n",
      "INFO - Channel: 1 position: 81.4306640625\n",
      "INFO - Response: ''\n",
      "\n",
      "INFO - Sending next command(166): '2PR686\\r\\n'\n"
     ]
    },
    {
     "name": "stdout",
     "output_type": "stream",
     "text": [
      "780\n",
      "1\n"
     ]
    },
    {
     "name": "stderr",
     "output_type": "stream",
     "text": [
      "INFO - Motor 2: movement ceased. Continuing with command buffer.\n",
      "\n",
      "INFO - Channel: 1 position: 89.6484375\n",
      "INFO - Response: ''\n",
      "\n",
      "INFO - Sending next command(167): '2PR577\\r\\n'\n"
     ]
    },
    {
     "name": "stdout",
     "output_type": "stream",
     "text": [
      "780\n",
      "1\n"
     ]
    },
    {
     "name": "stderr",
     "output_type": "stream",
     "text": [
      "INFO - Motor 2: movement ceased. Continuing with command buffer.\n",
      "\n",
      "INFO - Channel: 1 position: 96.15234375\n",
      "INFO - Response: ''\n",
      "\n",
      "INFO - Sending next command(168): '2PR490\\r\\n'\n"
     ]
    },
    {
     "name": "stdout",
     "output_type": "stream",
     "text": [
      "780\n",
      "1\n"
     ]
    },
    {
     "name": "stderr",
     "output_type": "stream",
     "text": [
      "INFO - Motor 2: movement ceased. Continuing with command buffer.\n",
      "\n",
      "INFO - Channel: 1 position: 101.821289062\n",
      "INFO - Response: ''\n",
      "\n",
      "INFO - Sending next command(169): '2PR415\\r\\n'\n"
     ]
    },
    {
     "name": "stdout",
     "output_type": "stream",
     "text": [
      "780\n",
      "1\n"
     ]
    },
    {
     "name": "stderr",
     "output_type": "stream",
     "text": [
      "INFO - Motor 2: movement ceased. Continuing with command buffer.\n",
      "\n",
      "INFO - Channel: 1 position: 106.831054688\n",
      "INFO - Response: ''\n",
      "\n",
      "INFO - Sending next command(170): '2PR348\\r\\n'\n"
     ]
    },
    {
     "name": "stdout",
     "output_type": "stream",
     "text": [
      "780\n",
      "1\n"
     ]
    },
    {
     "name": "stderr",
     "output_type": "stream",
     "text": [
      "INFO - Motor 2: movement ceased. Continuing with command buffer.\n",
      "\n",
      "INFO - Channel: 1 position: 111.4453125\n",
      "INFO - Response: ''\n",
      "\n",
      "INFO - Sending next command(171): '2PR287\\r\\n'\n"
     ]
    },
    {
     "name": "stdout",
     "output_type": "stream",
     "text": [
      "780\n",
      "1\n"
     ]
    },
    {
     "name": "stderr",
     "output_type": "stream",
     "text": [
      "INFO - Motor 2: movement ceased. Continuing with command buffer.\n",
      "\n",
      "INFO - Channel: 1 position: 115.048828125\n",
      "INFO - Response: ''\n",
      "\n",
      "INFO - Sending next command(172): '2PR239\\r\\n'\n"
     ]
    },
    {
     "name": "stdout",
     "output_type": "stream",
     "text": [
      "780\n",
      "1\n"
     ]
    },
    {
     "name": "stderr",
     "output_type": "stream",
     "text": [
      "INFO - Motor 2: movement ceased. Continuing with command buffer.\n",
      "\n",
      "INFO - Channel: 1 position: 117.553710938\n",
      "INFO - Response: ''\n",
      "\n",
      "INFO - Sending next command(173): '2PR205\\r\\n'\n"
     ]
    },
    {
     "name": "stdout",
     "output_type": "stream",
     "text": [
      "780\n",
      "1\n"
     ]
    },
    {
     "name": "stderr",
     "output_type": "stream",
     "text": [
      "INFO - Motor 2: movement ceased. Continuing with command buffer.\n",
      "\n",
      "INFO - Channel: 1 position: 119.575195312\n",
      "INFO - Response: ''\n",
      "\n",
      "INFO - Sending next command(174): '2PR179\\r\\n'\n"
     ]
    },
    {
     "name": "stdout",
     "output_type": "stream",
     "text": [
      "780\n",
      "1\n"
     ]
    },
    {
     "name": "stderr",
     "output_type": "stream",
     "text": [
      "INFO - Motor 2: movement ceased. Continuing with command buffer.\n",
      "\n",
      "INFO - Channel: 1 position: 121.333007812\n",
      "INFO - Response: ''\n",
      "\n",
      "INFO - Sending next command(175): '2PR155\\r\\n'\n"
     ]
    },
    {
     "name": "stdout",
     "output_type": "stream",
     "text": [
      "780\n",
      "1\n"
     ]
    },
    {
     "name": "stderr",
     "output_type": "stream",
     "text": [
      "INFO - Motor 2: movement ceased. Continuing with command buffer.\n",
      "\n",
      "INFO - Channel: 1 position: 122.958984375\n",
      "INFO - Response: ''\n",
      "\n",
      "INFO - Sending next command(176): '2PR134\\r\\n'\n"
     ]
    },
    {
     "name": "stdout",
     "output_type": "stream",
     "text": [
      "780\n",
      "1\n"
     ]
    },
    {
     "name": "stderr",
     "output_type": "stream",
     "text": [
      "INFO - Motor 2: movement ceased. Continuing with command buffer.\n",
      "\n",
      "INFO - Channel: 1 position: 124.584960938\n",
      "INFO - Response: ''\n",
      "\n",
      "INFO - Sending next command(177): '2PR112\\r\\n'\n"
     ]
    },
    {
     "name": "stdout",
     "output_type": "stream",
     "text": [
      "780\n",
      "1\n"
     ]
    },
    {
     "name": "stderr",
     "output_type": "stream",
     "text": [
      "INFO - Motor 2: movement ceased. Continuing with command buffer.\n",
      "\n",
      "INFO - Channel: 1 position: 126.03515625\n",
      "INFO - Response: ''\n",
      "\n",
      "INFO - Sending next command(178): '2PR93\\r\\n'\n"
     ]
    },
    {
     "name": "stdout",
     "output_type": "stream",
     "text": [
      "780\n",
      "1\n"
     ]
    },
    {
     "name": "stderr",
     "output_type": "stream",
     "text": [
      "INFO - Motor 2: movement ceased. Continuing with command buffer.\n",
      "\n",
      "INFO - Channel: 1 position: 127.265625\n",
      "INFO - Response: ''\n",
      "\n",
      "INFO - Sending next command(179): '2PR76\\r\\n'\n"
     ]
    },
    {
     "name": "stdout",
     "output_type": "stream",
     "text": [
      "780\n",
      "1\n"
     ]
    },
    {
     "name": "stderr",
     "output_type": "stream",
     "text": [
      "INFO - Motor 2: movement ceased. Continuing with command buffer.\n",
      "\n",
      "INFO - Channel: 1 position: 128.3203125\n",
      "INFO - Response: ''\n",
      "\n",
      "INFO - Sending next command(180): '2PR62\\r\\n'\n"
     ]
    },
    {
     "name": "stdout",
     "output_type": "stream",
     "text": [
      "780\n",
      "1\n"
     ]
    },
    {
     "name": "stderr",
     "output_type": "stream",
     "text": [
      "INFO - Motor 2: movement ceased. Continuing with command buffer.\n",
      "\n",
      "INFO - Channel: 1 position: 129.19921875\n",
      "INFO - Response: ''\n",
      "\n",
      "INFO - Sending next command(181): '2PR51\\r\\n'\n"
     ]
    },
    {
     "name": "stdout",
     "output_type": "stream",
     "text": [
      "780\n",
      "1\n"
     ]
    },
    {
     "name": "stderr",
     "output_type": "stream",
     "text": [
      "INFO - Motor 2: movement ceased. Continuing with command buffer.\n",
      "\n",
      "INFO - Channel: 1 position: 129.946289062\n",
      "INFO - Response: ''\n",
      "\n",
      "INFO - Sending next command(182): '2PR41\\r\\n'\n"
     ]
    },
    {
     "name": "stdout",
     "output_type": "stream",
     "text": [
      "780\n",
      "1\n"
     ]
    },
    {
     "name": "stderr",
     "output_type": "stream",
     "text": [
      "INFO - Motor 2: movement ceased. Continuing with command buffer.\n",
      "\n",
      "INFO - Channel: 1 position: 130.561523438\n",
      "INFO - Response: ''\n",
      "\n",
      "INFO - Sending next command(183): '2PR32\\r\\n'\n"
     ]
    },
    {
     "name": "stdout",
     "output_type": "stream",
     "text": [
      "780\n",
      "1\n"
     ]
    },
    {
     "name": "stderr",
     "output_type": "stream",
     "text": [
      "INFO - Motor 2: movement ceased. Continuing with command buffer.\n",
      "\n",
      "INFO - Channel: 1 position: 131.1328125\n",
      "ERROR - Current position 131.1328125 deg. Setpoint not achieved by -1.8671875 deg after max iterations.\n",
      "INFO - Channel: 1 position: 131.1328125\n",
      "INFO - Channel: 1 position: 131.1328125\n",
      "INFO - avg_steps: 1403.4765625\n",
      "INFO - Channel: 1 position: 131.1328125\n",
      "INFO - Response: ''\n",
      "\n",
      "INFO - Sending next command(184): '2PR982\\r\\n'\n"
     ]
    },
    {
     "name": "stdout",
     "output_type": "stream",
     "text": [
      "780\n",
      "1\n",
      "780\n",
      "1\n",
      "780\n",
      "1\n",
      "780\n",
      "1\n"
     ]
    },
    {
     "name": "stderr",
     "output_type": "stream",
     "text": [
      "INFO - Motor 2: movement ceased. Continuing with command buffer.\n",
      "\n",
      "INFO - Channel: 1 position: 143.305664062\n",
      "INFO - Response: ''\n",
      "\n",
      "INFO - Sending next command(185): '2PR821\\r\\n'\n"
     ]
    },
    {
     "name": "stdout",
     "output_type": "stream",
     "text": [
      "780\n",
      "1\n"
     ]
    },
    {
     "name": "stderr",
     "output_type": "stream",
     "text": [
      "INFO - Motor 2: movement ceased. Continuing with command buffer.\n",
      "\n",
      "INFO - Channel: 1 position: 156.665039062\n",
      "INFO - Response: ''\n",
      "\n",
      "INFO - Sending next command(186): '2PR643\\r\\n'\n"
     ]
    },
    {
     "name": "stdout",
     "output_type": "stream",
     "text": [
      "780\n",
      "1\n"
     ]
    },
    {
     "name": "stderr",
     "output_type": "stream",
     "text": [
      "INFO - Motor 2: movement ceased. Continuing with command buffer.\n",
      "\n",
      "INFO - Channel: 1 position: 168.442382812\n",
      "INFO - Response: ''\n",
      "\n",
      "INFO - Sending next command(187): '2PR486\\r\\n'\n"
     ]
    },
    {
     "name": "stdout",
     "output_type": "stream",
     "text": [
      "780\n",
      "1\n"
     ]
    },
    {
     "name": "stderr",
     "output_type": "stream",
     "text": [
      "INFO - Motor 2: movement ceased. Continuing with command buffer.\n",
      "\n",
      "INFO - Channel: 1 position: 177.275390625\n",
      "INFO - Response: ''\n",
      "\n",
      "INFO - Sending next command(188): '2PR369\\r\\n'\n"
     ]
    },
    {
     "name": "stdout",
     "output_type": "stream",
     "text": [
      "780\n",
      "1\n"
     ]
    },
    {
     "name": "stderr",
     "output_type": "stream",
     "text": [
      "INFO - Motor 2: movement ceased. Continuing with command buffer.\n",
      "\n",
      "INFO - Channel: 1 position: 183.515625\n",
      "INFO - Response: ''\n",
      "\n",
      "INFO - Sending next command(189): '2PR286\\r\\n'\n"
     ]
    },
    {
     "name": "stdout",
     "output_type": "stream",
     "text": [
      "780\n",
      "1\n"
     ]
    },
    {
     "name": "stderr",
     "output_type": "stream",
     "text": [
      "INFO - Motor 2: movement ceased. Continuing with command buffer.\n",
      "\n",
      "INFO - Channel: 1 position: 188.4375\n",
      "INFO - Response: ''\n",
      "\n",
      "INFO - Sending next command(190): '2PR220\\r\\n'\n"
     ]
    },
    {
     "name": "stdout",
     "output_type": "stream",
     "text": [
      "780\n",
      "1\n"
     ]
    },
    {
     "name": "stderr",
     "output_type": "stream",
     "text": [
      "INFO - Motor 2: movement ceased. Continuing with command buffer.\n",
      "\n",
      "INFO - Channel: 1 position: 192.3046875\n",
      "INFO - Response: ''\n",
      "\n",
      "INFO - Sending next command(191): '2PR169\\r\\n'\n"
     ]
    },
    {
     "name": "stdout",
     "output_type": "stream",
     "text": [
      "780\n",
      "1\n"
     ]
    },
    {
     "name": "stderr",
     "output_type": "stream",
     "text": [
      "INFO - Motor 2: movement ceased. Continuing with command buffer.\n",
      "\n",
      "INFO - Channel: 1 position: 195.336914062\n",
      "INFO - Response: ''\n",
      "\n",
      "INFO - Sending next command(192): '2PR129\\r\\n'\n"
     ]
    },
    {
     "name": "stdout",
     "output_type": "stream",
     "text": [
      "780\n",
      "1\n"
     ]
    },
    {
     "name": "stderr",
     "output_type": "stream",
     "text": [
      "INFO - Motor 2: movement ceased. Continuing with command buffer.\n",
      "\n",
      "INFO - Channel: 1 position: 197.885742188\n",
      "INFO - Response: ''\n",
      "\n",
      "INFO - Sending next command(193): '2PR95\\r\\n'\n"
     ]
    },
    {
     "name": "stdout",
     "output_type": "stream",
     "text": [
      "780\n",
      "1\n"
     ]
    },
    {
     "name": "stderr",
     "output_type": "stream",
     "text": [
      "INFO - Motor 2: movement ceased. Continuing with command buffer.\n",
      "\n",
      "INFO - Channel: 1 position: 199.86328125\n",
      "INFO - Response: ''\n",
      "\n",
      "INFO - Sending next command(194): '2PR68\\r\\n'\n"
     ]
    },
    {
     "name": "stdout",
     "output_type": "stream",
     "text": [
      "780\n",
      "1\n"
     ]
    },
    {
     "name": "stderr",
     "output_type": "stream",
     "text": [
      "INFO - Motor 2: movement ceased. Continuing with command buffer.\n",
      "\n",
      "INFO - Channel: 1 position: 201.401367188\n",
      "INFO - Response: ''\n",
      "\n",
      "INFO - Sending next command(195): '2PR48\\r\\n'\n"
     ]
    },
    {
     "name": "stdout",
     "output_type": "stream",
     "text": [
      "780\n",
      "1\n"
     ]
    },
    {
     "name": "stderr",
     "output_type": "stream",
     "text": [
      "INFO - Motor 2: movement ceased. Continuing with command buffer.\n",
      "\n",
      "INFO - Channel: 1 position: 202.543945312\n",
      "INFO - Response: ''\n",
      "\n",
      "INFO - Sending next command(196): '2PR33\\r\\n'\n"
     ]
    },
    {
     "name": "stdout",
     "output_type": "stream",
     "text": [
      "780\n",
      "1\n"
     ]
    },
    {
     "name": "stderr",
     "output_type": "stream",
     "text": [
      "INFO - Motor 2: movement ceased. Continuing with command buffer.\n",
      "\n",
      "INFO - Channel: 1 position: 203.466796875\n",
      "INFO - Response: ''\n",
      "\n",
      "INFO - Sending next command(197): '2PR20\\r\\n'\n"
     ]
    },
    {
     "name": "stdout",
     "output_type": "stream",
     "text": [
      "780\n",
      "1\n"
     ]
    },
    {
     "name": "stderr",
     "output_type": "stream",
     "text": [
      "INFO - Motor 2: movement ceased. Continuing with command buffer.\n",
      "\n",
      "INFO - Channel: 1 position: 204.038085938\n",
      "INFO - Response: ''\n",
      "\n",
      "INFO - Sending next command(198): '2PR13\\r\\n'\n"
     ]
    },
    {
     "name": "stdout",
     "output_type": "stream",
     "text": [
      "780\n",
      "1\n"
     ]
    },
    {
     "name": "stderr",
     "output_type": "stream",
     "text": [
      "INFO - Motor 2: movement ceased. Continuing with command buffer.\n",
      "\n",
      "INFO - Channel: 1 position: 204.43359375\n",
      "INFO - Response: ''\n",
      "\n",
      "INFO - Sending next command(199): '2PR8\\r\\n'\n"
     ]
    },
    {
     "name": "stdout",
     "output_type": "stream",
     "text": [
      "780\n",
      "1\n"
     ]
    },
    {
     "name": "stderr",
     "output_type": "stream",
     "text": [
      "INFO - Motor 2: movement ceased. Continuing with command buffer.\n",
      "\n",
      "INFO - Channel: 1 position: 204.653320312\n",
      "INFO - Response: ''\n",
      "\n",
      "INFO - Sending next command(200): '2PR5\\r\\n'\n"
     ]
    },
    {
     "name": "stdout",
     "output_type": "stream",
     "text": [
      "780\n",
      "1\n"
     ]
    },
    {
     "name": "stderr",
     "output_type": "stream",
     "text": [
      "INFO - Motor 2: movement ceased. Continuing with command buffer.\n",
      "\n",
      "INFO - Channel: 1 position: 204.78515625\n",
      "INFO - Response: ''\n",
      "\n",
      "INFO - Sending next command(201): '2PR3\\r\\n'\n"
     ]
    },
    {
     "name": "stdout",
     "output_type": "stream",
     "text": [
      "780\n",
      "1\n"
     ]
    },
    {
     "name": "stderr",
     "output_type": "stream",
     "text": [
      "INFO - Motor 2: movement ceased. Continuing with command buffer.\n",
      "\n",
      "INFO - Channel: 1 position: 204.873046875\n",
      "INFO - Response: ''\n",
      "\n",
      "INFO - Sending next command(202): '2PR2\\r\\n'\n"
     ]
    },
    {
     "name": "stdout",
     "output_type": "stream",
     "text": [
      "780\n",
      "1\n"
     ]
    },
    {
     "name": "stderr",
     "output_type": "stream",
     "text": [
      "INFO - Motor 2: movement ceased. Continuing with command buffer.\n",
      "\n",
      "INFO - Channel: 1 position: 204.916992188\n",
      "INFO - Response: ''\n",
      "\n",
      "INFO - Sending next command(203): '2PR1\\r\\n'\n"
     ]
    },
    {
     "name": "stdout",
     "output_type": "stream",
     "text": [
      "780\n",
      "1\n"
     ]
    },
    {
     "name": "stderr",
     "output_type": "stream",
     "text": [
      "INFO - Motor 2: movement ceased. Continuing with command buffer.\n",
      "\n",
      "INFO - Channel: 1 position: 204.9609375\n",
      "INFO - New motor position is 204.9609375 deg, error -0.0390625 deg.\n",
      "INFO - Channel: 1 position: 204.9609375\n",
      "INFO - Channel: 1 position: 204.9609375\n",
      "INFO - avg_steps: 190.7421875\n",
      "INFO - Channel: 1 position: 204.9609375\n",
      "INFO - Response: ''\n",
      "\n",
      "INFO - Sending next command(204): '2PR134\\r\\n'\n"
     ]
    },
    {
     "name": "stdout",
     "output_type": "stream",
     "text": [
      "780\n",
      "1\n",
      "780\n",
      "1\n",
      "780\n",
      "1\n",
      "780\n",
      "1\n"
     ]
    },
    {
     "name": "stderr",
     "output_type": "stream",
     "text": [
      "INFO - Motor 2: movement ceased. Continuing with command buffer.\n",
      "\n",
      "INFO - Channel: 1 position: 207.7734375\n",
      "INFO - Response: ''\n",
      "\n",
      "INFO - Sending next command(205): '2PR96\\r\\n'\n"
     ]
    },
    {
     "name": "stdout",
     "output_type": "stream",
     "text": [
      "780\n",
      "1\n"
     ]
    },
    {
     "name": "stderr",
     "output_type": "stream",
     "text": [
      "INFO - Motor 2: movement ceased. Continuing with command buffer.\n",
      "\n",
      "INFO - Channel: 1 position: 209.8828125\n",
      "INFO - Response: ''\n",
      "\n",
      "INFO - Sending next command(206): '2PR68\\r\\n'\n"
     ]
    },
    {
     "name": "stdout",
     "output_type": "stream",
     "text": [
      "780\n",
      "1\n"
     ]
    },
    {
     "name": "stderr",
     "output_type": "stream",
     "text": [
      "INFO - Motor 2: movement ceased. Continuing with command buffer.\n",
      "\n",
      "INFO - Channel: 1 position: 211.420898438\n",
      "INFO - Response: ''\n",
      "\n",
      "INFO - Sending next command(207): '2PR48\\r\\n'\n"
     ]
    },
    {
     "name": "stdout",
     "output_type": "stream",
     "text": [
      "780\n",
      "1\n"
     ]
    },
    {
     "name": "stderr",
     "output_type": "stream",
     "text": [
      "INFO - Motor 2: movement ceased. Continuing with command buffer.\n",
      "\n",
      "INFO - Channel: 1 position: 212.563476562\n",
      "INFO - Response: ''\n",
      "\n",
      "INFO - Sending next command(208): '2PR32\\r\\n'\n"
     ]
    },
    {
     "name": "stdout",
     "output_type": "stream",
     "text": [
      "780\n",
      "1\n"
     ]
    },
    {
     "name": "stderr",
     "output_type": "stream",
     "text": [
      "INFO - Motor 2: movement ceased. Continuing with command buffer.\n",
      "\n",
      "INFO - Channel: 1 position: 213.3984375\n",
      "INFO - Response: ''\n",
      "\n",
      "INFO - Sending next command(209): '2PR21\\r\\n'\n"
     ]
    },
    {
     "name": "stdout",
     "output_type": "stream",
     "text": [
      "780\n",
      "1\n"
     ]
    },
    {
     "name": "stderr",
     "output_type": "stream",
     "text": [
      "INFO - Motor 2: movement ceased. Continuing with command buffer.\n",
      "\n",
      "INFO - Channel: 1 position: 213.969726562\n",
      "INFO - Response: ''\n",
      "\n",
      "INFO - Sending next command(210): '2PR14\\r\\n'\n"
     ]
    },
    {
     "name": "stdout",
     "output_type": "stream",
     "text": [
      "780\n",
      "1\n"
     ]
    },
    {
     "name": "stderr",
     "output_type": "stream",
     "text": [
      "INFO - Motor 2: movement ceased. Continuing with command buffer.\n",
      "\n",
      "INFO - Channel: 1 position: 214.409179688\n",
      "INFO - Response: ''\n",
      "\n",
      "INFO - Sending next command(211): '2PR8\\r\\n'\n"
     ]
    },
    {
     "name": "stdout",
     "output_type": "stream",
     "text": [
      "780\n",
      "1\n"
     ]
    },
    {
     "name": "stderr",
     "output_type": "stream",
     "text": [
      "INFO - Motor 2: movement ceased. Continuing with command buffer.\n",
      "\n",
      "INFO - Channel: 1 position: 214.62890625\n",
      "INFO - Response: ''\n",
      "\n",
      "INFO - Sending next command(212): '2PR5\\r\\n'\n"
     ]
    },
    {
     "name": "stdout",
     "output_type": "stream",
     "text": [
      "780\n",
      "1\n"
     ]
    },
    {
     "name": "stderr",
     "output_type": "stream",
     "text": [
      "INFO - Motor 2: movement ceased. Continuing with command buffer.\n",
      "\n",
      "INFO - Channel: 1 position: 214.716796875\n",
      "INFO - Response: ''\n",
      "\n",
      "INFO - Sending next command(213): '2PR4\\r\\n'\n"
     ]
    },
    {
     "name": "stdout",
     "output_type": "stream",
     "text": [
      "780\n",
      "1\n"
     ]
    },
    {
     "name": "stderr",
     "output_type": "stream",
     "text": [
      "INFO - Motor 2: movement ceased. Continuing with command buffer.\n",
      "\n",
      "INFO - Channel: 1 position: 214.848632812\n",
      "INFO - Response: ''\n",
      "\n",
      "INFO - Sending next command(214): '2PR2\\r\\n'\n"
     ]
    },
    {
     "name": "stdout",
     "output_type": "stream",
     "text": [
      "780\n",
      "1\n"
     ]
    },
    {
     "name": "stderr",
     "output_type": "stream",
     "text": [
      "INFO - Motor 2: movement ceased. Continuing with command buffer.\n",
      "\n",
      "INFO - Channel: 1 position: 214.892578125\n",
      "INFO - Response: ''\n",
      "\n",
      "INFO - Sending next command(215): '2PR1\\r\\n'\n"
     ]
    },
    {
     "name": "stdout",
     "output_type": "stream",
     "text": [
      "780\n",
      "1\n"
     ]
    },
    {
     "name": "stderr",
     "output_type": "stream",
     "text": [
      "INFO - Motor 2: movement ceased. Continuing with command buffer.\n",
      "\n",
      "INFO - Channel: 1 position: 214.936523438\n",
      "INFO - Response: ''\n",
      "\n",
      "INFO - Sending next command(216): '2PR1\\r\\n'\n"
     ]
    },
    {
     "name": "stdout",
     "output_type": "stream",
     "text": [
      "780\n",
      "1\n"
     ]
    },
    {
     "name": "stderr",
     "output_type": "stream",
     "text": [
      "INFO - Motor 2: movement ceased. Continuing with command buffer.\n",
      "\n",
      "INFO - Channel: 1 position: 214.936523438\n",
      "INFO - Response: ''\n",
      "\n",
      "INFO - Sending next command(217): '2PR1\\r\\n'\n"
     ]
    },
    {
     "name": "stdout",
     "output_type": "stream",
     "text": [
      "780\n",
      "1\n"
     ]
    },
    {
     "name": "stderr",
     "output_type": "stream",
     "text": [
      "INFO - Motor 2: movement ceased. Continuing with command buffer.\n",
      "\n",
      "INFO - Channel: 1 position: 214.98046875\n",
      "INFO - New motor position is 214.98046875 deg, error -0.01953125 deg.\n",
      "INFO - Channel: 1 position: 214.98046875\n",
      "INFO - Channel: 1 position: 214.98046875\n",
      "INFO - avg_steps: 2508.37109375\n",
      "INFO - Channel: 1 position: 214.98046875\n",
      "INFO - Response: ''\n",
      "\n",
      "INFO - Sending next command(218): '2PR1756\\r\\n'\n"
     ]
    },
    {
     "name": "stdout",
     "output_type": "stream",
     "text": [
      "780\n",
      "1\n",
      "780\n",
      "1\n",
      "780\n",
      "1\n",
      "780\n",
      "1\n"
     ]
    },
    {
     "name": "stderr",
     "output_type": "stream",
     "text": [
      "INFO - Motor 2: movement ceased. Continuing with command buffer.\n",
      "\n",
      "INFO - Channel: 1 position: 248.115234375\n",
      "INFO - Response: ''\n",
      "\n",
      "INFO - Sending next command(219): '2PR1315\\r\\n'\n"
     ]
    },
    {
     "name": "stdout",
     "output_type": "stream",
     "text": [
      "780\n",
      "1\n"
     ]
    },
    {
     "name": "stderr",
     "output_type": "stream",
     "text": [
      "INFO - Motor 2: movement ceased. Continuing with command buffer.\n",
      "\n",
      "INFO - Channel: 1 position: 271.845703125\n",
      "INFO - Response: ''\n",
      "\n",
      "INFO - Sending next command(220): '2PR1000\\r\\n'\n"
     ]
    },
    {
     "name": "stdout",
     "output_type": "stream",
     "text": [
      "780\n",
      "1\n"
     ]
    },
    {
     "name": "stderr",
     "output_type": "stream",
     "text": [
      "INFO - Motor 2: movement ceased. Continuing with command buffer.\n",
      "\n",
      "INFO - Channel: 1 position: 288.28125\n",
      "INFO - Response: ''\n",
      "\n",
      "INFO - Sending next command(221): '2PR781\\r\\n'\n"
     ]
    },
    {
     "name": "stdout",
     "output_type": "stream",
     "text": [
      "780\n",
      "1\n"
     ]
    },
    {
     "name": "stderr",
     "output_type": "stream",
     "text": [
      "INFO - Motor 2: movement ceased. Continuing with command buffer.\n",
      "\n",
      "INFO - Channel: 1 position: 299.619140625\n",
      "INFO - Response: ''\n",
      "\n",
      "INFO - Sending next command(222): '2PR630\\r\\n'\n"
     ]
    },
    {
     "name": "stdout",
     "output_type": "stream",
     "text": [
      "780\n",
      "1\n"
     ]
    },
    {
     "name": "stderr",
     "output_type": "stream",
     "text": [
      "INFO - Motor 2: movement ceased. Continuing with command buffer.\n",
      "\n",
      "INFO - Channel: 1 position: 309.506835938\n",
      "INFO - Response: ''\n",
      "\n",
      "INFO - Sending next command(223): '2PR499\\r\\n'\n"
     ]
    },
    {
     "name": "stdout",
     "output_type": "stream",
     "text": [
      "780\n",
      "1\n"
     ]
    },
    {
     "name": "stderr",
     "output_type": "stream",
     "text": [
      "INFO - Motor 2: movement ceased. Continuing with command buffer.\n",
      "\n",
      "INFO - Channel: 1 position: 317.28515625\n",
      "INFO - Response: ''\n",
      "\n",
      "INFO - Sending next command(224): '2PR395\\r\\n'\n"
     ]
    },
    {
     "name": "stdout",
     "output_type": "stream",
     "text": [
      "780\n",
      "1\n"
     ]
    },
    {
     "name": "stderr",
     "output_type": "stream",
     "text": [
      "INFO - Motor 2: movement ceased. Continuing with command buffer.\n",
      "\n",
      "INFO - Channel: 1 position: 323.349609375\n",
      "INFO - Response: ''\n",
      "\n",
      "INFO - Sending next command(225): '2PR315\\r\\n'\n"
     ]
    },
    {
     "name": "stdout",
     "output_type": "stream",
     "text": [
      "780\n",
      "1\n"
     ]
    },
    {
     "name": "stderr",
     "output_type": "stream",
     "text": [
      "INFO - Motor 2: movement ceased. Continuing with command buffer.\n",
      "\n",
      "INFO - Channel: 1 position: 328.18359375\n",
      "INFO - Response: ''\n",
      "\n",
      "INFO - Sending next command(226): '2PR250\\r\\n'\n"
     ]
    },
    {
     "name": "stdout",
     "output_type": "stream",
     "text": [
      "780\n",
      "1\n"
     ]
    },
    {
     "name": "stderr",
     "output_type": "stream",
     "text": [
      "INFO - Motor 2: movement ceased. Continuing with command buffer.\n",
      "\n",
      "INFO - Channel: 1 position: 332.75390625\n",
      "INFO - Response: ''\n",
      "\n",
      "INFO - Sending next command(227): '2PR189\\r\\n'\n"
     ]
    },
    {
     "name": "stdout",
     "output_type": "stream",
     "text": [
      "780\n",
      "1\n"
     ]
    },
    {
     "name": "stderr",
     "output_type": "stream",
     "text": [
      "INFO - Motor 2: movement ceased. Continuing with command buffer.\n",
      "\n",
      "INFO - Channel: 1 position: 336.4453125\n",
      "INFO - Response: ''\n",
      "\n",
      "INFO - Sending next command(228): '2PR140\\r\\n'\n"
     ]
    },
    {
     "name": "stdout",
     "output_type": "stream",
     "text": [
      "780\n",
      "1\n"
     ]
    },
    {
     "name": "stderr",
     "output_type": "stream",
     "text": [
      "INFO - Motor 2: movement ceased. Continuing with command buffer.\n",
      "\n",
      "INFO - Channel: 1 position: 339.169921875\n",
      "INFO - Response: ''\n",
      "\n",
      "INFO - Sending next command(229): '2PR104\\r\\n'\n"
     ]
    },
    {
     "name": "stdout",
     "output_type": "stream",
     "text": [
      "780\n",
      "1\n"
     ]
    },
    {
     "name": "stderr",
     "output_type": "stream",
     "text": [
      "INFO - Motor 2: movement ceased. Continuing with command buffer.\n",
      "\n",
      "INFO - Channel: 1 position: 341.3671875\n",
      "INFO - Response: ''\n",
      "\n",
      "INFO - Sending next command(230): '2PR75\\r\\n'\n"
     ]
    },
    {
     "name": "stdout",
     "output_type": "stream",
     "text": [
      "780\n",
      "1\n"
     ]
    },
    {
     "name": "stderr",
     "output_type": "stream",
     "text": [
      "INFO - Motor 2: movement ceased. Continuing with command buffer.\n",
      "\n",
      "INFO - Channel: 1 position: 342.94921875\n",
      "INFO - Response: ''\n",
      "\n",
      "INFO - Sending next command(231): '2PR54\\r\\n'\n"
     ]
    },
    {
     "name": "stdout",
     "output_type": "stream",
     "text": [
      "780\n",
      "1\n"
     ]
    },
    {
     "name": "stderr",
     "output_type": "stream",
     "text": [
      "INFO - Motor 2: movement ceased. Continuing with command buffer.\n",
      "\n",
      "INFO - Channel: 1 position: 344.1796875\n",
      "INFO - Response: ''\n",
      "\n",
      "INFO - Sending next command(232): '2PR38\\r\\n'\n"
     ]
    },
    {
     "name": "stdout",
     "output_type": "stream",
     "text": [
      "780\n",
      "1\n"
     ]
    },
    {
     "name": "stderr",
     "output_type": "stream",
     "text": [
      "INFO - Motor 2: movement ceased. Continuing with command buffer.\n",
      "\n",
      "INFO - Channel: 1 position: 345.102539062\n",
      "INFO - Response: ''\n",
      "\n",
      "INFO - Sending next command(233): '2PR25\\r\\n'\n"
     ]
    },
    {
     "name": "stdout",
     "output_type": "stream",
     "text": [
      "780\n",
      "1\n"
     ]
    },
    {
     "name": "stderr",
     "output_type": "stream",
     "text": [
      "INFO - Motor 2: movement ceased. Continuing with command buffer.\n",
      "\n",
      "INFO - Channel: 1 position: 345.76171875\n",
      "INFO - Response: ''\n",
      "\n",
      "INFO - Sending next command(234): '2PR16\\r\\n'\n"
     ]
    },
    {
     "name": "stdout",
     "output_type": "stream",
     "text": [
      "780\n",
      "1\n"
     ]
    },
    {
     "name": "stderr",
     "output_type": "stream",
     "text": [
      "INFO - Motor 2: movement ceased. Continuing with command buffer.\n",
      "\n",
      "INFO - Channel: 1 position: 346.245117188\n",
      "INFO - Response: ''\n",
      "\n",
      "INFO - Sending next command(235): '2PR10\\r\\n'\n"
     ]
    },
    {
     "name": "stdout",
     "output_type": "stream",
     "text": [
      "780\n",
      "1\n"
     ]
    },
    {
     "name": "stderr",
     "output_type": "stream",
     "text": [
      "INFO - Motor 2: movement ceased. Continuing with command buffer.\n",
      "\n",
      "INFO - Channel: 1 position: 346.46484375\n",
      "INFO - Response: ''\n",
      "\n",
      "INFO - Sending next command(236): '2PR7\\r\\n'\n"
     ]
    },
    {
     "name": "stdout",
     "output_type": "stream",
     "text": [
      "780\n",
      "1\n"
     ]
    },
    {
     "name": "stderr",
     "output_type": "stream",
     "text": [
      "INFO - Motor 2: movement ceased. Continuing with command buffer.\n",
      "\n",
      "INFO - Channel: 1 position: 346.684570312\n",
      "INFO - Response: ''\n",
      "\n",
      "INFO - Sending next command(237): '2PR4\\r\\n'\n"
     ]
    },
    {
     "name": "stdout",
     "output_type": "stream",
     "text": [
      "780\n",
      "1\n"
     ]
    },
    {
     "name": "stderr",
     "output_type": "stream",
     "text": [
      "INFO - Motor 2: movement ceased. Continuing with command buffer.\n",
      "\n",
      "INFO - Channel: 1 position: 346.772460938\n",
      "ERROR - Current position 346.772460938 deg. Setpoint not achieved by -0.2275390625 deg after max iterations.\n",
      "INFO - Channel: 1 position: 346.772460938\n",
      "INFO - Channel: 1 position: 346.772460938\n",
      "INFO - avg_steps: 1847.32324219\n",
      "INFO - Channel: 1 position: 346.772460938\n",
      "INFO - Response: ''\n",
      "\n",
      "INFO - Sending next command(238): '2PR1293\\r\\n'\n"
     ]
    },
    {
     "name": "stdout",
     "output_type": "stream",
     "text": [
      "780\n",
      "1\n",
      "780\n",
      "1\n",
      "780\n",
      "1\n",
      "780\n",
      "1\n"
     ]
    },
    {
     "name": "stderr",
     "output_type": "stream",
     "text": [
      "INFO - Motor 2: movement ceased. Continuing with command buffer.\n",
      "\n",
      "INFO - Channel: 1 position: 375.46875\n",
      "INFO - Response: ''\n",
      "\n",
      "INFO - Sending next command(239): '2PR911\\r\\n'\n"
     ]
    },
    {
     "name": "stdout",
     "output_type": "stream",
     "text": [
      "780\n",
      "1\n"
     ]
    },
    {
     "name": "stderr",
     "output_type": "stream",
     "text": [
      "INFO - Motor 2: movement ceased. Continuing with command buffer.\n",
      "\n",
      "INFO - Channel: 1 position: 401.440429688\n",
      "INFO - Response: ''\n",
      "\n",
      "INFO - Sending next command(240): '2PR566\\r\\n'\n"
     ]
    },
    {
     "name": "stdout",
     "output_type": "stream",
     "text": [
      "780\n",
      "1\n"
     ]
    },
    {
     "name": "stderr",
     "output_type": "stream",
     "text": [
      "INFO - Motor 2: movement ceased. Continuing with command buffer.\n",
      "\n",
      "INFO - Channel: 1 position: 417.919921875\n",
      "INFO - Response: ''\n",
      "\n",
      "INFO - Sending next command(241): '2PR347\\r\\n'\n"
     ]
    },
    {
     "name": "stdout",
     "output_type": "stream",
     "text": [
      "780\n",
      "1\n"
     ]
    },
    {
     "name": "stderr",
     "output_type": "stream",
     "text": [
      "INFO - Motor 2: movement ceased. Continuing with command buffer.\n",
      "\n",
      "INFO - Channel: 1 position: 428.37890625\n",
      "INFO - Response: ''\n",
      "\n",
      "INFO - Sending next command(242): '2PR208\\r\\n'\n"
     ]
    },
    {
     "name": "stdout",
     "output_type": "stream",
     "text": [
      "780\n",
      "1\n"
     ]
    },
    {
     "name": "stderr",
     "output_type": "stream",
     "text": [
      "INFO - Motor 2: movement ceased. Continuing with command buffer.\n",
      "\n",
      "INFO - Channel: 1 position: 434.443359375\n",
      "INFO - Response: ''\n",
      "\n",
      "INFO - Sending next command(243): '2PR127\\r\\n'\n"
     ]
    },
    {
     "name": "stdout",
     "output_type": "stream",
     "text": [
      "780\n",
      "1\n"
     ]
    },
    {
     "name": "stderr",
     "output_type": "stream",
     "text": [
      "INFO - Motor 2: movement ceased. Continuing with command buffer.\n",
      "\n",
      "INFO - Channel: 1 position: 438.134765625\n",
      "INFO - Response: ''\n",
      "\n",
      "INFO - Sending next command(244): '2PR78\\r\\n'\n"
     ]
    },
    {
     "name": "stdout",
     "output_type": "stream",
     "text": [
      "780\n",
      "1\n"
     ]
    },
    {
     "name": "stderr",
     "output_type": "stream",
     "text": [
      "INFO - Motor 2: movement ceased. Continuing with command buffer.\n",
      "\n",
      "INFO - Channel: 1 position: 440.463867188\n",
      "INFO - Response: ''\n",
      "\n",
      "INFO - Sending next command(245): '2PR47\\r\\n'\n"
     ]
    },
    {
     "name": "stdout",
     "output_type": "stream",
     "text": [
      "780\n",
      "1\n"
     ]
    },
    {
     "name": "stderr",
     "output_type": "stream",
     "text": [
      "INFO - Motor 2: movement ceased. Continuing with command buffer.\n",
      "\n",
      "INFO - Channel: 1 position: 441.958007812\n",
      "INFO - Response: ''\n",
      "\n",
      "INFO - Sending next command(246): '2PR27\\r\\n'\n"
     ]
    },
    {
     "name": "stdout",
     "output_type": "stream",
     "text": [
      "780\n",
      "1\n"
     ]
    },
    {
     "name": "stderr",
     "output_type": "stream",
     "text": [
      "INFO - Motor 2: movement ceased. Continuing with command buffer.\n",
      "\n",
      "INFO - Channel: 1 position: 442.924804688\n",
      "INFO - Response: ''\n",
      "\n",
      "INFO - Sending next command(247): '2PR14\\r\\n'\n"
     ]
    },
    {
     "name": "stdout",
     "output_type": "stream",
     "text": [
      "780\n",
      "1\n"
     ]
    },
    {
     "name": "stderr",
     "output_type": "stream",
     "text": [
      "INFO - Motor 2: movement ceased. Continuing with command buffer.\n",
      "\n",
      "INFO - Channel: 1 position: 443.408203125\n",
      "INFO - Response: ''\n",
      "\n",
      "INFO - Sending next command(248): '2PR8\\r\\n'\n"
     ]
    },
    {
     "name": "stdout",
     "output_type": "stream",
     "text": [
      "780\n",
      "1\n"
     ]
    },
    {
     "name": "stderr",
     "output_type": "stream",
     "text": [
      "INFO - Motor 2: movement ceased. Continuing with command buffer.\n",
      "\n",
      "INFO - Channel: 1 position: 443.715820312\n",
      "INFO - Response: ''\n",
      "\n",
      "INFO - Sending next command(249): '2PR4\\r\\n'\n"
     ]
    },
    {
     "name": "stdout",
     "output_type": "stream",
     "text": [
      "780\n",
      "1\n"
     ]
    },
    {
     "name": "stderr",
     "output_type": "stream",
     "text": [
      "INFO - Motor 2: movement ceased. Continuing with command buffer.\n",
      "\n",
      "INFO - Channel: 1 position: 443.84765625\n",
      "INFO - Response: ''\n",
      "\n",
      "INFO - Sending next command(250): '2PR2\\r\\n'\n"
     ]
    },
    {
     "name": "stdout",
     "output_type": "stream",
     "text": [
      "780\n",
      "1\n"
     ]
    },
    {
     "name": "stderr",
     "output_type": "stream",
     "text": [
      "INFO - Motor 2: movement ceased. Continuing with command buffer.\n",
      "\n",
      "INFO - Channel: 1 position: 443.935546875\n",
      "INFO - Response: ''\n",
      "\n",
      "INFO - Sending next command(251): '2PR1\\r\\n'\n"
     ]
    },
    {
     "name": "stdout",
     "output_type": "stream",
     "text": [
      "780\n",
      "1\n"
     ]
    },
    {
     "name": "stderr",
     "output_type": "stream",
     "text": [
      "INFO - Motor 2: movement ceased. Continuing with command buffer.\n",
      "\n",
      "INFO - Channel: 1 position: 443.979492188\n",
      "INFO - New motor position is 443.979492188 deg, error -0.0205078125 deg.\n",
      "INFO - Channel: 1 position: 443.979492188\n",
      "INFO - Channel: 1 position: 443.979492188\n",
      "INFO - avg_steps: -6383.61035156\n",
      "INFO - Need to go negative. Current position 443.979492188 DEG. Setpoint 108 DEG. Steps to be taken: -7384\n",
      "INFO - Response: ''\n",
      "\n",
      "INFO - Sending next command(252): '2PR-7384\\r\\n'\n"
     ]
    },
    {
     "name": "stdout",
     "output_type": "stream",
     "text": [
      "780\n",
      "1\n",
      "780\n",
      "1\n",
      "780\n",
      "1\n"
     ]
    },
    {
     "name": "stderr",
     "output_type": "stream",
     "text": [
      "INFO - Motor 2: movement ceased. Continuing with command buffer.\n",
      "\n",
      "INFO - Channel: 1 position: 59.501953125\n",
      "INFO - Response: ''\n",
      "\n",
      "INFO - Sending next command(253): '2PR645\\r\\n'\n"
     ]
    },
    {
     "name": "stdout",
     "output_type": "stream",
     "text": [
      "780\n",
      "1\n"
     ]
    },
    {
     "name": "stderr",
     "output_type": "stream",
     "text": [
      "INFO - Motor 2: movement ceased. Continuing with command buffer.\n",
      "\n",
      "INFO - Channel: 1 position: 84.2431640625\n",
      "INFO - Response: ''\n",
      "\n",
      "INFO - Sending next command(254): '2PR316\\r\\n'\n"
     ]
    },
    {
     "name": "stdout",
     "output_type": "stream",
     "text": [
      "780\n",
      "1\n"
     ]
    },
    {
     "name": "stderr",
     "output_type": "stream",
     "text": [
      "INFO - Motor 2: movement ceased. Continuing with command buffer.\n",
      "\n",
      "INFO - Channel: 1 position: 92.021484375\n",
      "INFO - Response: ''\n",
      "\n",
      "INFO - Sending next command(255): '2PR213\\r\\n'\n"
     ]
    },
    {
     "name": "stdout",
     "output_type": "stream",
     "text": [
      "780\n",
      "1\n"
     ]
    },
    {
     "name": "stderr",
     "output_type": "stream",
     "text": [
      "INFO - Motor 2: movement ceased. Continuing with command buffer.\n",
      "\n",
      "INFO - Channel: 1 position: 96.416015625\n",
      "INFO - Response: ''\n",
      "\n",
      "INFO - Sending next command(256): '2PR154\\r\\n'\n"
     ]
    },
    {
     "name": "stdout",
     "output_type": "stream",
     "text": [
      "780\n",
      "1\n"
     ]
    },
    {
     "name": "stderr",
     "output_type": "stream",
     "text": [
      "INFO - Motor 2: movement ceased. Continuing with command buffer.\n",
      "\n",
      "INFO - Channel: 1 position: 99.3603515625\n",
      "INFO - Response: ''\n",
      "\n",
      "INFO - Sending next command(257): '2PR115\\r\\n'\n"
     ]
    },
    {
     "name": "stdout",
     "output_type": "stream",
     "text": [
      "780\n",
      "1\n"
     ]
    },
    {
     "name": "stderr",
     "output_type": "stream",
     "text": [
      "INFO - Motor 2: movement ceased. Continuing with command buffer.\n",
      "\n",
      "INFO - Channel: 1 position: 101.557617188\n",
      "INFO - Response: ''\n",
      "\n",
      "INFO - Sending next command(258): '2PR86\\r\\n'\n"
     ]
    },
    {
     "name": "stdout",
     "output_type": "stream",
     "text": [
      "780\n",
      "1\n"
     ]
    },
    {
     "name": "stderr",
     "output_type": "stream",
     "text": [
      "INFO - Motor 2: movement ceased. Continuing with command buffer.\n",
      "\n",
      "INFO - Channel: 1 position: 103.18359375\n",
      "INFO - Response: ''\n",
      "\n",
      "INFO - Sending next command(259): '2PR64\\r\\n'\n"
     ]
    },
    {
     "name": "stdout",
     "output_type": "stream",
     "text": [
      "780\n",
      "1\n"
     ]
    },
    {
     "name": "stderr",
     "output_type": "stream",
     "text": [
      "INFO - Motor 2: movement ceased. Continuing with command buffer.\n",
      "\n",
      "INFO - Channel: 1 position: 104.458007812\n",
      "INFO - Response: ''\n",
      "\n",
      "INFO - Sending next command(260): '2PR47\\r\\n'\n"
     ]
    },
    {
     "name": "stdout",
     "output_type": "stream",
     "text": [
      "780\n",
      "1\n"
     ]
    },
    {
     "name": "stderr",
     "output_type": "stream",
     "text": [
      "INFO - Motor 2: movement ceased. Continuing with command buffer.\n",
      "\n",
      "INFO - Channel: 1 position: 105.380859375\n",
      "INFO - Response: ''\n",
      "\n",
      "INFO - Sending next command(261): '2PR35\\r\\n'\n"
     ]
    },
    {
     "name": "stdout",
     "output_type": "stream",
     "text": [
      "780\n",
      "1\n"
     ]
    },
    {
     "name": "stderr",
     "output_type": "stream",
     "text": [
      "INFO - Motor 2: movement ceased. Continuing with command buffer.\n",
      "\n",
      "INFO - Channel: 1 position: 106.083984375\n",
      "INFO - Response: ''\n",
      "\n",
      "INFO - Sending next command(262): '2PR25\\r\\n'\n"
     ]
    },
    {
     "name": "stdout",
     "output_type": "stream",
     "text": [
      "780\n",
      "1\n"
     ]
    },
    {
     "name": "stderr",
     "output_type": "stream",
     "text": [
      "INFO - Motor 2: movement ceased. Continuing with command buffer.\n",
      "\n",
      "INFO - Channel: 1 position: 106.611328125\n",
      "INFO - Response: ''\n",
      "\n",
      "INFO - Sending next command(263): '2PR18\\r\\n'\n"
     ]
    },
    {
     "name": "stdout",
     "output_type": "stream",
     "text": [
      "780\n",
      "1\n"
     ]
    },
    {
     "name": "stderr",
     "output_type": "stream",
     "text": [
      "INFO - Motor 2: movement ceased. Continuing with command buffer.\n",
      "\n",
      "INFO - Channel: 1 position: 106.962890625\n",
      "INFO - Response: ''\n",
      "\n",
      "INFO - Sending next command(264): '2PR14\\r\\n'\n"
     ]
    },
    {
     "name": "stdout",
     "output_type": "stream",
     "text": [
      "780\n",
      "1\n"
     ]
    },
    {
     "name": "stderr",
     "output_type": "stream",
     "text": [
      "INFO - Motor 2: movement ceased. Continuing with command buffer.\n",
      "\n",
      "INFO - Channel: 1 position: 107.270507812\n",
      "INFO - Response: ''\n",
      "\n",
      "INFO - Sending next command(265): '2PR10\\r\\n'\n"
     ]
    },
    {
     "name": "stdout",
     "output_type": "stream",
     "text": [
      "780\n",
      "1\n"
     ]
    },
    {
     "name": "stderr",
     "output_type": "stream",
     "text": [
      "INFO - Motor 2: movement ceased. Continuing with command buffer.\n",
      "\n",
      "INFO - Channel: 1 position: 107.490234375\n",
      "INFO - Response: ''\n",
      "\n",
      "INFO - Sending next command(266): '2PR7\\r\\n'\n"
     ]
    },
    {
     "name": "stdout",
     "output_type": "stream",
     "text": [
      "780\n",
      "1\n"
     ]
    },
    {
     "name": "stderr",
     "output_type": "stream",
     "text": [
      "INFO - Motor 2: movement ceased. Continuing with command buffer.\n",
      "\n",
      "INFO - Channel: 1 position: 107.622070312\n",
      "INFO - Response: ''\n",
      "\n",
      "INFO - Sending next command(267): '2PR5\\r\\n'\n"
     ]
    },
    {
     "name": "stdout",
     "output_type": "stream",
     "text": [
      "780\n",
      "1\n"
     ]
    },
    {
     "name": "stderr",
     "output_type": "stream",
     "text": [
      "INFO - Motor 2: movement ceased. Continuing with command buffer.\n",
      "\n",
      "INFO - Channel: 1 position: 107.709960938\n",
      "INFO - Response: ''\n",
      "\n",
      "INFO - Sending next command(268): '2PR4\\r\\n'\n"
     ]
    },
    {
     "name": "stdout",
     "output_type": "stream",
     "text": [
      "780\n",
      "1\n"
     ]
    },
    {
     "name": "stderr",
     "output_type": "stream",
     "text": [
      "INFO - Motor 2: movement ceased. Continuing with command buffer.\n",
      "\n",
      "INFO - Channel: 1 position: 107.797851562\n",
      "INFO - Response: ''\n",
      "\n",
      "INFO - Sending next command(269): '2PR3\\r\\n'\n"
     ]
    },
    {
     "name": "stdout",
     "output_type": "stream",
     "text": [
      "780\n",
      "1\n"
     ]
    },
    {
     "name": "stderr",
     "output_type": "stream",
     "text": [
      "INFO - Motor 2: movement ceased. Continuing with command buffer.\n",
      "\n",
      "INFO - Channel: 1 position: 107.841796875\n",
      "INFO - Response: ''\n",
      "\n",
      "INFO - Sending next command(270): '2PR2\\r\\n'\n"
     ]
    },
    {
     "name": "stdout",
     "output_type": "stream",
     "text": [
      "780\n",
      "1\n"
     ]
    },
    {
     "name": "stderr",
     "output_type": "stream",
     "text": [
      "INFO - Motor 2: movement ceased. Continuing with command buffer.\n",
      "\n",
      "INFO - Channel: 1 position: 107.885742188\n",
      "INFO - Response: ''\n",
      "\n",
      "INFO - Sending next command(271): '2PR2\\r\\n'\n"
     ]
    },
    {
     "name": "stdout",
     "output_type": "stream",
     "text": [
      "780\n",
      "1\n"
     ]
    },
    {
     "name": "stderr",
     "output_type": "stream",
     "text": [
      "INFO - Motor 2: movement ceased. Continuing with command buffer.\n",
      "\n",
      "INFO - Channel: 1 position: 107.9296875\n",
      "INFO - Response: ''\n",
      "\n",
      "INFO - Sending next command(272): '2PR1\\r\\n'\n"
     ]
    },
    {
     "name": "stdout",
     "output_type": "stream",
     "text": [
      "780\n",
      "1\n"
     ]
    },
    {
     "name": "stderr",
     "output_type": "stream",
     "text": [
      "INFO - Motor 2: movement ceased. Continuing with command buffer.\n",
      "\n",
      "INFO - Channel: 1 position: 107.9296875\n",
      "INFO - New motor position is 107.9296875 deg, error -0.0703125 deg.\n",
      "INFO - Channel: 1 position: 107.9296875\n",
      "INFO - Channel: 1 position: 107.9296875\n",
      "INFO - avg_steps: 1198.3359375\n",
      "INFO - Channel: 1 position: 107.9296875\n",
      "INFO - Response: ''\n",
      "\n",
      "INFO - Sending next command(273): '2PR839\\r\\n'\n"
     ]
    },
    {
     "name": "stdout",
     "output_type": "stream",
     "text": [
      "780\n",
      "1\n",
      "780\n",
      "1\n",
      "780\n",
      "1\n",
      "780\n",
      "1\n"
     ]
    },
    {
     "name": "stderr",
     "output_type": "stream",
     "text": [
      "INFO - Motor 2: movement ceased. Continuing with command buffer.\n",
      "\n",
      "INFO - Channel: 1 position: 119.223632812\n",
      "INFO - Response: ''\n",
      "\n",
      "INFO - Sending next command(274): '2PR689\\r\\n'\n"
     ]
    },
    {
     "name": "stdout",
     "output_type": "stream",
     "text": [
      "780\n",
      "1\n"
     ]
    },
    {
     "name": "stderr",
     "output_type": "stream",
     "text": [
      "INFO - Motor 2: movement ceased. Continuing with command buffer.\n",
      "\n",
      "INFO - Channel: 1 position: 127.836914062\n",
      "INFO - Response: ''\n",
      "\n",
      "INFO - Sending next command(275): '2PR574\\r\\n'\n"
     ]
    },
    {
     "name": "stdout",
     "output_type": "stream",
     "text": [
      "780\n",
      "1\n"
     ]
    },
    {
     "name": "stderr",
     "output_type": "stream",
     "text": [
      "INFO - Motor 2: movement ceased. Continuing with command buffer.\n",
      "\n",
      "INFO - Channel: 1 position: 135.483398438\n",
      "INFO - Response: ''\n",
      "\n",
      "INFO - Sending next command(276): '2PR472\\r\\n'\n"
     ]
    },
    {
     "name": "stdout",
     "output_type": "stream",
     "text": [
      "780\n",
      "1\n"
     ]
    },
    {
     "name": "stderr",
     "output_type": "stream",
     "text": [
      "INFO - Motor 2: movement ceased. Continuing with command buffer.\n",
      "\n",
      "INFO - Channel: 1 position: 142.646484375\n",
      "INFO - Response: ''\n",
      "\n",
      "INFO - Sending next command(277): '2PR377\\r\\n'\n"
     ]
    },
    {
     "name": "stdout",
     "output_type": "stream",
     "text": [
      "780\n",
      "1\n"
     ]
    },
    {
     "name": "stderr",
     "output_type": "stream",
     "text": [
      "INFO - Motor 2: movement ceased. Continuing with command buffer.\n",
      "\n",
      "INFO - Channel: 1 position: 148.754882812\n",
      "INFO - Response: ''\n",
      "\n",
      "INFO - Sending next command(278): '2PR296\\r\\n'\n"
     ]
    },
    {
     "name": "stdout",
     "output_type": "stream",
     "text": [
      "780\n",
      "1\n"
     ]
    },
    {
     "name": "stderr",
     "output_type": "stream",
     "text": [
      "INFO - Motor 2: movement ceased. Continuing with command buffer.\n",
      "\n",
      "INFO - Channel: 1 position: 154.204101562\n",
      "INFO - Response: ''\n",
      "\n",
      "INFO - Sending next command(279): '2PR223\\r\\n'\n"
     ]
    },
    {
     "name": "stdout",
     "output_type": "stream",
     "text": [
      "780\n",
      "1\n"
     ]
    },
    {
     "name": "stderr",
     "output_type": "stream",
     "text": [
      "INFO - Motor 2: movement ceased. Continuing with command buffer.\n",
      "\n",
      "INFO - Channel: 1 position: 158.247070312\n",
      "INFO - Response: ''\n",
      "\n",
      "INFO - Sending next command(280): '2PR170\\r\\n'\n"
     ]
    },
    {
     "name": "stdout",
     "output_type": "stream",
     "text": [
      "780\n",
      "1\n"
     ]
    },
    {
     "name": "stderr",
     "output_type": "stream",
     "text": [
      "INFO - Motor 2: movement ceased. Continuing with command buffer.\n",
      "\n",
      "INFO - Channel: 1 position: 161.586914062\n",
      "INFO - Response: ''\n",
      "\n",
      "INFO - Sending next command(281): '2PR125\\r\\n'\n"
     ]
    },
    {
     "name": "stdout",
     "output_type": "stream",
     "text": [
      "780\n",
      "1\n"
     ]
    },
    {
     "name": "stderr",
     "output_type": "stream",
     "text": [
      "INFO - Motor 2: movement ceased. Continuing with command buffer.\n",
      "\n",
      "INFO - Channel: 1 position: 164.1796875\n",
      "INFO - Response: ''\n",
      "\n",
      "INFO - Sending next command(282): '2PR91\\r\\n'\n"
     ]
    },
    {
     "name": "stdout",
     "output_type": "stream",
     "text": [
      "780\n",
      "1\n"
     ]
    },
    {
     "name": "stderr",
     "output_type": "stream",
     "text": [
      "INFO - Motor 2: movement ceased. Continuing with command buffer.\n",
      "\n",
      "INFO - Channel: 1 position: 166.157226562\n",
      "INFO - Response: ''\n",
      "\n",
      "INFO - Sending next command(283): '2PR64\\r\\n'\n"
     ]
    },
    {
     "name": "stdout",
     "output_type": "stream",
     "text": [
      "780\n",
      "1\n"
     ]
    },
    {
     "name": "stderr",
     "output_type": "stream",
     "text": [
      "INFO - Motor 2: movement ceased. Continuing with command buffer.\n",
      "\n",
      "INFO - Channel: 1 position: 167.607421875\n",
      "INFO - Response: ''\n",
      "\n",
      "INFO - Sending next command(284): '2PR45\\r\\n'\n"
     ]
    },
    {
     "name": "stdout",
     "output_type": "stream",
     "text": [
      "780\n",
      "1\n"
     ]
    },
    {
     "name": "stderr",
     "output_type": "stream",
     "text": [
      "INFO - Motor 2: movement ceased. Continuing with command buffer.\n",
      "\n",
      "INFO - Channel: 1 position: 168.75\n",
      "INFO - Response: ''\n",
      "\n",
      "INFO - Sending next command(285): '2PR30\\r\\n'\n"
     ]
    },
    {
     "name": "stdout",
     "output_type": "stream",
     "text": [
      "780\n",
      "1\n"
     ]
    },
    {
     "name": "stderr",
     "output_type": "stream",
     "text": [
      "INFO - Motor 2: movement ceased. Continuing with command buffer.\n",
      "\n",
      "INFO - Channel: 1 position: 169.62890625\n",
      "INFO - Response: ''\n",
      "\n",
      "INFO - Sending next command(286): '2PR18\\r\\n'\n"
     ]
    },
    {
     "name": "stdout",
     "output_type": "stream",
     "text": [
      "780\n",
      "1\n"
     ]
    },
    {
     "name": "stderr",
     "output_type": "stream",
     "text": [
      "INFO - Motor 2: movement ceased. Continuing with command buffer.\n",
      "\n",
      "INFO - Channel: 1 position: 170.15625\n",
      "INFO - Response: ''\n",
      "\n",
      "INFO - Sending next command(287): '2PR11\\r\\n'\n"
     ]
    },
    {
     "name": "stdout",
     "output_type": "stream",
     "text": [
      "780\n",
      "1\n"
     ]
    },
    {
     "name": "stderr",
     "output_type": "stream",
     "text": [
      "INFO - Motor 2: movement ceased. Continuing with command buffer.\n",
      "\n",
      "INFO - Channel: 1 position: 170.463867188\n",
      "INFO - Response: ''\n",
      "\n",
      "INFO - Sending next command(288): '2PR7\\r\\n'\n"
     ]
    },
    {
     "name": "stdout",
     "output_type": "stream",
     "text": [
      "780\n",
      "1\n"
     ]
    },
    {
     "name": "stderr",
     "output_type": "stream",
     "text": [
      "INFO - Motor 2: movement ceased. Continuing with command buffer.\n",
      "\n",
      "INFO - Channel: 1 position: 170.68359375\n",
      "INFO - Response: ''\n",
      "\n",
      "INFO - Sending next command(289): '2PR4\\r\\n'\n"
     ]
    },
    {
     "name": "stdout",
     "output_type": "stream",
     "text": [
      "780\n",
      "1\n"
     ]
    },
    {
     "name": "stderr",
     "output_type": "stream",
     "text": [
      "INFO - Motor 2: movement ceased. Continuing with command buffer.\n",
      "\n",
      "INFO - Channel: 1 position: 170.771484375\n",
      "INFO - Response: ''\n",
      "\n",
      "INFO - Sending next command(290): '2PR3\\r\\n'\n"
     ]
    },
    {
     "name": "stdout",
     "output_type": "stream",
     "text": [
      "780\n",
      "1\n"
     ]
    },
    {
     "name": "stderr",
     "output_type": "stream",
     "text": [
      "INFO - Motor 2: movement ceased. Continuing with command buffer.\n",
      "\n",
      "INFO - Channel: 1 position: 170.859375\n",
      "INFO - Response: ''\n",
      "\n",
      "INFO - Sending next command(291): '2PR2\\r\\n'\n"
     ]
    },
    {
     "name": "stdout",
     "output_type": "stream",
     "text": [
      "780\n",
      "1\n"
     ]
    },
    {
     "name": "stderr",
     "output_type": "stream",
     "text": [
      "INFO - Motor 2: movement ceased. Continuing with command buffer.\n",
      "\n",
      "INFO - Channel: 1 position: 170.947265625\n",
      "INFO - Response: ''\n",
      "\n",
      "INFO - Sending next command(292): '2PR1\\r\\n'\n"
     ]
    },
    {
     "name": "stdout",
     "output_type": "stream",
     "text": [
      "780\n",
      "1\n"
     ]
    },
    {
     "name": "stderr",
     "output_type": "stream",
     "text": [
      "INFO - Motor 2: movement ceased. Continuing with command buffer.\n",
      "\n",
      "INFO - Channel: 1 position: 170.947265625\n",
      "INFO - New motor position is 170.947265625 deg, error -0.052734375 deg.\n",
      "INFO - Channel: 1 position: 170.947265625\n",
      "INFO - Channel: 1 position: 170.947265625\n",
      "INFO - avg_steps: 286.001953125\n",
      "INFO - Channel: 1 position: 170.947265625\n",
      "INFO - Response: ''\n",
      "\n",
      "INFO - Sending next command(293): '2PR200\\r\\n'\n"
     ]
    },
    {
     "name": "stdout",
     "output_type": "stream",
     "text": [
      "780\n",
      "1\n",
      "780\n",
      "1\n",
      "780\n",
      "1\n",
      "780\n",
      "1\n"
     ]
    },
    {
     "name": "stderr",
     "output_type": "stream",
     "text": [
      "INFO - Motor 2: movement ceased. Continuing with command buffer.\n",
      "\n",
      "INFO - Channel: 1 position: 175.034179688\n",
      "INFO - Response: ''\n",
      "\n",
      "INFO - Sending next command(294): '2PR146\\r\\n'\n"
     ]
    },
    {
     "name": "stdout",
     "output_type": "stream",
     "text": [
      "780\n",
      "1\n"
     ]
    },
    {
     "name": "stderr",
     "output_type": "stream",
     "text": [
      "INFO - Motor 2: movement ceased. Continuing with command buffer.\n",
      "\n",
      "INFO - Channel: 1 position: 177.934570312\n",
      "INFO - Response: ''\n",
      "\n",
      "INFO - Sending next command(295): '2PR107\\r\\n'\n"
     ]
    },
    {
     "name": "stdout",
     "output_type": "stream",
     "text": [
      "780\n",
      "1\n"
     ]
    },
    {
     "name": "stderr",
     "output_type": "stream",
     "text": [
      "INFO - Motor 2: movement ceased. Continuing with command buffer.\n",
      "\n",
      "INFO - Channel: 1 position: 180.131835938\n",
      "INFO - Response: ''\n",
      "\n",
      "INFO - Sending next command(296): '2PR78\\r\\n'\n"
     ]
    },
    {
     "name": "stdout",
     "output_type": "stream",
     "text": [
      "780\n",
      "1\n"
     ]
    },
    {
     "name": "stderr",
     "output_type": "stream",
     "text": [
      "INFO - Motor 2: movement ceased. Continuing with command buffer.\n",
      "\n",
      "INFO - Channel: 1 position: 181.845703125\n",
      "INFO - Response: ''\n",
      "\n",
      "INFO - Sending next command(297): '2PR55\\r\\n'\n"
     ]
    },
    {
     "name": "stdout",
     "output_type": "stream",
     "text": [
      "780\n",
      "1\n"
     ]
    },
    {
     "name": "stderr",
     "output_type": "stream",
     "text": [
      "INFO - Motor 2: movement ceased. Continuing with command buffer.\n",
      "\n",
      "INFO - Channel: 1 position: 183.208007812\n",
      "INFO - Response: ''\n",
      "\n",
      "INFO - Sending next command(298): '2PR37\\r\\n'\n"
     ]
    },
    {
     "name": "stdout",
     "output_type": "stream",
     "text": [
      "780\n",
      "1\n"
     ]
    },
    {
     "name": "stderr",
     "output_type": "stream",
     "text": [
      "INFO - Motor 2: movement ceased. Continuing with command buffer.\n",
      "\n",
      "INFO - Channel: 1 position: 184.21875\n",
      "INFO - Response: ''\n",
      "\n",
      "INFO - Sending next command(299): '2PR24\\r\\n'\n"
     ]
    },
    {
     "name": "stdout",
     "output_type": "stream",
     "text": [
      "780\n",
      "1\n"
     ]
    },
    {
     "name": "stderr",
     "output_type": "stream",
     "text": [
      "INFO - Motor 2: movement ceased. Continuing with command buffer.\n",
      "\n",
      "INFO - Channel: 1 position: 184.965820312\n",
      "INFO - Response: ''\n",
      "\n",
      "INFO - Sending next command(300): '2PR14\\r\\n'\n"
     ]
    },
    {
     "name": "stdout",
     "output_type": "stream",
     "text": [
      "780\n",
      "1\n"
     ]
    },
    {
     "name": "stderr",
     "output_type": "stream",
     "text": [
      "INFO - Motor 2: movement ceased. Continuing with command buffer.\n",
      "\n",
      "INFO - Channel: 1 position: 185.405273438\n",
      "INFO - Response: ''\n",
      "\n",
      "INFO - Sending next command(301): '2PR8\\r\\n'\n"
     ]
    },
    {
     "name": "stdout",
     "output_type": "stream",
     "text": [
      "780\n",
      "1\n"
     ]
    },
    {
     "name": "stderr",
     "output_type": "stream",
     "text": [
      "INFO - Motor 2: movement ceased. Continuing with command buffer.\n",
      "\n",
      "INFO - Channel: 1 position: 185.625\n",
      "INFO - Response: ''\n",
      "\n",
      "INFO - Sending next command(302): '2PR5\\r\\n'\n"
     ]
    },
    {
     "name": "stdout",
     "output_type": "stream",
     "text": [
      "780\n",
      "1\n"
     ]
    },
    {
     "name": "stderr",
     "output_type": "stream",
     "text": [
      "INFO - Motor 2: movement ceased. Continuing with command buffer.\n",
      "\n",
      "INFO - Channel: 1 position: 185.80078125\n",
      "INFO - Response: ''\n",
      "\n",
      "INFO - Sending next command(303): '2PR3\\r\\n'\n"
     ]
    },
    {
     "name": "stdout",
     "output_type": "stream",
     "text": [
      "780\n",
      "1\n"
     ]
    },
    {
     "name": "stderr",
     "output_type": "stream",
     "text": [
      "INFO - Motor 2: movement ceased. Continuing with command buffer.\n",
      "\n",
      "INFO - Channel: 1 position: 185.888671875\n",
      "INFO - Response: ''\n",
      "\n",
      "INFO - Sending next command(304): '2PR1\\r\\n'\n"
     ]
    },
    {
     "name": "stdout",
     "output_type": "stream",
     "text": [
      "780\n",
      "1\n"
     ]
    },
    {
     "name": "stderr",
     "output_type": "stream",
     "text": [
      "INFO - Motor 2: movement ceased. Continuing with command buffer.\n",
      "\n",
      "INFO - Channel: 1 position: 185.888671875\n",
      "INFO - Response: ''\n",
      "\n",
      "INFO - Sending next command(305): '2PR1\\r\\n'\n"
     ]
    },
    {
     "name": "stdout",
     "output_type": "stream",
     "text": [
      "780\n",
      "1\n"
     ]
    },
    {
     "name": "stderr",
     "output_type": "stream",
     "text": [
      "INFO - Motor 2: movement ceased. Continuing with command buffer.\n",
      "\n",
      "INFO - Channel: 1 position: 185.932617188\n",
      "INFO - Response: ''\n",
      "\n",
      "INFO - Sending next command(306): '2PR1\\r\\n'\n"
     ]
    },
    {
     "name": "stdout",
     "output_type": "stream",
     "text": [
      "780\n",
      "1\n"
     ]
    },
    {
     "name": "stderr",
     "output_type": "stream",
     "text": [
      "INFO - Motor 2: movement ceased. Continuing with command buffer.\n",
      "\n",
      "INFO - Channel: 1 position: 185.9765625\n",
      "INFO - New motor position is 185.9765625 deg, error -0.0234375 deg.\n",
      "INFO - Channel: 1 position: 185.9765625\n",
      "INFO - Channel: 1 position: 185.9765625\n",
      "INFO - avg_steps: -588.5546875\n",
      "INFO - Need to go negative. Current position 185.9765625 DEG. Setpoint 155 DEG. Steps to be taken: -1589\n",
      "INFO - Response: ''\n",
      "\n",
      "INFO - Sending next command(307): '2PR-1589\\r\\n'\n"
     ]
    },
    {
     "name": "stdout",
     "output_type": "stream",
     "text": [
      "780\n",
      "1\n",
      "780\n",
      "1\n",
      "780\n",
      "1\n"
     ]
    },
    {
     "name": "stderr",
     "output_type": "stream",
     "text": [
      "INFO - Motor 2: movement ceased. Continuing with command buffer.\n",
      "\n",
      "INFO - Channel: 1 position: 105.46875\n",
      "INFO - Response: ''\n",
      "\n",
      "INFO - Sending next command(308): '2PR659\\r\\n'\n"
     ]
    },
    {
     "name": "stdout",
     "output_type": "stream",
     "text": [
      "780\n",
      "1\n"
     ]
    },
    {
     "name": "stderr",
     "output_type": "stream",
     "text": [
      "INFO - Motor 2: movement ceased. Continuing with command buffer.\n",
      "\n",
      "INFO - Channel: 1 position: 129.90234375\n",
      "INFO - Response: ''\n",
      "\n",
      "INFO - Sending next command(309): '2PR334\\r\\n'\n"
     ]
    },
    {
     "name": "stdout",
     "output_type": "stream",
     "text": [
      "780\n",
      "1\n"
     ]
    },
    {
     "name": "stderr",
     "output_type": "stream",
     "text": [
      "INFO - Motor 2: movement ceased. Continuing with command buffer.\n",
      "\n",
      "INFO - Channel: 1 position: 137.4609375\n",
      "INFO - Response: ''\n",
      "\n",
      "INFO - Sending next command(310): '2PR233\\r\\n'\n"
     ]
    },
    {
     "name": "stdout",
     "output_type": "stream",
     "text": [
      "780\n",
      "1\n"
     ]
    },
    {
     "name": "stderr",
     "output_type": "stream",
     "text": [
      "INFO - Motor 2: movement ceased. Continuing with command buffer.\n",
      "\n",
      "INFO - Channel: 1 position: 141.943359375\n",
      "INFO - Response: ''\n",
      "\n",
      "INFO - Sending next command(311): '2PR174\\r\\n'\n"
     ]
    },
    {
     "name": "stdout",
     "output_type": "stream",
     "text": [
      "780\n",
      "1\n"
     ]
    },
    {
     "name": "stderr",
     "output_type": "stream",
     "text": [
      "INFO - Motor 2: movement ceased. Continuing with command buffer.\n",
      "\n",
      "INFO - Channel: 1 position: 145.063476562\n",
      "INFO - Response: ''\n",
      "\n",
      "INFO - Sending next command(312): '2PR132\\r\\n'\n"
     ]
    },
    {
     "name": "stdout",
     "output_type": "stream",
     "text": [
      "780\n",
      "1\n"
     ]
    },
    {
     "name": "stderr",
     "output_type": "stream",
     "text": [
      "INFO - Motor 2: movement ceased. Continuing with command buffer.\n",
      "\n",
      "INFO - Channel: 1 position: 147.348632812\n",
      "INFO - Response: ''\n",
      "\n",
      "INFO - Sending next command(313): '2PR102\\r\\n'\n"
     ]
    },
    {
     "name": "stdout",
     "output_type": "stream",
     "text": [
      "780\n",
      "1\n"
     ]
    },
    {
     "name": "stderr",
     "output_type": "stream",
     "text": [
      "INFO - Motor 2: movement ceased. Continuing with command buffer.\n",
      "\n",
      "INFO - Channel: 1 position: 149.194335938\n",
      "INFO - Response: ''\n",
      "\n",
      "INFO - Sending next command(314): '2PR77\\r\\n'\n"
     ]
    },
    {
     "name": "stdout",
     "output_type": "stream",
     "text": [
      "780\n",
      "1\n"
     ]
    },
    {
     "name": "stderr",
     "output_type": "stream",
     "text": [
      "INFO - Motor 2: movement ceased. Continuing with command buffer.\n",
      "\n",
      "INFO - Channel: 1 position: 150.732421875\n",
      "INFO - Response: ''\n",
      "\n",
      "INFO - Sending next command(315): '2PR57\\r\\n'\n"
     ]
    },
    {
     "name": "stdout",
     "output_type": "stream",
     "text": [
      "780\n",
      "1\n"
     ]
    },
    {
     "name": "stderr",
     "output_type": "stream",
     "text": [
      "INFO - Motor 2: movement ceased. Continuing with command buffer.\n",
      "\n",
      "INFO - Channel: 1 position: 151.962890625\n",
      "INFO - Response: ''\n",
      "\n",
      "INFO - Sending next command(316): '2PR40\\r\\n'\n"
     ]
    },
    {
     "name": "stdout",
     "output_type": "stream",
     "text": [
      "780\n",
      "1\n"
     ]
    },
    {
     "name": "stderr",
     "output_type": "stream",
     "text": [
      "INFO - Motor 2: movement ceased. Continuing with command buffer.\n",
      "\n",
      "INFO - Channel: 1 position: 152.9296875\n",
      "INFO - Response: ''\n",
      "\n",
      "INFO - Sending next command(317): '2PR28\\r\\n'\n"
     ]
    },
    {
     "name": "stdout",
     "output_type": "stream",
     "text": [
      "780\n",
      "1\n"
     ]
    },
    {
     "name": "stderr",
     "output_type": "stream",
     "text": [
      "INFO - Motor 2: movement ceased. Continuing with command buffer.\n",
      "\n",
      "INFO - Channel: 1 position: 153.6328125\n",
      "INFO - Response: ''\n",
      "\n",
      "INFO - Sending next command(318): '2PR18\\r\\n'\n"
     ]
    },
    {
     "name": "stdout",
     "output_type": "stream",
     "text": [
      "780\n",
      "1\n"
     ]
    },
    {
     "name": "stderr",
     "output_type": "stream",
     "text": [
      "INFO - Motor 2: movement ceased. Continuing with command buffer.\n",
      "\n",
      "INFO - Channel: 1 position: 154.116210938\n",
      "INFO - Response: ''\n",
      "\n",
      "INFO - Sending next command(319): '2PR12\\r\\n'\n"
     ]
    },
    {
     "name": "stdout",
     "output_type": "stream",
     "text": [
      "780\n",
      "1\n"
     ]
    },
    {
     "name": "stderr",
     "output_type": "stream",
     "text": [
      "INFO - Motor 2: movement ceased. Continuing with command buffer.\n",
      "\n",
      "INFO - Channel: 1 position: 154.467773438\n",
      "INFO - Response: ''\n",
      "\n",
      "INFO - Sending next command(320): '2PR7\\r\\n'\n"
     ]
    },
    {
     "name": "stdout",
     "output_type": "stream",
     "text": [
      "780\n",
      "1\n"
     ]
    },
    {
     "name": "stderr",
     "output_type": "stream",
     "text": [
      "INFO - Motor 2: movement ceased. Continuing with command buffer.\n",
      "\n",
      "INFO - Channel: 1 position: 154.643554688\n",
      "INFO - Response: ''\n",
      "\n",
      "INFO - Sending next command(321): '2PR5\\r\\n'\n"
     ]
    },
    {
     "name": "stdout",
     "output_type": "stream",
     "text": [
      "780\n",
      "1\n"
     ]
    },
    {
     "name": "stderr",
     "output_type": "stream",
     "text": [
      "INFO - Motor 2: movement ceased. Continuing with command buffer.\n",
      "\n",
      "INFO - Channel: 1 position: 154.775390625\n",
      "INFO - Response: ''\n",
      "\n",
      "INFO - Sending next command(322): '2PR3\\r\\n'\n"
     ]
    },
    {
     "name": "stdout",
     "output_type": "stream",
     "text": [
      "780\n",
      "1\n"
     ]
    },
    {
     "name": "stderr",
     "output_type": "stream",
     "text": [
      "INFO - Motor 2: movement ceased. Continuing with command buffer.\n",
      "\n",
      "INFO - Channel: 1 position: 154.86328125\n",
      "INFO - Response: ''\n",
      "\n",
      "INFO - Sending next command(323): '2PR2\\r\\n'\n"
     ]
    },
    {
     "name": "stdout",
     "output_type": "stream",
     "text": [
      "780\n",
      "1\n"
     ]
    },
    {
     "name": "stderr",
     "output_type": "stream",
     "text": [
      "INFO - Motor 2: movement ceased. Continuing with command buffer.\n",
      "\n",
      "INFO - Channel: 1 position: 154.907226562\n",
      "INFO - Response: ''\n",
      "\n",
      "INFO - Sending next command(324): '2PR1\\r\\n'\n"
     ]
    },
    {
     "name": "stdout",
     "output_type": "stream",
     "text": [
      "780\n",
      "1\n"
     ]
    },
    {
     "name": "stderr",
     "output_type": "stream",
     "text": [
      "INFO - Motor 2: movement ceased. Continuing with command buffer.\n",
      "\n",
      "INFO - Channel: 1 position: 154.907226562\n",
      "INFO - Response: ''\n",
      "\n",
      "INFO - Sending next command(325): '2PR1\\r\\n'\n"
     ]
    },
    {
     "name": "stdout",
     "output_type": "stream",
     "text": [
      "780\n",
      "1\n"
     ]
    },
    {
     "name": "stderr",
     "output_type": "stream",
     "text": [
      "INFO - Motor 2: movement ceased. Continuing with command buffer.\n",
      "\n",
      "INFO - Channel: 1 position: 154.951171875\n",
      "INFO - Response: ''\n",
      "\n",
      "INFO - Sending next command(326): '2PR1\\r\\n'\n"
     ]
    },
    {
     "name": "stdout",
     "output_type": "stream",
     "text": [
      "780\n",
      "1\n"
     ]
    },
    {
     "name": "stderr",
     "output_type": "stream",
     "text": [
      "INFO - Motor 2: movement ceased. Continuing with command buffer.\n",
      "\n",
      "INFO - Channel: 1 position: 154.951171875\n",
      "INFO - Response: ''\n",
      "\n",
      "INFO - Sending next command(327): '2PR1\\r\\n'\n"
     ]
    },
    {
     "name": "stdout",
     "output_type": "stream",
     "text": [
      "780\n",
      "1\n"
     ]
    },
    {
     "name": "stderr",
     "output_type": "stream",
     "text": [
      "INFO - Motor 2: movement ceased. Continuing with command buffer.\n",
      "\n",
      "INFO - Channel: 1 position: 154.995117188\n",
      "INFO - New motor position is 154.995117188 deg, error -0.0048828125 deg.\n",
      "INFO - Channel: 1 position: 154.995117188\n",
      "INFO - Channel: 1 position: 154.995117188\n",
      "INFO - avg_steps: 4009.09277344\n",
      "INFO - Channel: 1 position: 154.995117188\n",
      "INFO - Response: ''\n",
      "\n",
      "INFO - Sending next command(328): '2PR2806\\r\\n'\n"
     ]
    },
    {
     "name": "stdout",
     "output_type": "stream",
     "text": [
      "780\n",
      "1\n",
      "780\n",
      "1\n",
      "780\n",
      "1\n",
      "780\n",
      "1\n"
     ]
    },
    {
     "name": "stderr",
     "output_type": "stream",
     "text": [
      "INFO - Motor 2: movement ceased. Continuing with command buffer.\n",
      "\n",
      "INFO - Channel: 1 position: 203.90625\n",
      "INFO - Response: ''\n",
      "\n",
      "INFO - Sending next command(329): '2PR2156\\r\\n'\n"
     ]
    },
    {
     "name": "stdout",
     "output_type": "stream",
     "text": [
      "780\n",
      "1\n"
     ]
    },
    {
     "name": "stderr",
     "output_type": "stream",
     "text": [
      "INFO - Motor 2: movement ceased. Continuing with command buffer.\n",
      "\n",
      "INFO - Channel: 1 position: 243.45703125\n",
      "INFO - Response: ''\n",
      "\n",
      "INFO - Sending next command(330): '2PR1630\\r\\n'\n"
     ]
    },
    {
     "name": "stdout",
     "output_type": "stream",
     "text": [
      "780\n",
      "1\n"
     ]
    },
    {
     "name": "stderr",
     "output_type": "stream",
     "text": [
      "INFO - Motor 2: movement ceased. Continuing with command buffer.\n",
      "\n",
      "INFO - Channel: 1 position: 273.779296875\n",
      "INFO - Response: ''\n",
      "\n",
      "INFO - Sending next command(331): '2PR1227\\r\\n'\n"
     ]
    },
    {
     "name": "stdout",
     "output_type": "stream",
     "text": [
      "780\n",
      "1\n"
     ]
    },
    {
     "name": "stderr",
     "output_type": "stream",
     "text": [
      "INFO - Motor 2: movement ceased. Continuing with command buffer.\n",
      "\n",
      "INFO - Channel: 1 position: 292.587890625\n",
      "INFO - Response: ''\n",
      "\n",
      "INFO - Sending next command(332): '2PR976\\r\\n'\n"
     ]
    },
    {
     "name": "stdout",
     "output_type": "stream",
     "text": [
      "780\n",
      "1\n"
     ]
    },
    {
     "name": "stderr",
     "output_type": "stream",
     "text": [
      "INFO - Motor 2: movement ceased. Continuing with command buffer.\n",
      "\n",
      "INFO - Channel: 1 position: 306.73828125\n",
      "INFO - Response: ''\n",
      "\n",
      "INFO - Sending next command(333): '2PR788\\r\\n'\n"
     ]
    },
    {
     "name": "stdout",
     "output_type": "stream",
     "text": [
      "780\n",
      "1\n"
     ]
    },
    {
     "name": "stderr",
     "output_type": "stream",
     "text": [
      "INFO - Motor 2: movement ceased. Continuing with command buffer.\n",
      "\n",
      "INFO - Channel: 1 position: 318.208007812\n",
      "INFO - Response: ''\n",
      "\n",
      "INFO - Sending next command(334): '2PR636\\r\\n'\n"
     ]
    },
    {
     "name": "stdout",
     "output_type": "stream",
     "text": [
      "780\n",
      "1\n"
     ]
    },
    {
     "name": "stderr",
     "output_type": "stream",
     "text": [
      "INFO - Motor 2: movement ceased. Continuing with command buffer.\n",
      "\n",
      "INFO - Channel: 1 position: 326.909179688\n",
      "INFO - Response: ''\n",
      "\n",
      "INFO - Sending next command(335): '2PR520\\r\\n'\n"
     ]
    },
    {
     "name": "stdout",
     "output_type": "stream",
     "text": [
      "780\n",
      "1\n"
     ]
    },
    {
     "name": "stderr",
     "output_type": "stream",
     "text": [
      "INFO - Motor 2: movement ceased. Continuing with command buffer.\n",
      "\n",
      "INFO - Channel: 1 position: 335.654296875\n",
      "INFO - Response: ''\n",
      "\n",
      "INFO - Sending next command(336): '2PR404\\r\\n'\n"
     ]
    },
    {
     "name": "stdout",
     "output_type": "stream",
     "text": [
      "780\n",
      "1\n"
     ]
    },
    {
     "name": "stderr",
     "output_type": "stream",
     "text": [
      "INFO - Motor 2: movement ceased. Continuing with command buffer.\n",
      "\n",
      "INFO - Channel: 1 position: 343.081054688\n",
      "INFO - Response: ''\n",
      "\n",
      "INFO - Sending next command(337): '2PR305\\r\\n'\n"
     ]
    },
    {
     "name": "stdout",
     "output_type": "stream",
     "text": [
      "780\n",
      "1\n"
     ]
    },
    {
     "name": "stderr",
     "output_type": "stream",
     "text": [
      "INFO - Motor 2: movement ceased. Continuing with command buffer.\n",
      "\n",
      "INFO - Channel: 1 position: 348.837890625\n",
      "INFO - Response: ''\n",
      "\n",
      "INFO - Sending next command(338): '2PR228\\r\\n'\n"
     ]
    },
    {
     "name": "stdout",
     "output_type": "stream",
     "text": [
      "780\n",
      "1\n"
     ]
    },
    {
     "name": "stderr",
     "output_type": "stream",
     "text": [
      "INFO - Motor 2: movement ceased. Continuing with command buffer.\n",
      "\n",
      "INFO - Channel: 1 position: 353.452148438\n",
      "INFO - Response: ''\n",
      "\n",
      "INFO - Sending next command(339): '2PR167\\r\\n'\n"
     ]
    },
    {
     "name": "stdout",
     "output_type": "stream",
     "text": [
      "780\n",
      "1\n"
     ]
    },
    {
     "name": "stderr",
     "output_type": "stream",
     "text": [
      "INFO - Motor 2: movement ceased. Continuing with command buffer.\n",
      "\n",
      "INFO - Channel: 1 position: 356.967773438\n",
      "INFO - Response: ''\n",
      "\n",
      "INFO - Sending next command(340): '2PR120\\r\\n'\n"
     ]
    },
    {
     "name": "stdout",
     "output_type": "stream",
     "text": [
      "780\n",
      "1\n"
     ]
    },
    {
     "name": "stderr",
     "output_type": "stream",
     "text": [
      "INFO - Motor 2: movement ceased. Continuing with command buffer.\n",
      "\n",
      "INFO - Channel: 1 position: 359.560546875\n",
      "INFO - Response: ''\n",
      "\n",
      "INFO - Sending next command(341): '2PR86\\r\\n'\n"
     ]
    },
    {
     "name": "stdout",
     "output_type": "stream",
     "text": [
      "780\n",
      "1\n"
     ]
    },
    {
     "name": "stderr",
     "output_type": "stream",
     "text": [
      "INFO - Motor 2: movement ceased. Continuing with command buffer.\n",
      "\n",
      "INFO - Channel: 1 position: 361.538085938\n",
      "INFO - Response: ''\n",
      "\n",
      "INFO - Sending next command(342): '2PR59\\r\\n'\n"
     ]
    },
    {
     "name": "stdout",
     "output_type": "stream",
     "text": [
      "780\n",
      "1\n"
     ]
    },
    {
     "name": "stderr",
     "output_type": "stream",
     "text": [
      "INFO - Motor 2: movement ceased. Continuing with command buffer.\n",
      "\n",
      "INFO - Channel: 1 position: 362.944335938\n",
      "INFO - Response: ''\n",
      "\n",
      "INFO - Sending next command(343): '2PR41\\r\\n'\n"
     ]
    },
    {
     "name": "stdout",
     "output_type": "stream",
     "text": [
      "780\n",
      "1\n"
     ]
    },
    {
     "name": "stderr",
     "output_type": "stream",
     "text": [
      "INFO - Motor 2: movement ceased. Continuing with command buffer.\n",
      "\n",
      "INFO - Channel: 1 position: 363.999023438\n",
      "INFO - Response: ''\n",
      "\n",
      "INFO - Sending next command(344): '2PR27\\r\\n'\n"
     ]
    },
    {
     "name": "stdout",
     "output_type": "stream",
     "text": [
      "780\n",
      "1\n"
     ]
    },
    {
     "name": "stderr",
     "output_type": "stream",
     "text": [
      "INFO - Motor 2: movement ceased. Continuing with command buffer.\n",
      "\n",
      "INFO - Channel: 1 position: 364.790039062\n",
      "INFO - Response: ''\n",
      "\n",
      "INFO - Sending next command(345): '2PR16\\r\\n'\n"
     ]
    },
    {
     "name": "stdout",
     "output_type": "stream",
     "text": [
      "780\n",
      "1\n"
     ]
    },
    {
     "name": "stderr",
     "output_type": "stream",
     "text": [
      "INFO - Motor 2: movement ceased. Continuing with command buffer.\n",
      "\n",
      "INFO - Channel: 1 position: 365.2734375\n",
      "INFO - Response: ''\n",
      "\n",
      "INFO - Sending next command(346): '2PR10\\r\\n'\n"
     ]
    },
    {
     "name": "stdout",
     "output_type": "stream",
     "text": [
      "780\n",
      "1\n"
     ]
    },
    {
     "name": "stderr",
     "output_type": "stream",
     "text": [
      "INFO - Motor 2: movement ceased. Continuing with command buffer.\n",
      "\n",
      "INFO - Channel: 1 position: 365.537109375\n",
      "INFO - Response: ''\n",
      "\n",
      "INFO - Sending next command(347): '2PR6\\r\\n'\n"
     ]
    },
    {
     "name": "stdout",
     "output_type": "stream",
     "text": [
      "780\n",
      "1\n"
     ]
    },
    {
     "name": "stderr",
     "output_type": "stream",
     "text": [
      "INFO - Motor 2: movement ceased. Continuing with command buffer.\n",
      "\n",
      "INFO - Channel: 1 position: 365.712890625\n",
      "ERROR - Current position 365.712890625 deg. Setpoint not achieved by -0.287109375 deg after max iterations.\n",
      "INFO - Channel: 1 position: 365.712890625\n",
      "INFO - Channel: 1 position: 365.712890625\n",
      "INFO - avg_steps: -5162.54492188\n",
      "INFO - Need to go negative. Current position 365.712890625 DEG. Setpoint 94 DEG. Steps to be taken: -6163\n",
      "INFO - Response: ''\n",
      "\n",
      "INFO - Sending next command(348): '2PR-6163\\r\\n'\n"
     ]
    },
    {
     "name": "stdout",
     "output_type": "stream",
     "text": [
      "780\n",
      "1\n",
      "780\n",
      "1\n",
      "780\n",
      "1\n"
     ]
    },
    {
     "name": "stderr",
     "output_type": "stream",
     "text": [
      "INFO - Motor 2: movement ceased. Continuing with command buffer.\n",
      "\n",
      "INFO - Channel: 1 position: 52.3388671875\n",
      "INFO - Response: ''\n",
      "\n",
      "INFO - Sending next command(349): '2PR554\\r\\n'\n"
     ]
    },
    {
     "name": "stdout",
     "output_type": "stream",
     "text": [
      "780\n",
      "1\n"
     ]
    },
    {
     "name": "stderr",
     "output_type": "stream",
     "text": [
      "INFO - Motor 2: movement ceased. Continuing with command buffer.\n",
      "\n",
      "INFO - Channel: 1 position: 74.7509765625\n",
      "INFO - Response: ''\n",
      "\n",
      "INFO - Sending next command(350): '2PR256\\r\\n'\n"
     ]
    },
    {
     "name": "stdout",
     "output_type": "stream",
     "text": [
      "780\n",
      "1\n"
     ]
    },
    {
     "name": "stderr",
     "output_type": "stream",
     "text": [
      "INFO - Motor 2: movement ceased. Continuing with command buffer.\n",
      "\n",
      "INFO - Channel: 1 position: 81.826171875\n",
      "INFO - Response: ''\n",
      "\n",
      "INFO - Sending next command(351): '2PR162\\r\\n'\n"
     ]
    },
    {
     "name": "stdout",
     "output_type": "stream",
     "text": [
      "780\n",
      "1\n"
     ]
    },
    {
     "name": "stderr",
     "output_type": "stream",
     "text": [
      "INFO - Motor 2: movement ceased. Continuing with command buffer.\n",
      "\n",
      "INFO - Channel: 1 position: 85.5615234375\n",
      "INFO - Response: ''\n",
      "\n",
      "INFO - Sending next command(352): '2PR112\\r\\n'\n"
     ]
    },
    {
     "name": "stdout",
     "output_type": "stream",
     "text": [
      "780\n",
      "1\n"
     ]
    },
    {
     "name": "stderr",
     "output_type": "stream",
     "text": [
      "INFO - Motor 2: movement ceased. Continuing with command buffer.\n",
      "\n",
      "INFO - Channel: 1 position: 87.978515625\n",
      "INFO - Response: ''\n",
      "\n",
      "INFO - Sending next command(353): '2PR80\\r\\n'\n"
     ]
    },
    {
     "name": "stdout",
     "output_type": "stream",
     "text": [
      "780\n",
      "1\n"
     ]
    },
    {
     "name": "stderr",
     "output_type": "stream",
     "text": [
      "INFO - Motor 2: movement ceased. Continuing with command buffer.\n",
      "\n",
      "INFO - Channel: 1 position: 89.6484375\n",
      "INFO - Response: ''\n",
      "\n",
      "INFO - Sending next command(354): '2PR58\\r\\n'\n"
     ]
    },
    {
     "name": "stdout",
     "output_type": "stream",
     "text": [
      "780\n",
      "1\n"
     ]
    },
    {
     "name": "stderr",
     "output_type": "stream",
     "text": [
      "INFO - Motor 2: movement ceased. Continuing with command buffer.\n",
      "\n",
      "INFO - Channel: 1 position: 90.8349609375\n",
      "INFO - Response: ''\n",
      "\n",
      "INFO - Sending next command(355): '2PR42\\r\\n'\n"
     ]
    },
    {
     "name": "stdout",
     "output_type": "stream",
     "text": [
      "780\n",
      "1\n"
     ]
    },
    {
     "name": "stderr",
     "output_type": "stream",
     "text": [
      "INFO - Motor 2: movement ceased. Continuing with command buffer.\n",
      "\n",
      "INFO - Channel: 1 position: 91.7138671875\n",
      "INFO - Response: ''\n",
      "\n",
      "INFO - Sending next command(356): '2PR30\\r\\n'\n"
     ]
    },
    {
     "name": "stdout",
     "output_type": "stream",
     "text": [
      "780\n",
      "1\n"
     ]
    },
    {
     "name": "stderr",
     "output_type": "stream",
     "text": [
      "INFO - Motor 2: movement ceased. Continuing with command buffer.\n",
      "\n",
      "INFO - Channel: 1 position: 92.373046875\n",
      "INFO - Response: ''\n",
      "\n",
      "INFO - Sending next command(357): '2PR22\\r\\n'\n"
     ]
    },
    {
     "name": "stdout",
     "output_type": "stream",
     "text": [
      "780\n",
      "1\n"
     ]
    },
    {
     "name": "stderr",
     "output_type": "stream",
     "text": [
      "INFO - Motor 2: movement ceased. Continuing with command buffer.\n",
      "\n",
      "INFO - Channel: 1 position: 92.8125\n",
      "INFO - Response: ''\n",
      "\n",
      "INFO - Sending next command(358): '2PR16\\r\\n'\n"
     ]
    },
    {
     "name": "stdout",
     "output_type": "stream",
     "text": [
      "780\n",
      "1\n"
     ]
    },
    {
     "name": "stderr",
     "output_type": "stream",
     "text": [
      "INFO - Motor 2: movement ceased. Continuing with command buffer.\n",
      "\n",
      "INFO - Channel: 1 position: 93.1640625\n",
      "INFO - Response: ''\n",
      "\n",
      "INFO - Sending next command(359): '2PR11\\r\\n'\n"
     ]
    },
    {
     "name": "stdout",
     "output_type": "stream",
     "text": [
      "780\n",
      "1\n"
     ]
    },
    {
     "name": "stderr",
     "output_type": "stream",
     "text": [
      "INFO - Motor 2: movement ceased. Continuing with command buffer.\n",
      "\n",
      "INFO - Channel: 1 position: 93.33984375\n",
      "INFO - Response: ''\n",
      "\n",
      "INFO - Sending next command(360): '2PR9\\r\\n'\n"
     ]
    },
    {
     "name": "stdout",
     "output_type": "stream",
     "text": [
      "780\n",
      "1\n"
     ]
    },
    {
     "name": "stderr",
     "output_type": "stream",
     "text": [
      "INFO - Motor 2: movement ceased. Continuing with command buffer.\n",
      "\n",
      "INFO - Channel: 1 position: 93.515625\n",
      "INFO - Response: ''\n",
      "\n",
      "INFO - Sending next command(361): '2PR6\\r\\n'\n"
     ]
    },
    {
     "name": "stdout",
     "output_type": "stream",
     "text": [
      "780\n",
      "1\n"
     ]
    },
    {
     "name": "stderr",
     "output_type": "stream",
     "text": [
      "INFO - Motor 2: movement ceased. Continuing with command buffer.\n",
      "\n",
      "INFO - Channel: 1 position: 93.6474609375\n",
      "INFO - Response: ''\n",
      "\n",
      "INFO - Sending next command(362): '2PR5\\r\\n'\n"
     ]
    },
    {
     "name": "stdout",
     "output_type": "stream",
     "text": [
      "780\n",
      "1\n"
     ]
    },
    {
     "name": "stderr",
     "output_type": "stream",
     "text": [
      "INFO - Motor 2: movement ceased. Continuing with command buffer.\n",
      "\n",
      "INFO - Channel: 1 position: 93.7353515625\n",
      "INFO - Response: ''\n",
      "\n",
      "INFO - Sending next command(363): '2PR4\\r\\n'\n"
     ]
    },
    {
     "name": "stdout",
     "output_type": "stream",
     "text": [
      "780\n",
      "1\n"
     ]
    },
    {
     "name": "stderr",
     "output_type": "stream",
     "text": [
      "INFO - Motor 2: movement ceased. Continuing with command buffer.\n",
      "\n",
      "INFO - Channel: 1 position: 93.8232421875\n",
      "INFO - Response: ''\n",
      "\n",
      "INFO - Sending next command(364): '2PR2\\r\\n'\n"
     ]
    },
    {
     "name": "stdout",
     "output_type": "stream",
     "text": [
      "780\n",
      "1\n"
     ]
    },
    {
     "name": "stderr",
     "output_type": "stream",
     "text": [
      "INFO - Motor 2: movement ceased. Continuing with command buffer.\n",
      "\n",
      "INFO - Channel: 1 position: 93.8232421875\n",
      "INFO - Response: ''\n",
      "\n",
      "INFO - Sending next command(365): '2PR2\\r\\n'\n"
     ]
    },
    {
     "name": "stdout",
     "output_type": "stream",
     "text": [
      "780\n",
      "1\n"
     ]
    },
    {
     "name": "stderr",
     "output_type": "stream",
     "text": [
      "INFO - Motor 2: movement ceased. Continuing with command buffer.\n",
      "\n",
      "INFO - Channel: 1 position: 93.8671875\n",
      "INFO - Response: ''\n",
      "\n",
      "INFO - Sending next command(366): '2PR2\\r\\n'\n"
     ]
    },
    {
     "name": "stdout",
     "output_type": "stream",
     "text": [
      "780\n",
      "1\n"
     ]
    },
    {
     "name": "stderr",
     "output_type": "stream",
     "text": [
      "INFO - Motor 2: movement ceased. Continuing with command buffer.\n",
      "\n",
      "INFO - Channel: 1 position: 93.9111328125\n",
      "INFO - Response: ''\n",
      "\n",
      "INFO - Sending next command(367): '2PR1\\r\\n'\n"
     ]
    },
    {
     "name": "stdout",
     "output_type": "stream",
     "text": [
      "780\n",
      "1\n"
     ]
    },
    {
     "name": "stderr",
     "output_type": "stream",
     "text": [
      "INFO - Motor 2: movement ceased. Continuing with command buffer.\n",
      "\n",
      "INFO - Channel: 1 position: 93.9111328125\n",
      "INFO - Response: ''\n",
      "\n",
      "INFO - Sending next command(368): '2PR1\\r\\n'\n"
     ]
    },
    {
     "name": "stdout",
     "output_type": "stream",
     "text": [
      "780\n",
      "1\n"
     ]
    },
    {
     "name": "stderr",
     "output_type": "stream",
     "text": [
      "INFO - Motor 2: movement ceased. Continuing with command buffer.\n",
      "\n",
      "INFO - Channel: 1 position: 93.955078125\n",
      "INFO - New motor position is 93.955078125 deg, error -0.044921875 deg.\n",
      "INFO - Channel: 1 position: 93.955078125\n",
      "INFO - Channel: 1 position: 93.955078125\n",
      "INFO - avg_steps: 4047.85351562\n",
      "INFO - Channel: 1 position: 93.955078125\n",
      "INFO - Response: ''\n",
      "\n",
      "INFO - Sending next command(369): '2PR2833\\r\\n'\n"
     ]
    },
    {
     "name": "stdout",
     "output_type": "stream",
     "text": [
      "780\n",
      "1\n",
      "780\n",
      "1\n",
      "780\n",
      "1\n",
      "780\n",
      "1\n"
     ]
    },
    {
     "name": "stderr",
     "output_type": "stream",
     "text": [
      "INFO - Motor 2: movement ceased. Continuing with command buffer.\n",
      "\n",
      "INFO - Channel: 1 position: 124.453125\n",
      "INFO - Response: ''\n",
      "\n",
      "INFO - Sending next command(370): '2PR2428\\r\\n'\n"
     ]
    },
    {
     "name": "stdout",
     "output_type": "stream",
     "text": [
      "780\n",
      "1\n"
     ]
    },
    {
     "name": "stderr",
     "output_type": "stream",
     "text": [
      "INFO - Motor 2: movement ceased. Continuing with command buffer.\n",
      "\n",
      "INFO - Channel: 1 position: 155.786132812\n",
      "INFO - Response: ''\n",
      "\n",
      "INFO - Sending next command(371): '2PR2011\\r\\n'\n"
     ]
    },
    {
     "name": "stdout",
     "output_type": "stream",
     "text": [
      "780\n",
      "1\n"
     ]
    },
    {
     "name": "stderr",
     "output_type": "stream",
     "text": [
      "INFO - Motor 2: movement ceased. Continuing with command buffer.\n",
      "\n",
      "INFO - Channel: 1 position: 190.634765625\n",
      "INFO - Response: ''\n",
      "\n",
      "INFO - Sending next command(372): '2PR1548\\r\\n'\n"
     ]
    },
    {
     "name": "stdout",
     "output_type": "stream",
     "text": [
      "780\n",
      "1\n"
     ]
    },
    {
     "name": "stderr",
     "output_type": "stream",
     "text": [
      "INFO - Motor 2: movement ceased. Continuing with command buffer.\n",
      "\n",
      "INFO - Channel: 1 position: 217.397460938\n",
      "INFO - Response: ''\n",
      "\n",
      "INFO - Sending next command(373): '2PR1192\\r\\n'\n"
     ]
    },
    {
     "name": "stdout",
     "output_type": "stream",
     "text": [
      "780\n",
      "1\n"
     ]
    },
    {
     "name": "stderr",
     "output_type": "stream",
     "text": [
      "INFO - Motor 2: movement ceased. Continuing with command buffer.\n",
      "\n",
      "INFO - Channel: 1 position: 240.556640625\n",
      "INFO - Response: ''\n",
      "\n",
      "INFO - Sending next command(374): '2PR884\\r\\n'\n"
     ]
    },
    {
     "name": "stdout",
     "output_type": "stream",
     "text": [
      "780\n",
      "1\n"
     ]
    },
    {
     "name": "stderr",
     "output_type": "stream",
     "text": [
      "INFO - Motor 2: movement ceased. Continuing with command buffer.\n",
      "\n",
      "INFO - Channel: 1 position: 257.651367188\n",
      "INFO - Response: ''\n",
      "\n",
      "INFO - Sending next command(375): '2PR656\\r\\n'\n"
     ]
    },
    {
     "name": "stdout",
     "output_type": "stream",
     "text": [
      "780\n",
      "1\n"
     ]
    },
    {
     "name": "stderr",
     "output_type": "stream",
     "text": [
      "INFO - Motor 2: movement ceased. Continuing with command buffer.\n",
      "\n",
      "INFO - Channel: 1 position: 269.692382812\n",
      "INFO - Response: ''\n",
      "\n",
      "INFO - Sending next command(376): '2PR496\\r\\n'\n"
     ]
    },
    {
     "name": "stdout",
     "output_type": "stream",
     "text": [
      "780\n",
      "1\n"
     ]
    },
    {
     "name": "stderr",
     "output_type": "stream",
     "text": [
      "INFO - Motor 2: movement ceased. Continuing with command buffer.\n",
      "\n",
      "INFO - Channel: 1 position: 278.349609375\n",
      "INFO - Response: ''\n",
      "\n",
      "INFO - Sending next command(377): '2PR381\\r\\n'\n"
     ]
    },
    {
     "name": "stdout",
     "output_type": "stream",
     "text": [
      "780\n",
      "1\n"
     ]
    },
    {
     "name": "stderr",
     "output_type": "stream",
     "text": [
      "INFO - Motor 2: movement ceased. Continuing with command buffer.\n",
      "\n",
      "INFO - Channel: 1 position: 284.721679688\n",
      "INFO - Response: ''\n",
      "\n",
      "INFO - Sending next command(378): '2PR296\\r\\n'\n"
     ]
    },
    {
     "name": "stdout",
     "output_type": "stream",
     "text": [
      "780\n",
      "1\n"
     ]
    },
    {
     "name": "stderr",
     "output_type": "stream",
     "text": [
      "INFO - Motor 2: movement ceased. Continuing with command buffer.\n",
      "\n",
      "INFO - Channel: 1 position: 289.51171875\n",
      "INFO - Response: ''\n",
      "\n",
      "INFO - Sending next command(379): '2PR233\\r\\n'\n"
     ]
    },
    {
     "name": "stdout",
     "output_type": "stream",
     "text": [
      "780\n",
      "1\n"
     ]
    },
    {
     "name": "stderr",
     "output_type": "stream",
     "text": [
      "INFO - Motor 2: movement ceased. Continuing with command buffer.\n",
      "\n",
      "INFO - Channel: 1 position: 293.334960938\n",
      "INFO - Response: ''\n",
      "\n",
      "INFO - Sending next command(380): '2PR182\\r\\n'\n"
     ]
    },
    {
     "name": "stdout",
     "output_type": "stream",
     "text": [
      "780\n",
      "1\n"
     ]
    },
    {
     "name": "stderr",
     "output_type": "stream",
     "text": [
      "INFO - Motor 2: movement ceased. Continuing with command buffer.\n",
      "\n",
      "INFO - Channel: 1 position: 296.3671875\n",
      "INFO - Response: ''\n",
      "\n",
      "INFO - Sending next command(381): '2PR141\\r\\n'\n"
     ]
    },
    {
     "name": "stdout",
     "output_type": "stream",
     "text": [
      "780\n",
      "1\n"
     ]
    },
    {
     "name": "stderr",
     "output_type": "stream",
     "text": [
      "INFO - Motor 2: movement ceased. Continuing with command buffer.\n",
      "\n",
      "INFO - Channel: 1 position: 298.740234375\n",
      "INFO - Response: ''\n",
      "\n",
      "INFO - Sending next command(382): '2PR110\\r\\n'\n"
     ]
    },
    {
     "name": "stdout",
     "output_type": "stream",
     "text": [
      "780\n",
      "1\n"
     ]
    },
    {
     "name": "stderr",
     "output_type": "stream",
     "text": [
      "INFO - Motor 2: movement ceased. Continuing with command buffer.\n",
      "\n",
      "INFO - Channel: 1 position: 300.673828125\n",
      "INFO - Response: ''\n",
      "\n",
      "INFO - Sending next command(383): '2PR84\\r\\n'\n"
     ]
    },
    {
     "name": "stdout",
     "output_type": "stream",
     "text": [
      "780\n",
      "1\n"
     ]
    },
    {
     "name": "stderr",
     "output_type": "stream",
     "text": [
      "INFO - Motor 2: movement ceased. Continuing with command buffer.\n",
      "\n",
      "INFO - Channel: 1 position: 302.211914062\n",
      "INFO - Response: ''\n",
      "\n",
      "INFO - Sending next command(384): '2PR64\\r\\n'\n"
     ]
    },
    {
     "name": "stdout",
     "output_type": "stream",
     "text": [
      "780\n",
      "1\n"
     ]
    },
    {
     "name": "stderr",
     "output_type": "stream",
     "text": [
      "INFO - Motor 2: movement ceased. Continuing with command buffer.\n",
      "\n",
      "INFO - Channel: 1 position: 303.486328125\n",
      "INFO - Response: ''\n",
      "\n",
      "INFO - Sending next command(385): '2PR47\\r\\n'\n"
     ]
    },
    {
     "name": "stdout",
     "output_type": "stream",
     "text": [
      "780\n",
      "1\n"
     ]
    },
    {
     "name": "stderr",
     "output_type": "stream",
     "text": [
      "INFO - Motor 2: movement ceased. Continuing with command buffer.\n",
      "\n",
      "INFO - Channel: 1 position: 304.497070312\n",
      "INFO - Response: ''\n",
      "\n",
      "INFO - Sending next command(386): '2PR33\\r\\n'\n"
     ]
    },
    {
     "name": "stdout",
     "output_type": "stream",
     "text": [
      "780\n",
      "1\n"
     ]
    },
    {
     "name": "stderr",
     "output_type": "stream",
     "text": [
      "INFO - Motor 2: movement ceased. Continuing with command buffer.\n",
      "\n",
      "INFO - Channel: 1 position: 305.288085938\n",
      "INFO - Response: ''\n",
      "\n",
      "INFO - Sending next command(387): '2PR23\\r\\n'\n"
     ]
    },
    {
     "name": "stdout",
     "output_type": "stream",
     "text": [
      "780\n",
      "1\n"
     ]
    },
    {
     "name": "stderr",
     "output_type": "stream",
     "text": [
      "INFO - Motor 2: movement ceased. Continuing with command buffer.\n",
      "\n",
      "INFO - Channel: 1 position: 305.859375\n",
      "INFO - Response: ''\n",
      "\n",
      "INFO - Sending next command(388): '2PR15\\r\\n'\n"
     ]
    },
    {
     "name": "stdout",
     "output_type": "stream",
     "text": [
      "780\n",
      "1\n"
     ]
    },
    {
     "name": "stderr",
     "output_type": "stream",
     "text": [
      "INFO - Motor 2: movement ceased. Continuing with command buffer.\n",
      "\n",
      "INFO - Channel: 1 position: 306.254882812\n",
      "ERROR - Current position 306.254882812 deg. Setpoint not achieved by -0.7451171875 deg after max iterations.\n",
      "INFO - Channel: 1 position: 306.254882812\n",
      "INFO - Channel: 1 position: 306.254882812\n",
      "INFO - avg_steps: -1391.84277344\n",
      "INFO - Need to go negative. Current position 306.254882812 DEG. Setpoint 233 DEG. Steps to be taken: -2392\n",
      "INFO - Response: ''\n",
      "\n",
      "INFO - Sending next command(389): '2PR-2392\\r\\n'\n"
     ]
    },
    {
     "name": "stdout",
     "output_type": "stream",
     "text": [
      "780\n",
      "1\n",
      "780\n",
      "1\n",
      "780\n",
      "1\n"
     ]
    },
    {
     "name": "stderr",
     "output_type": "stream",
     "text": [
      "INFO - Motor 2: movement ceased. Continuing with command buffer.\n",
      "\n",
      "INFO - Channel: 1 position: 179.077148438\n",
      "INFO - Response: ''\n",
      "\n",
      "INFO - Sending next command(390): '2PR717\\r\\n'\n"
     ]
    },
    {
     "name": "stdout",
     "output_type": "stream",
     "text": [
      "780\n",
      "1\n"
     ]
    },
    {
     "name": "stderr",
     "output_type": "stream",
     "text": [
      "INFO - Motor 2: movement ceased. Continuing with command buffer.\n",
      "\n",
      "INFO - Channel: 1 position: 206.3671875\n",
      "INFO - Response: ''\n",
      "\n",
      "INFO - Sending next command(391): '2PR354\\r\\n'\n"
     ]
    },
    {
     "name": "stdout",
     "output_type": "stream",
     "text": [
      "780\n",
      "1\n"
     ]
    },
    {
     "name": "stderr",
     "output_type": "stream",
     "text": [
      "INFO - Motor 2: movement ceased. Continuing with command buffer.\n",
      "\n",
      "INFO - Channel: 1 position: 215.419921875\n",
      "INFO - Response: ''\n",
      "\n",
      "INFO - Sending next command(392): '2PR234\\r\\n'\n"
     ]
    },
    {
     "name": "stdout",
     "output_type": "stream",
     "text": [
      "780\n",
      "1\n"
     ]
    },
    {
     "name": "stderr",
     "output_type": "stream",
     "text": [
      "INFO - Motor 2: movement ceased. Continuing with command buffer.\n",
      "\n",
      "INFO - Channel: 1 position: 220.913085938\n",
      "INFO - Response: ''\n",
      "\n",
      "INFO - Sending next command(393): '2PR161\\r\\n'\n"
     ]
    },
    {
     "name": "stdout",
     "output_type": "stream",
     "text": [
      "780\n",
      "1\n"
     ]
    },
    {
     "name": "stderr",
     "output_type": "stream",
     "text": [
      "INFO - Motor 2: movement ceased. Continuing with command buffer.\n",
      "\n",
      "INFO - Channel: 1 position: 224.47265625\n",
      "INFO - Response: ''\n",
      "\n",
      "INFO - Sending next command(394): '2PR113\\r\\n'\n"
     ]
    },
    {
     "name": "stdout",
     "output_type": "stream",
     "text": [
      "780\n",
      "1\n"
     ]
    },
    {
     "name": "stderr",
     "output_type": "stream",
     "text": [
      "INFO - Motor 2: movement ceased. Continuing with command buffer.\n",
      "\n",
      "INFO - Channel: 1 position: 227.065429688\n",
      "INFO - Response: ''\n",
      "\n",
      "INFO - Sending next command(395): '2PR79\\r\\n'\n"
     ]
    },
    {
     "name": "stdout",
     "output_type": "stream",
     "text": [
      "780\n",
      "1\n"
     ]
    },
    {
     "name": "stderr",
     "output_type": "stream",
     "text": [
      "INFO - Motor 2: movement ceased. Continuing with command buffer.\n",
      "\n",
      "INFO - Channel: 1 position: 228.955078125\n",
      "INFO - Response: ''\n",
      "\n",
      "INFO - Sending next command(396): '2PR54\\r\\n'\n"
     ]
    },
    {
     "name": "stdout",
     "output_type": "stream",
     "text": [
      "780\n",
      "1\n"
     ]
    },
    {
     "name": "stderr",
     "output_type": "stream",
     "text": [
      "INFO - Motor 2: movement ceased. Continuing with command buffer.\n",
      "\n",
      "INFO - Channel: 1 position: 230.2734375\n",
      "INFO - Response: ''\n",
      "\n",
      "INFO - Sending next command(397): '2PR36\\r\\n'\n"
     ]
    },
    {
     "name": "stdout",
     "output_type": "stream",
     "text": [
      "780\n",
      "1\n"
     ]
    },
    {
     "name": "stderr",
     "output_type": "stream",
     "text": [
      "INFO - Motor 2: movement ceased. Continuing with command buffer.\n",
      "\n",
      "INFO - Channel: 1 position: 231.284179688\n",
      "INFO - Response: ''\n",
      "\n",
      "INFO - Sending next command(398): '2PR23\\r\\n'\n"
     ]
    },
    {
     "name": "stdout",
     "output_type": "stream",
     "text": [
      "780\n",
      "1\n"
     ]
    },
    {
     "name": "stderr",
     "output_type": "stream",
     "text": [
      "INFO - Motor 2: movement ceased. Continuing with command buffer.\n",
      "\n",
      "INFO - Channel: 1 position: 231.943359375\n",
      "INFO - Response: ''\n",
      "\n",
      "INFO - Sending next command(399): '2PR14\\r\\n'\n"
     ]
    },
    {
     "name": "stdout",
     "output_type": "stream",
     "text": [
      "780\n",
      "1\n"
     ]
    },
    {
     "name": "stderr",
     "output_type": "stream",
     "text": [
      "INFO - Motor 2: movement ceased. Continuing with command buffer.\n",
      "\n",
      "INFO - Channel: 1 position: 232.3828125\n",
      "INFO - Response: ''\n",
      "\n",
      "INFO - Sending next command(400): '2PR8\\r\\n'\n"
     ]
    },
    {
     "name": "stdout",
     "output_type": "stream",
     "text": [
      "780\n",
      "1\n"
     ]
    },
    {
     "name": "stderr",
     "output_type": "stream",
     "text": [
      "INFO - Motor 2: movement ceased. Continuing with command buffer.\n",
      "\n",
      "INFO - Channel: 1 position: 232.602539062\n",
      "INFO - Response: ''\n",
      "\n",
      "INFO - Sending next command(401): '2PR5\\r\\n'\n"
     ]
    },
    {
     "name": "stdout",
     "output_type": "stream",
     "text": [
      "780\n",
      "1\n"
     ]
    },
    {
     "name": "stderr",
     "output_type": "stream",
     "text": [
      "INFO - Motor 2: movement ceased. Continuing with command buffer.\n",
      "\n",
      "INFO - Channel: 1 position: 232.734375\n",
      "INFO - Response: ''\n",
      "\n",
      "INFO - Sending next command(402): '2PR4\\r\\n'\n"
     ]
    },
    {
     "name": "stdout",
     "output_type": "stream",
     "text": [
      "780\n",
      "1\n"
     ]
    },
    {
     "name": "stderr",
     "output_type": "stream",
     "text": [
      "INFO - Motor 2: movement ceased. Continuing with command buffer.\n",
      "\n",
      "INFO - Channel: 1 position: 232.866210938\n",
      "INFO - Response: ''\n",
      "\n",
      "INFO - Sending next command(403): '2PR2\\r\\n'\n"
     ]
    },
    {
     "name": "stdout",
     "output_type": "stream",
     "text": [
      "780\n",
      "1\n"
     ]
    },
    {
     "name": "stderr",
     "output_type": "stream",
     "text": [
      "INFO - Motor 2: movement ceased. Continuing with command buffer.\n",
      "\n",
      "INFO - Channel: 1 position: 232.91015625\n",
      "INFO - Response: ''\n",
      "\n",
      "INFO - Sending next command(404): '2PR1\\r\\n'\n"
     ]
    },
    {
     "name": "stdout",
     "output_type": "stream",
     "text": [
      "780\n",
      "1\n"
     ]
    },
    {
     "name": "stderr",
     "output_type": "stream",
     "text": [
      "INFO - Motor 2: movement ceased. Continuing with command buffer.\n",
      "\n",
      "INFO - Channel: 1 position: 232.954101562\n",
      "INFO - Response: ''\n",
      "\n",
      "INFO - Sending next command(405): '2PR1\\r\\n'\n"
     ]
    },
    {
     "name": "stdout",
     "output_type": "stream",
     "text": [
      "780\n",
      "1\n"
     ]
    },
    {
     "name": "stderr",
     "output_type": "stream",
     "text": [
      "INFO - Motor 2: movement ceased. Continuing with command buffer.\n",
      "\n",
      "INFO - Channel: 1 position: 232.954101562\n",
      "INFO - Response: ''\n",
      "\n",
      "INFO - Sending next command(406): '2PR1\\r\\n'\n"
     ]
    },
    {
     "name": "stdout",
     "output_type": "stream",
     "text": [
      "780\n",
      "1\n"
     ]
    },
    {
     "name": "stderr",
     "output_type": "stream",
     "text": [
      "INFO - Motor 2: movement ceased. Continuing with command buffer.\n",
      "\n",
      "INFO - Channel: 1 position: 232.998046875\n",
      "INFO - New motor position is 232.998046875 deg, error -0.001953125 deg.\n",
      "INFO - Channel: 1 position: 232.998046875\n",
      "INFO - Channel: 1 position: 232.998046875\n",
      "INFO - avg_steps: -2127.96289062\n",
      "INFO - Need to go negative. Current position 232.998046875 DEG. Setpoint 121 DEG. Steps to be taken: -3128\n",
      "INFO - Response: ''\n",
      "\n",
      "INFO - Sending next command(407): '2PR-3128\\r\\n'\n"
     ]
    },
    {
     "name": "stdout",
     "output_type": "stream",
     "text": [
      "780\n",
      "1\n",
      "780\n",
      "1\n",
      "780\n",
      "1\n"
     ]
    },
    {
     "name": "stderr",
     "output_type": "stream",
     "text": [
      "INFO - Motor 2: movement ceased. Continuing with command buffer.\n",
      "\n",
      "INFO - Channel: 1 position: 71.5869140625\n",
      "INFO - Response: ''\n",
      "\n",
      "INFO - Sending next command(408): '2PR657\\r\\n'\n"
     ]
    },
    {
     "name": "stdout",
     "output_type": "stream",
     "text": [
      "780\n",
      "1\n"
     ]
    },
    {
     "name": "stderr",
     "output_type": "stream",
     "text": [
      "INFO - Motor 2: movement ceased. Continuing with command buffer.\n",
      "\n",
      "INFO - Channel: 1 position: 97.2509765625\n",
      "INFO - Response: ''\n",
      "\n",
      "INFO - Sending next command(409): '2PR316\\r\\n'\n"
     ]
    },
    {
     "name": "stdout",
     "output_type": "stream",
     "text": [
      "780\n",
      "1\n"
     ]
    },
    {
     "name": "stderr",
     "output_type": "stream",
     "text": [
      "INFO - Motor 2: movement ceased. Continuing with command buffer.\n",
      "\n",
      "INFO - Channel: 1 position: 104.985351562\n",
      "INFO - Response: ''\n",
      "\n",
      "INFO - Sending next command(410): '2PR213\\r\\n'\n"
     ]
    },
    {
     "name": "stdout",
     "output_type": "stream",
     "text": [
      "780\n",
      "1\n"
     ]
    },
    {
     "name": "stderr",
     "output_type": "stream",
     "text": [
      "INFO - Motor 2: movement ceased. Continuing with command buffer.\n",
      "\n",
      "INFO - Channel: 1 position: 109.248046875\n",
      "INFO - Response: ''\n",
      "\n",
      "INFO - Sending next command(411): '2PR156\\r\\n'\n"
     ]
    },
    {
     "name": "stdout",
     "output_type": "stream",
     "text": [
      "780\n",
      "1\n"
     ]
    },
    {
     "name": "stderr",
     "output_type": "stream",
     "text": [
      "INFO - Motor 2: movement ceased. Continuing with command buffer.\n",
      "\n",
      "INFO - Channel: 1 position: 112.104492188\n",
      "INFO - Response: ''\n",
      "\n",
      "INFO - Sending next command(412): '2PR118\\r\\n'\n"
     ]
    },
    {
     "name": "stdout",
     "output_type": "stream",
     "text": [
      "780\n",
      "1\n"
     ]
    },
    {
     "name": "stderr",
     "output_type": "stream",
     "text": [
      "INFO - Motor 2: movement ceased. Continuing with command buffer.\n",
      "\n",
      "INFO - Channel: 1 position: 114.038085938\n",
      "INFO - Response: ''\n",
      "\n",
      "INFO - Sending next command(413): '2PR93\\r\\n'\n"
     ]
    },
    {
     "name": "stdout",
     "output_type": "stream",
     "text": [
      "780\n",
      "1\n"
     ]
    },
    {
     "name": "stderr",
     "output_type": "stream",
     "text": [
      "INFO - Motor 2: movement ceased. Continuing with command buffer.\n",
      "\n",
      "INFO - Channel: 1 position: 115.400390625\n",
      "INFO - Response: ''\n",
      "\n",
      "INFO - Sending next command(414): '2PR74\\r\\n'\n"
     ]
    },
    {
     "name": "stdout",
     "output_type": "stream",
     "text": [
      "780\n",
      "1\n"
     ]
    },
    {
     "name": "stderr",
     "output_type": "stream",
     "text": [
      "INFO - Motor 2: movement ceased. Continuing with command buffer.\n",
      "\n",
      "INFO - Channel: 1 position: 116.455078125\n",
      "INFO - Response: ''\n",
      "\n",
      "INFO - Sending next command(415): '2PR60\\r\\n'\n"
     ]
    },
    {
     "name": "stdout",
     "output_type": "stream",
     "text": [
      "780\n",
      "1\n"
     ]
    },
    {
     "name": "stderr",
     "output_type": "stream",
     "text": [
      "INFO - Motor 2: movement ceased. Continuing with command buffer.\n",
      "\n",
      "INFO - Channel: 1 position: 117.333984375\n",
      "INFO - Response: ''\n",
      "\n",
      "INFO - Sending next command(416): '2PR49\\r\\n'\n"
     ]
    },
    {
     "name": "stdout",
     "output_type": "stream",
     "text": [
      "780\n",
      "1\n"
     ]
    },
    {
     "name": "stderr",
     "output_type": "stream",
     "text": [
      "INFO - Motor 2: movement ceased. Continuing with command buffer.\n",
      "\n",
      "INFO - Channel: 1 position: 117.993164062\n",
      "INFO - Response: ''\n",
      "\n",
      "INFO - Sending next command(417): '2PR40\\r\\n'\n"
     ]
    },
    {
     "name": "stdout",
     "output_type": "stream",
     "text": [
      "780\n",
      "1\n"
     ]
    },
    {
     "name": "stderr",
     "output_type": "stream",
     "text": [
      "INFO - Motor 2: movement ceased. Continuing with command buffer.\n",
      "\n",
      "INFO - Channel: 1 position: 118.65234375\n",
      "INFO - Response: ''\n",
      "\n",
      "INFO - Sending next command(418): '2PR31\\r\\n'\n"
     ]
    },
    {
     "name": "stdout",
     "output_type": "stream",
     "text": [
      "780\n",
      "1\n"
     ]
    },
    {
     "name": "stderr",
     "output_type": "stream",
     "text": [
      "INFO - Motor 2: movement ceased. Continuing with command buffer.\n",
      "\n",
      "INFO - Channel: 1 position: 119.1796875\n",
      "INFO - Response: ''\n",
      "\n",
      "INFO - Sending next command(419): '2PR24\\r\\n'\n"
     ]
    },
    {
     "name": "stdout",
     "output_type": "stream",
     "text": [
      "780\n",
      "1\n"
     ]
    },
    {
     "name": "stderr",
     "output_type": "stream",
     "text": [
      "INFO - Motor 2: movement ceased. Continuing with command buffer.\n",
      "\n",
      "INFO - Channel: 1 position: 119.575195312\n",
      "INFO - Response: ''\n",
      "\n",
      "INFO - Sending next command(420): '2PR19\\r\\n'\n"
     ]
    },
    {
     "name": "stdout",
     "output_type": "stream",
     "text": [
      "780\n",
      "1\n"
     ]
    },
    {
     "name": "stderr",
     "output_type": "stream",
     "text": [
      "INFO - Motor 2: movement ceased. Continuing with command buffer.\n",
      "\n",
      "INFO - Channel: 1 position: 119.8828125\n",
      "INFO - Response: ''\n",
      "\n",
      "INFO - Sending next command(421): '2PR15\\r\\n'\n"
     ]
    },
    {
     "name": "stdout",
     "output_type": "stream",
     "text": [
      "780\n",
      "1\n"
     ]
    },
    {
     "name": "stderr",
     "output_type": "stream",
     "text": [
      "INFO - Motor 2: movement ceased. Continuing with command buffer.\n",
      "\n",
      "INFO - Channel: 1 position: 120.102539062\n",
      "INFO - Response: ''\n",
      "\n",
      "INFO - Sending next command(422): '2PR12\\r\\n'\n"
     ]
    },
    {
     "name": "stdout",
     "output_type": "stream",
     "text": [
      "780\n",
      "1\n"
     ]
    },
    {
     "name": "stderr",
     "output_type": "stream",
     "text": [
      "INFO - Motor 2: movement ceased. Continuing with command buffer.\n",
      "\n",
      "INFO - Channel: 1 position: 120.322265625\n",
      "INFO - Response: ''\n",
      "\n",
      "INFO - Sending next command(423): '2PR9\\r\\n'\n"
     ]
    },
    {
     "name": "stdout",
     "output_type": "stream",
     "text": [
      "780\n",
      "1\n"
     ]
    },
    {
     "name": "stderr",
     "output_type": "stream",
     "text": [
      "INFO - Motor 2: movement ceased. Continuing with command buffer.\n",
      "\n",
      "INFO - Channel: 1 position: 120.454101562\n",
      "INFO - Response: ''\n",
      "\n",
      "INFO - Sending next command(424): '2PR7\\r\\n'\n"
     ]
    },
    {
     "name": "stdout",
     "output_type": "stream",
     "text": [
      "780\n",
      "1\n"
     ]
    },
    {
     "name": "stderr",
     "output_type": "stream",
     "text": [
      "INFO - Motor 2: movement ceased. Continuing with command buffer.\n",
      "\n",
      "INFO - Channel: 1 position: 120.541992188\n",
      "INFO - Response: ''\n",
      "\n",
      "INFO - Sending next command(425): '2PR6\\r\\n'\n"
     ]
    },
    {
     "name": "stdout",
     "output_type": "stream",
     "text": [
      "780\n",
      "1\n"
     ]
    },
    {
     "name": "stderr",
     "output_type": "stream",
     "text": [
      "INFO - Motor 2: movement ceased. Continuing with command buffer.\n",
      "\n",
      "INFO - Channel: 1 position: 120.629882812\n",
      "INFO - Response: ''\n",
      "\n",
      "INFO - Sending next command(426): '2PR5\\r\\n'\n"
     ]
    },
    {
     "name": "stdout",
     "output_type": "stream",
     "text": [
      "780\n",
      "1\n"
     ]
    },
    {
     "name": "stderr",
     "output_type": "stream",
     "text": [
      "INFO - Motor 2: movement ceased. Continuing with command buffer.\n",
      "\n",
      "INFO - Channel: 1 position: 120.717773438\n",
      "INFO - Response: ''\n",
      "\n",
      "INFO - Sending next command(427): '2PR4\\r\\n'\n"
     ]
    },
    {
     "name": "stdout",
     "output_type": "stream",
     "text": [
      "780\n",
      "1\n"
     ]
    },
    {
     "name": "stderr",
     "output_type": "stream",
     "text": [
      "INFO - Motor 2: movement ceased. Continuing with command buffer.\n",
      "\n",
      "INFO - Channel: 1 position: 120.76171875\n",
      "ERROR - Current position 120.76171875 deg. Setpoint not achieved by -0.23828125 deg after max iterations.\n",
      "INFO - Channel: 1 position: 120.76171875\n",
      "INFO - Channel: 1 position: 120.76171875\n",
      "INFO - avg_steps: 5571.52734375\n",
      "INFO - Channel: 1 position: 120.76171875\n",
      "INFO - Response: ''\n",
      "\n",
      "INFO - Sending next command(428): '2PR3900\\r\\n'\n"
     ]
    },
    {
     "name": "stdout",
     "output_type": "stream",
     "text": [
      "780\n",
      "1\n",
      "780\n",
      "1\n",
      "780\n",
      "1\n",
      "780\n",
      "1\n"
     ]
    },
    {
     "name": "stderr",
     "output_type": "stream",
     "text": [
      "INFO - Motor 2: movement ceased. Continuing with command buffer.\n",
      "\n",
      "INFO - Channel: 1 position: 176.000976562\n",
      "INFO - Response: ''\n",
      "\n",
      "INFO - Sending next command(429): '2PR3165\\r\\n'\n"
     ]
    },
    {
     "name": "stdout",
     "output_type": "stream",
     "text": [
      "780\n",
      "1\n"
     ]
    },
    {
     "name": "stderr",
     "output_type": "stream",
     "text": [
      "INFO - Motor 2: movement ceased. Continuing with command buffer.\n",
      "\n",
      "INFO - Channel: 1 position: 224.340820312\n",
      "INFO - Response: ''\n",
      "\n",
      "INFO - Sending next command(430): '2PR2522\\r\\n'\n"
     ]
    },
    {
     "name": "stdout",
     "output_type": "stream",
     "text": [
      "780\n",
      "1\n"
     ]
    },
    {
     "name": "stderr",
     "output_type": "stream",
     "text": [
      "INFO - Motor 2: movement ceased. Continuing with command buffer.\n",
      "\n",
      "INFO - Channel: 1 position: 265.913085938\n",
      "INFO - Response: ''\n",
      "\n",
      "INFO - Sending next command(431): '2PR1970\\r\\n'\n"
     ]
    },
    {
     "name": "stdout",
     "output_type": "stream",
     "text": [
      "780\n",
      "1\n"
     ]
    },
    {
     "name": "stderr",
     "output_type": "stream",
     "text": [
      "INFO - Motor 2: movement ceased. Continuing with command buffer.\n",
      "\n",
      "INFO - Channel: 1 position: 293.203125\n",
      "INFO - Response: ''\n",
      "\n",
      "INFO - Sending next command(432): '2PR1607\\r\\n'\n"
     ]
    },
    {
     "name": "stdout",
     "output_type": "stream",
     "text": [
      "780\n",
      "1\n"
     ]
    },
    {
     "name": "stderr",
     "output_type": "stream",
     "text": [
      "INFO - Motor 2: movement ceased. Continuing with command buffer.\n",
      "\n",
      "INFO - Channel: 1 position: 314.384765625\n",
      "INFO - Response: ''\n",
      "\n",
      "INFO - Sending next command(433): '2PR1325\\r\\n'\n"
     ]
    },
    {
     "name": "stdout",
     "output_type": "stream",
     "text": [
      "780\n",
      "1\n"
     ]
    },
    {
     "name": "stderr",
     "output_type": "stream",
     "text": [
      "INFO - Motor 2: movement ceased. Continuing with command buffer.\n",
      "\n",
      "INFO - Channel: 1 position: 329.985351562\n",
      "INFO - Response: ''\n",
      "\n",
      "INFO - Sending next command(434): '2PR1117\\r\\n'\n"
     ]
    },
    {
     "name": "stdout",
     "output_type": "stream",
     "text": [
      "780\n",
      "1\n"
     ]
    },
    {
     "name": "stderr",
     "output_type": "stream",
     "text": [
      "INFO - Motor 2: movement ceased. Continuing with command buffer.\n",
      "\n",
      "INFO - Channel: 1 position: 347.255859375\n",
      "INFO - Response: ''\n",
      "\n",
      "INFO - Sending next command(435): '2PR888\\r\\n'\n"
     ]
    },
    {
     "name": "stdout",
     "output_type": "stream",
     "text": [
      "780\n",
      "1\n"
     ]
    },
    {
     "name": "stderr",
     "output_type": "stream",
     "text": [
      "INFO - Motor 2: movement ceased. Continuing with command buffer.\n",
      "\n",
      "INFO - Channel: 1 position: 362.329101562\n",
      "INFO - Response: ''\n",
      "\n",
      "INFO - Sending next command(436): '2PR687\\r\\n'\n"
     ]
    },
    {
     "name": "stdout",
     "output_type": "stream",
     "text": [
      "780\n",
      "1\n"
     ]
    },
    {
     "name": "stderr",
     "output_type": "stream",
     "text": [
      "INFO - Motor 2: movement ceased. Continuing with command buffer.\n",
      "\n",
      "INFO - Channel: 1 position: 375.249023438\n",
      "INFO - Response: ''\n",
      "\n",
      "INFO - Sending next command(437): '2PR515\\r\\n'\n"
     ]
    },
    {
     "name": "stdout",
     "output_type": "stream",
     "text": [
      "780\n",
      "1\n"
     ]
    },
    {
     "name": "stderr",
     "output_type": "stream",
     "text": [
      "INFO - Motor 2: movement ceased. Continuing with command buffer.\n",
      "\n",
      "INFO - Channel: 1 position: 387.817382812\n",
      "INFO - Response: ''\n",
      "\n",
      "INFO - Sending next command(438): '2PR348\\r\\n'\n"
     ]
    },
    {
     "name": "stdout",
     "output_type": "stream",
     "text": [
      "780\n",
      "1\n"
     ]
    },
    {
     "name": "stderr",
     "output_type": "stream",
     "text": [
      "INFO - Motor 2: movement ceased. Continuing with command buffer.\n",
      "\n",
      "INFO - Channel: 1 position: 396.518554688\n",
      "INFO - Response: ''\n",
      "\n",
      "INFO - Sending next command(439): '2PR233\\r\\n'\n"
     ]
    },
    {
     "name": "stdout",
     "output_type": "stream",
     "text": [
      "780\n",
      "1\n"
     ]
    },
    {
     "name": "stderr",
     "output_type": "stream",
     "text": [
      "INFO - Motor 2: movement ceased. Continuing with command buffer.\n",
      "\n",
      "INFO - Channel: 1 position: 402.407226562\n",
      "INFO - Response: ''\n",
      "\n",
      "INFO - Sending next command(440): '2PR154\\r\\n'\n"
     ]
    },
    {
     "name": "stdout",
     "output_type": "stream",
     "text": [
      "780\n",
      "1\n"
     ]
    },
    {
     "name": "stderr",
     "output_type": "stream",
     "text": [
      "INFO - Motor 2: movement ceased. Continuing with command buffer.\n",
      "\n",
      "INFO - Channel: 1 position: 406.40625\n",
      "INFO - Response: ''\n",
      "\n",
      "INFO - Sending next command(441): '2PR101\\r\\n'\n"
     ]
    },
    {
     "name": "stdout",
     "output_type": "stream",
     "text": [
      "780\n",
      "1\n"
     ]
    },
    {
     "name": "stderr",
     "output_type": "stream",
     "text": [
      "INFO - Motor 2: movement ceased. Continuing with command buffer.\n",
      "\n",
      "INFO - Channel: 1 position: 409.130859375\n",
      "INFO - Response: ''\n",
      "\n",
      "INFO - Sending next command(442): '2PR65\\r\\n'\n"
     ]
    },
    {
     "name": "stdout",
     "output_type": "stream",
     "text": [
      "780\n",
      "1\n"
     ]
    },
    {
     "name": "stderr",
     "output_type": "stream",
     "text": [
      "INFO - Motor 2: movement ceased. Continuing with command buffer.\n",
      "\n",
      "INFO - Channel: 1 position: 410.9765625\n",
      "INFO - Response: ''\n",
      "\n",
      "INFO - Sending next command(443): '2PR40\\r\\n'\n"
     ]
    },
    {
     "name": "stdout",
     "output_type": "stream",
     "text": [
      "780\n",
      "1\n"
     ]
    },
    {
     "name": "stderr",
     "output_type": "stream",
     "text": [
      "INFO - Motor 2: movement ceased. Continuing with command buffer.\n",
      "\n",
      "INFO - Channel: 1 position: 412.163085938\n",
      "INFO - Response: ''\n",
      "\n",
      "INFO - Sending next command(444): '2PR24\\r\\n'\n"
     ]
    },
    {
     "name": "stdout",
     "output_type": "stream",
     "text": [
      "780\n",
      "1\n"
     ]
    },
    {
     "name": "stderr",
     "output_type": "stream",
     "text": [
      "INFO - Motor 2: movement ceased. Continuing with command buffer.\n",
      "\n",
      "INFO - Channel: 1 position: 412.998046875\n",
      "INFO - Response: ''\n",
      "\n",
      "INFO - Sending next command(445): '2PR13\\r\\n'\n"
     ]
    },
    {
     "name": "stdout",
     "output_type": "stream",
     "text": [
      "780\n",
      "1\n"
     ]
    },
    {
     "name": "stderr",
     "output_type": "stream",
     "text": [
      "INFO - Motor 2: movement ceased. Continuing with command buffer.\n",
      "\n",
      "INFO - Channel: 1 position: 413.4375\n",
      "INFO - Response: ''\n",
      "\n",
      "INFO - Sending next command(446): '2PR7\\r\\n'\n"
     ]
    },
    {
     "name": "stdout",
     "output_type": "stream",
     "text": [
      "780\n",
      "1\n"
     ]
    },
    {
     "name": "stderr",
     "output_type": "stream",
     "text": [
      "INFO - Motor 2: movement ceased. Continuing with command buffer.\n",
      "\n",
      "INFO - Channel: 1 position: 413.657226562\n",
      "INFO - Response: ''\n",
      "\n",
      "INFO - Sending next command(447): '2PR5\\r\\n'\n"
     ]
    },
    {
     "name": "stdout",
     "output_type": "stream",
     "text": [
      "780\n",
      "1\n"
     ]
    },
    {
     "name": "stderr",
     "output_type": "stream",
     "text": [
      "INFO - Motor 2: movement ceased. Continuing with command buffer.\n",
      "\n",
      "INFO - Channel: 1 position: 413.833007812\n",
      "ERROR - Current position 413.833007812 deg. Setpoint not achieved by -0.1669921875 deg after max iterations.\n",
      "INFO - Channel: 1 position: 413.833007812\n",
      "INFO - Channel: 1 position: 413.833007812\n",
      "INFO - avg_steps: -3948.82714844\n",
      "INFO - Need to go negative. Current position 413.833007812 DEG. Setpoint 206 DEG. Steps to be taken: -4949\n",
      "INFO - Response: ''\n",
      "\n",
      "INFO - Sending next command(448): '2PR-4949\\r\\n'\n"
     ]
    },
    {
     "name": "stdout",
     "output_type": "stream",
     "text": [
      "780\n",
      "1\n",
      "780\n",
      "1\n",
      "780\n",
      "1\n"
     ]
    },
    {
     "name": "stderr",
     "output_type": "stream",
     "text": [
      "INFO - Motor 2: movement ceased. Continuing with command buffer.\n",
      "\n",
      "INFO - Channel: 1 position: 151.567382812\n",
      "INFO - Response: ''\n",
      "\n",
      "INFO - Sending next command(449): '2PR724\\r\\n'\n"
     ]
    },
    {
     "name": "stdout",
     "output_type": "stream",
     "text": [
      "780\n",
      "1\n"
     ]
    },
    {
     "name": "stderr",
     "output_type": "stream",
     "text": [
      "INFO - Motor 2: movement ceased. Continuing with command buffer.\n",
      "\n",
      "INFO - Channel: 1 position: 180.131835938\n",
      "INFO - Response: ''\n",
      "\n",
      "INFO - Sending next command(450): '2PR344\\r\\n'\n"
     ]
    },
    {
     "name": "stdout",
     "output_type": "stream",
     "text": [
      "780\n",
      "1\n"
     ]
    },
    {
     "name": "stderr",
     "output_type": "stream",
     "text": [
      "INFO - Motor 2: movement ceased. Continuing with command buffer.\n",
      "\n",
      "INFO - Channel: 1 position: 189.008789062\n",
      "INFO - Response: ''\n",
      "\n",
      "INFO - Sending next command(451): '2PR226\\r\\n'\n"
     ]
    },
    {
     "name": "stdout",
     "output_type": "stream",
     "text": [
      "780\n",
      "1\n"
     ]
    },
    {
     "name": "stderr",
     "output_type": "stream",
     "text": [
      "INFO - Motor 2: movement ceased. Continuing with command buffer.\n",
      "\n",
      "INFO - Channel: 1 position: 193.798828125\n",
      "INFO - Response: ''\n",
      "\n",
      "INFO - Sending next command(452): '2PR162\\r\\n'\n"
     ]
    },
    {
     "name": "stdout",
     "output_type": "stream",
     "text": [
      "780\n",
      "1\n"
     ]
    },
    {
     "name": "stderr",
     "output_type": "stream",
     "text": [
      "INFO - Motor 2: movement ceased. Continuing with command buffer.\n",
      "\n",
      "INFO - Channel: 1 position: 197.094726562\n",
      "INFO - Response: ''\n",
      "\n",
      "INFO - Sending next command(453): '2PR118\\r\\n'\n"
     ]
    },
    {
     "name": "stdout",
     "output_type": "stream",
     "text": [
      "780\n",
      "1\n"
     ]
    },
    {
     "name": "stderr",
     "output_type": "stream",
     "text": [
      "INFO - Motor 2: movement ceased. Continuing with command buffer.\n",
      "\n",
      "INFO - Channel: 1 position: 199.643554688\n",
      "INFO - Response: ''\n",
      "\n",
      "INFO - Sending next command(454): '2PR85\\r\\n'\n"
     ]
    },
    {
     "name": "stdout",
     "output_type": "stream",
     "text": [
      "780\n",
      "1\n"
     ]
    },
    {
     "name": "stderr",
     "output_type": "stream",
     "text": [
      "INFO - Motor 2: movement ceased. Continuing with command buffer.\n",
      "\n",
      "INFO - Channel: 1 position: 201.489257812\n",
      "INFO - Response: ''\n",
      "\n",
      "INFO - Sending next command(455): '2PR60\\r\\n'\n"
     ]
    },
    {
     "name": "stdout",
     "output_type": "stream",
     "text": [
      "780\n",
      "1\n"
     ]
    },
    {
     "name": "stderr",
     "output_type": "stream",
     "text": [
      "INFO - Motor 2: movement ceased. Continuing with command buffer.\n",
      "\n",
      "INFO - Channel: 1 position: 202.8515625\n",
      "INFO - Response: ''\n",
      "\n",
      "INFO - Sending next command(456): '2PR42\\r\\n'\n"
     ]
    },
    {
     "name": "stdout",
     "output_type": "stream",
     "text": [
      "780\n",
      "1\n"
     ]
    },
    {
     "name": "stderr",
     "output_type": "stream",
     "text": [
      "INFO - Motor 2: movement ceased. Continuing with command buffer.\n",
      "\n",
      "INFO - Channel: 1 position: 203.862304688\n",
      "INFO - Response: ''\n",
      "\n",
      "INFO - Sending next command(457): '2PR28\\r\\n'\n"
     ]
    },
    {
     "name": "stdout",
     "output_type": "stream",
     "text": [
      "780\n",
      "1\n"
     ]
    },
    {
     "name": "stderr",
     "output_type": "stream",
     "text": [
      "INFO - Motor 2: movement ceased. Continuing with command buffer.\n",
      "\n",
      "INFO - Channel: 1 position: 204.609375\n",
      "INFO - Response: ''\n",
      "\n",
      "INFO - Sending next command(458): '2PR18\\r\\n'\n"
     ]
    },
    {
     "name": "stdout",
     "output_type": "stream",
     "text": [
      "780\n",
      "1\n"
     ]
    },
    {
     "name": "stderr",
     "output_type": "stream",
     "text": [
      "INFO - Motor 2: movement ceased. Continuing with command buffer.\n",
      "\n",
      "INFO - Channel: 1 position: 205.13671875\n",
      "INFO - Response: ''\n",
      "\n",
      "INFO - Sending next command(459): '2PR11\\r\\n'\n"
     ]
    },
    {
     "name": "stdout",
     "output_type": "stream",
     "text": [
      "780\n",
      "1\n"
     ]
    },
    {
     "name": "stderr",
     "output_type": "stream",
     "text": [
      "INFO - Motor 2: movement ceased. Continuing with command buffer.\n",
      "\n",
      "INFO - Channel: 1 position: 205.48828125\n",
      "INFO - Response: ''\n",
      "\n",
      "INFO - Sending next command(460): '2PR7\\r\\n'\n"
     ]
    },
    {
     "name": "stdout",
     "output_type": "stream",
     "text": [
      "780\n",
      "1\n"
     ]
    },
    {
     "name": "stderr",
     "output_type": "stream",
     "text": [
      "INFO - Motor 2: movement ceased. Continuing with command buffer.\n",
      "\n",
      "INFO - Channel: 1 position: 205.6640625\n",
      "INFO - Response: ''\n",
      "\n",
      "INFO - Sending next command(461): '2PR4\\r\\n'\n"
     ]
    },
    {
     "name": "stdout",
     "output_type": "stream",
     "text": [
      "780\n",
      "1\n"
     ]
    },
    {
     "name": "stderr",
     "output_type": "stream",
     "text": [
      "INFO - Motor 2: movement ceased. Continuing with command buffer.\n",
      "\n",
      "INFO - Channel: 1 position: 205.795898438\n",
      "INFO - Response: ''\n",
      "\n",
      "INFO - Sending next command(462): '2PR3\\r\\n'\n"
     ]
    },
    {
     "name": "stdout",
     "output_type": "stream",
     "text": [
      "780\n",
      "1\n"
     ]
    },
    {
     "name": "stderr",
     "output_type": "stream",
     "text": [
      "INFO - Motor 2: movement ceased. Continuing with command buffer.\n",
      "\n",
      "INFO - Channel: 1 position: 205.883789062\n",
      "INFO - Response: ''\n",
      "\n",
      "INFO - Sending next command(463): '2PR2\\r\\n'\n"
     ]
    },
    {
     "name": "stdout",
     "output_type": "stream",
     "text": [
      "780\n",
      "1\n"
     ]
    },
    {
     "name": "stderr",
     "output_type": "stream",
     "text": [
      "INFO - Motor 2: movement ceased. Continuing with command buffer.\n",
      "\n",
      "INFO - Channel: 1 position: 205.927734375\n",
      "INFO - Response: ''\n",
      "\n",
      "INFO - Sending next command(464): '2PR1\\r\\n'\n"
     ]
    },
    {
     "name": "stdout",
     "output_type": "stream",
     "text": [
      "780\n",
      "1\n"
     ]
    },
    {
     "name": "stderr",
     "output_type": "stream",
     "text": [
      "INFO - Motor 2: movement ceased. Continuing with command buffer.\n",
      "\n",
      "INFO - Channel: 1 position: 205.971679688\n",
      "INFO - Response: ''\n",
      "\n",
      "INFO - Sending next command(465): '2PR1\\r\\n'\n"
     ]
    },
    {
     "name": "stdout",
     "output_type": "stream",
     "text": [
      "780\n",
      "1\n"
     ]
    },
    {
     "name": "stderr",
     "output_type": "stream",
     "text": [
      "INFO - Motor 2: movement ceased. Continuing with command buffer.\n",
      "\n",
      "INFO - Channel: 1 position: 205.971679688\n",
      "INFO - Response: ''\n",
      "\n",
      "INFO - Sending next command(466): '2PR1\\r\\n'\n"
     ]
    },
    {
     "name": "stdout",
     "output_type": "stream",
     "text": [
      "780\n",
      "1\n"
     ]
    },
    {
     "name": "stderr",
     "output_type": "stream",
     "text": [
      "INFO - Motor 2: movement ceased. Continuing with command buffer.\n",
      "\n",
      "INFO - Channel: 1 position: 206.015625\n",
      "INFO - New motor position is 206.015625 deg, error 0.015625 deg.\n",
      "INFO - Channel: 1 position: 206.015625\n",
      "INFO - Channel: 1 position: 206.015625\n",
      "INFO - avg_steps: 873.703125\n",
      "INFO - Channel: 1 position: 206.015625\n",
      "INFO - Response: ''\n",
      "\n",
      "INFO - Sending next command(467): '2PR612\\r\\n'\n"
     ]
    },
    {
     "name": "stdout",
     "output_type": "stream",
     "text": [
      "780\n",
      "1\n",
      "780\n",
      "1\n",
      "780\n",
      "1\n",
      "780\n",
      "1\n"
     ]
    },
    {
     "name": "stderr",
     "output_type": "stream",
     "text": [
      "INFO - Motor 2: movement ceased. Continuing with command buffer.\n",
      "\n",
      "INFO - Channel: 1 position: 218.540039062\n",
      "INFO - Response: ''\n",
      "\n",
      "INFO - Sending next command(468): '2PR445\\r\\n'\n"
     ]
    },
    {
     "name": "stdout",
     "output_type": "stream",
     "text": [
      "780\n",
      "1\n"
     ]
    },
    {
     "name": "stderr",
     "output_type": "stream",
     "text": [
      "INFO - Motor 2: movement ceased. Continuing with command buffer.\n",
      "\n",
      "INFO - Channel: 1 position: 228.120117188\n",
      "INFO - Response: ''\n",
      "\n",
      "INFO - Sending next command(469): '2PR318\\r\\n'\n"
     ]
    },
    {
     "name": "stdout",
     "output_type": "stream",
     "text": [
      "780\n",
      "1\n"
     ]
    },
    {
     "name": "stderr",
     "output_type": "stream",
     "text": [
      "INFO - Motor 2: movement ceased. Continuing with command buffer.\n",
      "\n",
      "INFO - Channel: 1 position: 234.975585938\n",
      "INFO - Response: ''\n",
      "\n",
      "INFO - Sending next command(470): '2PR226\\r\\n'\n"
     ]
    },
    {
     "name": "stdout",
     "output_type": "stream",
     "text": [
      "780\n",
      "1\n"
     ]
    },
    {
     "name": "stderr",
     "output_type": "stream",
     "text": [
      "INFO - Motor 2: movement ceased. Continuing with command buffer.\n",
      "\n",
      "INFO - Channel: 1 position: 239.721679688\n",
      "INFO - Response: ''\n",
      "\n",
      "INFO - Sending next command(471): '2PR163\\r\\n'\n"
     ]
    },
    {
     "name": "stdout",
     "output_type": "stream",
     "text": [
      "780\n",
      "1\n"
     ]
    },
    {
     "name": "stderr",
     "output_type": "stream",
     "text": [
      "INFO - Motor 2: movement ceased. Continuing with command buffer.\n",
      "\n",
      "INFO - Channel: 1 position: 243.413085938\n",
      "INFO - Response: ''\n",
      "\n",
      "INFO - Sending next command(472): '2PR114\\r\\n'\n"
     ]
    },
    {
     "name": "stdout",
     "output_type": "stream",
     "text": [
      "780\n",
      "1\n"
     ]
    },
    {
     "name": "stderr",
     "output_type": "stream",
     "text": [
      "INFO - Motor 2: movement ceased. Continuing with command buffer.\n",
      "\n",
      "INFO - Channel: 1 position: 246.005859375\n",
      "INFO - Response: ''\n",
      "\n",
      "INFO - Sending next command(473): '2PR80\\r\\n'\n"
     ]
    },
    {
     "name": "stdout",
     "output_type": "stream",
     "text": [
      "780\n",
      "1\n"
     ]
    },
    {
     "name": "stderr",
     "output_type": "stream",
     "text": [
      "INFO - Motor 2: movement ceased. Continuing with command buffer.\n",
      "\n",
      "INFO - Channel: 1 position: 247.895507812\n",
      "INFO - Response: ''\n",
      "\n",
      "INFO - Sending next command(474): '2PR55\\r\\n'\n"
     ]
    },
    {
     "name": "stdout",
     "output_type": "stream",
     "text": [
      "780\n",
      "1\n"
     ]
    },
    {
     "name": "stderr",
     "output_type": "stream",
     "text": [
      "INFO - Motor 2: movement ceased. Continuing with command buffer.\n",
      "\n",
      "INFO - Channel: 1 position: 249.301757812\n",
      "INFO - Response: ''\n",
      "\n",
      "INFO - Sending next command(475): '2PR36\\r\\n'\n"
     ]
    },
    {
     "name": "stdout",
     "output_type": "stream",
     "text": [
      "780\n",
      "1\n"
     ]
    },
    {
     "name": "stderr",
     "output_type": "stream",
     "text": [
      "INFO - Motor 2: movement ceased. Continuing with command buffer.\n",
      "\n",
      "INFO - Channel: 1 position: 250.268554688\n",
      "INFO - Response: ''\n",
      "\n",
      "INFO - Sending next command(476): '2PR23\\r\\n'\n"
     ]
    },
    {
     "name": "stdout",
     "output_type": "stream",
     "text": [
      "780\n",
      "1\n"
     ]
    },
    {
     "name": "stderr",
     "output_type": "stream",
     "text": [
      "INFO - Motor 2: movement ceased. Continuing with command buffer.\n",
      "\n",
      "INFO - Channel: 1 position: 250.927734375\n",
      "INFO - Response: ''\n",
      "\n",
      "INFO - Sending next command(477): '2PR14\\r\\n'\n"
     ]
    },
    {
     "name": "stdout",
     "output_type": "stream",
     "text": [
      "780\n",
      "1\n"
     ]
    },
    {
     "name": "stderr",
     "output_type": "stream",
     "text": [
      "INFO - Motor 2: movement ceased. Continuing with command buffer.\n",
      "\n",
      "INFO - Channel: 1 position: 251.3671875\n",
      "INFO - Response: ''\n",
      "\n",
      "INFO - Sending next command(478): '2PR8\\r\\n'\n"
     ]
    },
    {
     "name": "stdout",
     "output_type": "stream",
     "text": [
      "780\n",
      "1\n"
     ]
    },
    {
     "name": "stderr",
     "output_type": "stream",
     "text": [
      "INFO - Motor 2: movement ceased. Continuing with command buffer.\n",
      "\n",
      "INFO - Channel: 1 position: 251.586914062\n",
      "INFO - Response: ''\n",
      "\n",
      "INFO - Sending next command(479): '2PR5\\r\\n'\n"
     ]
    },
    {
     "name": "stdout",
     "output_type": "stream",
     "text": [
      "780\n",
      "1\n"
     ]
    },
    {
     "name": "stderr",
     "output_type": "stream",
     "text": [
      "INFO - Motor 2: movement ceased. Continuing with command buffer.\n",
      "\n",
      "INFO - Channel: 1 position: 251.71875\n",
      "INFO - Response: ''\n",
      "\n",
      "INFO - Sending next command(480): '2PR4\\r\\n'\n"
     ]
    },
    {
     "name": "stdout",
     "output_type": "stream",
     "text": [
      "780\n",
      "1\n"
     ]
    },
    {
     "name": "stderr",
     "output_type": "stream",
     "text": [
      "INFO - Motor 2: movement ceased. Continuing with command buffer.\n",
      "\n",
      "INFO - Channel: 1 position: 251.850585938\n",
      "INFO - Response: ''\n",
      "\n",
      "INFO - Sending next command(481): '2PR2\\r\\n'\n"
     ]
    },
    {
     "name": "stdout",
     "output_type": "stream",
     "text": [
      "780\n",
      "1\n"
     ]
    },
    {
     "name": "stderr",
     "output_type": "stream",
     "text": [
      "INFO - Motor 2: movement ceased. Continuing with command buffer.\n",
      "\n",
      "INFO - Channel: 1 position: 251.89453125\n",
      "INFO - Response: ''\n",
      "\n",
      "INFO - Sending next command(482): '2PR1\\r\\n'\n"
     ]
    },
    {
     "name": "stdout",
     "output_type": "stream",
     "text": [
      "780\n",
      "1\n"
     ]
    },
    {
     "name": "stderr",
     "output_type": "stream",
     "text": [
      "INFO - Motor 2: movement ceased. Continuing with command buffer.\n",
      "\n",
      "INFO - Channel: 1 position: 251.89453125\n",
      "INFO - Response: ''\n",
      "\n",
      "INFO - Sending next command(483): '2PR1\\r\\n'\n"
     ]
    },
    {
     "name": "stdout",
     "output_type": "stream",
     "text": [
      "780\n",
      "1\n"
     ]
    },
    {
     "name": "stderr",
     "output_type": "stream",
     "text": [
      "INFO - Motor 2: movement ceased. Continuing with command buffer.\n",
      "\n",
      "INFO - Channel: 1 position: 251.938476562\n",
      "INFO - Response: ''\n",
      "\n",
      "INFO - Sending next command(484): '2PR1\\r\\n'\n"
     ]
    },
    {
     "name": "stdout",
     "output_type": "stream",
     "text": [
      "780\n",
      "1\n"
     ]
    },
    {
     "name": "stderr",
     "output_type": "stream",
     "text": [
      "INFO - Motor 2: movement ceased. Continuing with command buffer.\n",
      "\n",
      "INFO - Channel: 1 position: 251.982421875\n",
      "INFO - New motor position is 251.982421875 deg, error -0.017578125 deg.\n",
      "INFO - Channel: 1 position: 251.982421875\n",
      "INFO - Channel: 1 position: 251.982421875\n",
      "INFO - avg_steps: 2679.33398438\n",
      "INFO - Channel: 1 position: 251.982421875\n",
      "INFO - Response: ''\n",
      "\n",
      "INFO - Sending next command(485): '2PR1876\\r\\n'\n"
     ]
    },
    {
     "name": "stdout",
     "output_type": "stream",
     "text": [
      "780\n",
      "1\n",
      "780\n",
      "1\n",
      "780\n",
      "1\n",
      "780\n",
      "1\n"
     ]
    },
    {
     "name": "stderr",
     "output_type": "stream",
     "text": [
      "INFO - Motor 2: movement ceased. Continuing with command buffer.\n",
      "\n",
      "INFO - Channel: 1 position: 285.161132812\n",
      "INFO - Response: ''\n",
      "\n",
      "INFO - Sending next command(486): '2PR1434\\r\\n'\n"
     ]
    },
    {
     "name": "stdout",
     "output_type": "stream",
     "text": [
      "780\n",
      "1\n"
     ]
    },
    {
     "name": "stderr",
     "output_type": "stream",
     "text": [
      "INFO - Motor 2: movement ceased. Continuing with command buffer.\n",
      "\n",
      "INFO - Channel: 1 position: 306.782226562\n",
      "INFO - Response: ''\n",
      "\n",
      "INFO - Sending next command(487): '2PR1147\\r\\n'\n"
     ]
    },
    {
     "name": "stdout",
     "output_type": "stream",
     "text": [
      "780\n",
      "1\n"
     ]
    },
    {
     "name": "stderr",
     "output_type": "stream",
     "text": [
      "INFO - Motor 2: movement ceased. Continuing with command buffer.\n",
      "\n",
      "INFO - Channel: 1 position: 323.26171875\n",
      "INFO - Response: ''\n",
      "\n",
      "INFO - Sending next command(488): '2PR928\\r\\n'\n"
     ]
    },
    {
     "name": "stdout",
     "output_type": "stream",
     "text": [
      "780\n",
      "1\n"
     ]
    },
    {
     "name": "stderr",
     "output_type": "stream",
     "text": [
      "INFO - Motor 2: movement ceased. Continuing with command buffer.\n",
      "\n",
      "INFO - Channel: 1 position: 336.665039062\n",
      "INFO - Response: ''\n",
      "\n",
      "INFO - Sending next command(489): '2PR749\\r\\n'\n"
     ]
    },
    {
     "name": "stdout",
     "output_type": "stream",
     "text": [
      "780\n",
      "1\n"
     ]
    },
    {
     "name": "stderr",
     "output_type": "stream",
     "text": [
      "INFO - Motor 2: movement ceased. Continuing with command buffer.\n",
      "\n",
      "INFO - Channel: 1 position: 349.1015625\n",
      "INFO - Response: ''\n",
      "\n",
      "INFO - Sending next command(490): '2PR584\\r\\n'\n"
     ]
    },
    {
     "name": "stdout",
     "output_type": "stream",
     "text": [
      "780\n",
      "1\n"
     ]
    },
    {
     "name": "stderr",
     "output_type": "stream",
     "text": [
      "INFO - Motor 2: movement ceased. Continuing with command buffer.\n",
      "\n",
      "INFO - Channel: 1 position: 359.428710938\n",
      "INFO - Response: ''\n",
      "\n",
      "INFO - Sending next command(491): '2PR446\\r\\n'\n"
     ]
    },
    {
     "name": "stdout",
     "output_type": "stream",
     "text": [
      "780\n",
      "1\n"
     ]
    },
    {
     "name": "stderr",
     "output_type": "stream",
     "text": [
      "INFO - Motor 2: movement ceased. Continuing with command buffer.\n",
      "\n",
      "INFO - Channel: 1 position: 367.602539062\n",
      "INFO - Response: ''\n",
      "\n",
      "INFO - Sending next command(492): '2PR338\\r\\n'\n"
     ]
    },
    {
     "name": "stdout",
     "output_type": "stream",
     "text": [
      "780\n",
      "1\n"
     ]
    },
    {
     "name": "stderr",
     "output_type": "stream",
     "text": [
      "INFO - Motor 2: movement ceased. Continuing with command buffer.\n",
      "\n",
      "INFO - Channel: 1 position: 373.930664062\n",
      "INFO - Response: ''\n",
      "\n",
      "INFO - Sending next command(493): '2PR254\\r\\n'\n"
     ]
    },
    {
     "name": "stdout",
     "output_type": "stream",
     "text": [
      "780\n",
      "1\n"
     ]
    },
    {
     "name": "stderr",
     "output_type": "stream",
     "text": [
      "INFO - Motor 2: movement ceased. Continuing with command buffer.\n",
      "\n",
      "INFO - Channel: 1 position: 379.3359375\n",
      "INFO - Response: ''\n",
      "\n",
      "INFO - Sending next command(494): '2PR182\\r\\n'\n"
     ]
    },
    {
     "name": "stdout",
     "output_type": "stream",
     "text": [
      "780\n",
      "1\n"
     ]
    },
    {
     "name": "stderr",
     "output_type": "stream",
     "text": [
      "INFO - Motor 2: movement ceased. Continuing with command buffer.\n",
      "\n",
      "INFO - Channel: 1 position: 383.994140625\n",
      "INFO - Response: ''\n",
      "\n",
      "INFO - Sending next command(495): '2PR120\\r\\n'\n"
     ]
    },
    {
     "name": "stdout",
     "output_type": "stream",
     "text": [
      "780\n",
      "1\n"
     ]
    },
    {
     "name": "stderr",
     "output_type": "stream",
     "text": [
      "INFO - Motor 2: movement ceased. Continuing with command buffer.\n",
      "\n",
      "INFO - Channel: 1 position: 387.114257812\n",
      "INFO - Response: ''\n",
      "\n",
      "INFO - Sending next command(496): '2PR78\\r\\n'\n"
     ]
    },
    {
     "name": "stdout",
     "output_type": "stream",
     "text": [
      "780\n",
      "1\n"
     ]
    },
    {
     "name": "stderr",
     "output_type": "stream",
     "text": [
      "INFO - Motor 2: movement ceased. Continuing with command buffer.\n",
      "\n",
      "INFO - Channel: 1 position: 389.223632812\n",
      "INFO - Response: ''\n",
      "\n",
      "INFO - Sending next command(497): '2PR50\\r\\n'\n"
     ]
    },
    {
     "name": "stdout",
     "output_type": "stream",
     "text": [
      "780\n",
      "1\n"
     ]
    },
    {
     "name": "stderr",
     "output_type": "stream",
     "text": [
      "INFO - Motor 2: movement ceased. Continuing with command buffer.\n",
      "\n",
      "INFO - Channel: 1 position: 390.5859375\n",
      "INFO - Response: ''\n",
      "\n",
      "INFO - Sending next command(498): '2PR32\\r\\n'\n"
     ]
    },
    {
     "name": "stdout",
     "output_type": "stream",
     "text": [
      "780\n",
      "1\n"
     ]
    },
    {
     "name": "stderr",
     "output_type": "stream",
     "text": [
      "INFO - Motor 2: movement ceased. Continuing with command buffer.\n",
      "\n",
      "INFO - Channel: 1 position: 391.552734375\n",
      "INFO - Response: ''\n",
      "\n",
      "INFO - Sending next command(499): '2PR19\\r\\n'\n"
     ]
    },
    {
     "name": "stdout",
     "output_type": "stream",
     "text": [
      "780\n",
      "1\n"
     ]
    },
    {
     "name": "stderr",
     "output_type": "stream",
     "text": [
      "INFO - Motor 2: movement ceased. Continuing with command buffer.\n",
      "\n",
      "INFO - Channel: 1 position: 392.16796875\n",
      "INFO - Response: ''\n",
      "\n",
      "INFO - Sending next command(500): '2PR11\\r\\n'\n"
     ]
    },
    {
     "name": "stdout",
     "output_type": "stream",
     "text": [
      "780\n",
      "1\n"
     ]
    },
    {
     "name": "stderr",
     "output_type": "stream",
     "text": [
      "INFO - Motor 2: movement ceased. Continuing with command buffer.\n",
      "\n",
      "INFO - Channel: 1 position: 392.51953125\n",
      "INFO - Response: ''\n",
      "\n",
      "INFO - Sending next command(501): '2PR6\\r\\n'\n"
     ]
    },
    {
     "name": "stdout",
     "output_type": "stream",
     "text": [
      "780\n",
      "1\n"
     ]
    },
    {
     "name": "stderr",
     "output_type": "stream",
     "text": [
      "INFO - Motor 2: movement ceased. Continuing with command buffer.\n",
      "\n",
      "INFO - Channel: 1 position: 392.6953125\n",
      "INFO - Response: ''\n",
      "\n",
      "INFO - Sending next command(502): '2PR4\\r\\n'\n"
     ]
    },
    {
     "name": "stdout",
     "output_type": "stream",
     "text": [
      "780\n",
      "1\n"
     ]
    },
    {
     "name": "stderr",
     "output_type": "stream",
     "text": [
      "INFO - Motor 2: movement ceased. Continuing with command buffer.\n",
      "\n",
      "INFO - Channel: 1 position: 392.827148438\n",
      "INFO - Response: ''\n",
      "\n",
      "INFO - Sending next command(503): '2PR2\\r\\n'\n"
     ]
    },
    {
     "name": "stdout",
     "output_type": "stream",
     "text": [
      "780\n",
      "1\n"
     ]
    },
    {
     "name": "stderr",
     "output_type": "stream",
     "text": [
      "INFO - Motor 2: movement ceased. Continuing with command buffer.\n",
      "\n",
      "INFO - Channel: 1 position: 392.87109375\n",
      "INFO - Response: ''\n",
      "\n",
      "INFO - Sending next command(504): '2PR2\\r\\n'\n"
     ]
    },
    {
     "name": "stdout",
     "output_type": "stream",
     "text": [
      "780\n",
      "1\n"
     ]
    },
    {
     "name": "stderr",
     "output_type": "stream",
     "text": [
      "INFO - Motor 2: movement ceased. Continuing with command buffer.\n",
      "\n",
      "INFO - Channel: 1 position: 392.915039062\n",
      "INFO - New motor position is 392.915039062 deg, error -0.0849609375 deg.\n",
      "INFO - Channel: 1 position: 392.915039062\n",
      "INFO - Channel: 1 position: 392.915039062\n",
      "INFO - avg_steps: 666.614257812\n",
      "INFO - Channel: 1 position: 392.915039062\n",
      "INFO - Response: ''\n",
      "\n",
      "INFO - Sending next command(505): '2PR467\\r\\n'\n"
     ]
    },
    {
     "name": "stdout",
     "output_type": "stream",
     "text": [
      "780\n",
      "1\n",
      "780\n",
      "1\n",
      "780\n",
      "1\n",
      "780\n",
      "1\n"
     ]
    },
    {
     "name": "stderr",
     "output_type": "stream",
     "text": [
      "INFO - Motor 2: movement ceased. Continuing with command buffer.\n",
      "\n",
      "INFO - Channel: 1 position: 404.604492188\n",
      "INFO - Response: ''\n",
      "\n",
      "INFO - Sending next command(506): '2PR311\\r\\n'\n"
     ]
    },
    {
     "name": "stdout",
     "output_type": "stream",
     "text": [
      "780\n",
      "1\n"
     ]
    },
    {
     "name": "stderr",
     "output_type": "stream",
     "text": [
      "INFO - Motor 2: movement ceased. Continuing with command buffer.\n",
      "\n",
      "INFO - Channel: 1 position: 412.866210938\n",
      "INFO - Response: ''\n",
      "\n",
      "INFO - Sending next command(507): '2PR201\\r\\n'\n"
     ]
    },
    {
     "name": "stdout",
     "output_type": "stream",
     "text": [
      "780\n",
      "1\n"
     ]
    },
    {
     "name": "stderr",
     "output_type": "stream",
     "text": [
      "INFO - Motor 2: movement ceased. Continuing with command buffer.\n",
      "\n",
      "INFO - Channel: 1 position: 418.579101562\n",
      "INFO - Response: ''\n",
      "\n",
      "INFO - Sending next command(508): '2PR125\\r\\n'\n"
     ]
    },
    {
     "name": "stdout",
     "output_type": "stream",
     "text": [
      "780\n",
      "1\n"
     ]
    },
    {
     "name": "stderr",
     "output_type": "stream",
     "text": [
      "INFO - Motor 2: movement ceased. Continuing with command buffer.\n",
      "\n",
      "INFO - Channel: 1 position: 422.2265625\n",
      "INFO - Response: ''\n",
      "\n",
      "INFO - Sending next command(509): '2PR77\\r\\n'\n"
     ]
    },
    {
     "name": "stdout",
     "output_type": "stream",
     "text": [
      "780\n",
      "1\n"
     ]
    },
    {
     "name": "stderr",
     "output_type": "stream",
     "text": [
      "INFO - Motor 2: movement ceased. Continuing with command buffer.\n",
      "\n",
      "INFO - Channel: 1 position: 424.467773438\n",
      "INFO - Response: ''\n",
      "\n",
      "INFO - Sending next command(510): '2PR47\\r\\n'\n"
     ]
    },
    {
     "name": "stdout",
     "output_type": "stream",
     "text": [
      "780\n",
      "1\n"
     ]
    },
    {
     "name": "stderr",
     "output_type": "stream",
     "text": [
      "INFO - Motor 2: movement ceased. Continuing with command buffer.\n",
      "\n",
      "INFO - Channel: 1 position: 425.91796875\n",
      "INFO - Response: ''\n",
      "\n",
      "INFO - Sending next command(511): '2PR28\\r\\n'\n"
     ]
    },
    {
     "name": "stdout",
     "output_type": "stream",
     "text": [
      "780\n",
      "1\n"
     ]
    },
    {
     "name": "stderr",
     "output_type": "stream",
     "text": [
      "INFO - Motor 2: movement ceased. Continuing with command buffer.\n",
      "\n",
      "INFO - Channel: 1 position: 426.884765625\n",
      "INFO - Response: ''\n",
      "\n",
      "INFO - Sending next command(512): '2PR15\\r\\n'\n"
     ]
    },
    {
     "name": "stdout",
     "output_type": "stream",
     "text": [
      "780\n",
      "1\n"
     ]
    },
    {
     "name": "stderr",
     "output_type": "stream",
     "text": [
      "INFO - Motor 2: movement ceased. Continuing with command buffer.\n",
      "\n",
      "INFO - Channel: 1 position: 427.456054688\n",
      "INFO - Response: ''\n",
      "\n",
      "INFO - Sending next command(513): '2PR7\\r\\n'\n"
     ]
    },
    {
     "name": "stdout",
     "output_type": "stream",
     "text": [
      "780\n",
      "1\n"
     ]
    },
    {
     "name": "stderr",
     "output_type": "stream",
     "text": [
      "INFO - Motor 2: movement ceased. Continuing with command buffer.\n",
      "\n",
      "INFO - Channel: 1 position: 427.67578125\n",
      "INFO - Response: ''\n",
      "\n",
      "INFO - Sending next command(514): '2PR4\\r\\n'\n"
     ]
    },
    {
     "name": "stdout",
     "output_type": "stream",
     "text": [
      "780\n",
      "1\n"
     ]
    },
    {
     "name": "stderr",
     "output_type": "stream",
     "text": [
      "INFO - Motor 2: movement ceased. Continuing with command buffer.\n",
      "\n",
      "INFO - Channel: 1 position: 427.807617188\n",
      "INFO - Response: ''\n",
      "\n",
      "INFO - Sending next command(515): '2PR3\\r\\n'\n"
     ]
    },
    {
     "name": "stdout",
     "output_type": "stream",
     "text": [
      "780\n",
      "1\n"
     ]
    },
    {
     "name": "stderr",
     "output_type": "stream",
     "text": [
      "INFO - Motor 2: movement ceased. Continuing with command buffer.\n",
      "\n",
      "INFO - Channel: 1 position: 427.895507812\n",
      "INFO - Response: ''\n",
      "\n",
      "INFO - Sending next command(516): '2PR1\\r\\n'\n"
     ]
    },
    {
     "name": "stdout",
     "output_type": "stream",
     "text": [
      "780\n",
      "1\n"
     ]
    },
    {
     "name": "stderr",
     "output_type": "stream",
     "text": [
      "INFO - Motor 2: movement ceased. Continuing with command buffer.\n",
      "\n",
      "INFO - Channel: 1 position: 427.939453125\n",
      "INFO - Response: ''\n",
      "\n",
      "INFO - Sending next command(517): '2PR1\\r\\n'\n"
     ]
    },
    {
     "name": "stdout",
     "output_type": "stream",
     "text": [
      "780\n",
      "1\n"
     ]
    },
    {
     "name": "stderr",
     "output_type": "stream",
     "text": [
      "INFO - Motor 2: movement ceased. Continuing with command buffer.\n",
      "\n",
      "INFO - Channel: 1 position: 427.983398438\n",
      "INFO - New motor position is 427.983398438 deg, error -0.0166015625 deg.\n",
      "INFO - Channel: 1 position: 427.983398438\n",
      "INFO - Channel: 1 position: 427.983398438\n",
      "INFO - avg_steps: 893.315429688\n",
      "INFO - Channel: 1 position: 427.983398438\n",
      "INFO - Response: ''\n",
      "\n",
      "INFO - Sending next command(518): '2PR625\\r\\n'\n"
     ]
    },
    {
     "name": "stdout",
     "output_type": "stream",
     "text": [
      "780\n",
      "1\n",
      "780\n",
      "1\n",
      "780\n",
      "1\n",
      "780\n",
      "1\n"
     ]
    },
    {
     "name": "stderr",
     "output_type": "stream",
     "text": [
      "INFO - Motor 2: movement ceased. Continuing with command buffer.\n",
      "\n",
      "INFO - Channel: 1 position: 443.540039062\n",
      "INFO - Response: ''\n",
      "\n",
      "INFO - Sending next command(519): '2PR418\\r\\n'\n"
     ]
    },
    {
     "name": "stdout",
     "output_type": "stream",
     "text": [
      "780\n",
      "1\n"
     ]
    },
    {
     "name": "stderr",
     "output_type": "stream",
     "text": [
      "INFO - Motor 2: movement ceased. Continuing with command buffer.\n",
      "\n",
      "INFO - Channel: 1 position: 453.33984375\n",
      "INFO - Response: ''\n",
      "\n",
      "INFO - Sending next command(520): '2PR288\\r\\n'\n"
     ]
    },
    {
     "name": "stdout",
     "output_type": "stream",
     "text": [
      "780\n",
      "1\n"
     ]
    },
    {
     "name": "stderr",
     "output_type": "stream",
     "text": [
      "INFO - Motor 2: movement ceased. Continuing with command buffer.\n",
      "\n",
      "INFO - Channel: 1 position: 459.84375\n",
      "INFO - Response: ''\n",
      "\n",
      "INFO - Sending next command(521): '2PR202\\r\\n'\n"
     ]
    },
    {
     "name": "stdout",
     "output_type": "stream",
     "text": [
      "780\n",
      "1\n"
     ]
    },
    {
     "name": "stderr",
     "output_type": "stream",
     "text": [
      "INFO - Motor 2: movement ceased. Continuing with command buffer.\n",
      "\n",
      "INFO - Channel: 1 position: 464.370117188\n",
      "INFO - Response: ''\n",
      "\n",
      "INFO - Sending next command(522): '2PR141\\r\\n'\n"
     ]
    },
    {
     "name": "stdout",
     "output_type": "stream",
     "text": [
      "780\n",
      "1\n"
     ]
    },
    {
     "name": "stderr",
     "output_type": "stream",
     "text": [
      "INFO - Motor 2: movement ceased. Continuing with command buffer.\n",
      "\n",
      "INFO - Channel: 1 position: 467.666015625\n",
      "INFO - Response: ''\n",
      "\n",
      "INFO - Sending next command(523): '2PR98\\r\\n'\n"
     ]
    },
    {
     "name": "stdout",
     "output_type": "stream",
     "text": [
      "780\n",
      "1\n"
     ]
    },
    {
     "name": "stderr",
     "output_type": "stream",
     "text": [
      "INFO - Motor 2: movement ceased. Continuing with command buffer.\n",
      "\n",
      "INFO - Channel: 1 position: 469.995117188\n",
      "INFO - Response: ''\n",
      "\n",
      "INFO - Sending next command(524): '2PR67\\r\\n'\n"
     ]
    },
    {
     "name": "stdout",
     "output_type": "stream",
     "text": [
      "780\n",
      "1\n"
     ]
    },
    {
     "name": "stderr",
     "output_type": "stream",
     "text": [
      "INFO - Motor 2: movement ceased. Continuing with command buffer.\n",
      "\n",
      "INFO - Channel: 1 position: 471.62109375\n",
      "INFO - Response: ''\n",
      "\n",
      "INFO - Sending next command(525): '2PR45\\r\\n'\n"
     ]
    },
    {
     "name": "stdout",
     "output_type": "stream",
     "text": [
      "780\n",
      "1\n"
     ]
    },
    {
     "name": "stderr",
     "output_type": "stream",
     "text": [
      "INFO - Motor 2: movement ceased. Continuing with command buffer.\n",
      "\n",
      "INFO - Channel: 1 position: 472.8515625\n",
      "INFO - Response: ''\n",
      "\n",
      "INFO - Sending next command(526): '2PR29\\r\\n'\n"
     ]
    },
    {
     "name": "stdout",
     "output_type": "stream",
     "text": [
      "780\n",
      "1\n"
     ]
    },
    {
     "name": "stderr",
     "output_type": "stream",
     "text": [
      "INFO - Motor 2: movement ceased. Continuing with command buffer.\n",
      "\n",
      "INFO - Channel: 1 position: 473.774414062\n",
      "INFO - Response: ''\n",
      "\n",
      "INFO - Sending next command(527): '2PR16\\r\\n'\n"
     ]
    },
    {
     "name": "stdout",
     "output_type": "stream",
     "text": [
      "780\n",
      "1\n"
     ]
    },
    {
     "name": "stderr",
     "output_type": "stream",
     "text": [
      "INFO - Motor 2: movement ceased. Continuing with command buffer.\n",
      "\n",
      "INFO - Channel: 1 position: 474.2578125\n",
      "INFO - Response: ''\n",
      "\n",
      "INFO - Sending next command(528): '2PR10\\r\\n'\n"
     ]
    },
    {
     "name": "stdout",
     "output_type": "stream",
     "text": [
      "780\n",
      "1\n"
     ]
    },
    {
     "name": "stderr",
     "output_type": "stream",
     "text": [
      "INFO - Motor 2: movement ceased. Continuing with command buffer.\n",
      "\n",
      "INFO - Channel: 1 position: 474.609375\n",
      "INFO - Response: ''\n",
      "\n",
      "INFO - Sending next command(529): '2PR5\\r\\n'\n"
     ]
    },
    {
     "name": "stdout",
     "output_type": "stream",
     "text": [
      "780\n",
      "1\n"
     ]
    },
    {
     "name": "stderr",
     "output_type": "stream",
     "text": [
      "INFO - Motor 2: movement ceased. Continuing with command buffer.\n",
      "\n",
      "INFO - Channel: 1 position: 474.741210938\n",
      "INFO - Response: ''\n",
      "\n",
      "INFO - Sending next command(530): '2PR3\\r\\n'\n"
     ]
    },
    {
     "name": "stdout",
     "output_type": "stream",
     "text": [
      "780\n",
      "1\n"
     ]
    },
    {
     "name": "stderr",
     "output_type": "stream",
     "text": [
      "INFO - Motor 2: movement ceased. Continuing with command buffer.\n",
      "\n",
      "INFO - Channel: 1 position: 474.829101562\n",
      "INFO - Response: ''\n",
      "\n",
      "INFO - Sending next command(531): '2PR2\\r\\n'\n"
     ]
    },
    {
     "name": "stdout",
     "output_type": "stream",
     "text": [
      "780\n",
      "1\n"
     ]
    },
    {
     "name": "stderr",
     "output_type": "stream",
     "text": [
      "INFO - Motor 2: movement ceased. Continuing with command buffer.\n",
      "\n",
      "INFO - Channel: 1 position: 474.873046875\n",
      "INFO - Response: ''\n",
      "\n",
      "INFO - Sending next command(532): '2PR2\\r\\n'\n"
     ]
    },
    {
     "name": "stdout",
     "output_type": "stream",
     "text": [
      "780\n",
      "1\n"
     ]
    },
    {
     "name": "stderr",
     "output_type": "stream",
     "text": [
      "INFO - Motor 2: movement ceased. Continuing with command buffer.\n",
      "\n",
      "INFO - Channel: 1 position: 474.9609375\n",
      "INFO - Response: ''\n",
      "\n",
      "INFO - Sending next command(533): '2PR1\\r\\n'\n"
     ]
    },
    {
     "name": "stdout",
     "output_type": "stream",
     "text": [
      "780\n",
      "1\n"
     ]
    },
    {
     "name": "stderr",
     "output_type": "stream",
     "text": [
      "INFO - Motor 2: movement ceased. Continuing with command buffer.\n",
      "\n",
      "INFO - Channel: 1 position: 474.9609375\n",
      "INFO - Response: ''\n",
      "\n",
      "INFO - Sending next command(534): '2PR1\\r\\n'\n"
     ]
    },
    {
     "name": "stdout",
     "output_type": "stream",
     "text": [
      "780\n",
      "1\n"
     ]
    },
    {
     "name": "stderr",
     "output_type": "stream",
     "text": [
      "INFO - Motor 2: movement ceased. Continuing with command buffer.\n",
      "\n",
      "INFO - Channel: 1 position: 475.004882812\n",
      "INFO - New motor position is 475.004882812 deg, error 0.0048828125 deg.\n",
      "INFO - Channel: 1 position: 475.004882812\n",
      "INFO - Channel: 1 position: 475.004882812\n",
      "INFO - avg_steps: -7334.09277344\n",
      "INFO - Need to go negative. Current position 475.004882812 DEG. Setpoint 89 DEG. Steps to be taken: -8334\n",
      "INFO - Response: ''\n",
      "\n",
      "INFO - Sending next command(535): '2PR-8334\\r\\n'\n"
     ]
    },
    {
     "name": "stdout",
     "output_type": "stream",
     "text": [
      "780\n",
      "1\n",
      "780\n",
      "1\n",
      "780\n",
      "1\n"
     ]
    },
    {
     "name": "stderr",
     "output_type": "stream",
     "text": [
      "INFO - Motor 2: movement ceased. Continuing with command buffer.\n",
      "\n",
      "INFO - Channel: 1 position: 45.966796875\n",
      "INFO - Response: ''\n",
      "\n",
      "INFO - Sending next command(536): '2PR572\\r\\n'\n"
     ]
    },
    {
     "name": "stdout",
     "output_type": "stream",
     "text": [
      "780\n",
      "1\n"
     ]
    },
    {
     "name": "stderr",
     "output_type": "stream",
     "text": [
      "INFO - Motor 2: movement ceased. Continuing with command buffer.\n",
      "\n",
      "INFO - Channel: 1 position: 81.38671875\n",
      "INFO - Response: ''\n",
      "\n",
      "INFO - Sending next command(537): '2PR101\\r\\n'\n"
     ]
    },
    {
     "name": "stdout",
     "output_type": "stream",
     "text": [
      "780\n",
      "1\n"
     ]
    },
    {
     "name": "stderr",
     "output_type": "stream",
     "text": [
      "INFO - Motor 2: movement ceased. Continuing with command buffer.\n",
      "\n",
      "INFO - Channel: 1 position: 87.71484375\n",
      "INFO - Response: ''\n",
      "\n",
      "INFO - Sending next command(538): '2PR17\\r\\n'\n"
     ]
    },
    {
     "name": "stdout",
     "output_type": "stream",
     "text": [
      "780\n",
      "1\n"
     ]
    },
    {
     "name": "stderr",
     "output_type": "stream",
     "text": [
      "INFO - Motor 2: movement ceased. Continuing with command buffer.\n",
      "\n",
      "INFO - Channel: 1 position: 88.9013671875\n",
      "INFO - Response: ''\n",
      "\n",
      "INFO - Sending next command(539): '2PR1\\r\\n'\n"
     ]
    },
    {
     "name": "stdout",
     "output_type": "stream",
     "text": [
      "780\n",
      "1\n"
     ]
    },
    {
     "name": "stderr",
     "output_type": "stream",
     "text": [
      "INFO - Motor 2: movement ceased. Continuing with command buffer.\n",
      "\n",
      "INFO - Channel: 1 position: 88.9453125\n",
      "INFO - Response: ''\n",
      "\n",
      "INFO - Sending next command(540): '2PR1\\r\\n'\n"
     ]
    },
    {
     "name": "stdout",
     "output_type": "stream",
     "text": [
      "780\n",
      "1\n"
     ]
    },
    {
     "name": "stderr",
     "output_type": "stream",
     "text": [
      "INFO - Motor 2: movement ceased. Continuing with command buffer.\n",
      "\n",
      "INFO - Channel: 1 position: 88.9892578125\n",
      "INFO - New motor position is 88.9892578125 deg, error -0.0107421875 deg.\n",
      "INFO - Channel: 1 position: 88.9892578125\n",
      "INFO - Channel: 1 position: 88.9892578125\n",
      "INFO - avg_steps: 4332.20410156\n",
      "INFO - Channel: 1 position: 88.9892578125\n",
      "INFO - Response: ''\n",
      "\n",
      "INFO - Sending next command(541): '2PR3033\\r\\n'\n"
     ]
    },
    {
     "name": "stdout",
     "output_type": "stream",
     "text": [
      "780\n",
      "1\n",
      "780\n",
      "1\n",
      "780\n",
      "1\n",
      "780\n",
      "1\n"
     ]
    },
    {
     "name": "stderr",
     "output_type": "stream",
     "text": [
      "INFO - Motor 2: movement ceased. Continuing with command buffer.\n",
      "\n",
      "INFO - Channel: 1 position: 151.34765625\n",
      "INFO - Response: ''\n",
      "\n",
      "INFO - Sending next command(542): '2PR2203\\r\\n'\n"
     ]
    },
    {
     "name": "stdout",
     "output_type": "stream",
     "text": [
      "780\n",
      "1\n"
     ]
    },
    {
     "name": "stderr",
     "output_type": "stream",
     "text": [
      "INFO - Motor 2: movement ceased. Continuing with command buffer.\n",
      "\n",
      "INFO - Channel: 1 position: 186.196289062\n",
      "INFO - Response: ''\n",
      "\n",
      "INFO - Sending next command(543): '2PR1740\\r\\n'\n"
     ]
    },
    {
     "name": "stdout",
     "output_type": "stream",
     "text": [
      "780\n",
      "1\n"
     ]
    },
    {
     "name": "stderr",
     "output_type": "stream",
     "text": [
      "INFO - Motor 2: movement ceased. Continuing with command buffer.\n",
      "\n",
      "INFO - Channel: 1 position: 213.92578125\n",
      "INFO - Response: ''\n",
      "\n",
      "INFO - Sending next command(544): '2PR1371\\r\\n'\n"
     ]
    },
    {
     "name": "stdout",
     "output_type": "stream",
     "text": [
      "780\n",
      "1\n"
     ]
    },
    {
     "name": "stderr",
     "output_type": "stream",
     "text": [
      "INFO - Motor 2: movement ceased. Continuing with command buffer.\n",
      "\n",
      "INFO - Channel: 1 position: 238.491210938\n",
      "INFO - Response: ''\n",
      "\n",
      "INFO - Sending next command(545): '2PR1044\\r\\n'\n"
     ]
    },
    {
     "name": "stdout",
     "output_type": "stream",
     "text": [
      "780\n",
      "1\n"
     ]
    },
    {
     "name": "stderr",
     "output_type": "stream",
     "text": [
      "INFO - Motor 2: movement ceased. Continuing with command buffer.\n",
      "\n",
      "INFO - Channel: 1 position: 256.684570312\n",
      "INFO - Response: ''\n",
      "\n",
      "INFO - Sending next command(546): '2PR802\\r\\n'\n"
     ]
    },
    {
     "name": "stdout",
     "output_type": "stream",
     "text": [
      "780\n",
      "1\n"
     ]
    },
    {
     "name": "stderr",
     "output_type": "stream",
     "text": [
      "INFO - Motor 2: movement ceased. Continuing with command buffer.\n",
      "\n",
      "INFO - Channel: 1 position: 270.0\n",
      "INFO - Response: ''\n",
      "\n",
      "INFO - Sending next command(547): '2PR625\\r\\n'\n"
     ]
    },
    {
     "name": "stdout",
     "output_type": "stream",
     "text": [
      "780\n",
      "1\n"
     ]
    },
    {
     "name": "stderr",
     "output_type": "stream",
     "text": [
      "INFO - Motor 2: movement ceased. Continuing with command buffer.\n",
      "\n",
      "INFO - Channel: 1 position: 279.536132812\n",
      "INFO - Response: ''\n",
      "\n",
      "INFO - Sending next command(548): '2PR498\\r\\n'\n"
     ]
    },
    {
     "name": "stdout",
     "output_type": "stream",
     "text": [
      "780\n",
      "1\n"
     ]
    },
    {
     "name": "stderr",
     "output_type": "stream",
     "text": [
      "INFO - Motor 2: movement ceased. Continuing with command buffer.\n",
      "\n",
      "INFO - Channel: 1 position: 286.5234375\n",
      "INFO - Response: ''\n",
      "\n",
      "INFO - Sending next command(549): '2PR405\\r\\n'\n"
     ]
    },
    {
     "name": "stdout",
     "output_type": "stream",
     "text": [
      "780\n",
      "1\n"
     ]
    },
    {
     "name": "stderr",
     "output_type": "stream",
     "text": [
      "INFO - Motor 2: movement ceased. Continuing with command buffer.\n",
      "\n",
      "INFO - Channel: 1 position: 292.060546875\n",
      "INFO - Response: ''\n",
      "\n",
      "INFO - Sending next command(550): '2PR332\\r\\n'\n"
     ]
    },
    {
     "name": "stdout",
     "output_type": "stream",
     "text": [
      "780\n",
      "1\n"
     ]
    },
    {
     "name": "stderr",
     "output_type": "stream",
     "text": [
      "INFO - Motor 2: movement ceased. Continuing with command buffer.\n",
      "\n",
      "INFO - Channel: 1 position: 296.762695312\n",
      "INFO - Response: ''\n",
      "\n",
      "INFO - Sending next command(551): '2PR269\\r\\n'\n"
     ]
    },
    {
     "name": "stdout",
     "output_type": "stream",
     "text": [
      "780\n",
      "1\n"
     ]
    },
    {
     "name": "stderr",
     "output_type": "stream",
     "text": [
      "INFO - Motor 2: movement ceased. Continuing with command buffer.\n",
      "\n",
      "INFO - Channel: 1 position: 300.541992188\n",
      "INFO - Response: ''\n",
      "\n",
      "INFO - Sending next command(552): '2PR219\\r\\n'\n"
     ]
    },
    {
     "name": "stdout",
     "output_type": "stream",
     "text": [
      "780\n",
      "1\n"
     ]
    },
    {
     "name": "stderr",
     "output_type": "stream",
     "text": [
      "INFO - Motor 2: movement ceased. Continuing with command buffer.\n",
      "\n",
      "INFO - Channel: 1 position: 303.837890625\n",
      "INFO - Response: ''\n",
      "\n",
      "INFO - Sending next command(553): '2PR175\\r\\n'\n"
     ]
    },
    {
     "name": "stdout",
     "output_type": "stream",
     "text": [
      "780\n",
      "1\n"
     ]
    },
    {
     "name": "stderr",
     "output_type": "stream",
     "text": [
      "INFO - Motor 2: movement ceased. Continuing with command buffer.\n",
      "\n",
      "INFO - Channel: 1 position: 306.650390625\n",
      "INFO - Response: ''\n",
      "\n",
      "INFO - Sending next command(554): '2PR138\\r\\n'\n"
     ]
    },
    {
     "name": "stdout",
     "output_type": "stream",
     "text": [
      "780\n",
      "1\n"
     ]
    },
    {
     "name": "stderr",
     "output_type": "stream",
     "text": [
      "INFO - Motor 2: movement ceased. Continuing with command buffer.\n",
      "\n",
      "INFO - Channel: 1 position: 308.891601562\n",
      "INFO - Response: ''\n",
      "\n",
      "INFO - Sending next command(555): '2PR108\\r\\n'\n"
     ]
    },
    {
     "name": "stdout",
     "output_type": "stream",
     "text": [
      "780\n",
      "1\n"
     ]
    },
    {
     "name": "stderr",
     "output_type": "stream",
     "text": [
      "INFO - Motor 2: movement ceased. Continuing with command buffer.\n",
      "\n",
      "INFO - Channel: 1 position: 310.737304688\n",
      "INFO - Response: ''\n",
      "\n",
      "INFO - Sending next command(556): '2PR83\\r\\n'\n"
     ]
    },
    {
     "name": "stdout",
     "output_type": "stream",
     "text": [
      "780\n",
      "1\n"
     ]
    },
    {
     "name": "stderr",
     "output_type": "stream",
     "text": [
      "INFO - Motor 2: movement ceased. Continuing with command buffer.\n",
      "\n",
      "INFO - Channel: 1 position: 312.1875\n",
      "INFO - Response: ''\n",
      "\n",
      "INFO - Sending next command(557): '2PR64\\r\\n'\n"
     ]
    },
    {
     "name": "stdout",
     "output_type": "stream",
     "text": [
      "780\n",
      "1\n"
     ]
    },
    {
     "name": "stderr",
     "output_type": "stream",
     "text": [
      "INFO - Motor 2: movement ceased. Continuing with command buffer.\n",
      "\n",
      "INFO - Channel: 1 position: 313.286132812\n",
      "INFO - Response: ''\n",
      "\n",
      "INFO - Sending next command(558): '2PR49\\r\\n'\n"
     ]
    },
    {
     "name": "stdout",
     "output_type": "stream",
     "text": [
      "780\n",
      "1\n"
     ]
    },
    {
     "name": "stderr",
     "output_type": "stream",
     "text": [
      "INFO - Motor 2: movement ceased. Continuing with command buffer.\n",
      "\n",
      "INFO - Channel: 1 position: 314.165039062\n",
      "INFO - Response: ''\n",
      "\n",
      "INFO - Sending next command(559): '2PR38\\r\\n'\n"
     ]
    },
    {
     "name": "stdout",
     "output_type": "stream",
     "text": [
      "780\n",
      "1\n"
     ]
    },
    {
     "name": "stderr",
     "output_type": "stream",
     "text": [
      "INFO - Motor 2: movement ceased. Continuing with command buffer.\n",
      "\n",
      "INFO - Channel: 1 position: 314.956054688\n",
      "INFO - Response: ''\n",
      "\n",
      "INFO - Sending next command(560): '2PR27\\r\\n'\n"
     ]
    },
    {
     "name": "stdout",
     "output_type": "stream",
     "text": [
      "780\n",
      "1\n"
     ]
    },
    {
     "name": "stderr",
     "output_type": "stream",
     "text": [
      "INFO - Motor 2: movement ceased. Continuing with command buffer.\n",
      "\n",
      "INFO - Channel: 1 position: 315.52734375\n",
      "ERROR - Current position 315.52734375 deg. Setpoint not achieved by -1.47265625 deg after max iterations.\n",
      "INFO - Channel: 1 position: 315.52734375\n",
      "INFO - Channel: 1 position: 315.52734375\n",
      "INFO - avg_steps: -2480.01953125\n",
      "INFO - Need to go negative. Current position 315.52734375 DEG. Setpoint 185 DEG. Steps to be taken: -3480\n",
      "INFO - Response: ''\n",
      "\n",
      "INFO - Sending next command(561): '2PR-3480\\r\\n'\n"
     ]
    },
    {
     "name": "stdout",
     "output_type": "stream",
     "text": [
      "780\n",
      "1\n",
      "780\n",
      "1\n",
      "780\n",
      "1\n"
     ]
    },
    {
     "name": "stderr",
     "output_type": "stream",
     "text": [
      "INFO - Motor 2: movement ceased. Continuing with command buffer.\n",
      "\n",
      "INFO - Channel: 1 position: 134.033203125\n",
      "INFO - Response: ''\n",
      "\n",
      "INFO - Sending next command(562): '2PR678\\r\\n'\n"
     ]
    },
    {
     "name": "stdout",
     "output_type": "stream",
     "text": [
      "780\n",
      "1\n"
     ]
    },
    {
     "name": "stderr",
     "output_type": "stream",
     "text": [
      "INFO - Motor 2: movement ceased. Continuing with command buffer.\n",
      "\n",
      "INFO - Channel: 1 position: 162.158203125\n",
      "INFO - Response: ''\n",
      "\n",
      "INFO - Sending next command(563): '2PR304\\r\\n'\n"
     ]
    },
    {
     "name": "stdout",
     "output_type": "stream",
     "text": [
      "780\n",
      "1\n"
     ]
    },
    {
     "name": "stderr",
     "output_type": "stream",
     "text": [
      "INFO - Motor 2: movement ceased. Continuing with command buffer.\n",
      "\n",
      "INFO - Channel: 1 position: 170.859375\n",
      "INFO - Response: ''\n",
      "\n",
      "INFO - Sending next command(564): '2PR188\\r\\n'\n"
     ]
    },
    {
     "name": "stdout",
     "output_type": "stream",
     "text": [
      "780\n",
      "1\n"
     ]
    },
    {
     "name": "stderr",
     "output_type": "stream",
     "text": [
      "INFO - Motor 2: movement ceased. Continuing with command buffer.\n",
      "\n",
      "INFO - Channel: 1 position: 175.4296875\n",
      "INFO - Response: ''\n",
      "\n",
      "INFO - Sending next command(565): '2PR127\\r\\n'\n"
     ]
    },
    {
     "name": "stdout",
     "output_type": "stream",
     "text": [
      "780\n",
      "1\n"
     ]
    },
    {
     "name": "stderr",
     "output_type": "stream",
     "text": [
      "INFO - Motor 2: movement ceased. Continuing with command buffer.\n",
      "\n",
      "INFO - Channel: 1 position: 178.154296875\n",
      "INFO - Response: ''\n",
      "\n",
      "INFO - Sending next command(566): '2PR91\\r\\n'\n"
     ]
    },
    {
     "name": "stdout",
     "output_type": "stream",
     "text": [
      "780\n",
      "1\n"
     ]
    },
    {
     "name": "stderr",
     "output_type": "stream",
     "text": [
      "INFO - Motor 2: movement ceased. Continuing with command buffer.\n",
      "\n",
      "INFO - Channel: 1 position: 180.131835938\n",
      "INFO - Response: ''\n",
      "\n",
      "INFO - Sending next command(567): '2PR65\\r\\n'\n"
     ]
    },
    {
     "name": "stdout",
     "output_type": "stream",
     "text": [
      "780\n",
      "1\n"
     ]
    },
    {
     "name": "stderr",
     "output_type": "stream",
     "text": [
      "INFO - Motor 2: movement ceased. Continuing with command buffer.\n",
      "\n",
      "INFO - Channel: 1 position: 181.538085938\n",
      "INFO - Response: ''\n",
      "\n",
      "INFO - Sending next command(568): '2PR46\\r\\n'\n"
     ]
    },
    {
     "name": "stdout",
     "output_type": "stream",
     "text": [
      "780\n",
      "1\n"
     ]
    },
    {
     "name": "stderr",
     "output_type": "stream",
     "text": [
      "INFO - Motor 2: movement ceased. Continuing with command buffer.\n",
      "\n",
      "INFO - Channel: 1 position: 182.592773438\n",
      "INFO - Response: ''\n",
      "\n",
      "INFO - Sending next command(569): '2PR32\\r\\n'\n"
     ]
    },
    {
     "name": "stdout",
     "output_type": "stream",
     "text": [
      "780\n",
      "1\n"
     ]
    },
    {
     "name": "stderr",
     "output_type": "stream",
     "text": [
      "INFO - Motor 2: movement ceased. Continuing with command buffer.\n",
      "\n",
      "INFO - Channel: 1 position: 183.427734375\n",
      "INFO - Response: ''\n",
      "\n",
      "INFO - Sending next command(570): '2PR21\\r\\n'\n"
     ]
    },
    {
     "name": "stdout",
     "output_type": "stream",
     "text": [
      "780\n",
      "1\n"
     ]
    },
    {
     "name": "stderr",
     "output_type": "stream",
     "text": [
      "INFO - Motor 2: movement ceased. Continuing with command buffer.\n",
      "\n",
      "INFO - Channel: 1 position: 183.999023438\n",
      "INFO - Response: ''\n",
      "\n",
      "INFO - Sending next command(571): '2PR13\\r\\n'\n"
     ]
    },
    {
     "name": "stdout",
     "output_type": "stream",
     "text": [
      "780\n",
      "1\n"
     ]
    },
    {
     "name": "stderr",
     "output_type": "stream",
     "text": [
      "INFO - Motor 2: movement ceased. Continuing with command buffer.\n",
      "\n",
      "INFO - Channel: 1 position: 184.39453125\n",
      "INFO - Response: ''\n",
      "\n",
      "INFO - Sending next command(572): '2PR8\\r\\n'\n"
     ]
    },
    {
     "name": "stdout",
     "output_type": "stream",
     "text": [
      "780\n",
      "1\n"
     ]
    },
    {
     "name": "stderr",
     "output_type": "stream",
     "text": [
      "INFO - Motor 2: movement ceased. Continuing with command buffer.\n",
      "\n",
      "INFO - Channel: 1 position: 184.5703125\n",
      "INFO - Response: ''\n",
      "\n",
      "INFO - Sending next command(573): '2PR6\\r\\n'\n"
     ]
    },
    {
     "name": "stdout",
     "output_type": "stream",
     "text": [
      "780\n",
      "1\n"
     ]
    },
    {
     "name": "stderr",
     "output_type": "stream",
     "text": [
      "INFO - Motor 2: movement ceased. Continuing with command buffer.\n",
      "\n",
      "INFO - Channel: 1 position: 184.74609375\n",
      "INFO - Response: ''\n",
      "\n",
      "INFO - Sending next command(574): '2PR3\\r\\n'\n"
     ]
    },
    {
     "name": "stdout",
     "output_type": "stream",
     "text": [
      "780\n",
      "1\n"
     ]
    },
    {
     "name": "stderr",
     "output_type": "stream",
     "text": [
      "INFO - Motor 2: movement ceased. Continuing with command buffer.\n",
      "\n",
      "INFO - Channel: 1 position: 184.833984375\n",
      "INFO - Response: ''\n",
      "\n",
      "INFO - Sending next command(575): '2PR2\\r\\n'\n"
     ]
    },
    {
     "name": "stdout",
     "output_type": "stream",
     "text": [
      "780\n",
      "1\n"
     ]
    },
    {
     "name": "stderr",
     "output_type": "stream",
     "text": [
      "INFO - Motor 2: movement ceased. Continuing with command buffer.\n",
      "\n",
      "INFO - Channel: 1 position: 184.877929688\n",
      "INFO - Response: ''\n",
      "\n",
      "INFO - Sending next command(576): '2PR2\\r\\n'\n"
     ]
    },
    {
     "name": "stdout",
     "output_type": "stream",
     "text": [
      "780\n",
      "1\n"
     ]
    },
    {
     "name": "stderr",
     "output_type": "stream",
     "text": [
      "INFO - Motor 2: movement ceased. Continuing with command buffer.\n",
      "\n",
      "INFO - Channel: 1 position: 184.921875\n",
      "INFO - Response: ''\n",
      "\n",
      "INFO - Sending next command(577): '2PR1\\r\\n'\n"
     ]
    },
    {
     "name": "stdout",
     "output_type": "stream",
     "text": [
      "780\n",
      "1\n"
     ]
    },
    {
     "name": "stderr",
     "output_type": "stream",
     "text": [
      "INFO - Motor 2: movement ceased. Continuing with command buffer.\n",
      "\n",
      "INFO - Channel: 1 position: 184.965820312\n",
      "INFO - Response: ''\n",
      "\n",
      "INFO - Sending next command(578): '2PR1\\r\\n'\n"
     ]
    },
    {
     "name": "stdout",
     "output_type": "stream",
     "text": [
      "780\n",
      "1\n"
     ]
    },
    {
     "name": "stderr",
     "output_type": "stream",
     "text": [
      "INFO - Motor 2: movement ceased. Continuing with command buffer.\n",
      "\n",
      "INFO - Channel: 1 position: 184.965820312\n",
      "INFO - Response: ''\n",
      "\n",
      "INFO - Sending next command(579): '2PR1\\r\\n'\n"
     ]
    },
    {
     "name": "stdout",
     "output_type": "stream",
     "text": [
      "780\n",
      "1\n"
     ]
    },
    {
     "name": "stderr",
     "output_type": "stream",
     "text": [
      "INFO - Motor 2: movement ceased. Continuing with command buffer.\n",
      "\n",
      "INFO - Channel: 1 position: 185.009765625\n",
      "INFO - New motor position is 185.009765625 deg, error 0.009765625 deg.\n",
      "INFO - Channel: 1 position: 185.009765625\n",
      "INFO - Channel: 1 position: 185.009765625\n",
      "INFO - avg_steps: 1481.81445312\n",
      "INFO - Channel: 1 position: 185.009765625\n",
      "INFO - Response: ''\n",
      "\n",
      "INFO - Sending next command(580): '2PR1037\\r\\n'\n"
     ]
    },
    {
     "name": "stdout",
     "output_type": "stream",
     "text": [
      "780\n",
      "1\n",
      "780\n",
      "1\n",
      "780\n",
      "1\n",
      "780\n",
      "1\n"
     ]
    },
    {
     "name": "stderr",
     "output_type": "stream",
     "text": [
      "INFO - Motor 2: movement ceased. Continuing with command buffer.\n",
      "\n",
      "INFO - Channel: 1 position: 204.43359375\n",
      "INFO - Response: ''\n",
      "\n",
      "INFO - Sending next command(581): '2PR779\\r\\n'\n"
     ]
    },
    {
     "name": "stdout",
     "output_type": "stream",
     "text": [
      "780\n",
      "1\n"
     ]
    },
    {
     "name": "stderr",
     "output_type": "stream",
     "text": [
      "INFO - Motor 2: movement ceased. Continuing with command buffer.\n",
      "\n",
      "INFO - Channel: 1 position: 220.341796875\n",
      "INFO - Response: ''\n",
      "\n",
      "INFO - Sending next command(582): '2PR567\\r\\n'\n"
     ]
    },
    {
     "name": "stdout",
     "output_type": "stream",
     "text": [
      "780\n",
      "1\n"
     ]
    },
    {
     "name": "stderr",
     "output_type": "stream",
     "text": [
      "INFO - Motor 2: movement ceased. Continuing with command buffer.\n",
      "\n",
      "INFO - Channel: 1 position: 232.514648438\n",
      "INFO - Response: ''\n",
      "\n",
      "INFO - Sending next command(583): '2PR405\\r\\n'\n"
     ]
    },
    {
     "name": "stdout",
     "output_type": "stream",
     "text": [
      "780\n",
      "1\n"
     ]
    },
    {
     "name": "stderr",
     "output_type": "stream",
     "text": [
      "INFO - Motor 2: movement ceased. Continuing with command buffer.\n",
      "\n",
      "INFO - Channel: 1 position: 240.732421875\n",
      "INFO - Response: ''\n",
      "\n",
      "INFO - Sending next command(584): '2PR296\\r\\n'\n"
     ]
    },
    {
     "name": "stdout",
     "output_type": "stream",
     "text": [
      "780\n",
      "1\n"
     ]
    },
    {
     "name": "stderr",
     "output_type": "stream",
     "text": [
      "INFO - Motor 2: movement ceased. Continuing with command buffer.\n",
      "\n",
      "INFO - Channel: 1 position: 247.016601562\n",
      "INFO - Response: ''\n",
      "\n",
      "INFO - Sending next command(585): '2PR213\\r\\n'\n"
     ]
    },
    {
     "name": "stdout",
     "output_type": "stream",
     "text": [
      "780\n",
      "1\n"
     ]
    },
    {
     "name": "stderr",
     "output_type": "stream",
     "text": [
      "INFO - Motor 2: movement ceased. Continuing with command buffer.\n",
      "\n",
      "INFO - Channel: 1 position: 251.54296875\n",
      "INFO - Response: ''\n",
      "\n",
      "INFO - Sending next command(586): '2PR152\\r\\n'\n"
     ]
    },
    {
     "name": "stdout",
     "output_type": "stream",
     "text": [
      "780\n",
      "1\n"
     ]
    },
    {
     "name": "stderr",
     "output_type": "stream",
     "text": [
      "INFO - Motor 2: movement ceased. Continuing with command buffer.\n",
      "\n",
      "INFO - Channel: 1 position: 254.750976562\n",
      "INFO - Response: ''\n",
      "\n",
      "INFO - Sending next command(587): '2PR110\\r\\n'\n"
     ]
    },
    {
     "name": "stdout",
     "output_type": "stream",
     "text": [
      "780\n",
      "1\n"
     ]
    },
    {
     "name": "stderr",
     "output_type": "stream",
     "text": [
      "INFO - Motor 2: movement ceased. Continuing with command buffer.\n",
      "\n",
      "INFO - Channel: 1 position: 257.036132812\n",
      "INFO - Response: ''\n",
      "\n",
      "INFO - Sending next command(588): '2PR79\\r\\n'\n"
     ]
    },
    {
     "name": "stdout",
     "output_type": "stream",
     "text": [
      "780\n",
      "1\n"
     ]
    },
    {
     "name": "stderr",
     "output_type": "stream",
     "text": [
      "INFO - Motor 2: movement ceased. Continuing with command buffer.\n",
      "\n",
      "INFO - Channel: 1 position: 258.837890625\n",
      "INFO - Response: ''\n",
      "\n",
      "INFO - Sending next command(589): '2PR55\\r\\n'\n"
     ]
    },
    {
     "name": "stdout",
     "output_type": "stream",
     "text": [
      "780\n",
      "1\n"
     ]
    },
    {
     "name": "stderr",
     "output_type": "stream",
     "text": [
      "INFO - Motor 2: movement ceased. Continuing with command buffer.\n",
      "\n",
      "INFO - Channel: 1 position: 260.112304688\n",
      "INFO - Response: ''\n",
      "\n",
      "INFO - Sending next command(590): '2PR38\\r\\n'\n"
     ]
    },
    {
     "name": "stdout",
     "output_type": "stream",
     "text": [
      "780\n",
      "1\n"
     ]
    },
    {
     "name": "stderr",
     "output_type": "stream",
     "text": [
      "INFO - Motor 2: movement ceased. Continuing with command buffer.\n",
      "\n",
      "INFO - Channel: 1 position: 261.123046875\n",
      "INFO - Response: ''\n",
      "\n",
      "INFO - Sending next command(591): '2PR25\\r\\n'\n"
     ]
    },
    {
     "name": "stdout",
     "output_type": "stream",
     "text": [
      "780\n",
      "1\n"
     ]
    },
    {
     "name": "stderr",
     "output_type": "stream",
     "text": [
      "INFO - Motor 2: movement ceased. Continuing with command buffer.\n",
      "\n",
      "INFO - Channel: 1 position: 261.782226562\n",
      "INFO - Response: ''\n",
      "\n",
      "INFO - Sending next command(592): '2PR16\\r\\n'\n"
     ]
    },
    {
     "name": "stdout",
     "output_type": "stream",
     "text": [
      "780\n",
      "1\n"
     ]
    },
    {
     "name": "stderr",
     "output_type": "stream",
     "text": [
      "INFO - Motor 2: movement ceased. Continuing with command buffer.\n",
      "\n",
      "INFO - Channel: 1 position: 262.265625\n",
      "INFO - Response: ''\n",
      "\n",
      "INFO - Sending next command(593): '2PR10\\r\\n'\n"
     ]
    },
    {
     "name": "stdout",
     "output_type": "stream",
     "text": [
      "780\n",
      "1\n"
     ]
    },
    {
     "name": "stderr",
     "output_type": "stream",
     "text": [
      "INFO - Motor 2: movement ceased. Continuing with command buffer.\n",
      "\n",
      "INFO - Channel: 1 position: 262.529296875\n",
      "INFO - Response: ''\n",
      "\n",
      "INFO - Sending next command(594): '2PR6\\r\\n'\n"
     ]
    },
    {
     "name": "stdout",
     "output_type": "stream",
     "text": [
      "780\n",
      "1\n"
     ]
    },
    {
     "name": "stderr",
     "output_type": "stream",
     "text": [
      "INFO - Motor 2: movement ceased. Continuing with command buffer.\n",
      "\n",
      "INFO - Channel: 1 position: 262.705078125\n",
      "INFO - Response: ''\n",
      "\n",
      "INFO - Sending next command(595): '2PR4\\r\\n'\n"
     ]
    },
    {
     "name": "stdout",
     "output_type": "stream",
     "text": [
      "780\n",
      "1\n"
     ]
    },
    {
     "name": "stderr",
     "output_type": "stream",
     "text": [
      "INFO - Motor 2: movement ceased. Continuing with command buffer.\n",
      "\n",
      "INFO - Channel: 1 position: 262.79296875\n",
      "INFO - Response: ''\n",
      "\n",
      "INFO - Sending next command(596): '2PR3\\r\\n'\n"
     ]
    },
    {
     "name": "stdout",
     "output_type": "stream",
     "text": [
      "780\n",
      "1\n"
     ]
    },
    {
     "name": "stderr",
     "output_type": "stream",
     "text": [
      "INFO - Motor 2: movement ceased. Continuing with command buffer.\n",
      "\n",
      "INFO - Channel: 1 position: 262.880859375\n",
      "INFO - Response: ''\n",
      "\n",
      "INFO - Sending next command(597): '2PR2\\r\\n'\n"
     ]
    },
    {
     "name": "stdout",
     "output_type": "stream",
     "text": [
      "780\n",
      "1\n"
     ]
    },
    {
     "name": "stderr",
     "output_type": "stream",
     "text": [
      "INFO - Motor 2: movement ceased. Continuing with command buffer.\n",
      "\n",
      "INFO - Channel: 1 position: 262.924804688\n",
      "INFO - Response: ''\n",
      "\n",
      "INFO - Sending next command(598): '2PR1\\r\\n'\n"
     ]
    },
    {
     "name": "stdout",
     "output_type": "stream",
     "text": [
      "780\n",
      "1\n"
     ]
    },
    {
     "name": "stderr",
     "output_type": "stream",
     "text": [
      "INFO - Motor 2: movement ceased. Continuing with command buffer.\n",
      "\n",
      "INFO - Channel: 1 position: 262.96875\n",
      "INFO - Response: ''\n",
      "\n",
      "INFO - Sending next command(599): '2PR1\\r\\n'\n"
     ]
    },
    {
     "name": "stdout",
     "output_type": "stream",
     "text": [
      "780\n",
      "1\n"
     ]
    },
    {
     "name": "stderr",
     "output_type": "stream",
     "text": [
      "INFO - Motor 2: movement ceased. Continuing with command buffer.\n",
      "\n",
      "INFO - Channel: 1 position: 262.96875\n",
      "INFO - New motor position is 262.96875 deg, error -0.03125 deg.\n",
      "INFO - Channel: 1 position: 262.96875\n",
      "INFO - Channel: 1 position: 262.96875\n",
      "INFO - avg_steps: -3476.40625\n",
      "INFO - Need to go negative. Current position 262.96875 DEG. Setpoint 80 DEG. Steps to be taken: -4476\n",
      "INFO - Response: ''\n",
      "\n",
      "INFO - Sending next command(600): '2PR-4476\\r\\n'\n"
     ]
    },
    {
     "name": "stdout",
     "output_type": "stream",
     "text": [
      "780\n",
      "1\n",
      "780\n",
      "1\n",
      "780\n",
      "1\n"
     ]
    },
    {
     "name": "stderr",
     "output_type": "stream",
     "text": [
      "INFO - Motor 2: movement ceased. Continuing with command buffer.\n",
      "\n",
      "INFO - Channel: 1 position: 33.3544921875\n",
      "INFO - Response: ''\n",
      "\n",
      "INFO - Sending next command(601): '2PR620\\r\\n'\n"
     ]
    },
    {
     "name": "stdout",
     "output_type": "stream",
     "text": [
      "780\n",
      "1\n"
     ]
    },
    {
     "name": "stderr",
     "output_type": "stream",
     "text": [
      "INFO - Motor 2: movement ceased. Continuing with command buffer.\n",
      "\n",
      "INFO - Channel: 1 position: 71.4111328125\n",
      "INFO - Response: ''\n",
      "\n",
      "INFO - Sending next command(602): '2PR114\\r\\n'\n"
     ]
    },
    {
     "name": "stdout",
     "output_type": "stream",
     "text": [
      "780\n",
      "1\n"
     ]
    },
    {
     "name": "stderr",
     "output_type": "stream",
     "text": [
      "INFO - Motor 2: movement ceased. Continuing with command buffer.\n",
      "\n",
      "INFO - Channel: 1 position: 78.7939453125\n",
      "INFO - Response: ''\n",
      "\n",
      "INFO - Sending next command(603): '2PR16\\r\\n'\n"
     ]
    },
    {
     "name": "stdout",
     "output_type": "stream",
     "text": [
      "780\n",
      "1\n"
     ]
    },
    {
     "name": "stderr",
     "output_type": "stream",
     "text": [
      "INFO - Motor 2: movement ceased. Continuing with command buffer.\n",
      "\n",
      "INFO - Channel: 1 position: 79.9365234375\n",
      "INFO - Response: ''\n",
      "\n",
      "INFO - Sending next command(604): '2PR1\\r\\n'\n"
     ]
    },
    {
     "name": "stdout",
     "output_type": "stream",
     "text": [
      "780\n",
      "1\n"
     ]
    },
    {
     "name": "stderr",
     "output_type": "stream",
     "text": [
      "INFO - Motor 2: movement ceased. Continuing with command buffer.\n",
      "\n",
      "INFO - Channel: 1 position: 80.0244140625\n",
      "INFO - New motor position is 80.0244140625 deg, error 0.0244140625 deg.\n",
      "INFO - Channel: 1 position: 80.0244140625\n",
      "INFO - Channel: 1 position: 80.0244140625\n",
      "INFO - avg_steps: 5110.53613281\n",
      "INFO - Channel: 1 position: 80.0244140625\n",
      "INFO - Response: ''\n",
      "\n",
      "INFO - Sending next command(605): '2PR3577\\r\\n'\n"
     ]
    },
    {
     "name": "stdout",
     "output_type": "stream",
     "text": [
      "780\n",
      "1\n",
      "780\n",
      "1\n",
      "780\n",
      "1\n",
      "780\n",
      "1\n"
     ]
    },
    {
     "name": "stderr",
     "output_type": "stream",
     "text": [
      "INFO - Motor 2: movement ceased. Continuing with command buffer.\n",
      "\n",
      "INFO - Channel: 1 position: 178.989257812\n",
      "INFO - Response: ''\n",
      "\n",
      "INFO - Sending next command(606): '2PR2261\\r\\n'\n"
     ]
    },
    {
     "name": "stdout",
     "output_type": "stream",
     "text": [
      "780\n",
      "1\n"
     ]
    },
    {
     "name": "stderr",
     "output_type": "stream",
     "text": [
      "INFO - Motor 2: movement ceased. Continuing with command buffer.\n",
      "\n",
      "INFO - Channel: 1 position: 218.452148438\n",
      "INFO - Response: ''\n",
      "\n",
      "INFO - Sending next command(607): '2PR1736\\r\\n'\n"
     ]
    },
    {
     "name": "stdout",
     "output_type": "stream",
     "text": [
      "780\n",
      "1\n"
     ]
    },
    {
     "name": "stderr",
     "output_type": "stream",
     "text": [
      "INFO - Motor 2: movement ceased. Continuing with command buffer.\n",
      "\n",
      "INFO - Channel: 1 position: 251.54296875\n",
      "INFO - Response: ''\n",
      "\n",
      "INFO - Sending next command(608): '2PR1296\\r\\n'\n"
     ]
    },
    {
     "name": "stdout",
     "output_type": "stream",
     "text": [
      "780\n",
      "1\n"
     ]
    },
    {
     "name": "stderr",
     "output_type": "stream",
     "text": [
      "INFO - Motor 2: movement ceased. Continuing with command buffer.\n",
      "\n",
      "INFO - Channel: 1 position: 273.295898438\n",
      "INFO - Response: ''\n",
      "\n",
      "INFO - Sending next command(609): '2PR1007\\r\\n'\n"
     ]
    },
    {
     "name": "stdout",
     "output_type": "stream",
     "text": [
      "780\n",
      "1\n"
     ]
    },
    {
     "name": "stderr",
     "output_type": "stream",
     "text": [
      "INFO - Motor 2: movement ceased. Continuing with command buffer.\n",
      "\n",
      "INFO - Channel: 1 position: 287.314453125\n",
      "INFO - Response: ''\n",
      "\n",
      "INFO - Sending next command(610): '2PR820\\r\\n'\n"
     ]
    },
    {
     "name": "stdout",
     "output_type": "stream",
     "text": [
      "780\n",
      "1\n"
     ]
    },
    {
     "name": "stderr",
     "output_type": "stream",
     "text": [
      "INFO - Motor 2: movement ceased. Continuing with command buffer.\n",
      "\n",
      "INFO - Channel: 1 position: 298.564453125\n",
      "INFO - Response: ''\n",
      "\n",
      "INFO - Sending next command(611): '2PR671\\r\\n'\n"
     ]
    },
    {
     "name": "stdout",
     "output_type": "stream",
     "text": [
      "780\n",
      "1\n"
     ]
    },
    {
     "name": "stderr",
     "output_type": "stream",
     "text": [
      "INFO - Motor 2: movement ceased. Continuing with command buffer.\n",
      "\n",
      "INFO - Channel: 1 position: 308.49609375\n",
      "INFO - Response: ''\n",
      "\n",
      "INFO - Sending next command(612): '2PR539\\r\\n'\n"
     ]
    },
    {
     "name": "stdout",
     "output_type": "stream",
     "text": [
      "780\n",
      "1\n"
     ]
    },
    {
     "name": "stderr",
     "output_type": "stream",
     "text": [
      "INFO - Motor 2: movement ceased. Continuing with command buffer.\n",
      "\n",
      "INFO - Channel: 1 position: 316.23046875\n",
      "INFO - Response: ''\n",
      "\n",
      "INFO - Sending next command(613): '2PR436\\r\\n'\n"
     ]
    },
    {
     "name": "stdout",
     "output_type": "stream",
     "text": [
      "780\n",
      "1\n"
     ]
    },
    {
     "name": "stderr",
     "output_type": "stream",
     "text": [
      "INFO - Motor 2: movement ceased. Continuing with command buffer.\n",
      "\n",
      "INFO - Channel: 1 position: 321.811523438\n",
      "INFO - Response: ''\n",
      "\n",
      "INFO - Sending next command(614): '2PR362\\r\\n'\n"
     ]
    },
    {
     "name": "stdout",
     "output_type": "stream",
     "text": [
      "780\n",
      "1\n"
     ]
    },
    {
     "name": "stderr",
     "output_type": "stream",
     "text": [
      "INFO - Motor 2: movement ceased. Continuing with command buffer.\n",
      "\n",
      "INFO - Channel: 1 position: 326.25\n",
      "INFO - Response: ''\n",
      "\n",
      "INFO - Sending next command(615): '2PR303\\r\\n'\n"
     ]
    },
    {
     "name": "stdout",
     "output_type": "stream",
     "text": [
      "780\n",
      "1\n"
     ]
    },
    {
     "name": "stderr",
     "output_type": "stream",
     "text": [
      "INFO - Motor 2: movement ceased. Continuing with command buffer.\n",
      "\n",
      "INFO - Channel: 1 position: 330.688476562\n",
      "INFO - Response: ''\n",
      "\n",
      "INFO - Sending next command(616): '2PR244\\r\\n'\n"
     ]
    },
    {
     "name": "stdout",
     "output_type": "stream",
     "text": [
      "780\n",
      "1\n"
     ]
    },
    {
     "name": "stderr",
     "output_type": "stream",
     "text": [
      "INFO - Motor 2: movement ceased. Continuing with command buffer.\n",
      "\n",
      "INFO - Channel: 1 position: 334.775390625\n",
      "INFO - Response: ''\n",
      "\n",
      "INFO - Sending next command(617): '2PR189\\r\\n'\n"
     ]
    },
    {
     "name": "stdout",
     "output_type": "stream",
     "text": [
      "780\n",
      "1\n"
     ]
    },
    {
     "name": "stderr",
     "output_type": "stream",
     "text": [
      "INFO - Motor 2: movement ceased. Continuing with command buffer.\n",
      "\n",
      "INFO - Channel: 1 position: 338.02734375\n",
      "INFO - Response: ''\n",
      "\n",
      "INFO - Sending next command(618): '2PR146\\r\\n'\n"
     ]
    },
    {
     "name": "stdout",
     "output_type": "stream",
     "text": [
      "780\n",
      "1\n"
     ]
    },
    {
     "name": "stderr",
     "output_type": "stream",
     "text": [
      "INFO - Motor 2: movement ceased. Continuing with command buffer.\n",
      "\n",
      "INFO - Channel: 1 position: 340.6640625\n",
      "INFO - Response: ''\n",
      "\n",
      "INFO - Sending next command(619): '2PR111\\r\\n'\n"
     ]
    },
    {
     "name": "stdout",
     "output_type": "stream",
     "text": [
      "780\n",
      "1\n"
     ]
    },
    {
     "name": "stderr",
     "output_type": "stream",
     "text": [
      "INFO - Motor 2: movement ceased. Continuing with command buffer.\n",
      "\n",
      "INFO - Channel: 1 position: 342.685546875\n",
      "INFO - Response: ''\n",
      "\n",
      "INFO - Sending next command(620): '2PR84\\r\\n'\n"
     ]
    },
    {
     "name": "stdout",
     "output_type": "stream",
     "text": [
      "780\n",
      "1\n"
     ]
    },
    {
     "name": "stderr",
     "output_type": "stream",
     "text": [
      "INFO - Motor 2: movement ceased. Continuing with command buffer.\n",
      "\n",
      "INFO - Channel: 1 position: 344.223632812\n",
      "INFO - Response: ''\n",
      "\n",
      "INFO - Sending next command(621): '2PR64\\r\\n'\n"
     ]
    },
    {
     "name": "stdout",
     "output_type": "stream",
     "text": [
      "780\n",
      "1\n"
     ]
    },
    {
     "name": "stderr",
     "output_type": "stream",
     "text": [
      "INFO - Motor 2: movement ceased. Continuing with command buffer.\n",
      "\n",
      "INFO - Channel: 1 position: 345.454101562\n",
      "INFO - Response: ''\n",
      "\n",
      "INFO - Sending next command(622): '2PR47\\r\\n'\n"
     ]
    },
    {
     "name": "stdout",
     "output_type": "stream",
     "text": [
      "780\n",
      "1\n"
     ]
    },
    {
     "name": "stderr",
     "output_type": "stream",
     "text": [
      "INFO - Motor 2: movement ceased. Continuing with command buffer.\n",
      "\n",
      "INFO - Channel: 1 position: 346.376953125\n",
      "INFO - Response: ''\n",
      "\n",
      "INFO - Sending next command(623): '2PR35\\r\\n'\n"
     ]
    },
    {
     "name": "stdout",
     "output_type": "stream",
     "text": [
      "780\n",
      "1\n"
     ]
    },
    {
     "name": "stderr",
     "output_type": "stream",
     "text": [
      "INFO - Motor 2: movement ceased. Continuing with command buffer.\n",
      "\n",
      "INFO - Channel: 1 position: 347.080078125\n",
      "INFO - Response: ''\n",
      "\n",
      "INFO - Sending next command(624): '2PR26\\r\\n'\n"
     ]
    },
    {
     "name": "stdout",
     "output_type": "stream",
     "text": [
      "780\n",
      "1\n"
     ]
    },
    {
     "name": "stderr",
     "output_type": "stream",
     "text": [
      "INFO - Motor 2: movement ceased. Continuing with command buffer.\n",
      "\n",
      "INFO - Channel: 1 position: 347.6953125\n",
      "ERROR - Current position 347.6953125 deg. Setpoint not achieved by -1.3046875 deg after max iterations.\n",
      "INFO - Channel: 1 position: 347.6953125\n",
      "INFO - Channel: 1 position: 347.6953125\n",
      "INFO - avg_steps: -6093.2109375\n",
      "INFO - Need to go negative. Current position 347.6953125 DEG. Setpoint 27 DEG. Steps to be taken: -7093\n",
      "INFO - Response: ''\n",
      "\n",
      "INFO - Sending next command(625): '2PR-7093\\r\\n'\n"
     ]
    },
    {
     "name": "stdout",
     "output_type": "stream",
     "text": [
      "780\n",
      "1\n",
      "780\n",
      "1\n",
      "780\n",
      "1\n"
     ]
    },
    {
     "name": "stderr",
     "output_type": "stream",
     "text": [
      "INFO - Motor 2: movement ceased. Continuing with command buffer.\n",
      "\n",
      "INFO - Channel: 1 position: -6.6796875\n",
      "INFO - Response: ''\n",
      "\n",
      "INFO - Sending next command(626): '2PR448\\r\\n'\n"
     ]
    },
    {
     "name": "stdout",
     "output_type": "stream",
     "text": [
      "780\n",
      "1\n"
     ]
    },
    {
     "name": "stderr",
     "output_type": "stream",
     "text": [
      "INFO - Motor 2: movement ceased. Continuing with command buffer.\n",
      "\n",
      "INFO - Channel: 1 position: 20.3466796875\n",
      "INFO - Response: ''\n",
      "\n",
      "INFO - Sending next command(627): '2PR88\\r\\n'\n"
     ]
    },
    {
     "name": "stdout",
     "output_type": "stream",
     "text": [
      "780\n",
      "1\n"
     ]
    },
    {
     "name": "stderr",
     "output_type": "stream",
     "text": [
      "INFO - Motor 2: movement ceased. Continuing with command buffer.\n",
      "\n",
      "INFO - Channel: 1 position: 25.927734375\n",
      "INFO - Response: ''\n",
      "\n",
      "INFO - Sending next command(628): '2PR14\\r\\n'\n"
     ]
    },
    {
     "name": "stdout",
     "output_type": "stream",
     "text": [
      "780\n",
      "1\n"
     ]
    },
    {
     "name": "stderr",
     "output_type": "stream",
     "text": [
      "INFO - Motor 2: movement ceased. Continuing with command buffer.\n",
      "\n",
      "INFO - Channel: 1 position: 26.982421875\n",
      "INFO - New motor position is 26.982421875 deg, error -0.017578125 deg.\n",
      "INFO - Channel: 1 position: 26.982421875\n",
      "INFO - Channel: 1 position: 26.982421875\n",
      "INFO - avg_steps: 570.333984375\n",
      "INFO - Channel: 1 position: 26.982421875\n",
      "INFO - Response: ''\n",
      "\n",
      "INFO - Sending next command(629): '2PR399\\r\\n'\n"
     ]
    },
    {
     "name": "stdout",
     "output_type": "stream",
     "text": [
      "780\n",
      "1\n",
      "780\n",
      "1\n",
      "780\n",
      "1\n",
      "780\n",
      "1\n"
     ]
    },
    {
     "name": "stderr",
     "output_type": "stream",
     "text": [
      "INFO - Motor 2: movement ceased. Continuing with command buffer.\n",
      "\n",
      "INFO - Channel: 1 position: 51.3720703125\n",
      "INFO - Response: ''\n",
      "\n",
      "INFO - Sending next command(630): '2PR75\\r\\n'\n"
     ]
    },
    {
     "name": "stdout",
     "output_type": "stream",
     "text": [
      "780\n",
      "1\n"
     ]
    },
    {
     "name": "stderr",
     "output_type": "stream",
     "text": [
      "INFO - Motor 2: movement ceased. Continuing with command buffer.\n",
      "\n",
      "INFO - Channel: 1 position: 56.42578125\n",
      "INFO - Response: ''\n",
      "\n",
      "INFO - Sending next command(631): '2PR8\\r\\n'\n"
     ]
    },
    {
     "name": "stdout",
     "output_type": "stream",
     "text": [
      "780\n",
      "1\n"
     ]
    },
    {
     "name": "stderr",
     "output_type": "stream",
     "text": [
      "INFO - Motor 2: movement ceased. Continuing with command buffer.\n",
      "\n",
      "INFO - Channel: 1 position: 56.9970703125\n",
      "INFO - New motor position is 56.9970703125 deg, error -0.0029296875 deg.\n",
      "INFO - Channel: 1 position: 56.9970703125\n",
      "INFO - Channel: 1 position: 56.9970703125\n",
      "INFO - avg_steps: -588.944335938\n",
      "INFO - Need to go negative. Current position 56.9970703125 DEG. Setpoint 26 DEG. Steps to be taken: -1589\n",
      "INFO - Response: ''\n",
      "\n",
      "INFO - Sending next command(632): '2PR-1589\\r\\n'\n"
     ]
    },
    {
     "name": "stdout",
     "output_type": "stream",
     "text": [
      "780\n",
      "1\n",
      "780\n",
      "1\n",
      "780\n",
      "1\n"
     ]
    },
    {
     "name": "stderr",
     "output_type": "stream",
     "text": [
      "INFO - Motor 2: movement ceased. Continuing with command buffer.\n",
      "\n",
      "INFO - Channel: 1 position: -23.291015625\n",
      "INFO - Response: ''\n",
      "\n",
      "INFO - Sending next command(633): '2PR656\\r\\n'\n"
     ]
    },
    {
     "name": "stdout",
     "output_type": "stream",
     "text": [
      "780\n",
      "1\n"
     ]
    },
    {
     "name": "stderr",
     "output_type": "stream",
     "text": [
      "INFO - Motor 2: movement ceased. Continuing with command buffer.\n",
      "\n",
      "INFO - Channel: 1 position: 16.259765625\n",
      "INFO - Response: ''\n",
      "\n",
      "INFO - Sending next command(634): '2PR130\\r\\n'\n"
     ]
    },
    {
     "name": "stdout",
     "output_type": "stream",
     "text": [
      "780\n",
      "1\n"
     ]
    },
    {
     "name": "stderr",
     "output_type": "stream",
     "text": [
      "INFO - Motor 2: movement ceased. Continuing with command buffer.\n",
      "\n",
      "INFO - Channel: 1 position: 24.2578125\n",
      "INFO - Response: ''\n",
      "\n",
      "INFO - Sending next command(635): '2PR23\\r\\n'\n"
     ]
    },
    {
     "name": "stdout",
     "output_type": "stream",
     "text": [
      "780\n",
      "1\n"
     ]
    },
    {
     "name": "stderr",
     "output_type": "stream",
     "text": [
      "INFO - Motor 2: movement ceased. Continuing with command buffer.\n",
      "\n",
      "INFO - Channel: 1 position: 25.9716796875\n",
      "INFO - Response: ''\n",
      "\n",
      "INFO - Sending next command(636): '2PR1\\r\\n'\n"
     ]
    },
    {
     "name": "stdout",
     "output_type": "stream",
     "text": [
      "780\n",
      "1\n"
     ]
    },
    {
     "name": "stderr",
     "output_type": "stream",
     "text": [
      "INFO - Motor 2: movement ceased. Continuing with command buffer.\n",
      "\n",
      "INFO - Channel: 1 position: 26.015625\n",
      "INFO - New motor position is 26.015625 deg, error 0.015625 deg.\n",
      "INFO - Channel: 1 position: 26.015625\n",
      "INFO - Channel: 1 position: 26.015625\n",
      "INFO - avg_steps: 4445.703125\n",
      "INFO - Channel: 1 position: 26.015625\n",
      "INFO - Response: ''\n",
      "\n",
      "INFO - Sending next command(637): '2PR3112\\r\\n'\n"
     ]
    },
    {
     "name": "stdout",
     "output_type": "stream",
     "text": [
      "780\n",
      "1\n",
      "780\n",
      "1\n",
      "780\n",
      "1\n",
      "780\n",
      "1\n"
     ]
    },
    {
     "name": "stderr",
     "output_type": "stream",
     "text": [
      "INFO - Motor 2: movement ceased. Continuing with command buffer.\n",
      "\n",
      "INFO - Channel: 1 position: 151.567382812\n",
      "INFO - Response: ''\n",
      "\n",
      "INFO - Sending next command(638): '2PR1442\\r\\n'\n"
     ]
    },
    {
     "name": "stdout",
     "output_type": "stream",
     "text": [
      "780\n",
      "1\n"
     ]
    },
    {
     "name": "stderr",
     "output_type": "stream",
     "text": [
      "INFO - Motor 2: movement ceased. Continuing with command buffer.\n",
      "\n",
      "INFO - Channel: 1 position: 175.913085938\n",
      "INFO - Response: ''\n",
      "\n",
      "INFO - Sending next command(639): '2PR1118\\r\\n'\n"
     ]
    },
    {
     "name": "stdout",
     "output_type": "stream",
     "text": [
      "780\n",
      "1\n"
     ]
    },
    {
     "name": "stderr",
     "output_type": "stream",
     "text": [
      "INFO - Motor 2: movement ceased. Continuing with command buffer.\n",
      "\n",
      "INFO - Channel: 1 position: 195.99609375\n",
      "INFO - Response: ''\n",
      "\n",
      "INFO - Sending next command(640): '2PR851\\r\\n'\n"
     ]
    },
    {
     "name": "stdout",
     "output_type": "stream",
     "text": [
      "780\n",
      "1\n"
     ]
    },
    {
     "name": "stderr",
     "output_type": "stream",
     "text": [
      "INFO - Motor 2: movement ceased. Continuing with command buffer.\n",
      "\n",
      "INFO - Channel: 1 position: 212.299804688\n",
      "INFO - Response: ''\n",
      "\n",
      "INFO - Sending next command(641): '2PR634\\r\\n'\n"
     ]
    },
    {
     "name": "stdout",
     "output_type": "stream",
     "text": [
      "780\n",
      "1\n"
     ]
    },
    {
     "name": "stderr",
     "output_type": "stream",
     "text": [
      "INFO - Motor 2: movement ceased. Continuing with command buffer.\n",
      "\n",
      "INFO - Channel: 1 position: 225.439453125\n",
      "INFO - Response: ''\n",
      "\n",
      "INFO - Sending next command(642): '2PR460\\r\\n'\n"
     ]
    },
    {
     "name": "stdout",
     "output_type": "stream",
     "text": [
      "780\n",
      "1\n"
     ]
    },
    {
     "name": "stderr",
     "output_type": "stream",
     "text": [
      "INFO - Motor 2: movement ceased. Continuing with command buffer.\n",
      "\n",
      "INFO - Channel: 1 position: 235.063476562\n",
      "INFO - Response: ''\n",
      "\n",
      "INFO - Sending next command(643): '2PR332\\r\\n'\n"
     ]
    },
    {
     "name": "stdout",
     "output_type": "stream",
     "text": [
      "780\n",
      "1\n"
     ]
    },
    {
     "name": "stderr",
     "output_type": "stream",
     "text": [
      "INFO - Motor 2: movement ceased. Continuing with command buffer.\n",
      "\n",
      "INFO - Channel: 1 position: 241.787109375\n",
      "INFO - Response: ''\n",
      "\n",
      "INFO - Sending next command(644): '2PR242\\r\\n'\n"
     ]
    },
    {
     "name": "stdout",
     "output_type": "stream",
     "text": [
      "780\n",
      "1\n"
     ]
    },
    {
     "name": "stderr",
     "output_type": "stream",
     "text": [
      "INFO - Motor 2: movement ceased. Continuing with command buffer.\n",
      "\n",
      "INFO - Channel: 1 position: 246.928710938\n",
      "INFO - Response: ''\n",
      "\n",
      "INFO - Sending next command(645): '2PR174\\r\\n'\n"
     ]
    },
    {
     "name": "stdout",
     "output_type": "stream",
     "text": [
      "780\n",
      "1\n"
     ]
    },
    {
     "name": "stderr",
     "output_type": "stream",
     "text": [
      "INFO - Motor 2: movement ceased. Continuing with command buffer.\n",
      "\n",
      "INFO - Channel: 1 position: 250.620117188\n",
      "INFO - Response: ''\n",
      "\n",
      "INFO - Sending next command(646): '2PR125\\r\\n'\n"
     ]
    },
    {
     "name": "stdout",
     "output_type": "stream",
     "text": [
      "780\n",
      "1\n"
     ]
    },
    {
     "name": "stderr",
     "output_type": "stream",
     "text": [
      "INFO - Motor 2: movement ceased. Continuing with command buffer.\n",
      "\n",
      "INFO - Channel: 1 position: 253.30078125\n",
      "INFO - Response: ''\n",
      "\n",
      "INFO - Sending next command(647): '2PR89\\r\\n'\n"
     ]
    },
    {
     "name": "stdout",
     "output_type": "stream",
     "text": [
      "780\n",
      "1\n"
     ]
    },
    {
     "name": "stderr",
     "output_type": "stream",
     "text": [
      "INFO - Motor 2: movement ceased. Continuing with command buffer.\n",
      "\n",
      "INFO - Channel: 1 position: 255.322265625\n",
      "INFO - Response: ''\n",
      "\n",
      "INFO - Sending next command(648): '2PR62\\r\\n'\n"
     ]
    },
    {
     "name": "stdout",
     "output_type": "stream",
     "text": [
      "780\n",
      "1\n"
     ]
    },
    {
     "name": "stderr",
     "output_type": "stream",
     "text": [
      "INFO - Motor 2: movement ceased. Continuing with command buffer.\n",
      "\n",
      "INFO - Channel: 1 position: 256.772460938\n",
      "INFO - Response: ''\n",
      "\n",
      "INFO - Sending next command(649): '2PR43\\r\\n'\n"
     ]
    },
    {
     "name": "stdout",
     "output_type": "stream",
     "text": [
      "780\n",
      "1\n"
     ]
    },
    {
     "name": "stderr",
     "output_type": "stream",
     "text": [
      "INFO - Motor 2: movement ceased. Continuing with command buffer.\n",
      "\n",
      "INFO - Channel: 1 position: 257.827148438\n",
      "INFO - Response: ''\n",
      "\n",
      "INFO - Sending next command(650): '2PR29\\r\\n'\n"
     ]
    },
    {
     "name": "stdout",
     "output_type": "stream",
     "text": [
      "780\n",
      "1\n"
     ]
    },
    {
     "name": "stderr",
     "output_type": "stream",
     "text": [
      "INFO - Motor 2: movement ceased. Continuing with command buffer.\n",
      "\n",
      "INFO - Channel: 1 position: 258.618164062\n",
      "INFO - Response: ''\n",
      "\n",
      "INFO - Sending next command(651): '2PR18\\r\\n'\n"
     ]
    },
    {
     "name": "stdout",
     "output_type": "stream",
     "text": [
      "780\n",
      "1\n"
     ]
    },
    {
     "name": "stderr",
     "output_type": "stream",
     "text": [
      "INFO - Motor 2: movement ceased. Continuing with command buffer.\n",
      "\n",
      "INFO - Channel: 1 position: 259.145507812\n",
      "INFO - Response: ''\n",
      "\n",
      "INFO - Sending next command(652): '2PR11\\r\\n'\n"
     ]
    },
    {
     "name": "stdout",
     "output_type": "stream",
     "text": [
      "780\n",
      "1\n"
     ]
    },
    {
     "name": "stderr",
     "output_type": "stream",
     "text": [
      "INFO - Motor 2: movement ceased. Continuing with command buffer.\n",
      "\n",
      "INFO - Channel: 1 position: 259.497070312\n",
      "INFO - Response: ''\n",
      "\n",
      "INFO - Sending next command(653): '2PR7\\r\\n'\n"
     ]
    },
    {
     "name": "stdout",
     "output_type": "stream",
     "text": [
      "780\n",
      "1\n"
     ]
    },
    {
     "name": "stderr",
     "output_type": "stream",
     "text": [
      "INFO - Motor 2: movement ceased. Continuing with command buffer.\n",
      "\n",
      "INFO - Channel: 1 position: 259.672851562\n",
      "INFO - Response: ''\n",
      "\n",
      "INFO - Sending next command(654): '2PR4\\r\\n'\n"
     ]
    },
    {
     "name": "stdout",
     "output_type": "stream",
     "text": [
      "780\n",
      "1\n"
     ]
    },
    {
     "name": "stderr",
     "output_type": "stream",
     "text": [
      "INFO - Motor 2: movement ceased. Continuing with command buffer.\n",
      "\n",
      "INFO - Channel: 1 position: 259.8046875\n",
      "INFO - Response: ''\n",
      "\n",
      "INFO - Sending next command(655): '2PR3\\r\\n'\n"
     ]
    },
    {
     "name": "stdout",
     "output_type": "stream",
     "text": [
      "780\n",
      "1\n"
     ]
    },
    {
     "name": "stderr",
     "output_type": "stream",
     "text": [
      "INFO - Motor 2: movement ceased. Continuing with command buffer.\n",
      "\n",
      "INFO - Channel: 1 position: 259.848632812\n",
      "INFO - Response: ''\n",
      "\n",
      "INFO - Sending next command(656): '2PR2\\r\\n'\n"
     ]
    },
    {
     "name": "stdout",
     "output_type": "stream",
     "text": [
      "780\n",
      "1\n"
     ]
    },
    {
     "name": "stderr",
     "output_type": "stream",
     "text": [
      "INFO - Motor 2: movement ceased. Continuing with command buffer.\n",
      "\n",
      "INFO - Channel: 1 position: 259.936523438\n",
      "INFO - New motor position is 259.936523438 deg, error -0.0634765625 deg.\n",
      "INFO - Channel: 1 position: 259.936523438\n",
      "INFO - Channel: 1 position: 259.936523438\n",
      "INFO - avg_steps: -2943.79394531\n",
      "INFO - Need to go negative. Current position 259.936523438 DEG. Setpoint 105 DEG. Steps to be taken: -3944\n",
      "INFO - Response: ''\n",
      "\n",
      "INFO - Sending next command(657): '2PR-3944\\r\\n'\n"
     ]
    },
    {
     "name": "stdout",
     "output_type": "stream",
     "text": [
      "780\n",
      "1\n",
      "780\n",
      "1\n",
      "780\n",
      "1\n"
     ]
    },
    {
     "name": "stderr",
     "output_type": "stream",
     "text": [
      "INFO - Motor 2: movement ceased. Continuing with command buffer.\n",
      "\n",
      "INFO - Channel: 1 position: 61.2158203125\n",
      "INFO - Response: ''\n",
      "\n",
      "INFO - Sending next command(658): '2PR582\\r\\n'\n"
     ]
    },
    {
     "name": "stdout",
     "output_type": "stream",
     "text": [
      "780\n",
      "1\n"
     ]
    },
    {
     "name": "stderr",
     "output_type": "stream",
     "text": [
      "INFO - Motor 2: movement ceased. Continuing with command buffer.\n",
      "\n",
      "INFO - Channel: 1 position: 96.9873046875\n",
      "INFO - Response: ''\n",
      "\n",
      "INFO - Sending next command(659): '2PR107\\r\\n'\n"
     ]
    },
    {
     "name": "stdout",
     "output_type": "stream",
     "text": [
      "780\n",
      "1\n"
     ]
    },
    {
     "name": "stderr",
     "output_type": "stream",
     "text": [
      "INFO - Motor 2: movement ceased. Continuing with command buffer.\n",
      "\n",
      "INFO - Channel: 1 position: 104.150390625\n",
      "INFO - Response: ''\n",
      "\n",
      "INFO - Sending next command(660): '2PR11\\r\\n'\n"
     ]
    },
    {
     "name": "stdout",
     "output_type": "stream",
     "text": [
      "780\n",
      "1\n"
     ]
    },
    {
     "name": "stderr",
     "output_type": "stream",
     "text": [
      "INFO - Motor 2: movement ceased. Continuing with command buffer.\n",
      "\n",
      "INFO - Channel: 1 position: 104.94140625\n",
      "INFO - Response: ''\n",
      "\n",
      "INFO - Sending next command(661): '2PR1\\r\\n'\n"
     ]
    },
    {
     "name": "stdout",
     "output_type": "stream",
     "text": [
      "780\n",
      "1\n"
     ]
    },
    {
     "name": "stderr",
     "output_type": "stream",
     "text": [
      "INFO - Motor 2: movement ceased. Continuing with command buffer.\n",
      "\n",
      "INFO - Channel: 1 position: 104.985351562\n",
      "INFO - New motor position is 104.985351562 deg, error -0.0146484375 deg.\n",
      "INFO - Channel: 1 position: 104.985351562\n",
      "INFO - Channel: 1 position: 104.985351562\n",
      "INFO - avg_steps: 5586.27832031\n",
      "INFO - Channel: 1 position: 104.985351562\n",
      "INFO - Response: ''\n",
      "\n",
      "INFO - Sending next command(662): '2PR3910\\r\\n'\n"
     ]
    },
    {
     "name": "stdout",
     "output_type": "stream",
     "text": [
      "780\n",
      "1\n",
      "780\n",
      "1\n",
      "780\n",
      "1\n",
      "780\n",
      "1\n"
     ]
    },
    {
     "name": "stderr",
     "output_type": "stream",
     "text": [
      "INFO - Motor 2: movement ceased. Continuing with command buffer.\n",
      "\n",
      "INFO - Channel: 1 position: 206.147460938\n",
      "INFO - Response: ''\n",
      "\n",
      "INFO - Sending next command(663): '2PR2565\\r\\n'\n"
     ]
    },
    {
     "name": "stdout",
     "output_type": "stream",
     "text": [
      "780\n",
      "1\n"
     ]
    },
    {
     "name": "stderr",
     "output_type": "stream",
     "text": [
      "INFO - Motor 2: movement ceased. Continuing with command buffer.\n",
      "\n",
      "INFO - Channel: 1 position: 258.530273438\n",
      "INFO - Response: ''\n",
      "\n",
      "INFO - Sending next command(664): '2PR1868\\r\\n'\n"
     ]
    },
    {
     "name": "stdout",
     "output_type": "stream",
     "text": [
      "780\n",
      "1\n"
     ]
    },
    {
     "name": "stderr",
     "output_type": "stream",
     "text": [
      "INFO - Motor 2: movement ceased. Continuing with command buffer.\n",
      "\n",
      "INFO - Channel: 1 position: 290.698242188\n",
      "INFO - Response: ''\n",
      "\n",
      "INFO - Sending next command(665): '2PR1440\\r\\n'\n"
     ]
    },
    {
     "name": "stdout",
     "output_type": "stream",
     "text": [
      "780\n",
      "1\n"
     ]
    },
    {
     "name": "stderr",
     "output_type": "stream",
     "text": [
      "INFO - Motor 2: movement ceased. Continuing with command buffer.\n",
      "\n",
      "INFO - Channel: 1 position: 312.319335938\n",
      "INFO - Response: ''\n",
      "\n",
      "INFO - Sending next command(666): '2PR1153\\r\\n'\n"
     ]
    },
    {
     "name": "stdout",
     "output_type": "stream",
     "text": [
      "780\n",
      "1\n"
     ]
    },
    {
     "name": "stderr",
     "output_type": "stream",
     "text": [
      "INFO - Motor 2: movement ceased. Continuing with command buffer.\n",
      "\n",
      "INFO - Channel: 1 position: 328.271484375\n",
      "INFO - Response: ''\n",
      "\n",
      "INFO - Sending next command(667): '2PR941\\r\\n'\n"
     ]
    },
    {
     "name": "stdout",
     "output_type": "stream",
     "text": [
      "780\n",
      "1\n"
     ]
    },
    {
     "name": "stderr",
     "output_type": "stream",
     "text": [
      "INFO - Motor 2: movement ceased. Continuing with command buffer.\n",
      "\n",
      "INFO - Channel: 1 position: 343.828125\n",
      "INFO - Response: ''\n",
      "\n",
      "INFO - Sending next command(668): '2PR734\\r\\n'\n"
     ]
    },
    {
     "name": "stdout",
     "output_type": "stream",
     "text": [
      "780\n",
      "1\n"
     ]
    },
    {
     "name": "stderr",
     "output_type": "stream",
     "text": [
      "INFO - Motor 2: movement ceased. Continuing with command buffer.\n",
      "\n",
      "INFO - Channel: 1 position: 356.220703125\n",
      "INFO - Response: ''\n",
      "\n",
      "INFO - Sending next command(669): '2PR569\\r\\n'\n"
     ]
    },
    {
     "name": "stdout",
     "output_type": "stream",
     "text": [
      "780\n",
      "1\n"
     ]
    },
    {
     "name": "stderr",
     "output_type": "stream",
     "text": [
      "INFO - Motor 2: movement ceased. Continuing with command buffer.\n",
      "\n",
      "INFO - Channel: 1 position: 365.80078125\n",
      "INFO - Response: ''\n",
      "\n",
      "INFO - Sending next command(670): '2PR442\\r\\n'\n"
     ]
    },
    {
     "name": "stdout",
     "output_type": "stream",
     "text": [
      "780\n",
      "1\n"
     ]
    },
    {
     "name": "stderr",
     "output_type": "stream",
     "text": [
      "INFO - Motor 2: movement ceased. Continuing with command buffer.\n",
      "\n",
      "INFO - Channel: 1 position: 373.271484375\n",
      "INFO - Response: ''\n",
      "\n",
      "INFO - Sending next command(671): '2PR342\\r\\n'\n"
     ]
    },
    {
     "name": "stdout",
     "output_type": "stream",
     "text": [
      "780\n",
      "1\n"
     ]
    },
    {
     "name": "stderr",
     "output_type": "stream",
     "text": [
      "INFO - Motor 2: movement ceased. Continuing with command buffer.\n",
      "\n",
      "INFO - Channel: 1 position: 379.995117188\n",
      "INFO - Response: ''\n",
      "\n",
      "INFO - Sending next command(672): '2PR253\\r\\n'\n"
     ]
    },
    {
     "name": "stdout",
     "output_type": "stream",
     "text": [
      "780\n",
      "1\n"
     ]
    },
    {
     "name": "stderr",
     "output_type": "stream",
     "text": [
      "INFO - Motor 2: movement ceased. Continuing with command buffer.\n",
      "\n",
      "INFO - Channel: 1 position: 385.795898438\n",
      "INFO - Response: ''\n",
      "\n",
      "INFO - Sending next command(673): '2PR176\\r\\n'\n"
     ]
    },
    {
     "name": "stdout",
     "output_type": "stream",
     "text": [
      "780\n",
      "1\n"
     ]
    },
    {
     "name": "stderr",
     "output_type": "stream",
     "text": [
      "INFO - Motor 2: movement ceased. Continuing with command buffer.\n",
      "\n",
      "INFO - Channel: 1 position: 389.838867188\n",
      "INFO - Response: ''\n",
      "\n",
      "INFO - Sending next command(674): '2PR122\\r\\n'\n"
     ]
    },
    {
     "name": "stdout",
     "output_type": "stream",
     "text": [
      "780\n",
      "1\n"
     ]
    },
    {
     "name": "stderr",
     "output_type": "stream",
     "text": [
      "INFO - Motor 2: movement ceased. Continuing with command buffer.\n",
      "\n",
      "INFO - Channel: 1 position: 392.739257812\n",
      "INFO - Response: ''\n",
      "\n",
      "INFO - Sending next command(675): '2PR83\\r\\n'\n"
     ]
    },
    {
     "name": "stdout",
     "output_type": "stream",
     "text": [
      "780\n",
      "1\n"
     ]
    },
    {
     "name": "stderr",
     "output_type": "stream",
     "text": [
      "INFO - Motor 2: movement ceased. Continuing with command buffer.\n",
      "\n",
      "INFO - Channel: 1 position: 394.8046875\n",
      "INFO - Response: ''\n",
      "\n",
      "INFO - Sending next command(676): '2PR56\\r\\n'\n"
     ]
    },
    {
     "name": "stdout",
     "output_type": "stream",
     "text": [
      "780\n",
      "1\n"
     ]
    },
    {
     "name": "stderr",
     "output_type": "stream",
     "text": [
      "INFO - Motor 2: movement ceased. Continuing with command buffer.\n",
      "\n",
      "INFO - Channel: 1 position: 396.2109375\n",
      "INFO - Response: ''\n",
      "\n",
      "INFO - Sending next command(677): '2PR37\\r\\n'\n"
     ]
    },
    {
     "name": "stdout",
     "output_type": "stream",
     "text": [
      "780\n",
      "1\n"
     ]
    },
    {
     "name": "stderr",
     "output_type": "stream",
     "text": [
      "INFO - Motor 2: movement ceased. Continuing with command buffer.\n",
      "\n",
      "INFO - Channel: 1 position: 397.221679688\n",
      "INFO - Response: ''\n",
      "\n",
      "INFO - Sending next command(678): '2PR24\\r\\n'\n"
     ]
    },
    {
     "name": "stdout",
     "output_type": "stream",
     "text": [
      "780\n",
      "1\n"
     ]
    },
    {
     "name": "stderr",
     "output_type": "stream",
     "text": [
      "INFO - Motor 2: movement ceased. Continuing with command buffer.\n",
      "\n",
      "INFO - Channel: 1 position: 397.924804688\n",
      "INFO - Response: ''\n",
      "\n",
      "INFO - Sending next command(679): '2PR14\\r\\n'\n"
     ]
    },
    {
     "name": "stdout",
     "output_type": "stream",
     "text": [
      "780\n",
      "1\n"
     ]
    },
    {
     "name": "stderr",
     "output_type": "stream",
     "text": [
      "INFO - Motor 2: movement ceased. Continuing with command buffer.\n",
      "\n",
      "INFO - Channel: 1 position: 398.364257812\n",
      "INFO - Response: ''\n",
      "\n",
      "INFO - Sending next command(680): '2PR8\\r\\n'\n"
     ]
    },
    {
     "name": "stdout",
     "output_type": "stream",
     "text": [
      "780\n",
      "1\n"
     ]
    },
    {
     "name": "stderr",
     "output_type": "stream",
     "text": [
      "INFO - Motor 2: movement ceased. Continuing with command buffer.\n",
      "\n",
      "INFO - Channel: 1 position: 398.583984375\n",
      "INFO - Response: ''\n",
      "\n",
      "INFO - Sending next command(681): '2PR6\\r\\n'\n"
     ]
    },
    {
     "name": "stdout",
     "output_type": "stream",
     "text": [
      "780\n",
      "1\n"
     ]
    },
    {
     "name": "stderr",
     "output_type": "stream",
     "text": [
      "INFO - Motor 2: movement ceased. Continuing with command buffer.\n",
      "\n",
      "INFO - Channel: 1 position: 398.759765625\n",
      "ERROR - Current position 398.759765625 deg. Setpoint not achieved by -0.240234375 deg after max iterations.\n",
      "INFO - Channel: 1 position: 398.759765625\n",
      "INFO - Channel: 1 position: 398.759765625\n",
      "INFO - avg_steps: -5125.43554688\n",
      "INFO - Need to go negative. Current position 398.759765625 DEG. Setpoint 129 DEG. Steps to be taken: -6125\n",
      "INFO - Response: ''\n",
      "\n",
      "INFO - Sending next command(682): '2PR-6125\\r\\n'\n"
     ]
    },
    {
     "name": "stdout",
     "output_type": "stream",
     "text": [
      "780\n",
      "1\n",
      "780\n",
      "1\n",
      "780\n",
      "1\n"
     ]
    },
    {
     "name": "stderr",
     "output_type": "stream",
     "text": [
      "INFO - Motor 2: movement ceased. Continuing with command buffer.\n",
      "\n",
      "INFO - Channel: 1 position: 89.47265625\n",
      "INFO - Response: ''\n",
      "\n",
      "INFO - Sending next command(683): '2PR526\\r\\n'\n"
     ]
    },
    {
     "name": "stdout",
     "output_type": "stream",
     "text": [
      "780\n",
      "1\n"
     ]
    },
    {
     "name": "stderr",
     "output_type": "stream",
     "text": [
      "INFO - Motor 2: movement ceased. Continuing with command buffer.\n",
      "\n",
      "INFO - Channel: 1 position: 122.958984375\n",
      "INFO - Response: ''\n",
      "\n",
      "INFO - Sending next command(684): '2PR80\\r\\n'\n"
     ]
    },
    {
     "name": "stdout",
     "output_type": "stream",
     "text": [
      "780\n",
      "1\n"
     ]
    },
    {
     "name": "stderr",
     "output_type": "stream",
     "text": [
      "INFO - Motor 2: movement ceased. Continuing with command buffer.\n",
      "\n",
      "INFO - Channel: 1 position: 128.364257812\n",
      "INFO - Response: ''\n",
      "\n",
      "INFO - Sending next command(685): '2PR8\\r\\n'\n"
     ]
    },
    {
     "name": "stdout",
     "output_type": "stream",
     "text": [
      "780\n",
      "1\n"
     ]
    },
    {
     "name": "stderr",
     "output_type": "stream",
     "text": [
      "INFO - Motor 2: movement ceased. Continuing with command buffer.\n",
      "\n",
      "INFO - Channel: 1 position: 128.935546875\n",
      "INFO - Response: ''\n",
      "\n",
      "INFO - Sending next command(686): '2PR1\\r\\n'\n"
     ]
    },
    {
     "name": "stdout",
     "output_type": "stream",
     "text": [
      "780\n",
      "1\n"
     ]
    },
    {
     "name": "stderr",
     "output_type": "stream",
     "text": [
      "INFO - Motor 2: movement ceased. Continuing with command buffer.\n",
      "\n",
      "INFO - Channel: 1 position: 128.979492188\n",
      "INFO - New motor position is 128.979492188 deg, error -0.0205078125 deg.\n",
      "INFO - Channel: 1 position: 128.979492188\n"
     ]
    },
    {
     "name": "stdout",
     "output_type": "stream",
     "text": [
      "780\n",
      "1\n",
      "780\n",
      "1\n",
      "[242.40234375, 298.7841796875, 496.9775390625, 302.958984375, 262.001953125, 391.9921875, 366.9873046875, 54.0087890625, 131.1328125, 204.9609375, 214.98046875, 346.7724609375, 443.9794921875, 107.9296875, 170.947265625, 185.9765625, 154.9951171875, 365.712890625, 93.955078125, 306.2548828125, 232.998046875, 120.76171875, 413.8330078125, 206.015625, 251.982421875, 392.9150390625, 427.9833984375, 475.0048828125, 88.9892578125, 315.52734375, 185.009765625, 262.96875, 80.0244140625, 347.6953125, 26.982421875, 56.9970703125, 26.015625, 259.9365234375, 104.9853515625, 398.759765625, 128.9794921875]\n"
     ]
    }
   ],
   "source": [
    "positions=[]\n",
    "mc.move_abs(test_channel,np.median(random_sequence)) #move it back to zero.\n",
    "positions.append(mc.getPosition(test_channel))\n",
    "for i in random_sequence:\n",
    "    mc.move_abs(test_channel,i)\n",
    "    new_position=mc.getPosition(test_channel)\n",
    "    positions.append(new_position)\n",
    "print positions"
   ]
  },
  {
   "cell_type": "code",
   "execution_count": 6,
   "metadata": {
    "collapsed": false,
    "deletable": true,
    "editable": true
   },
   "outputs": [
    {
     "data": {
      "image/png": "[encoded data removed]",
      "text/plain": [
       "<matplotlib.figure.Figure at 0xacbc358>"
      ]
     },
     "metadata": {},
     "output_type": "display_data"
    }
   ],
   "source": [
    "import matplotlib.pyplot as plt\n",
    "values=np.linspace(np.min(random_sequence),np.max(random_sequence),2)\n",
    "fig=plt.figure(figsize=(10,10));\n",
    "plt.plot(np.insert(random_sequence,0,np.median(random_sequence)),positions, 'bo');\n",
    "plt.plot(values,values)\n",
    "plt.title('Randomized movement test, 780Y',fontsize=20)\n",
    "plt.xlabel('Target, abs position(deg)',fontsize=20)\n",
    "plt.ylabel('Reached, abs position(deg)',fontsize=20)\n",
    "plt.savefig('Randomized_movement_test_780Y.pdf')\n",
    "plt.savefig('Randomized_movement_test_780Y.png')\n",
    "plt.show()"
   ]
  },
  {
   "cell_type": "code",
   "execution_count": 11,
   "metadata": {
    "collapsed": false,
    "deletable": true,
    "editable": true
   },
   "outputs": [
    {
     "data": {
      "image/png": "[encoded data removed]",
      "text/plain": [
       "<matplotlib.figure.Figure at 0xb42ef98>"
      ]
     },
     "metadata": {},
     "output_type": "display_data"
    }
   ],
   "source": [
    "import matplotlib.pyplot as plt\n",
    "values=np.linspace(np.min(random_sequence),np.max(random_sequence),2)\n",
    "fig=plt.figure(figsize=(10,10));\n",
    "plt.plot(np.insert(random_sequence,0,np.median(random_sequence)),positions-np.insert(random_sequence,0,np.median(random_sequence)), 'bo');\n",
    "plt.title('Randomized movement test, 780Y, residuals',fontsize=20)\n",
    "plt.xlabel('Target, abs position(deg)',fontsize=20)\n",
    "plt.ylabel('Residuals(Reached-Target, deg)',fontsize=20)\n",
    "plt.savefig('Randomized_movement_test_780Y,residuals.pdf')\n",
    "plt.savefig('Randomized_movement_test_780Y,residuals.png')\n",
    "plt.show()"
   ]
  },
  {
   "cell_type": "code",
   "execution_count": 65,
   "metadata": {
    "collapsed": false,
    "deletable": true,
    "editable": true
   },
   "outputs": [
    {
     "data": {
      "text/plain": [
       "[0.0,\n",
       " 19,\n",
       " 31,\n",
       " 262,\n",
       " 115,\n",
       " 198,\n",
       " 92,\n",
       " 117,\n",
       " 116,\n",
       " 178,\n",
       " 170,\n",
       " 285,\n",
       " 137,\n",
       " 207,\n",
       " 258,\n",
       " 285,\n",
       " 181,\n",
       " 263,\n",
       " 260,\n",
       " 154,\n",
       " 242,\n",
       " 266,\n",
       " 236,\n",
       " 293,\n",
       " 244,\n",
       " 231,\n",
       " 264,\n",
       " 80,\n",
       " 83,\n",
       " 158,\n",
       " 254]"
      ]
     },
     "execution_count": 65,
     "metadata": {},
     "output_type": "execute_result"
    }
   ],
   "source": [
    "positions"
   ]
  },
  {
   "cell_type": "code",
   "execution_count": 24,
   "metadata": {
    "collapsed": true,
    "deletable": true,
    "editable": true
   },
   "outputs": [],
   "source": [
    "## other random tests"
   ]
  },
  {
   "cell_type": "code",
   "execution_count": 3,
   "metadata": {
    "collapsed": false,
    "deletable": true,
    "editable": true
   },
   "outputs": [
    {
     "name": "stderr",
     "output_type": "stream",
     "text": [
      "INFO - Channel: 0 position: 220.034179688\n",
      "INFO - Channel: 0 position: 220.034179688\n",
      "INFO - Already within acceptable angle error, not moving\n",
      "INFO - Channel: 0 position: 220.034179688\n"
     ]
    },
    {
     "name": "stdout",
     "output_type": "stream",
     "text": [
      "780\n",
      "0\n",
      "780\n",
      "0\n",
      "780\n",
      "0\n"
     ]
    },
    {
     "data": {
      "text/plain": [
       "220.0341796875"
      ]
     },
     "execution_count": 3,
     "metadata": {},
     "output_type": "execute_result"
    }
   ],
   "source": [
    "mc.getPosition(0)\n",
    "mc.move_abs(0,220)\n",
    "mc.getPosition(0)"
   ]
  },
  {
   "cell_type": "code",
   "execution_count": 36,
   "metadata": {
    "collapsed": false,
    "deletable": true,
    "editable": true
   },
   "outputs": [
    {
     "name": "stderr",
     "output_type": "stream",
     "text": [
      "INFO - Channel: 0 position: 153.500976562\n",
      "INFO - Response: ''\n",
      "\n",
      "INFO - Sending next command(385): '1PR1000\\r\\n'\n"
     ]
    },
    {
     "name": "stdout",
     "output_type": "stream",
     "text": [
      "780\n",
      "0\n",
      "pos:3493\n"
     ]
    },
    {
     "name": "stderr",
     "output_type": "stream",
     "text": [
      "INFO - Motor 1: movement ceased. Continuing with command buffer.\n",
      "\n",
      "INFO - Channel: 0 position: 164.00390625\n"
     ]
    },
    {
     "name": "stdout",
     "output_type": "stream",
     "text": [
      "780\n",
      "0\n",
      "pos:3732\n",
      "10.5029296875\n"
     ]
    }
   ],
   "source": [
    "# Implement escaping feature?\n",
    "first=mc.getPosition(0)\n",
    "mc.move_rel_steps(0,1000)\n",
    "last=mc.getPosition(0)\n",
    "print(last-first)"
   ]
  },
  {
   "cell_type": "code",
   "execution_count": 14,
   "metadata": {
    "collapsed": false,
    "deletable": true,
    "editable": true
   },
   "outputs": [
    {
     "name": "stderr",
     "output_type": "stream",
     "text": [
      "INFO - Channel: 0 position: 186.723632812\n",
      "INFO - Response: ''\n",
      "\n",
      "INFO - Sending next command(26): '1PR3000\\r\\n'\n"
     ]
    },
    {
     "name": "stdout",
     "output_type": "stream",
     "text": [
      "780\n",
      "0\n"
     ]
    },
    {
     "name": "stderr",
     "output_type": "stream",
     "text": [
      "INFO - Motor 1: movement ceased. Continuing with command buffer.\n",
      "\n",
      "INFO - Channel: 0 position: 224.560546875\n"
     ]
    },
    {
     "name": "stdout",
     "output_type": "stream",
     "text": [
      "780\n",
      "0\n",
      "37.8369140625\n"
     ]
    }
   ],
   "source": [
    "testchannel=0\n",
    "first=mc.getPosition(testchannel)\n",
    "mc.move_rel_steps(testchannel,3000)\n",
    "last=mc.getPosition(testchannel)\n",
    "print(last-first)"
   ]
  },
  {
   "cell_type": "code",
   "execution_count": null,
   "metadata": {
    "collapsed": true,
    "deletable": true,
    "editable": true
   },
   "outputs": [],
   "source": []
  },
  {
   "cell_type": "code",
   "execution_count": null,
   "metadata": {
    "collapsed": true,
    "deletable": true,
    "editable": true
   },
   "outputs": [],
   "source": []
  }
 ],
 "metadata": {
  "kernelspec": {
   "display_name": "Python 2",
   "language": "python",
   "name": "python2"
  },
  "language_info": {
   "codemirror_mode": {
    "name": "ipython",
    "version": 2
   },
   "file_extension": ".py",
   "mimetype": "text/x-python",
   "name": "python",
   "nbconvert_exporter": "python",
   "pygments_lexer": "ipython2",
   "version": "2.7.11"
  }
 },
 "nbformat": 4,
 "nbformat_minor": 2
}
